{
 "cells": [
  {
   "cell_type": "markdown",
   "metadata": {},
   "source": [
    "Group 2: June to October\n",
    "\n",
    "Andhra Pradesh, Bihar, Gujarat, Maharashtra, Telangana, Uttar Pradesh"
   ]
  },
  {
   "cell_type": "code",
   "execution_count": 29,
   "metadata": {},
   "outputs": [
    {
     "name": "stdout",
     "output_type": "stream",
     "text": [
      "Andhra Pradesh\n",
      "['Anantapur', 'Chittoor', 'East Godavari', 'Guntur', 'Krishna', 'Kurnool', 'Prakasam', 'SPSR Nellore', 'Srikakulam', 'Visakhapatanam', 'Vizianagaram', 'West Godavari', 'Y.S.R.']\n"
     ]
    },
    {
     "data": {
      "application/vnd.plotly.v1+json": {
       "config": {
        "plotlyServerURL": "https://plot.ly"
       },
       "data": [
        {
         "mode": "lines+markers",
         "name": "Anantapur",
         "type": "scatter",
         "visible": "legendonly",
         "x": [
          2009,
          2010,
          2011,
          2012,
          2013,
          2014,
          2015,
          2016,
          2017,
          2018,
          2019,
          2020,
          2021,
          2022,
          2023
         ],
         "y": [
          641.544364657,
          3101.6352569308,
          516.0339508717,
          539.6390097868,
          536.1298154366,
          461.1720504284,
          749.6583494736,
          434.6500573343,
          747.0561258479,
          384.424071233,
          644.357520012,
          494.51567366,
          980.8681952,
          678.3340977973,
          446.5137989988
         ]
        },
        {
         "mode": "lines+markers",
         "name": "Chittoor",
         "type": "scatter",
         "visible": "legendonly",
         "x": [
          2009,
          2010,
          2011,
          2012,
          2013,
          2014,
          2015,
          2016,
          2017,
          2018,
          2019,
          2020,
          2021,
          2022,
          2023
         ],
         "y": [
          754.197007652,
          1053.0863529996,
          1004.3548384138,
          979.760451763,
          854.0829444022,
          669.7530716745,
          1464.620002493,
          676.8188038333,
          1143.6988833027,
          568.426617602,
          1036.748680765,
          777.2811567,
          1557.237021421,
          957.7592017963,
          678.6032196721
         ]
        },
        {
         "mode": "lines+markers",
         "name": "East Godavari",
         "type": "scatter",
         "visible": "legendonly",
         "x": [
          2009,
          2010,
          2011,
          2012,
          2013,
          2014,
          2015,
          2016,
          2017,
          2018,
          2019,
          2020,
          2021,
          2022,
          2023
         ],
         "y": [
          698.666375877,
          0,
          0,
          0,
          0,
          0,
          1137.1680572909,
          1149.0933529788,
          992.8820910283,
          1004.068087608,
          1162.335223504,
          682.870913436,
          1291.080760253,
          1203.8598615072,
          853.4544689412
         ]
        },
        {
         "mode": "lines+markers",
         "name": "Guntur",
         "type": "scatter",
         "visible": "legendonly",
         "x": [
          2009,
          2010,
          2011,
          2012,
          2013,
          2014,
          2015,
          2016,
          2017,
          2018,
          2019,
          2020,
          2021,
          2022,
          2023
         ],
         "y": [
          767.570236134,
          50.621348564899996,
          0,
          52.1468642512,
          52.021719674799996,
          18.5413848152,
          835.6166093755,
          967.8488356649,
          839.7578639415,
          634.959339021,
          954.070337024,
          680.0038166960001,
          1083.687585334,
          896.0771513906,
          714.451665055
         ]
        },
        {
         "mode": "lines+markers",
         "name": "Krishna",
         "type": "scatter",
         "visible": "legendonly",
         "x": [
          2009,
          2010,
          2011,
          2012,
          2013,
          2014,
          2015,
          2016,
          2017,
          2018,
          2019,
          2020,
          2021,
          2022,
          2023
         ],
         "y": [
          738.640951162,
          0,
          0,
          0,
          0,
          0,
          927.9472601151,
          952.5528129416,
          828.0070639522,
          861.033195245,
          971.557801591,
          714.503837638,
          1170.429584764,
          988.1762173099,
          751.2778692909
         ]
        },
        {
         "mode": "lines+markers",
         "name": "Kurnool",
         "type": "scatter",
         "visible": "legendonly",
         "x": [
          2009,
          2010,
          2011,
          2012,
          2013,
          2014,
          2015,
          2016,
          2017,
          2018,
          2019,
          2020,
          2021,
          2022,
          2023
         ],
         "y": [
          776.763675314,
          1661.096097332,
          542.6763022643,
          649.7616711631,
          748.0299881205,
          596.0254666988,
          705.2579782128,
          573.5513653602,
          750.5933637644999,
          364.024946065,
          698.393342739,
          523.52768868,
          788.6642357650001,
          681.5148956483,
          444.4746784065
         ]
        },
        {
         "mode": "lines+markers",
         "name": "Prakasam",
         "type": "scatter",
         "visible": "legendonly",
         "x": [
          2009,
          2010,
          2011,
          2012,
          2013,
          2014,
          2015,
          2016,
          2017,
          2018,
          2019,
          2020,
          2021,
          2022,
          2023
         ],
         "y": [
          739.192718926,
          0,
          0,
          0,
          0,
          0,
          710.0908312063,
          620.5352606844,
          697.8974254837,
          465.488936682,
          790.974315295,
          571.612587759,
          943.070822955,
          868.1061704548,
          573.2956717636
         ]
        },
        {
         "mode": "lines+markers",
         "name": "SPSR Nellore",
         "type": "scatter",
         "visible": "legendonly",
         "x": [
          2009,
          2010,
          2011,
          2012,
          2013,
          2014,
          2015,
          2016,
          2017,
          2018,
          2019,
          2020,
          2021,
          2022,
          2023
         ],
         "y": [
          842.8137528961,
          0,
          0,
          0,
          0,
          0,
          1553.9130572884,
          582.2798697812,
          955.8242155350999,
          446.554764733,
          973.503678679,
          654.647881937,
          1397.879142574,
          846.6360993636,
          504.7349739101
         ]
        },
        {
         "mode": "lines+markers",
         "name": "Srikakulam",
         "type": "scatter",
         "visible": "legendonly",
         "x": [
          2009,
          2010,
          2011,
          2012,
          2013,
          2014,
          2015,
          2016,
          2017,
          2018,
          2019,
          2020,
          2021,
          2022,
          2023
         ],
         "y": [
          612.131046902,
          0,
          0,
          0,
          0,
          0,
          708.9835882951,
          853.5037503272999,
          948.1649058775,
          932.851111422,
          987.039702172,
          628.07480198,
          1090.139840248,
          862.175534014,
          701.7272409487
         ]
        },
        {
         "mode": "lines+markers",
         "name": "Visakhapatanam",
         "type": "scatter",
         "visible": "legendonly",
         "x": [
          2009,
          2010,
          2011,
          2012,
          2013,
          2014,
          2015,
          2016,
          2017,
          2018,
          2019,
          2020,
          2021,
          2022,
          2023
         ],
         "y": [
          825.754028539,
          0,
          0,
          0,
          0,
          0,
          1168.6871640283,
          1066.9440463477,
          995.7765451169,
          916.183067916,
          1155.2548061319999,
          871.654492192,
          1229.237874084,
          951.8901937125,
          881.9934441028
         ]
        },
        {
         "mode": "lines+markers",
         "name": "Vizianagaram",
         "type": "scatter",
         "visible": "legendonly",
         "x": [
          2009,
          2010,
          2011,
          2012,
          2013,
          2014,
          2015,
          2016,
          2017,
          2018,
          2019,
          2020,
          2021,
          2022,
          2023
         ],
         "y": [
          941.418053342,
          105.4509248433,
          9.9622267438,
          132.4906152901,
          175.85774411879999,
          188.4083027078,
          1031.2758569097,
          1158.7323976899,
          1052.5836945631,
          1046.113934663,
          1234.44543627,
          891.524653396,
          1323.883690572,
          1299.0452285222,
          964.7100865387
         ]
        },
        {
         "mode": "lines+markers",
         "name": "West Godavari",
         "type": "scatter",
         "visible": "legendonly",
         "x": [
          2009,
          2010,
          2011,
          2012,
          2013,
          2014,
          2015,
          2016,
          2017,
          2018,
          2019,
          2020,
          2021,
          2022,
          2023
         ],
         "y": [
          710.358930914,
          0,
          0,
          44.3551467792,
          0,
          0,
          1082.3553196331,
          1161.7279286788,
          974.8364466216,
          1039.777532506,
          1086.172384741,
          665.569214719,
          1318.395048535,
          1275.3868607417,
          817.1172685644
         ]
        },
        {
         "mode": "lines+markers",
         "name": "Y.S.R.",
         "type": "scatter",
         "visible": "legendonly",
         "x": [
          2009,
          2010,
          2011,
          2012,
          2013,
          2014,
          2015,
          2016,
          2017,
          2018,
          2019,
          2020,
          2021,
          2022,
          2023
         ],
         "y": [
          740.191039653,
          1344.0917176859,
          770.116310764,
          658.273038765,
          699.7659580293999,
          476.2677815469,
          1171.0161036503,
          561.5748141449,
          853.1709161429,
          400.638325583,
          757.088063213,
          549.811356534,
          1332.860846941,
          676.6011157952,
          453.8263263592
         ]
        }
       ],
       "layout": {
        "legend": {
         "tracegroupgap": 0,
         "traceorder": "normal",
         "x": 1.05,
         "y": 1
        },
        "margin": {
         "b": 0,
         "l": 0,
         "r": 0,
         "t": 50
        },
        "plot_bgcolor": "white",
        "template": {
         "data": {
          "bar": [
           {
            "error_x": {
             "color": "#2a3f5f"
            },
            "error_y": {
             "color": "#2a3f5f"
            },
            "marker": {
             "line": {
              "color": "#E5ECF6",
              "width": 0.5
             },
             "pattern": {
              "fillmode": "overlay",
              "size": 10,
              "solidity": 0.2
             }
            },
            "type": "bar"
           }
          ],
          "barpolar": [
           {
            "marker": {
             "line": {
              "color": "#E5ECF6",
              "width": 0.5
             },
             "pattern": {
              "fillmode": "overlay",
              "size": 10,
              "solidity": 0.2
             }
            },
            "type": "barpolar"
           }
          ],
          "carpet": [
           {
            "aaxis": {
             "endlinecolor": "#2a3f5f",
             "gridcolor": "white",
             "linecolor": "white",
             "minorgridcolor": "white",
             "startlinecolor": "#2a3f5f"
            },
            "baxis": {
             "endlinecolor": "#2a3f5f",
             "gridcolor": "white",
             "linecolor": "white",
             "minorgridcolor": "white",
             "startlinecolor": "#2a3f5f"
            },
            "type": "carpet"
           }
          ],
          "choropleth": [
           {
            "colorbar": {
             "outlinewidth": 0,
             "ticks": ""
            },
            "type": "choropleth"
           }
          ],
          "contour": [
           {
            "colorbar": {
             "outlinewidth": 0,
             "ticks": ""
            },
            "colorscale": [
             [
              0,
              "#0d0887"
             ],
             [
              0.1111111111111111,
              "#46039f"
             ],
             [
              0.2222222222222222,
              "#7201a8"
             ],
             [
              0.3333333333333333,
              "#9c179e"
             ],
             [
              0.4444444444444444,
              "#bd3786"
             ],
             [
              0.5555555555555556,
              "#d8576b"
             ],
             [
              0.6666666666666666,
              "#ed7953"
             ],
             [
              0.7777777777777778,
              "#fb9f3a"
             ],
             [
              0.8888888888888888,
              "#fdca26"
             ],
             [
              1,
              "#f0f921"
             ]
            ],
            "type": "contour"
           }
          ],
          "contourcarpet": [
           {
            "colorbar": {
             "outlinewidth": 0,
             "ticks": ""
            },
            "type": "contourcarpet"
           }
          ],
          "heatmap": [
           {
            "colorbar": {
             "outlinewidth": 0,
             "ticks": ""
            },
            "colorscale": [
             [
              0,
              "#0d0887"
             ],
             [
              0.1111111111111111,
              "#46039f"
             ],
             [
              0.2222222222222222,
              "#7201a8"
             ],
             [
              0.3333333333333333,
              "#9c179e"
             ],
             [
              0.4444444444444444,
              "#bd3786"
             ],
             [
              0.5555555555555556,
              "#d8576b"
             ],
             [
              0.6666666666666666,
              "#ed7953"
             ],
             [
              0.7777777777777778,
              "#fb9f3a"
             ],
             [
              0.8888888888888888,
              "#fdca26"
             ],
             [
              1,
              "#f0f921"
             ]
            ],
            "type": "heatmap"
           }
          ],
          "heatmapgl": [
           {
            "colorbar": {
             "outlinewidth": 0,
             "ticks": ""
            },
            "colorscale": [
             [
              0,
              "#0d0887"
             ],
             [
              0.1111111111111111,
              "#46039f"
             ],
             [
              0.2222222222222222,
              "#7201a8"
             ],
             [
              0.3333333333333333,
              "#9c179e"
             ],
             [
              0.4444444444444444,
              "#bd3786"
             ],
             [
              0.5555555555555556,
              "#d8576b"
             ],
             [
              0.6666666666666666,
              "#ed7953"
             ],
             [
              0.7777777777777778,
              "#fb9f3a"
             ],
             [
              0.8888888888888888,
              "#fdca26"
             ],
             [
              1,
              "#f0f921"
             ]
            ],
            "type": "heatmapgl"
           }
          ],
          "histogram": [
           {
            "marker": {
             "pattern": {
              "fillmode": "overlay",
              "size": 10,
              "solidity": 0.2
             }
            },
            "type": "histogram"
           }
          ],
          "histogram2d": [
           {
            "colorbar": {
             "outlinewidth": 0,
             "ticks": ""
            },
            "colorscale": [
             [
              0,
              "#0d0887"
             ],
             [
              0.1111111111111111,
              "#46039f"
             ],
             [
              0.2222222222222222,
              "#7201a8"
             ],
             [
              0.3333333333333333,
              "#9c179e"
             ],
             [
              0.4444444444444444,
              "#bd3786"
             ],
             [
              0.5555555555555556,
              "#d8576b"
             ],
             [
              0.6666666666666666,
              "#ed7953"
             ],
             [
              0.7777777777777778,
              "#fb9f3a"
             ],
             [
              0.8888888888888888,
              "#fdca26"
             ],
             [
              1,
              "#f0f921"
             ]
            ],
            "type": "histogram2d"
           }
          ],
          "histogram2dcontour": [
           {
            "colorbar": {
             "outlinewidth": 0,
             "ticks": ""
            },
            "colorscale": [
             [
              0,
              "#0d0887"
             ],
             [
              0.1111111111111111,
              "#46039f"
             ],
             [
              0.2222222222222222,
              "#7201a8"
             ],
             [
              0.3333333333333333,
              "#9c179e"
             ],
             [
              0.4444444444444444,
              "#bd3786"
             ],
             [
              0.5555555555555556,
              "#d8576b"
             ],
             [
              0.6666666666666666,
              "#ed7953"
             ],
             [
              0.7777777777777778,
              "#fb9f3a"
             ],
             [
              0.8888888888888888,
              "#fdca26"
             ],
             [
              1,
              "#f0f921"
             ]
            ],
            "type": "histogram2dcontour"
           }
          ],
          "mesh3d": [
           {
            "colorbar": {
             "outlinewidth": 0,
             "ticks": ""
            },
            "type": "mesh3d"
           }
          ],
          "parcoords": [
           {
            "line": {
             "colorbar": {
              "outlinewidth": 0,
              "ticks": ""
             }
            },
            "type": "parcoords"
           }
          ],
          "pie": [
           {
            "automargin": true,
            "type": "pie"
           }
          ],
          "scatter": [
           {
            "fillpattern": {
             "fillmode": "overlay",
             "size": 10,
             "solidity": 0.2
            },
            "type": "scatter"
           }
          ],
          "scatter3d": [
           {
            "line": {
             "colorbar": {
              "outlinewidth": 0,
              "ticks": ""
             }
            },
            "marker": {
             "colorbar": {
              "outlinewidth": 0,
              "ticks": ""
             }
            },
            "type": "scatter3d"
           }
          ],
          "scattercarpet": [
           {
            "marker": {
             "colorbar": {
              "outlinewidth": 0,
              "ticks": ""
             }
            },
            "type": "scattercarpet"
           }
          ],
          "scattergeo": [
           {
            "marker": {
             "colorbar": {
              "outlinewidth": 0,
              "ticks": ""
             }
            },
            "type": "scattergeo"
           }
          ],
          "scattergl": [
           {
            "marker": {
             "colorbar": {
              "outlinewidth": 0,
              "ticks": ""
             }
            },
            "type": "scattergl"
           }
          ],
          "scattermapbox": [
           {
            "marker": {
             "colorbar": {
              "outlinewidth": 0,
              "ticks": ""
             }
            },
            "type": "scattermapbox"
           }
          ],
          "scatterpolar": [
           {
            "marker": {
             "colorbar": {
              "outlinewidth": 0,
              "ticks": ""
             }
            },
            "type": "scatterpolar"
           }
          ],
          "scatterpolargl": [
           {
            "marker": {
             "colorbar": {
              "outlinewidth": 0,
              "ticks": ""
             }
            },
            "type": "scatterpolargl"
           }
          ],
          "scatterternary": [
           {
            "marker": {
             "colorbar": {
              "outlinewidth": 0,
              "ticks": ""
             }
            },
            "type": "scatterternary"
           }
          ],
          "surface": [
           {
            "colorbar": {
             "outlinewidth": 0,
             "ticks": ""
            },
            "colorscale": [
             [
              0,
              "#0d0887"
             ],
             [
              0.1111111111111111,
              "#46039f"
             ],
             [
              0.2222222222222222,
              "#7201a8"
             ],
             [
              0.3333333333333333,
              "#9c179e"
             ],
             [
              0.4444444444444444,
              "#bd3786"
             ],
             [
              0.5555555555555556,
              "#d8576b"
             ],
             [
              0.6666666666666666,
              "#ed7953"
             ],
             [
              0.7777777777777778,
              "#fb9f3a"
             ],
             [
              0.8888888888888888,
              "#fdca26"
             ],
             [
              1,
              "#f0f921"
             ]
            ],
            "type": "surface"
           }
          ],
          "table": [
           {
            "cells": {
             "fill": {
              "color": "#EBF0F8"
             },
             "line": {
              "color": "white"
             }
            },
            "header": {
             "fill": {
              "color": "#C8D4E3"
             },
             "line": {
              "color": "white"
             }
            },
            "type": "table"
           }
          ]
         },
         "layout": {
          "annotationdefaults": {
           "arrowcolor": "#2a3f5f",
           "arrowhead": 0,
           "arrowwidth": 1
          },
          "autotypenumbers": "strict",
          "coloraxis": {
           "colorbar": {
            "outlinewidth": 0,
            "ticks": ""
           }
          },
          "colorscale": {
           "diverging": [
            [
             0,
             "#8e0152"
            ],
            [
             0.1,
             "#c51b7d"
            ],
            [
             0.2,
             "#de77ae"
            ],
            [
             0.3,
             "#f1b6da"
            ],
            [
             0.4,
             "#fde0ef"
            ],
            [
             0.5,
             "#f7f7f7"
            ],
            [
             0.6,
             "#e6f5d0"
            ],
            [
             0.7,
             "#b8e186"
            ],
            [
             0.8,
             "#7fbc41"
            ],
            [
             0.9,
             "#4d9221"
            ],
            [
             1,
             "#276419"
            ]
           ],
           "sequential": [
            [
             0,
             "#0d0887"
            ],
            [
             0.1111111111111111,
             "#46039f"
            ],
            [
             0.2222222222222222,
             "#7201a8"
            ],
            [
             0.3333333333333333,
             "#9c179e"
            ],
            [
             0.4444444444444444,
             "#bd3786"
            ],
            [
             0.5555555555555556,
             "#d8576b"
            ],
            [
             0.6666666666666666,
             "#ed7953"
            ],
            [
             0.7777777777777778,
             "#fb9f3a"
            ],
            [
             0.8888888888888888,
             "#fdca26"
            ],
            [
             1,
             "#f0f921"
            ]
           ],
           "sequentialminus": [
            [
             0,
             "#0d0887"
            ],
            [
             0.1111111111111111,
             "#46039f"
            ],
            [
             0.2222222222222222,
             "#7201a8"
            ],
            [
             0.3333333333333333,
             "#9c179e"
            ],
            [
             0.4444444444444444,
             "#bd3786"
            ],
            [
             0.5555555555555556,
             "#d8576b"
            ],
            [
             0.6666666666666666,
             "#ed7953"
            ],
            [
             0.7777777777777778,
             "#fb9f3a"
            ],
            [
             0.8888888888888888,
             "#fdca26"
            ],
            [
             1,
             "#f0f921"
            ]
           ]
          },
          "colorway": [
           "#636efa",
           "#EF553B",
           "#00cc96",
           "#ab63fa",
           "#FFA15A",
           "#19d3f3",
           "#FF6692",
           "#B6E880",
           "#FF97FF",
           "#FECB52"
          ],
          "font": {
           "color": "#2a3f5f"
          },
          "geo": {
           "bgcolor": "white",
           "lakecolor": "white",
           "landcolor": "#E5ECF6",
           "showlakes": true,
           "showland": true,
           "subunitcolor": "white"
          },
          "hoverlabel": {
           "align": "left"
          },
          "hovermode": "closest",
          "mapbox": {
           "style": "light"
          },
          "paper_bgcolor": "white",
          "plot_bgcolor": "#E5ECF6",
          "polar": {
           "angularaxis": {
            "gridcolor": "white",
            "linecolor": "white",
            "ticks": ""
           },
           "bgcolor": "#E5ECF6",
           "radialaxis": {
            "gridcolor": "white",
            "linecolor": "white",
            "ticks": ""
           }
          },
          "scene": {
           "xaxis": {
            "backgroundcolor": "#E5ECF6",
            "gridcolor": "white",
            "gridwidth": 2,
            "linecolor": "white",
            "showbackground": true,
            "ticks": "",
            "zerolinecolor": "white"
           },
           "yaxis": {
            "backgroundcolor": "#E5ECF6",
            "gridcolor": "white",
            "gridwidth": 2,
            "linecolor": "white",
            "showbackground": true,
            "ticks": "",
            "zerolinecolor": "white"
           },
           "zaxis": {
            "backgroundcolor": "#E5ECF6",
            "gridcolor": "white",
            "gridwidth": 2,
            "linecolor": "white",
            "showbackground": true,
            "ticks": "",
            "zerolinecolor": "white"
           }
          },
          "shapedefaults": {
           "line": {
            "color": "#2a3f5f"
           }
          },
          "ternary": {
           "aaxis": {
            "gridcolor": "white",
            "linecolor": "white",
            "ticks": ""
           },
           "baxis": {
            "gridcolor": "white",
            "linecolor": "white",
            "ticks": ""
           },
           "bgcolor": "#E5ECF6",
           "caxis": {
            "gridcolor": "white",
            "linecolor": "white",
            "ticks": ""
           }
          },
          "title": {
           "x": 0.05
          },
          "xaxis": {
           "automargin": true,
           "gridcolor": "white",
           "linecolor": "white",
           "ticks": "",
           "title": {
            "standoff": 15
           },
           "zerolinecolor": "white",
           "zerolinewidth": 2
          },
          "yaxis": {
           "automargin": true,
           "gridcolor": "white",
           "linecolor": "white",
           "ticks": "",
           "title": {
            "standoff": 15
           },
           "zerolinecolor": "white",
           "zerolinewidth": 2
          }
         }
        },
        "title": {
         "text": "Andhra Pradesh"
        },
        "updatemenus": [
         {
          "buttons": [
           {
            "args": [
             {
              "visible": [
               true,
               true,
               true,
               true,
               true,
               true,
               true,
               true,
               true,
               true,
               true,
               true,
               true
              ]
             },
             {
              "title": "All Districts"
             }
            ],
            "label": "All",
            "method": "update"
           },
           {
            "args": [
             {
              "visible": [
               false,
               false,
               false,
               false,
               false,
               false,
               false,
               false,
               false,
               false,
               false,
               false,
               false
              ]
             },
             {
              "title": "No District"
             }
            ],
            "label": "None",
            "method": "update"
           }
          ],
          "direction": "left",
          "pad": {
           "r": 10,
           "t": 10
          },
          "showactive": true,
          "type": "buttons",
          "x": 0.05,
          "xanchor": "left",
          "y": 1.15,
          "yanchor": "top"
         }
        ],
        "xaxis": {
         "gridcolor": "lightgray",
         "gridwidth": 1,
         "showgrid": true,
         "tickmode": "array",
         "ticktext": [
          2009,
          2010,
          2011,
          2012,
          2013,
          2014,
          2015,
          2016,
          2017,
          2018,
          2019,
          2020,
          2021,
          2022,
          2023
         ],
         "tickvals": [
          2009,
          2010,
          2011,
          2012,
          2013,
          2014,
          2015,
          2016,
          2017,
          2018,
          2019,
          2020,
          2021,
          2022,
          2023
         ],
         "title": {
          "text": "Year"
         }
        },
        "yaxis": {
         "gridcolor": "lightgray",
         "gridwidth": 1,
         "showgrid": true,
         "title": {
          "text": "Average Rainfall in mm"
         }
        }
       }
      }
     },
     "metadata": {},
     "output_type": "display_data"
    },
    {
     "name": "stdout",
     "output_type": "stream",
     "text": [
      "Bihar\n",
      "['Araria', 'Arwal', 'Aurangabad', 'Banka', 'Begusarai', 'Bhagalpur', 'Bhojpur', 'Buxar', 'Darbhanga', 'Gaya', 'Gopalganj', 'Jamui', 'Jehanabad', 'Kaimur (Bhabua)', 'Katihar', 'Khagaria', 'Kishanganj', 'Lakhisarai', 'Madhepura', 'Madhubani', 'Munger', 'Muzaffarpur', 'Nalanda', 'Nawada', 'Pashchim Champaran', 'Patna', 'Purbi Champaran', 'Purnia', 'Rohtas', 'Saharsa', 'Samastipur', 'Saran', 'Sheikhpura', 'Sheohar', 'Sitamarhi', 'Siwan', 'Supaul', 'Vaishali']\n"
     ]
    },
    {
     "data": {
      "application/vnd.plotly.v1+json": {
       "config": {
        "plotlyServerURL": "https://plot.ly"
       },
       "data": [
        {
         "mode": "lines+markers",
         "name": "Araria",
         "type": "scatter",
         "visible": "legendonly",
         "x": [
          2009,
          2010,
          2011,
          2012,
          2013,
          2014,
          2015,
          2016,
          2017,
          2018,
          2019,
          2020,
          2021,
          2022,
          2023
         ],
         "y": [
          1345.71657501,
          1873.7436227457001,
          1621.0654536554,
          1458.3673434677,
          2032.5342196317,
          1492.844143604,
          1499.8697300615,
          1830.5252829406,
          1912.6980812097,
          1379.097006397,
          1644.659985249,
          1462.840706365,
          1899.81753722,
          1766.6600990222,
          1715.2618222767
         ]
        },
        {
         "mode": "lines+markers",
         "name": "Arwal",
         "type": "scatter",
         "visible": "legendonly",
         "x": [
          2009,
          2010,
          2011,
          2012,
          2013,
          2014,
          2015,
          2016,
          2017,
          2018,
          2019,
          2020,
          2021,
          2022,
          2023
         ],
         "y": [
          673.443172847,
          699.7481326177,
          1630.7839046457,
          1082.7346936449,
          922.7166104235,
          733.4895544946,
          755.5144869505,
          1226.0250591551999,
          618.2872677944,
          555.253570938,
          862.8884224330001,
          980.318165575,
          1100.084194583,
          706.9842050749,
          502.4365070046
         ]
        },
        {
         "mode": "lines+markers",
         "name": "Aurangabad",
         "type": "scatter",
         "visible": "legendonly",
         "x": [
          2009,
          2010,
          2011,
          2012,
          2013,
          2014,
          2015,
          2016,
          2017,
          2018,
          2019,
          2020,
          2021,
          2022,
          2023
         ],
         "y": [
          1557.20374745,
          2216.0653541012,
          1395.160490074,
          1078.1721520748,
          1516.1595006038,
          1332.3584656246,
          1334.4115063938,
          1759.777909899,
          1437.7355960752,
          1027.762614546,
          1706.417390664,
          1621.14401349,
          2359.702628644,
          1608.3411852382,
          1110.042556998
         ]
        },
        {
         "mode": "lines+markers",
         "name": "Banka",
         "type": "scatter",
         "visible": "legendonly",
         "x": [
          2009,
          2010,
          2011,
          2012,
          2013,
          2014,
          2015,
          2016,
          2017,
          2018,
          2019,
          2020,
          2021,
          2022,
          2023
         ],
         "y": [
          960.328547723,
          793.4938070239,
          1108.8898164652999,
          1450.6327400155,
          1426.0604860421,
          1196.93989541,
          1200.3061233716,
          1042.6582159714,
          1116.9136187608,
          924.64239861,
          971.2795536990001,
          1192.8191290080001,
          1086.515396123,
          800.9344150845,
          1041.6815083475
         ]
        },
        {
         "mode": "lines+markers",
         "name": "Begusarai",
         "type": "scatter",
         "visible": "legendonly",
         "x": [
          2009,
          2010,
          2011,
          2012,
          2013,
          2014,
          2015,
          2016,
          2017,
          2018,
          2019,
          2020,
          2021,
          2022,
          2023
         ],
         "y": [
          942.110240307,
          1097.0133036318,
          912.7982777872,
          997.7447011152,
          900.6140988495,
          1378.4297994586,
          1248.8628016944,
          906.0897782351,
          1030.9679880538,
          945.201997817,
          1122.317580553,
          1130.956767566,
          1368.796310029,
          919.8663408677,
          919.64413872
         ]
        },
        {
         "mode": "lines+markers",
         "name": "Bhagalpur",
         "type": "scatter",
         "visible": "legendonly",
         "x": [
          2009,
          2010,
          2011,
          2012,
          2013,
          2014,
          2015,
          2016,
          2017,
          2018,
          2019,
          2020,
          2021,
          2022,
          2023
         ],
         "y": [
          1346.758213948,
          852.4869192501,
          1453.4459504125,
          1720.468144949,
          1305.0187334923,
          1193.6799781872,
          1144.5756198272,
          1025.0152750143,
          1420.3993170356,
          974.777278938,
          1123.357567133,
          1054.222867531,
          1417.314904996,
          721.9262009469,
          1191.7366028319
         ]
        },
        {
         "mode": "lines+markers",
         "name": "Bhojpur",
         "type": "scatter",
         "visible": "legendonly",
         "x": [
          2009,
          2010,
          2011,
          2012,
          2013,
          2014,
          2015,
          2016,
          2017,
          2018,
          2019,
          2020,
          2021,
          2022,
          2023
         ],
         "y": [
          718.533304086,
          745.0736011845,
          1371.6916652946,
          1056.1031915240999,
          962.2356113937,
          761.8604241745,
          718.8112698291,
          1057.9126678001,
          729.0303111508,
          629.989951029,
          875.582511177,
          886.670952936,
          1144.626170859,
          724.2048413461,
          534.1453595983
         ]
        },
        {
         "mode": "lines+markers",
         "name": "Buxar",
         "type": "scatter",
         "visible": "legendonly",
         "x": [
          2009,
          2010,
          2011,
          2012,
          2013,
          2014,
          2015,
          2016,
          2017,
          2018,
          2019,
          2020,
          2021,
          2022,
          2023
         ],
         "y": [
          554.0798255990001,
          680.7070121072001,
          1088.8042906462001,
          751.0914777581,
          845.5817313256,
          682.4839707455,
          929.8890233247,
          1215.854642618,
          824.3119253453,
          758.14761988,
          1026.753477594,
          984.320374535,
          1031.436440125,
          694.7900053408,
          681.9136445748001
         ]
        },
        {
         "mode": "lines+markers",
         "name": "Darbhanga",
         "type": "scatter",
         "visible": "legendonly",
         "x": [
          2009,
          2010,
          2011,
          2012,
          2013,
          2014,
          2015,
          2016,
          2017,
          2018,
          2019,
          2020,
          2021,
          2022,
          2023
         ],
         "y": [
          940.374168318,
          713.7001262369,
          1123.4814776939,
          894.0177968818,
          856.5119414097,
          1181.6862075752001,
          985.3095242574,
          1257.251131147,
          1489.8627372871001,
          989.054423098,
          1360.95354516,
          1176.825406108,
          1781.606969351,
          1123.856815696,
          804.5288401688
         ]
        },
        {
         "mode": "lines+markers",
         "name": "Gaya",
         "type": "scatter",
         "visible": "legendonly",
         "x": [
          2009,
          2010,
          2011,
          2012,
          2013,
          2014,
          2015,
          2016,
          2017,
          2018,
          2019,
          2020,
          2021,
          2022,
          2023
         ],
         "y": [
          702.902621469,
          719.9548863275,
          815.7775929317,
          987.3161712033,
          880.0151432874001,
          1093.0684784285,
          826.702008919,
          1241.9582741169,
          852.8839294981,
          769.937286667,
          1028.355839173,
          1086.784120982,
          1433.052118594,
          758.7142150657,
          634.9277267735999
         ]
        },
        {
         "mode": "lines+markers",
         "name": "Gopalganj",
         "type": "scatter",
         "visible": "legendonly",
         "x": [
          2009,
          2010,
          2011,
          2012,
          2013,
          2014,
          2015,
          2016,
          2017,
          2018,
          2019,
          2020,
          2021,
          2022,
          2023
         ],
         "y": [
          902.0253108759999,
          1048.679885437,
          1149.8585978421,
          921.4581179708,
          980.123219435,
          968.3127081948,
          863.7725815758,
          980.9120221653,
          831.4943664967,
          683.755261518,
          1297.873751003,
          1328.736293877,
          1709.091995171,
          989.7966999906,
          616.3253174473
         ]
        },
        {
         "mode": "lines+markers",
         "name": "Jamui",
         "type": "scatter",
         "visible": "legendonly",
         "x": [
          2009,
          2010,
          2011,
          2012,
          2013,
          2014,
          2015,
          2016,
          2017,
          2018,
          2019,
          2020,
          2021,
          2022,
          2023
         ],
         "y": [
          733.906918661,
          965.9637524979,
          997.4551472811,
          1170.4524672214,
          1147.357756634,
          1141.3139051331,
          1030.7318083521,
          1224.6806416596,
          1167.3345647005,
          892.017780034,
          1112.853337245,
          1292.617620554,
          1102.490384951,
          777.1199167673,
          876.983105068
         ]
        },
        {
         "mode": "lines+markers",
         "name": "Jehanabad",
         "type": "scatter",
         "visible": "legendonly",
         "x": [
          2009,
          2010,
          2011,
          2012,
          2013,
          2014,
          2015,
          2016,
          2017,
          2018,
          2019,
          2020,
          2021,
          2022,
          2023
         ],
         "y": [
          684.552875085,
          758.5609942687,
          1022.6041309576,
          1012.4039343856,
          942.6363034058,
          961.2685728181,
          687.6651113608,
          1070.7886878249,
          965.0530721969,
          684.347388497,
          1195.123669313,
          1187.977013306,
          1439.60458155,
          867.4002024342,
          625.1621040061
         ]
        },
        {
         "mode": "lines+markers",
         "name": "Kaimur (Bhabua)",
         "type": "scatter",
         "visible": "legendonly",
         "x": [
          2009,
          2010,
          2011,
          2012,
          2013,
          2014,
          2015,
          2016,
          2017,
          2018,
          2019,
          2020,
          2021,
          2022,
          2023
         ],
         "y": [
          719.621576162,
          769.3880966152,
          931.7599189249,
          1059.6201393139,
          923.6390303342,
          708.8933228544,
          926.948055058,
          1096.9042188707,
          748.1870256564,
          672.773176996,
          912.101817816,
          886.055669385,
          1130.122992276,
          655.7725423900999,
          674.8517041799
         ]
        },
        {
         "mode": "lines+markers",
         "name": "Katihar",
         "type": "scatter",
         "visible": "legendonly",
         "x": [
          2009,
          2010,
          2011,
          2012,
          2013,
          2014,
          2015,
          2016,
          2017,
          2018,
          2019,
          2020,
          2021,
          2022,
          2023
         ],
         "y": [
          1287.3158300110001,
          1276.1981550646,
          1381.6073893897,
          1418.8336404505,
          1497.9104868052,
          1369.2894202882999,
          1286.2643875819,
          1316.4603789385,
          1742.2345127792,
          1061.996798475,
          1453.86987915,
          1197.119002782,
          1657.499599822,
          1187.4748745092,
          1159.1193699361
         ]
        },
        {
         "mode": "lines+markers",
         "name": "Khagaria",
         "type": "scatter",
         "visible": "legendonly",
         "x": [
          2009,
          2010,
          2011,
          2012,
          2013,
          2014,
          2015,
          2016,
          2017,
          2018,
          2019,
          2020,
          2021,
          2022,
          2023
         ],
         "y": [
          1186.915223423,
          917.6464695168,
          1293.7384819407,
          1405.6699443511,
          1193.3282192223,
          1245.1556217444,
          1349.395982106,
          1004.0604883778,
          1288.4350926124,
          1000.796724954,
          1314.866197674,
          1301.818453972,
          1448.972440589,
          834.755600016,
          1119.9905806304
         ]
        },
        {
         "mode": "lines+markers",
         "name": "Kishanganj",
         "type": "scatter",
         "visible": "legendonly",
         "x": [
          2009,
          2010,
          2011,
          2012,
          2013,
          2014,
          2015,
          2016,
          2017,
          2018,
          2019,
          2020,
          2021,
          2022,
          2023
         ],
         "y": [
          2065.752789948,
          3086.0684856839,
          2594.6101304142,
          2682.0855366773,
          2525.0467535463,
          2155.1391295325,
          1951.7248123921,
          2534.0907831271,
          2360.9470015401,
          2159.644176844,
          2259.076849701,
          1679.138953593,
          2582.15873385,
          2626.9739705449,
          1655.6658931433
         ]
        },
        {
         "mode": "lines+markers",
         "name": "Lakhisarai",
         "type": "scatter",
         "visible": "legendonly",
         "x": [
          2009,
          2010,
          2011,
          2012,
          2013,
          2014,
          2015,
          2016,
          2017,
          2018,
          2019,
          2020,
          2021,
          2022,
          2023
         ],
         "y": [
          729.755142914,
          1139.4113080352,
          936.8540225468,
          1082.4373711812,
          889.6282966059,
          1383.5540280885,
          973.6501388454,
          973.8645682225,
          917.8863857587,
          805.976078563,
          930.216850035,
          1148.363155154,
          1208.971200593,
          696.4588660684,
          828.3635581837
         ]
        },
        {
         "mode": "lines+markers",
         "name": "Madhepura",
         "type": "scatter",
         "visible": "legendonly",
         "x": [
          2009,
          2010,
          2011,
          2012,
          2013,
          2014,
          2015,
          2016,
          2017,
          2018,
          2019,
          2020,
          2021,
          2022,
          2023
         ],
         "y": [
          1259.856171341,
          1010.8242718104,
          1455.6498066888,
          1066.1093325948,
          1473.2000865406,
          1120.7213428544,
          915.9296163678,
          1350.6130828689,
          1261.1802221998,
          969.73898745,
          1345.156961281,
          1418.666362958,
          1462.720588467,
          1098.0119945334,
          1098.7895334062
         ]
        },
        {
         "mode": "lines+markers",
         "name": "Madhubani",
         "type": "scatter",
         "visible": "legendonly",
         "x": [
          2009,
          2010,
          2011,
          2012,
          2013,
          2014,
          2015,
          2016,
          2017,
          2018,
          2019,
          2020,
          2021,
          2022,
          2023
         ],
         "y": [
          1087.116337889,
          826.2833328114,
          1254.2884949634,
          737.5683879481,
          991.936502486,
          1213.9545924263,
          988.0612154818,
          1291.8560748977,
          1422.6652081219,
          1051.300131458,
          1417.911568876,
          1191.919470328,
          1915.624215901,
          1255.2042160766,
          877.2083536543
         ]
        },
        {
         "mode": "lines+markers",
         "name": "Munger",
         "type": "scatter",
         "visible": "legendonly",
         "x": [
          2009,
          2010,
          2011,
          2012,
          2013,
          2014,
          2015,
          2016,
          2017,
          2018,
          2019,
          2020,
          2021,
          2022,
          2023
         ],
         "y": [
          990.7979959740001,
          922.2376943388,
          816.7373284383,
          1415.3304917269,
          1269.909256458,
          1290.106417204,
          1300.8697349467,
          852.6022489220001,
          1004.5602975302,
          924.48309423,
          1156.796719746,
          1284.524006355,
          1332.039141598,
          791.9723463625,
          1043.087409634
         ]
        },
        {
         "mode": "lines+markers",
         "name": "Muzaffarpur",
         "type": "scatter",
         "visible": "legendonly",
         "x": [
          2009,
          2010,
          2011,
          2012,
          2013,
          2014,
          2015,
          2016,
          2017,
          2018,
          2019,
          2020,
          2021,
          2022,
          2023
         ],
         "y": [
          848.975481406,
          763.1716054487,
          1291.6048239895,
          879.6503080989,
          795.3594308988,
          1074.6519660834,
          773.3924247578,
          971.3869286620001,
          1114.2661466074,
          689.70156428,
          1176.202844573,
          1117.482616749,
          1830.814749009,
          1030.2523152879,
          945.4603217271
         ]
        },
        {
         "mode": "lines+markers",
         "name": "Nalanda",
         "type": "scatter",
         "visible": "legendonly",
         "x": [
          2009,
          2010,
          2011,
          2012,
          2013,
          2014,
          2015,
          2016,
          2017,
          2018,
          2019,
          2020,
          2021,
          2022,
          2023
         ],
         "y": [
          781.2961230120001,
          746.4898638001,
          909.4049194927,
          807.8232294546,
          839.5827701955,
          1126.7175375496,
          730.2495649169,
          1161.9409525967,
          898.2973583311,
          754.829312799,
          928.94688976,
          1045.795121332,
          1376.837547163,
          761.4689133362,
          713.0325932088
         ]
        },
        {
         "mode": "lines+markers",
         "name": "Nawada",
         "type": "scatter",
         "visible": "legendonly",
         "x": [
          2009,
          2010,
          2011,
          2012,
          2013,
          2014,
          2015,
          2016,
          2017,
          2018,
          2019,
          2020,
          2021,
          2022,
          2023
         ],
         "y": [
          788.266412498,
          733.0429379362,
          892.2544751775,
          849.7317314963,
          932.5783887904,
          1020.3866431544,
          826.5986582341,
          1078.7832943937,
          897.5083462667,
          695.9725596870001,
          949.536384967,
          1090.39363607,
          1293.817322536,
          845.7308602685,
          669.2755728999
         ]
        },
        {
         "mode": "lines+markers",
         "name": "Pashchim Champaran",
         "type": "scatter",
         "visible": "legendonly",
         "x": [
          2009,
          2010,
          2011,
          2012,
          2013,
          2014,
          2015,
          2016,
          2017,
          2018,
          2019,
          2020,
          2021,
          2022,
          2023
         ],
         "y": [
          1035.774159607,
          1126.7697639967,
          1187.3640673434,
          1085.6587142592,
          1073.2627287992,
          1194.3172525238,
          967.8445240818,
          1260.0619552942,
          1723.0298326794,
          1187.31903186,
          1623.931882376,
          1351.95817672,
          2398.237193979,
          1083.5423561621,
          710.673693364
         ]
        },
        {
         "mode": "lines+markers",
         "name": "Patna",
         "type": "scatter",
         "visible": "legendonly",
         "x": [
          2009,
          2010,
          2011,
          2012,
          2013,
          2014,
          2015,
          2016,
          2017,
          2018,
          2019,
          2020,
          2021,
          2022,
          2023
         ],
         "y": [
          792.539530719,
          772.3568986341,
          940.1585283468,
          951.0824795328,
          870.1352094604,
          1113.2631566326,
          769.8892103344,
          1256.2986061318,
          1061.3413406322,
          774.588942177,
          1219.9458867965,
          1164.901210982,
          1503.348843428,
          855.8909279539,
          669.9315920384
         ]
        },
        {
         "mode": "lines+markers",
         "name": "Purbi Champaran",
         "type": "scatter",
         "visible": "legendonly",
         "x": [
          2009,
          2010,
          2011,
          2012,
          2013,
          2014,
          2015,
          2016,
          2017,
          2018,
          2019,
          2020,
          2021,
          2022,
          2023
         ],
         "y": [
          948.251525906,
          1013.9061509199,
          1320.6697363539,
          965.9426695842,
          1091.8085945811001,
          1320.6812238152,
          1068.1431062053,
          893.1300185044,
          1099.4863609405,
          852.366783215,
          1181.765549668,
          1135.482618882,
          1594.333924376,
          965.8508567414,
          666.3598661261
         ]
        },
        {
         "mode": "lines+markers",
         "name": "Purnia",
         "type": "scatter",
         "visible": "legendonly",
         "x": [
          2009,
          2010,
          2011,
          2012,
          2013,
          2014,
          2015,
          2016,
          2017,
          2018,
          2019,
          2020,
          2021,
          2022,
          2023
         ],
         "y": [
          1337.263468697,
          1334.6246084586,
          1644.4378966691,
          1597.1431775857,
          1691.9666998329,
          1336.0176550459,
          1229.4070613686,
          1490.2993230142,
          1607.9611064028,
          1124.570048507,
          1415.035130736,
          1342.958478761,
          1668.849902743,
          1460.935907881,
          1266.1343581391
         ]
        },
        {
         "mode": "lines+markers",
         "name": "Rohtas",
         "type": "scatter",
         "visible": "legendonly",
         "x": [
          2009,
          2010,
          2011,
          2012,
          2013,
          2014,
          2015,
          2016,
          2017,
          2018,
          2019,
          2020,
          2021,
          2022,
          2023
         ],
         "y": [
          702.4322029159999,
          690.6092264452,
          1168.8088589786,
          1065.9833112337,
          837.3108087953,
          678.2279250136,
          1082.8648645831,
          1301.1551184061,
          840.6309226975,
          743.92775161,
          901.279344703,
          1026.026981517,
          1067.830142581,
          715.0288172913,
          627.531467843
         ]
        },
        {
         "mode": "lines+markers",
         "name": "Saharsa",
         "type": "scatter",
         "visible": "legendonly",
         "x": [
          2009,
          2010,
          2011,
          2012,
          2013,
          2014,
          2015,
          2016,
          2017,
          2018,
          2019,
          2020,
          2021,
          2022,
          2023
         ],
         "y": [
          1244.115695266,
          914.6972402899,
          1339.833978887,
          1066.1833867899,
          1227.2877294457,
          1105.6611522675,
          849.5343635889,
          1158.236366323,
          1024.3965856991,
          859.647621339,
          1331.486201966,
          1259.007056814,
          1544.235706296,
          994.8425040455,
          893.6662355838
         ]
        },
        {
         "mode": "lines+markers",
         "name": "Samastipur",
         "type": "scatter",
         "visible": "legendonly",
         "x": [
          2009,
          2010,
          2011,
          2012,
          2013,
          2014,
          2015,
          2016,
          2017,
          2018,
          2019,
          2020,
          2021,
          2022,
          2023
         ],
         "y": [
          787.798279932,
          828.6556674472,
          1097.4448698575,
          852.4671368943,
          818.2087857917,
          1204.5455777142,
          951.6333222088,
          1401.642081019,
          1393.425936894,
          979.568423005,
          1720.341680277,
          1267.94058485,
          1595.753002187,
          1004.5796285438,
          904.7837169781
         ]
        },
        {
         "mode": "lines+markers",
         "name": "Saran",
         "type": "scatter",
         "visible": "legendonly",
         "x": [
          2009,
          2010,
          2011,
          2012,
          2013,
          2014,
          2015,
          2016,
          2017,
          2018,
          2019,
          2020,
          2021,
          2022,
          2023
         ],
         "y": [
          820.608167579,
          750.7828959374,
          1066.8988588524,
          982.2140357942,
          821.3511428342,
          989.354960438,
          681.1282814341,
          1015.3259600874,
          918.3375192106,
          564.328068204,
          1073.8148177159999,
          1110.073688028,
          1631.220717707,
          780.3539857307001,
          634.6768086603
         ]
        },
        {
         "mode": "lines+markers",
         "name": "Sheikhpura",
         "type": "scatter",
         "visible": "legendonly",
         "x": [
          2009,
          2010,
          2011,
          2012,
          2013,
          2014,
          2015,
          2016,
          2017,
          2018,
          2019,
          2020,
          2021,
          2022,
          2023
         ],
         "y": [
          877.088995659,
          878.2801839934,
          1139.8822274647,
          809.3994895543,
          929.6637573311,
          1195.4402900142,
          801.4714333344,
          1077.2046183392,
          902.6669542381,
          761.337799764,
          847.628128427,
          1345.89494738,
          1126.103467102,
          640.3953186003,
          729.1634714993
         ]
        },
        {
         "mode": "lines+markers",
         "name": "Sheohar",
         "type": "scatter",
         "visible": "legendonly",
         "x": [
          2009,
          2010,
          2011,
          2012,
          2013,
          2014,
          2015,
          2016,
          2017,
          2018,
          2019,
          2020,
          2021,
          2022,
          2023
         ],
         "y": [
          541.099963473,
          789.7611487767,
          1295.9491526968,
          834.6152546238,
          809.1387226748,
          1090.2686240926,
          781.2609270782,
          726.3745967862,
          1019.0978946932,
          759.868492488,
          1329.565462203,
          1423.558550076,
          1550.400259744,
          963.5560903658,
          732.4534155821
         ]
        },
        {
         "mode": "lines+markers",
         "name": "Sitamarhi",
         "type": "scatter",
         "visible": "legendonly",
         "x": [
          2009,
          2010,
          2011,
          2012,
          2013,
          2014,
          2015,
          2016,
          2017,
          2018,
          2019,
          2020,
          2021,
          2022,
          2023
         ],
         "y": [
          677.691445696,
          752.0704697348,
          1156.683751514,
          702.5018721236,
          755.2596996382,
          1050.3570530221,
          726.3157046898,
          1238.9830321967,
          1242.8045188165,
          926.956014115,
          1257.573373408,
          1111.1482944480001,
          1887.532960652,
          1076.5915118023,
          684.243795888
         ]
        },
        {
         "mode": "lines+markers",
         "name": "Siwan",
         "type": "scatter",
         "visible": "legendonly",
         "x": [
          2009,
          2010,
          2011,
          2012,
          2013,
          2014,
          2015,
          2016,
          2017,
          2018,
          2019,
          2020,
          2021,
          2022,
          2023
         ],
         "y": [
          816.339237016,
          787.7547126781,
          994.3426958187,
          882.2951744015,
          823.2951589140999,
          760.787514239,
          641.1377602235,
          920.6225595236,
          704.6830147772,
          587.136196157,
          1164.198509018,
          1044.773125347,
          1576.401136428,
          888.2354009497,
          633.1958262099
         ]
        },
        {
         "mode": "lines+markers",
         "name": "Supaul",
         "type": "scatter",
         "visible": "legendonly",
         "x": [
          2009,
          2010,
          2011,
          2012,
          2013,
          2014,
          2015,
          2016,
          2017,
          2018,
          2019,
          2020,
          2021,
          2022,
          2023
         ],
         "y": [
          1173.068830622,
          1415.8811024029999,
          1407.543811884,
          934.8450303261,
          1721.7988489282,
          1185.5848071442,
          1073.0322473259,
          1818.8876344911,
          1508.7030020614,
          1225.6131636549999,
          1670.817968399,
          1513.657718552,
          2109.046910398,
          1741.2034962167,
          1302.3266492435
         ]
        },
        {
         "mode": "lines+markers",
         "name": "Vaishali",
         "type": "scatter",
         "visible": "legendonly",
         "x": [
          2009,
          2010,
          2011,
          2012,
          2013,
          2014,
          2015,
          2016,
          2017,
          2018,
          2019,
          2020,
          2021,
          2022,
          2023
         ],
         "y": [
          844.166637917,
          677.4131176048,
          1080.0797160863,
          885.4035625455,
          718.9144337853,
          1065.1978052064,
          806.5555261596,
          1089.1878941968,
          1151.7687851453,
          715.480957661,
          1250.75802647,
          1210.523818089,
          1693.725031755,
          865.5222796593,
          882.1708912243
         ]
        }
       ],
       "layout": {
        "legend": {
         "tracegroupgap": 0,
         "traceorder": "normal",
         "x": 1.05,
         "y": 1
        },
        "margin": {
         "b": 0,
         "l": 0,
         "r": 0,
         "t": 50
        },
        "plot_bgcolor": "white",
        "template": {
         "data": {
          "bar": [
           {
            "error_x": {
             "color": "#2a3f5f"
            },
            "error_y": {
             "color": "#2a3f5f"
            },
            "marker": {
             "line": {
              "color": "#E5ECF6",
              "width": 0.5
             },
             "pattern": {
              "fillmode": "overlay",
              "size": 10,
              "solidity": 0.2
             }
            },
            "type": "bar"
           }
          ],
          "barpolar": [
           {
            "marker": {
             "line": {
              "color": "#E5ECF6",
              "width": 0.5
             },
             "pattern": {
              "fillmode": "overlay",
              "size": 10,
              "solidity": 0.2
             }
            },
            "type": "barpolar"
           }
          ],
          "carpet": [
           {
            "aaxis": {
             "endlinecolor": "#2a3f5f",
             "gridcolor": "white",
             "linecolor": "white",
             "minorgridcolor": "white",
             "startlinecolor": "#2a3f5f"
            },
            "baxis": {
             "endlinecolor": "#2a3f5f",
             "gridcolor": "white",
             "linecolor": "white",
             "minorgridcolor": "white",
             "startlinecolor": "#2a3f5f"
            },
            "type": "carpet"
           }
          ],
          "choropleth": [
           {
            "colorbar": {
             "outlinewidth": 0,
             "ticks": ""
            },
            "type": "choropleth"
           }
          ],
          "contour": [
           {
            "colorbar": {
             "outlinewidth": 0,
             "ticks": ""
            },
            "colorscale": [
             [
              0,
              "#0d0887"
             ],
             [
              0.1111111111111111,
              "#46039f"
             ],
             [
              0.2222222222222222,
              "#7201a8"
             ],
             [
              0.3333333333333333,
              "#9c179e"
             ],
             [
              0.4444444444444444,
              "#bd3786"
             ],
             [
              0.5555555555555556,
              "#d8576b"
             ],
             [
              0.6666666666666666,
              "#ed7953"
             ],
             [
              0.7777777777777778,
              "#fb9f3a"
             ],
             [
              0.8888888888888888,
              "#fdca26"
             ],
             [
              1,
              "#f0f921"
             ]
            ],
            "type": "contour"
           }
          ],
          "contourcarpet": [
           {
            "colorbar": {
             "outlinewidth": 0,
             "ticks": ""
            },
            "type": "contourcarpet"
           }
          ],
          "heatmap": [
           {
            "colorbar": {
             "outlinewidth": 0,
             "ticks": ""
            },
            "colorscale": [
             [
              0,
              "#0d0887"
             ],
             [
              0.1111111111111111,
              "#46039f"
             ],
             [
              0.2222222222222222,
              "#7201a8"
             ],
             [
              0.3333333333333333,
              "#9c179e"
             ],
             [
              0.4444444444444444,
              "#bd3786"
             ],
             [
              0.5555555555555556,
              "#d8576b"
             ],
             [
              0.6666666666666666,
              "#ed7953"
             ],
             [
              0.7777777777777778,
              "#fb9f3a"
             ],
             [
              0.8888888888888888,
              "#fdca26"
             ],
             [
              1,
              "#f0f921"
             ]
            ],
            "type": "heatmap"
           }
          ],
          "heatmapgl": [
           {
            "colorbar": {
             "outlinewidth": 0,
             "ticks": ""
            },
            "colorscale": [
             [
              0,
              "#0d0887"
             ],
             [
              0.1111111111111111,
              "#46039f"
             ],
             [
              0.2222222222222222,
              "#7201a8"
             ],
             [
              0.3333333333333333,
              "#9c179e"
             ],
             [
              0.4444444444444444,
              "#bd3786"
             ],
             [
              0.5555555555555556,
              "#d8576b"
             ],
             [
              0.6666666666666666,
              "#ed7953"
             ],
             [
              0.7777777777777778,
              "#fb9f3a"
             ],
             [
              0.8888888888888888,
              "#fdca26"
             ],
             [
              1,
              "#f0f921"
             ]
            ],
            "type": "heatmapgl"
           }
          ],
          "histogram": [
           {
            "marker": {
             "pattern": {
              "fillmode": "overlay",
              "size": 10,
              "solidity": 0.2
             }
            },
            "type": "histogram"
           }
          ],
          "histogram2d": [
           {
            "colorbar": {
             "outlinewidth": 0,
             "ticks": ""
            },
            "colorscale": [
             [
              0,
              "#0d0887"
             ],
             [
              0.1111111111111111,
              "#46039f"
             ],
             [
              0.2222222222222222,
              "#7201a8"
             ],
             [
              0.3333333333333333,
              "#9c179e"
             ],
             [
              0.4444444444444444,
              "#bd3786"
             ],
             [
              0.5555555555555556,
              "#d8576b"
             ],
             [
              0.6666666666666666,
              "#ed7953"
             ],
             [
              0.7777777777777778,
              "#fb9f3a"
             ],
             [
              0.8888888888888888,
              "#fdca26"
             ],
             [
              1,
              "#f0f921"
             ]
            ],
            "type": "histogram2d"
           }
          ],
          "histogram2dcontour": [
           {
            "colorbar": {
             "outlinewidth": 0,
             "ticks": ""
            },
            "colorscale": [
             [
              0,
              "#0d0887"
             ],
             [
              0.1111111111111111,
              "#46039f"
             ],
             [
              0.2222222222222222,
              "#7201a8"
             ],
             [
              0.3333333333333333,
              "#9c179e"
             ],
             [
              0.4444444444444444,
              "#bd3786"
             ],
             [
              0.5555555555555556,
              "#d8576b"
             ],
             [
              0.6666666666666666,
              "#ed7953"
             ],
             [
              0.7777777777777778,
              "#fb9f3a"
             ],
             [
              0.8888888888888888,
              "#fdca26"
             ],
             [
              1,
              "#f0f921"
             ]
            ],
            "type": "histogram2dcontour"
           }
          ],
          "mesh3d": [
           {
            "colorbar": {
             "outlinewidth": 0,
             "ticks": ""
            },
            "type": "mesh3d"
           }
          ],
          "parcoords": [
           {
            "line": {
             "colorbar": {
              "outlinewidth": 0,
              "ticks": ""
             }
            },
            "type": "parcoords"
           }
          ],
          "pie": [
           {
            "automargin": true,
            "type": "pie"
           }
          ],
          "scatter": [
           {
            "fillpattern": {
             "fillmode": "overlay",
             "size": 10,
             "solidity": 0.2
            },
            "type": "scatter"
           }
          ],
          "scatter3d": [
           {
            "line": {
             "colorbar": {
              "outlinewidth": 0,
              "ticks": ""
             }
            },
            "marker": {
             "colorbar": {
              "outlinewidth": 0,
              "ticks": ""
             }
            },
            "type": "scatter3d"
           }
          ],
          "scattercarpet": [
           {
            "marker": {
             "colorbar": {
              "outlinewidth": 0,
              "ticks": ""
             }
            },
            "type": "scattercarpet"
           }
          ],
          "scattergeo": [
           {
            "marker": {
             "colorbar": {
              "outlinewidth": 0,
              "ticks": ""
             }
            },
            "type": "scattergeo"
           }
          ],
          "scattergl": [
           {
            "marker": {
             "colorbar": {
              "outlinewidth": 0,
              "ticks": ""
             }
            },
            "type": "scattergl"
           }
          ],
          "scattermapbox": [
           {
            "marker": {
             "colorbar": {
              "outlinewidth": 0,
              "ticks": ""
             }
            },
            "type": "scattermapbox"
           }
          ],
          "scatterpolar": [
           {
            "marker": {
             "colorbar": {
              "outlinewidth": 0,
              "ticks": ""
             }
            },
            "type": "scatterpolar"
           }
          ],
          "scatterpolargl": [
           {
            "marker": {
             "colorbar": {
              "outlinewidth": 0,
              "ticks": ""
             }
            },
            "type": "scatterpolargl"
           }
          ],
          "scatterternary": [
           {
            "marker": {
             "colorbar": {
              "outlinewidth": 0,
              "ticks": ""
             }
            },
            "type": "scatterternary"
           }
          ],
          "surface": [
           {
            "colorbar": {
             "outlinewidth": 0,
             "ticks": ""
            },
            "colorscale": [
             [
              0,
              "#0d0887"
             ],
             [
              0.1111111111111111,
              "#46039f"
             ],
             [
              0.2222222222222222,
              "#7201a8"
             ],
             [
              0.3333333333333333,
              "#9c179e"
             ],
             [
              0.4444444444444444,
              "#bd3786"
             ],
             [
              0.5555555555555556,
              "#d8576b"
             ],
             [
              0.6666666666666666,
              "#ed7953"
             ],
             [
              0.7777777777777778,
              "#fb9f3a"
             ],
             [
              0.8888888888888888,
              "#fdca26"
             ],
             [
              1,
              "#f0f921"
             ]
            ],
            "type": "surface"
           }
          ],
          "table": [
           {
            "cells": {
             "fill": {
              "color": "#EBF0F8"
             },
             "line": {
              "color": "white"
             }
            },
            "header": {
             "fill": {
              "color": "#C8D4E3"
             },
             "line": {
              "color": "white"
             }
            },
            "type": "table"
           }
          ]
         },
         "layout": {
          "annotationdefaults": {
           "arrowcolor": "#2a3f5f",
           "arrowhead": 0,
           "arrowwidth": 1
          },
          "autotypenumbers": "strict",
          "coloraxis": {
           "colorbar": {
            "outlinewidth": 0,
            "ticks": ""
           }
          },
          "colorscale": {
           "diverging": [
            [
             0,
             "#8e0152"
            ],
            [
             0.1,
             "#c51b7d"
            ],
            [
             0.2,
             "#de77ae"
            ],
            [
             0.3,
             "#f1b6da"
            ],
            [
             0.4,
             "#fde0ef"
            ],
            [
             0.5,
             "#f7f7f7"
            ],
            [
             0.6,
             "#e6f5d0"
            ],
            [
             0.7,
             "#b8e186"
            ],
            [
             0.8,
             "#7fbc41"
            ],
            [
             0.9,
             "#4d9221"
            ],
            [
             1,
             "#276419"
            ]
           ],
           "sequential": [
            [
             0,
             "#0d0887"
            ],
            [
             0.1111111111111111,
             "#46039f"
            ],
            [
             0.2222222222222222,
             "#7201a8"
            ],
            [
             0.3333333333333333,
             "#9c179e"
            ],
            [
             0.4444444444444444,
             "#bd3786"
            ],
            [
             0.5555555555555556,
             "#d8576b"
            ],
            [
             0.6666666666666666,
             "#ed7953"
            ],
            [
             0.7777777777777778,
             "#fb9f3a"
            ],
            [
             0.8888888888888888,
             "#fdca26"
            ],
            [
             1,
             "#f0f921"
            ]
           ],
           "sequentialminus": [
            [
             0,
             "#0d0887"
            ],
            [
             0.1111111111111111,
             "#46039f"
            ],
            [
             0.2222222222222222,
             "#7201a8"
            ],
            [
             0.3333333333333333,
             "#9c179e"
            ],
            [
             0.4444444444444444,
             "#bd3786"
            ],
            [
             0.5555555555555556,
             "#d8576b"
            ],
            [
             0.6666666666666666,
             "#ed7953"
            ],
            [
             0.7777777777777778,
             "#fb9f3a"
            ],
            [
             0.8888888888888888,
             "#fdca26"
            ],
            [
             1,
             "#f0f921"
            ]
           ]
          },
          "colorway": [
           "#636efa",
           "#EF553B",
           "#00cc96",
           "#ab63fa",
           "#FFA15A",
           "#19d3f3",
           "#FF6692",
           "#B6E880",
           "#FF97FF",
           "#FECB52"
          ],
          "font": {
           "color": "#2a3f5f"
          },
          "geo": {
           "bgcolor": "white",
           "lakecolor": "white",
           "landcolor": "#E5ECF6",
           "showlakes": true,
           "showland": true,
           "subunitcolor": "white"
          },
          "hoverlabel": {
           "align": "left"
          },
          "hovermode": "closest",
          "mapbox": {
           "style": "light"
          },
          "paper_bgcolor": "white",
          "plot_bgcolor": "#E5ECF6",
          "polar": {
           "angularaxis": {
            "gridcolor": "white",
            "linecolor": "white",
            "ticks": ""
           },
           "bgcolor": "#E5ECF6",
           "radialaxis": {
            "gridcolor": "white",
            "linecolor": "white",
            "ticks": ""
           }
          },
          "scene": {
           "xaxis": {
            "backgroundcolor": "#E5ECF6",
            "gridcolor": "white",
            "gridwidth": 2,
            "linecolor": "white",
            "showbackground": true,
            "ticks": "",
            "zerolinecolor": "white"
           },
           "yaxis": {
            "backgroundcolor": "#E5ECF6",
            "gridcolor": "white",
            "gridwidth": 2,
            "linecolor": "white",
            "showbackground": true,
            "ticks": "",
            "zerolinecolor": "white"
           },
           "zaxis": {
            "backgroundcolor": "#E5ECF6",
            "gridcolor": "white",
            "gridwidth": 2,
            "linecolor": "white",
            "showbackground": true,
            "ticks": "",
            "zerolinecolor": "white"
           }
          },
          "shapedefaults": {
           "line": {
            "color": "#2a3f5f"
           }
          },
          "ternary": {
           "aaxis": {
            "gridcolor": "white",
            "linecolor": "white",
            "ticks": ""
           },
           "baxis": {
            "gridcolor": "white",
            "linecolor": "white",
            "ticks": ""
           },
           "bgcolor": "#E5ECF6",
           "caxis": {
            "gridcolor": "white",
            "linecolor": "white",
            "ticks": ""
           }
          },
          "title": {
           "x": 0.05
          },
          "xaxis": {
           "automargin": true,
           "gridcolor": "white",
           "linecolor": "white",
           "ticks": "",
           "title": {
            "standoff": 15
           },
           "zerolinecolor": "white",
           "zerolinewidth": 2
          },
          "yaxis": {
           "automargin": true,
           "gridcolor": "white",
           "linecolor": "white",
           "ticks": "",
           "title": {
            "standoff": 15
           },
           "zerolinecolor": "white",
           "zerolinewidth": 2
          }
         }
        },
        "title": {
         "text": "Bihar"
        },
        "updatemenus": [
         {
          "buttons": [
           {
            "args": [
             {
              "visible": [
               true,
               true,
               true,
               true,
               true,
               true,
               true,
               true,
               true,
               true,
               true,
               true,
               true,
               true,
               true,
               true,
               true,
               true,
               true,
               true,
               true,
               true,
               true,
               true,
               true,
               true,
               true,
               true,
               true,
               true,
               true,
               true,
               true,
               true,
               true,
               true,
               true,
               true
              ]
             },
             {
              "title": "All Districts"
             }
            ],
            "label": "All",
            "method": "update"
           },
           {
            "args": [
             {
              "visible": [
               false,
               false,
               false,
               false,
               false,
               false,
               false,
               false,
               false,
               false,
               false,
               false,
               false,
               false,
               false,
               false,
               false,
               false,
               false,
               false,
               false,
               false,
               false,
               false,
               false,
               false,
               false,
               false,
               false,
               false,
               false,
               false,
               false,
               false,
               false,
               false,
               false,
               false
              ]
             },
             {
              "title": "No District"
             }
            ],
            "label": "None",
            "method": "update"
           }
          ],
          "direction": "left",
          "pad": {
           "r": 10,
           "t": 10
          },
          "showactive": true,
          "type": "buttons",
          "x": 0.05,
          "xanchor": "left",
          "y": 1.15,
          "yanchor": "top"
         }
        ],
        "xaxis": {
         "gridcolor": "lightgray",
         "gridwidth": 1,
         "showgrid": true,
         "tickmode": "array",
         "ticktext": [
          2009,
          2010,
          2011,
          2012,
          2013,
          2014,
          2015,
          2016,
          2017,
          2018,
          2019,
          2020,
          2021,
          2022,
          2023
         ],
         "tickvals": [
          2009,
          2010,
          2011,
          2012,
          2013,
          2014,
          2015,
          2016,
          2017,
          2018,
          2019,
          2020,
          2021,
          2022,
          2023
         ],
         "title": {
          "text": "Year"
         }
        },
        "yaxis": {
         "gridcolor": "lightgray",
         "gridwidth": 1,
         "showgrid": true,
         "title": {
          "text": "Average Rainfall in mm"
         }
        }
       }
      }
     },
     "metadata": {},
     "output_type": "display_data"
    },
    {
     "name": "stdout",
     "output_type": "stream",
     "text": [
      "Gujarat\n",
      "['Ahmadabad', 'Amreli', 'Anand', 'Arvalli', 'Banas Kantha', 'Bharuch', 'Bhavnagar', 'Botad', 'Chhotaudepur', 'Dang', 'Devbhumi Dwarka', 'Dohad', 'Gandhinagar', 'Gir Somnath', 'Jamnagar', 'Junagadh', 'Kachchh', 'Kheda', 'Mahesana', 'Mahisagar', 'Morbi', 'Narmada', 'Navsari', 'Panch Mahals', 'Patan', 'Porbandar', 'Rajkot', 'Sabar Kantha', 'Surat', 'Surendranagar', 'Tapi', 'Vadodara', 'Valsad']\n"
     ]
    },
    {
     "data": {
      "application/vnd.plotly.v1+json": {
       "config": {
        "plotlyServerURL": "https://plot.ly"
       },
       "data": [
        {
         "mode": "lines+markers",
         "name": "Ahmadabad",
         "type": "scatter",
         "visible": "legendonly",
         "x": [
          2009,
          2010,
          2011,
          2012,
          2013,
          2014,
          2015,
          2016,
          2017,
          2018,
          2019,
          2020,
          2021,
          2022,
          2023
         ],
         "y": [
          376.99430861999997,
          1125.2604095147,
          973.5852793925,
          571.1426759785,
          1131.8697018953,
          794.6324672104,
          490.8496070968,
          472.2725217116,
          783.9467398925,
          423.406610182,
          887.203372073,
          348.205942326,
          729.883402093,
          708.0726424366,
          616.1022571781
         ]
        },
        {
         "mode": "lines+markers",
         "name": "Amreli",
         "type": "scatter",
         "visible": "legendonly",
         "x": [
          2009,
          2010,
          2011,
          2012,
          2013,
          2014,
          2015,
          2016,
          2017,
          2018,
          2019,
          2020,
          2021,
          2022,
          2023
         ],
         "y": [
          520.260528392,
          0,
          17.7167370554,
          0,
          0,
          0,
          739.7765826389,
          694.806273849,
          591.2877675829,
          453.010099993,
          879.771603552,
          400.265888836,
          864.906686875,
          734.9659668951,
          689.0548616965
         ]
        },
        {
         "mode": "lines+markers",
         "name": "Anand",
         "type": "scatter",
         "visible": "legendonly",
         "x": [
          2009,
          2010,
          2011,
          2012,
          2013,
          2014,
          2015,
          2016,
          2017,
          2018,
          2019,
          2020,
          2021,
          2022,
          2023
         ],
         "y": [
          432.765656149,
          832.9139815332,
          1042.6021320539,
          792.4105198055,
          1163.8278880959,
          976.0830994747,
          475.7723507865,
          496.9028703089,
          648.359394464,
          716.923366258,
          982.3041727250001,
          251.812656963,
          864.7745221389999,
          802.477427537,
          816.7813043522
         ]
        },
        {
         "mode": "lines+markers",
         "name": "Arvalli",
         "type": "scatter",
         "visible": "legendonly",
         "x": [
          2009,
          2010,
          2011,
          2012,
          2013,
          2014,
          2015,
          2016,
          2017,
          2018,
          2019,
          2020,
          2021,
          2022,
          2023
         ],
         "y": [
          650.7248101170001,
          847.336540326,
          974.7296872953,
          913.7980070094001,
          1161.989777138,
          850.7731207388,
          679.0734893494999,
          979.3904549475,
          916.1664228152,
          671.140160178,
          1074.721458196,
          359.394460218,
          713.1737725730001,
          916.4750515198,
          800.8706849687001
         ]
        },
        {
         "mode": "lines+markers",
         "name": "Banas Kantha",
         "type": "scatter",
         "visible": "legendonly",
         "x": [
          2009,
          2010,
          2011,
          2012,
          2013,
          2014,
          2015,
          2016,
          2017,
          2018,
          2019,
          2020,
          2021,
          2022,
          2023
         ],
         "y": [
          339.729390996,
          879.6156598947,
          746.8966643466,
          657.5788517604,
          896.0718721475,
          537.4066520647,
          874.3401415552,
          464.9832517349,
          1140.5745074874,
          228.731257712,
          738.702267676,
          254.198620759,
          511.35225295600003,
          892.1345408965,
          785.6720356067
         ]
        },
        {
         "mode": "lines+markers",
         "name": "Bharuch",
         "type": "scatter",
         "visible": "legendonly",
         "x": [
          2009,
          2010,
          2011,
          2012,
          2013,
          2014,
          2015,
          2016,
          2017,
          2018,
          2019,
          2020,
          2021,
          2022,
          2023
         ],
         "y": [
          600.8316537649999,
          900.478740067,
          1047.8404025606,
          728.7514170965,
          1316.2958044133,
          743.9826920890999,
          519.8833879503,
          617.7834085899,
          781.4524344517,
          733.78632996,
          1345.642323643,
          241.820225538,
          970.575094737,
          1063.2548429568,
          649.3372308282
         ]
        },
        {
         "mode": "lines+markers",
         "name": "Bhavnagar",
         "type": "scatter",
         "visible": "legendonly",
         "x": [
          2009,
          2010,
          2011,
          2012,
          2013,
          2014,
          2015,
          2016,
          2017,
          2018,
          2019,
          2020,
          2021,
          2022,
          2023
         ],
         "y": [
          354.658544564,
          0,
          0,
          0,
          0,
          0,
          520.6722115493001,
          586.2782576485,
          567.6177936384,
          405.42773839,
          776.162245987,
          286.093589881,
          739.489267247,
          571.9833331944,
          657.1671029444
         ]
        },
        {
         "mode": "lines+markers",
         "name": "Botad",
         "type": "scatter",
         "visible": "legendonly",
         "x": [
          2009,
          2010,
          2011,
          2012,
          2013,
          2014,
          2015,
          2016,
          2017,
          2018,
          2019,
          2020,
          2021,
          2022,
          2023
         ],
         "y": [
          309.556333215,
          828.8501012597,
          1104.6209990209,
          380.1366318084,
          1009.6009687173,
          582.2769748089,
          490.1712695937,
          554.4525763922001,
          646.2687610332,
          386.931559078,
          1041.850649296,
          425.326273352,
          730.849639596,
          692.4530684267,
          713.5616865907
         ]
        },
        {
         "mode": "lines+markers",
         "name": "Chhotaudepur",
         "type": "scatter",
         "visible": "legendonly",
         "x": [
          2009,
          2010,
          2011,
          2012,
          2013,
          2014,
          2015,
          2016,
          2017,
          2018,
          2019,
          2020,
          2021,
          2022,
          2023
         ],
         "y": [
          632.1402498269999,
          914.7652164237,
          837.8527790986,
          930.2872066746,
          1492.0518057063,
          874.8971175414999,
          658.0812013323,
          844.8828197248,
          853.1412220917,
          741.874601507,
          1693.394097763,
          300.492716798,
          1096.363565407,
          1027.1361370323,
          938.8094705058
         ]
        },
        {
         "mode": "lines+markers",
         "name": "Dang",
         "type": "scatter",
         "visible": "legendonly",
         "x": [
          2009,
          2010,
          2011,
          2012,
          2013,
          2014,
          2015,
          2016,
          2017,
          2018,
          2019,
          2020,
          2021,
          2022,
          2023
         ],
         "y": [
          1043.146787906,
          1267.1348855038,
          1113.4426330693,
          1028.3602793476,
          962.7316487051,
          713.6487527198,
          741.7938823879,
          1089.1214420807,
          1338.9320780057,
          1100.237878414,
          1609.966209469,
          412.91461149,
          1124.623404456,
          1304.9483706986,
          1291.2934143615
         ]
        },
        {
         "mode": "lines+markers",
         "name": "Devbhumi Dwarka",
         "type": "scatter",
         "visible": "legendonly",
         "x": [
          2009,
          2010,
          2011,
          2012,
          2013,
          2014,
          2015,
          2016,
          2017,
          2018,
          2019,
          2020,
          2021,
          2022,
          2023
         ],
         "y": [
          1164.318702366,
          1702.4681847355,
          694.385253781,
          435.6623510919,
          856.5492470642,
          619.6433784294,
          358.044447668,
          605.1489404575,
          685.1248245409,
          293.061113466,
          1067.90239137,
          600.5484166800001,
          1004.358644015,
          1106.6252078548,
          860.1016810561
         ]
        },
        {
         "mode": "lines+markers",
         "name": "Dohad",
         "type": "scatter",
         "visible": "legendonly",
         "x": [
          2009,
          2010,
          2011,
          2012,
          2013,
          2014,
          2015,
          2016,
          2017,
          2018,
          2019,
          2020,
          2021,
          2022,
          2023
         ],
         "y": [
          596.6641087080001,
          698.2598474246,
          823.5555668339,
          1041.2639560549,
          997.3853136216,
          673.0153706628,
          533.3765873252,
          894.4754187344,
          725.3200894358,
          626.2327753449999,
          1130.0657208,
          288.868353907,
          683.937449175,
          620.0661480073,
          814.7796276647
         ]
        },
        {
         "mode": "lines+markers",
         "name": "Gandhinagar",
         "type": "scatter",
         "visible": "legendonly",
         "x": [
          2009,
          2010,
          2011,
          2012,
          2013,
          2014,
          2015,
          2016,
          2017,
          2018,
          2019,
          2020,
          2021,
          2022,
          2023
         ],
         "y": [
          508.683238611,
          900.2215999392,
          926.3336119858,
          657.0993295344,
          1178.5850683775,
          786.8786193944,
          620.999297854,
          657.3678101044,
          995.8191871821,
          433.727337637,
          1005.785501519,
          355.210546933,
          680.431169777,
          864.9495401495,
          896.5415814705
         ]
        },
        {
         "mode": "lines+markers",
         "name": "Gir Somnath",
         "type": "scatter",
         "visible": "legendonly",
         "x": [
          2009,
          2010,
          2011,
          2012,
          2013,
          2014,
          2015,
          2016,
          2017,
          2018,
          2019,
          2020,
          2021,
          2022,
          2023
         ],
         "y": [
          1147.8170196009999,
          0,
          0,
          0,
          0,
          0,
          579.0151215935,
          921.367905644,
          917.23680773,
          1101.73858648,
          1113.639996342,
          442.220871119,
          919.861043126,
          1010.575052563,
          1332.6236605106
         ]
        },
        {
         "mode": "lines+markers",
         "name": "Jamnagar",
         "type": "scatter",
         "visible": "legendonly",
         "x": [
          2009,
          2010,
          2011,
          2012,
          2013,
          2014,
          2015,
          2016,
          2017,
          2018,
          2019,
          2020,
          2021,
          2022,
          2023
         ],
         "y": [
          867.039386598,
          1360.7653596494,
          695.9000931675,
          355.1855854629,
          918.0113839411,
          497.3961576068,
          495.659734402,
          681.4741537189,
          725.0689231194,
          356.403590059,
          1139.084255507,
          348.514120666,
          995.002920725,
          830.4934907911,
          845.5563362602
         ]
        },
        {
         "mode": "lines+markers",
         "name": "Junagadh",
         "type": "scatter",
         "visible": "legendonly",
         "x": [
          2009,
          2010,
          2011,
          2012,
          2013,
          2014,
          2015,
          2016,
          2017,
          2018,
          2019,
          2020,
          2021,
          2022,
          2023
         ],
         "y": [
          1023.9485148890001,
          1461.1678427955999,
          1179.6084321394,
          357.7507794302,
          1195.7194483821,
          957.5123116279,
          784.8896859703,
          930.3459300842,
          863.4239044568,
          821.758860668,
          1344.351628631,
          436.069090954,
          1201.570168139,
          1130.8890567685,
          1476.4134338362999
         ]
        },
        {
         "mode": "lines+markers",
         "name": "Kachchh",
         "type": "scatter",
         "visible": "legendonly",
         "x": [
          2009,
          2010,
          2011,
          2012,
          2013,
          2014,
          2015,
          2016,
          2017,
          2018,
          2019,
          2020,
          2021,
          2022,
          2023
         ],
         "y": [
          490.92320863599997,
          3.287873135,
          0,
          0,
          9.1292298887,
          0,
          532.3194647541001,
          335.0712330279,
          534.9798996424,
          88.849274512,
          738.879666709,
          243.324493427,
          449.146360789,
          883.0402238865,
          667.1746926629
         ]
        },
        {
         "mode": "lines+markers",
         "name": "Kheda",
         "type": "scatter",
         "visible": "legendonly",
         "x": [
          2009,
          2010,
          2011,
          2012,
          2013,
          2014,
          2015,
          2016,
          2017,
          2018,
          2019,
          2020,
          2021,
          2022,
          2023
         ],
         "y": [
          439.370054073,
          774.7674169094,
          1012.9300805222,
          840.082834779,
          1048.5493014924,
          794.7903702614,
          487.1020641816,
          639.623068175,
          820.7055876376,
          603.434426634,
          1085.575462771,
          329.465173007,
          774.2621561889999,
          792.3221609502,
          798.4838340951
         ]
        },
        {
         "mode": "lines+markers",
         "name": "Mahesana",
         "type": "scatter",
         "visible": "legendonly",
         "x": [
          2009,
          2010,
          2011,
          2012,
          2013,
          2014,
          2015,
          2016,
          2017,
          2018,
          2019,
          2020,
          2021,
          2022,
          2023
         ],
         "y": [
          527.606298616,
          881.5696097016,
          729.1355825445,
          655.3939258467,
          963.9417865976,
          795.8798590726,
          693.4900303683,
          517.0494387837,
          880.5837075494,
          329.731198412,
          845.986027952,
          283.420141061,
          619.16165196,
          770.6564334882,
          715.2747937014
         ]
        },
        {
         "mode": "lines+markers",
         "name": "Mahisagar",
         "type": "scatter",
         "visible": "legendonly",
         "x": [
          2009,
          2010,
          2011,
          2012,
          2013,
          2014,
          2015,
          2016,
          2017,
          2018,
          2019,
          2020,
          2021,
          2022,
          2023
         ],
         "y": [
          568.867771374,
          694.6784275397,
          916.7465336786,
          1043.7964568502,
          1101.8324221267999,
          750.2426333477,
          592.8747725697,
          846.4747634947,
          877.7779082052,
          708.2984433839999,
          1037.1193986810001,
          386.79634276,
          744.384938103,
          943.5697921523999,
          777.9515593181
         ]
        },
        {
         "mode": "lines+markers",
         "name": "Morbi",
         "type": "scatter",
         "visible": "legendonly",
         "x": [
          2009,
          2010,
          2011,
          2012,
          2013,
          2014,
          2015,
          2016,
          2017,
          2018,
          2019,
          2020,
          2021,
          2022,
          2023
         ],
         "y": [
          452.90644839600003,
          874.7758147463,
          2171.7761914797,
          345.9452766158,
          773.577174235,
          471.7107934396,
          566.6777710386,
          371.9012720932,
          1000.6966655673,
          257.682431011,
          1012.563879372,
          338.034603499,
          630.645011458,
          732.9877400024,
          591.246767271
         ]
        },
        {
         "mode": "lines+markers",
         "name": "Narmada",
         "type": "scatter",
         "visible": "legendonly",
         "x": [
          2009,
          2010,
          2011,
          2012,
          2013,
          2014,
          2015,
          2016,
          2017,
          2018,
          2019,
          2020,
          2021,
          2022,
          2023
         ],
         "y": [
          955.609675835,
          1040.2033382165,
          921.4573733768,
          760.7358265419,
          1768.6313875959,
          886.8724120325,
          715.9823526413,
          911.8442765298,
          1182.233020519,
          989.309376101,
          1884.72714974,
          313.563857933,
          1328.889598068,
          1661.8006450625,
          1020.8238396697
         ]
        },
        {
         "mode": "lines+markers",
         "name": "Navsari",
         "type": "scatter",
         "visible": "legendonly",
         "x": [
          2009,
          2010,
          2011,
          2012,
          2013,
          2014,
          2015,
          2016,
          2017,
          2018,
          2019,
          2020,
          2021,
          2022,
          2023
         ],
         "y": [
          1386.00220361,
          1889.8410042668,
          1661.3910929302,
          1299.9747095448,
          2147.9793359428,
          1328.3360496407,
          1053.5745146383,
          1530.2989545714,
          1751.7417987987,
          1920.9197524190001,
          2468.072610952,
          380.891644907,
          1938.992380548,
          2468.3349754092,
          1388.4712212864
         ]
        },
        {
         "mode": "lines+markers",
         "name": "Panch Mahals",
         "type": "scatter",
         "visible": "legendonly",
         "x": [
          2009,
          2010,
          2011,
          2012,
          2013,
          2014,
          2015,
          2016,
          2017,
          2018,
          2019,
          2020,
          2021,
          2022,
          2023
         ],
         "y": [
          576.552254297,
          796.4298080837,
          871.8126182818,
          979.4903476474,
          1161.5385268351001,
          860.6158225820001,
          576.5524958889,
          888.9385193436,
          858.938902396,
          774.859364316,
          1210.6209151799999,
          281.069257988,
          793.536414157,
          979.8588256534,
          973.7757008953
         ]
        },
        {
         "mode": "lines+markers",
         "name": "Patan",
         "type": "scatter",
         "visible": "legendonly",
         "x": [
          2009,
          2010,
          2011,
          2012,
          2013,
          2014,
          2015,
          2016,
          2017,
          2018,
          2019,
          2020,
          2021,
          2022,
          2023
         ],
         "y": [
          365.462581198,
          801.9525219948999,
          667.9844898461,
          620.1201848822,
          893.8872628222999,
          573.1885517057,
          722.8705513951,
          512.4880452315,
          961.0524432817,
          194.07584343,
          803.231310506,
          244.746024795,
          530.05966509,
          794.5523278242,
          604.4891081351
         ]
        },
        {
         "mode": "lines+markers",
         "name": "Porbandar",
         "type": "scatter",
         "visible": "legendonly",
         "x": [
          2009,
          2010,
          2011,
          2012,
          2013,
          2014,
          2015,
          2016,
          2017,
          2018,
          2019,
          2020,
          2021,
          2022,
          2023
         ],
         "y": [
          1348.525368159,
          1674.2231160906,
          702.1649907565,
          391.2887458214,
          1205.6077748162,
          948.8972796659,
          461.0629612741,
          667.4822141022,
          700.1060284280001,
          466.323199984,
          1057.473560687,
          723.915206897,
          988.921746092,
          1150.2229538131,
          84.2626620165
         ]
        },
        {
         "mode": "lines+markers",
         "name": "Rajkot",
         "type": "scatter",
         "visible": "legendonly",
         "x": [
          2009,
          2010,
          2011,
          2012,
          2013,
          2014,
          2015,
          2016,
          2017,
          2018,
          2019,
          2020,
          2021,
          2022,
          2023
         ],
         "y": [
          571.178315721,
          1118.6187832375,
          1626.5661012385,
          398.566177796,
          1079.0470509379,
          573.0997795363,
          639.613342652,
          598.0302088031,
          818.0000853656,
          365.362624839,
          997.018449965,
          394.410998356,
          975.294052948,
          855.3040812591,
          815.5691511653
         ]
        },
        {
         "mode": "lines+markers",
         "name": "Sabar Kantha",
         "type": "scatter",
         "visible": "legendonly",
         "x": [
          2009,
          2010,
          2011,
          2012,
          2013,
          2014,
          2015,
          2016,
          2017,
          2018,
          2019,
          2020,
          2021,
          2022,
          2023
         ],
         "y": [
          614.936789905,
          858.6851003739,
          859.9140891132,
          840.0705016984,
          1037.5182078627,
          901.4415945076,
          835.2269651188,
          738.2652459477,
          981.4022981622,
          589.966301584,
          1051.371155231,
          352.203449069,
          689.40169095,
          1067.3652501143,
          853.1646815436
         ]
        },
        {
         "mode": "lines+markers",
         "name": "Surat",
         "type": "scatter",
         "visible": "legendonly",
         "x": [
          2009,
          2010,
          2011,
          2012,
          2013,
          2014,
          2015,
          2016,
          2017,
          2018,
          2019,
          2020,
          2021,
          2022,
          2023
         ],
         "y": [
          1195.494657476,
          859.4990759075,
          714.674143453,
          463.7927998544,
          1275.3629289345,
          595.2735754987,
          902.260034977,
          1075.3085536204,
          1267.8559883743,
          1303.3491572570001,
          1957.250247282,
          358.648490391,
          1524.5884909449999,
          1782.0642950779,
          1022.3742954327
         ]
        },
        {
         "mode": "lines+markers",
         "name": "Surendranagar",
         "type": "scatter",
         "visible": "legendonly",
         "x": [
          2009,
          2010,
          2011,
          2012,
          2013,
          2014,
          2015,
          2016,
          2017,
          2018,
          2019,
          2020,
          2021,
          2022,
          2023
         ],
         "y": [
          347.837387503,
          805.3512019021,
          1536.9619851836,
          382.88197749,
          758.9384144154,
          580.32139399,
          408.5694062828,
          381.2820537582,
          782.715055876,
          254.6641721728,
          904.7606981767001,
          338.615241851,
          544.4989687944,
          576.0062485446,
          558.2639596014
         ]
        },
        {
         "mode": "lines+markers",
         "name": "Tapi",
         "type": "scatter",
         "visible": "legendonly",
         "x": [
          2009,
          2010,
          2011,
          2012,
          2013,
          2014,
          2015,
          2016,
          2017,
          2018,
          2019,
          2020,
          2021,
          2022,
          2023
         ],
         "y": [
          1142.323355704,
          1222.4324019006,
          1056.678265063,
          873.8012264801,
          1800.7280739081,
          817.0720410403,
          848.97548229,
          991.6948838214,
          1142.6568751599,
          1065.534324259,
          1847.387030145,
          390.20517455,
          1056.704223659,
          1568.8075468548,
          1108.3572779128
         ]
        },
        {
         "mode": "lines+markers",
         "name": "Vadodara",
         "type": "scatter",
         "visible": "legendonly",
         "x": [
          2009,
          2010,
          2011,
          2012,
          2013,
          2014,
          2015,
          2016,
          2017,
          2018,
          2019,
          2020,
          2021,
          2022,
          2023
         ],
         "y": [
          570.026755335,
          869.344305945,
          1035.793259021,
          877.251463989,
          1392.1415999568,
          856.4259219399,
          418.4511440944,
          618.2020035793,
          717.1844531608,
          603.493920975,
          1198.058231358,
          242.064249853,
          815.417445553,
          1002.7790036861,
          714.579867088
         ]
        },
        {
         "mode": "lines+markers",
         "name": "Valsad",
         "type": "scatter",
         "visible": "legendonly",
         "x": [
          2009,
          2010,
          2011,
          2012,
          2013,
          2014,
          2015,
          2016,
          2017,
          2018,
          2019,
          2020,
          2021,
          2022,
          2023
         ],
         "y": [
          1689.105763435,
          1998.2760173953,
          1746.3995638078,
          1568.90900601,
          2521.6577131623,
          1815.0667252791,
          1364.2999204442,
          2506.0978471662,
          2750.6931642803,
          2293.528281533,
          3287.570026403,
          452.760805958,
          2618.325726998,
          3323.1996192313,
          1834.3767909236
         ]
        }
       ],
       "layout": {
        "legend": {
         "tracegroupgap": 0,
         "traceorder": "normal",
         "x": 1.05,
         "y": 1
        },
        "margin": {
         "b": 0,
         "l": 0,
         "r": 0,
         "t": 50
        },
        "plot_bgcolor": "white",
        "template": {
         "data": {
          "bar": [
           {
            "error_x": {
             "color": "#2a3f5f"
            },
            "error_y": {
             "color": "#2a3f5f"
            },
            "marker": {
             "line": {
              "color": "#E5ECF6",
              "width": 0.5
             },
             "pattern": {
              "fillmode": "overlay",
              "size": 10,
              "solidity": 0.2
             }
            },
            "type": "bar"
           }
          ],
          "barpolar": [
           {
            "marker": {
             "line": {
              "color": "#E5ECF6",
              "width": 0.5
             },
             "pattern": {
              "fillmode": "overlay",
              "size": 10,
              "solidity": 0.2
             }
            },
            "type": "barpolar"
           }
          ],
          "carpet": [
           {
            "aaxis": {
             "endlinecolor": "#2a3f5f",
             "gridcolor": "white",
             "linecolor": "white",
             "minorgridcolor": "white",
             "startlinecolor": "#2a3f5f"
            },
            "baxis": {
             "endlinecolor": "#2a3f5f",
             "gridcolor": "white",
             "linecolor": "white",
             "minorgridcolor": "white",
             "startlinecolor": "#2a3f5f"
            },
            "type": "carpet"
           }
          ],
          "choropleth": [
           {
            "colorbar": {
             "outlinewidth": 0,
             "ticks": ""
            },
            "type": "choropleth"
           }
          ],
          "contour": [
           {
            "colorbar": {
             "outlinewidth": 0,
             "ticks": ""
            },
            "colorscale": [
             [
              0,
              "#0d0887"
             ],
             [
              0.1111111111111111,
              "#46039f"
             ],
             [
              0.2222222222222222,
              "#7201a8"
             ],
             [
              0.3333333333333333,
              "#9c179e"
             ],
             [
              0.4444444444444444,
              "#bd3786"
             ],
             [
              0.5555555555555556,
              "#d8576b"
             ],
             [
              0.6666666666666666,
              "#ed7953"
             ],
             [
              0.7777777777777778,
              "#fb9f3a"
             ],
             [
              0.8888888888888888,
              "#fdca26"
             ],
             [
              1,
              "#f0f921"
             ]
            ],
            "type": "contour"
           }
          ],
          "contourcarpet": [
           {
            "colorbar": {
             "outlinewidth": 0,
             "ticks": ""
            },
            "type": "contourcarpet"
           }
          ],
          "heatmap": [
           {
            "colorbar": {
             "outlinewidth": 0,
             "ticks": ""
            },
            "colorscale": [
             [
              0,
              "#0d0887"
             ],
             [
              0.1111111111111111,
              "#46039f"
             ],
             [
              0.2222222222222222,
              "#7201a8"
             ],
             [
              0.3333333333333333,
              "#9c179e"
             ],
             [
              0.4444444444444444,
              "#bd3786"
             ],
             [
              0.5555555555555556,
              "#d8576b"
             ],
             [
              0.6666666666666666,
              "#ed7953"
             ],
             [
              0.7777777777777778,
              "#fb9f3a"
             ],
             [
              0.8888888888888888,
              "#fdca26"
             ],
             [
              1,
              "#f0f921"
             ]
            ],
            "type": "heatmap"
           }
          ],
          "heatmapgl": [
           {
            "colorbar": {
             "outlinewidth": 0,
             "ticks": ""
            },
            "colorscale": [
             [
              0,
              "#0d0887"
             ],
             [
              0.1111111111111111,
              "#46039f"
             ],
             [
              0.2222222222222222,
              "#7201a8"
             ],
             [
              0.3333333333333333,
              "#9c179e"
             ],
             [
              0.4444444444444444,
              "#bd3786"
             ],
             [
              0.5555555555555556,
              "#d8576b"
             ],
             [
              0.6666666666666666,
              "#ed7953"
             ],
             [
              0.7777777777777778,
              "#fb9f3a"
             ],
             [
              0.8888888888888888,
              "#fdca26"
             ],
             [
              1,
              "#f0f921"
             ]
            ],
            "type": "heatmapgl"
           }
          ],
          "histogram": [
           {
            "marker": {
             "pattern": {
              "fillmode": "overlay",
              "size": 10,
              "solidity": 0.2
             }
            },
            "type": "histogram"
           }
          ],
          "histogram2d": [
           {
            "colorbar": {
             "outlinewidth": 0,
             "ticks": ""
            },
            "colorscale": [
             [
              0,
              "#0d0887"
             ],
             [
              0.1111111111111111,
              "#46039f"
             ],
             [
              0.2222222222222222,
              "#7201a8"
             ],
             [
              0.3333333333333333,
              "#9c179e"
             ],
             [
              0.4444444444444444,
              "#bd3786"
             ],
             [
              0.5555555555555556,
              "#d8576b"
             ],
             [
              0.6666666666666666,
              "#ed7953"
             ],
             [
              0.7777777777777778,
              "#fb9f3a"
             ],
             [
              0.8888888888888888,
              "#fdca26"
             ],
             [
              1,
              "#f0f921"
             ]
            ],
            "type": "histogram2d"
           }
          ],
          "histogram2dcontour": [
           {
            "colorbar": {
             "outlinewidth": 0,
             "ticks": ""
            },
            "colorscale": [
             [
              0,
              "#0d0887"
             ],
             [
              0.1111111111111111,
              "#46039f"
             ],
             [
              0.2222222222222222,
              "#7201a8"
             ],
             [
              0.3333333333333333,
              "#9c179e"
             ],
             [
              0.4444444444444444,
              "#bd3786"
             ],
             [
              0.5555555555555556,
              "#d8576b"
             ],
             [
              0.6666666666666666,
              "#ed7953"
             ],
             [
              0.7777777777777778,
              "#fb9f3a"
             ],
             [
              0.8888888888888888,
              "#fdca26"
             ],
             [
              1,
              "#f0f921"
             ]
            ],
            "type": "histogram2dcontour"
           }
          ],
          "mesh3d": [
           {
            "colorbar": {
             "outlinewidth": 0,
             "ticks": ""
            },
            "type": "mesh3d"
           }
          ],
          "parcoords": [
           {
            "line": {
             "colorbar": {
              "outlinewidth": 0,
              "ticks": ""
             }
            },
            "type": "parcoords"
           }
          ],
          "pie": [
           {
            "automargin": true,
            "type": "pie"
           }
          ],
          "scatter": [
           {
            "fillpattern": {
             "fillmode": "overlay",
             "size": 10,
             "solidity": 0.2
            },
            "type": "scatter"
           }
          ],
          "scatter3d": [
           {
            "line": {
             "colorbar": {
              "outlinewidth": 0,
              "ticks": ""
             }
            },
            "marker": {
             "colorbar": {
              "outlinewidth": 0,
              "ticks": ""
             }
            },
            "type": "scatter3d"
           }
          ],
          "scattercarpet": [
           {
            "marker": {
             "colorbar": {
              "outlinewidth": 0,
              "ticks": ""
             }
            },
            "type": "scattercarpet"
           }
          ],
          "scattergeo": [
           {
            "marker": {
             "colorbar": {
              "outlinewidth": 0,
              "ticks": ""
             }
            },
            "type": "scattergeo"
           }
          ],
          "scattergl": [
           {
            "marker": {
             "colorbar": {
              "outlinewidth": 0,
              "ticks": ""
             }
            },
            "type": "scattergl"
           }
          ],
          "scattermapbox": [
           {
            "marker": {
             "colorbar": {
              "outlinewidth": 0,
              "ticks": ""
             }
            },
            "type": "scattermapbox"
           }
          ],
          "scatterpolar": [
           {
            "marker": {
             "colorbar": {
              "outlinewidth": 0,
              "ticks": ""
             }
            },
            "type": "scatterpolar"
           }
          ],
          "scatterpolargl": [
           {
            "marker": {
             "colorbar": {
              "outlinewidth": 0,
              "ticks": ""
             }
            },
            "type": "scatterpolargl"
           }
          ],
          "scatterternary": [
           {
            "marker": {
             "colorbar": {
              "outlinewidth": 0,
              "ticks": ""
             }
            },
            "type": "scatterternary"
           }
          ],
          "surface": [
           {
            "colorbar": {
             "outlinewidth": 0,
             "ticks": ""
            },
            "colorscale": [
             [
              0,
              "#0d0887"
             ],
             [
              0.1111111111111111,
              "#46039f"
             ],
             [
              0.2222222222222222,
              "#7201a8"
             ],
             [
              0.3333333333333333,
              "#9c179e"
             ],
             [
              0.4444444444444444,
              "#bd3786"
             ],
             [
              0.5555555555555556,
              "#d8576b"
             ],
             [
              0.6666666666666666,
              "#ed7953"
             ],
             [
              0.7777777777777778,
              "#fb9f3a"
             ],
             [
              0.8888888888888888,
              "#fdca26"
             ],
             [
              1,
              "#f0f921"
             ]
            ],
            "type": "surface"
           }
          ],
          "table": [
           {
            "cells": {
             "fill": {
              "color": "#EBF0F8"
             },
             "line": {
              "color": "white"
             }
            },
            "header": {
             "fill": {
              "color": "#C8D4E3"
             },
             "line": {
              "color": "white"
             }
            },
            "type": "table"
           }
          ]
         },
         "layout": {
          "annotationdefaults": {
           "arrowcolor": "#2a3f5f",
           "arrowhead": 0,
           "arrowwidth": 1
          },
          "autotypenumbers": "strict",
          "coloraxis": {
           "colorbar": {
            "outlinewidth": 0,
            "ticks": ""
           }
          },
          "colorscale": {
           "diverging": [
            [
             0,
             "#8e0152"
            ],
            [
             0.1,
             "#c51b7d"
            ],
            [
             0.2,
             "#de77ae"
            ],
            [
             0.3,
             "#f1b6da"
            ],
            [
             0.4,
             "#fde0ef"
            ],
            [
             0.5,
             "#f7f7f7"
            ],
            [
             0.6,
             "#e6f5d0"
            ],
            [
             0.7,
             "#b8e186"
            ],
            [
             0.8,
             "#7fbc41"
            ],
            [
             0.9,
             "#4d9221"
            ],
            [
             1,
             "#276419"
            ]
           ],
           "sequential": [
            [
             0,
             "#0d0887"
            ],
            [
             0.1111111111111111,
             "#46039f"
            ],
            [
             0.2222222222222222,
             "#7201a8"
            ],
            [
             0.3333333333333333,
             "#9c179e"
            ],
            [
             0.4444444444444444,
             "#bd3786"
            ],
            [
             0.5555555555555556,
             "#d8576b"
            ],
            [
             0.6666666666666666,
             "#ed7953"
            ],
            [
             0.7777777777777778,
             "#fb9f3a"
            ],
            [
             0.8888888888888888,
             "#fdca26"
            ],
            [
             1,
             "#f0f921"
            ]
           ],
           "sequentialminus": [
            [
             0,
             "#0d0887"
            ],
            [
             0.1111111111111111,
             "#46039f"
            ],
            [
             0.2222222222222222,
             "#7201a8"
            ],
            [
             0.3333333333333333,
             "#9c179e"
            ],
            [
             0.4444444444444444,
             "#bd3786"
            ],
            [
             0.5555555555555556,
             "#d8576b"
            ],
            [
             0.6666666666666666,
             "#ed7953"
            ],
            [
             0.7777777777777778,
             "#fb9f3a"
            ],
            [
             0.8888888888888888,
             "#fdca26"
            ],
            [
             1,
             "#f0f921"
            ]
           ]
          },
          "colorway": [
           "#636efa",
           "#EF553B",
           "#00cc96",
           "#ab63fa",
           "#FFA15A",
           "#19d3f3",
           "#FF6692",
           "#B6E880",
           "#FF97FF",
           "#FECB52"
          ],
          "font": {
           "color": "#2a3f5f"
          },
          "geo": {
           "bgcolor": "white",
           "lakecolor": "white",
           "landcolor": "#E5ECF6",
           "showlakes": true,
           "showland": true,
           "subunitcolor": "white"
          },
          "hoverlabel": {
           "align": "left"
          },
          "hovermode": "closest",
          "mapbox": {
           "style": "light"
          },
          "paper_bgcolor": "white",
          "plot_bgcolor": "#E5ECF6",
          "polar": {
           "angularaxis": {
            "gridcolor": "white",
            "linecolor": "white",
            "ticks": ""
           },
           "bgcolor": "#E5ECF6",
           "radialaxis": {
            "gridcolor": "white",
            "linecolor": "white",
            "ticks": ""
           }
          },
          "scene": {
           "xaxis": {
            "backgroundcolor": "#E5ECF6",
            "gridcolor": "white",
            "gridwidth": 2,
            "linecolor": "white",
            "showbackground": true,
            "ticks": "",
            "zerolinecolor": "white"
           },
           "yaxis": {
            "backgroundcolor": "#E5ECF6",
            "gridcolor": "white",
            "gridwidth": 2,
            "linecolor": "white",
            "showbackground": true,
            "ticks": "",
            "zerolinecolor": "white"
           },
           "zaxis": {
            "backgroundcolor": "#E5ECF6",
            "gridcolor": "white",
            "gridwidth": 2,
            "linecolor": "white",
            "showbackground": true,
            "ticks": "",
            "zerolinecolor": "white"
           }
          },
          "shapedefaults": {
           "line": {
            "color": "#2a3f5f"
           }
          },
          "ternary": {
           "aaxis": {
            "gridcolor": "white",
            "linecolor": "white",
            "ticks": ""
           },
           "baxis": {
            "gridcolor": "white",
            "linecolor": "white",
            "ticks": ""
           },
           "bgcolor": "#E5ECF6",
           "caxis": {
            "gridcolor": "white",
            "linecolor": "white",
            "ticks": ""
           }
          },
          "title": {
           "x": 0.05
          },
          "xaxis": {
           "automargin": true,
           "gridcolor": "white",
           "linecolor": "white",
           "ticks": "",
           "title": {
            "standoff": 15
           },
           "zerolinecolor": "white",
           "zerolinewidth": 2
          },
          "yaxis": {
           "automargin": true,
           "gridcolor": "white",
           "linecolor": "white",
           "ticks": "",
           "title": {
            "standoff": 15
           },
           "zerolinecolor": "white",
           "zerolinewidth": 2
          }
         }
        },
        "title": {
         "text": "Gujarat"
        },
        "updatemenus": [
         {
          "buttons": [
           {
            "args": [
             {
              "visible": [
               true,
               true,
               true,
               true,
               true,
               true,
               true,
               true,
               true,
               true,
               true,
               true,
               true,
               true,
               true,
               true,
               true,
               true,
               true,
               true,
               true,
               true,
               true,
               true,
               true,
               true,
               true,
               true,
               true,
               true,
               true,
               true,
               true
              ]
             },
             {
              "title": "All Districts"
             }
            ],
            "label": "All",
            "method": "update"
           },
           {
            "args": [
             {
              "visible": [
               false,
               false,
               false,
               false,
               false,
               false,
               false,
               false,
               false,
               false,
               false,
               false,
               false,
               false,
               false,
               false,
               false,
               false,
               false,
               false,
               false,
               false,
               false,
               false,
               false,
               false,
               false,
               false,
               false,
               false,
               false,
               false,
               false
              ]
             },
             {
              "title": "No District"
             }
            ],
            "label": "None",
            "method": "update"
           }
          ],
          "direction": "left",
          "pad": {
           "r": 10,
           "t": 10
          },
          "showactive": true,
          "type": "buttons",
          "x": 0.05,
          "xanchor": "left",
          "y": 1.15,
          "yanchor": "top"
         }
        ],
        "xaxis": {
         "gridcolor": "lightgray",
         "gridwidth": 1,
         "showgrid": true,
         "tickmode": "array",
         "ticktext": [
          2009,
          2010,
          2011,
          2012,
          2013,
          2014,
          2015,
          2016,
          2017,
          2018,
          2019,
          2020,
          2021,
          2022,
          2023
         ],
         "tickvals": [
          2009,
          2010,
          2011,
          2012,
          2013,
          2014,
          2015,
          2016,
          2017,
          2018,
          2019,
          2020,
          2021,
          2022,
          2023
         ],
         "title": {
          "text": "Year"
         }
        },
        "yaxis": {
         "gridcolor": "lightgray",
         "gridwidth": 1,
         "showgrid": true,
         "title": {
          "text": "Average Rainfall in mm"
         }
        }
       }
      }
     },
     "metadata": {},
     "output_type": "display_data"
    },
    {
     "name": "stdout",
     "output_type": "stream",
     "text": [
      "Maharashtra\n",
      "['Ahmednagar', 'Akola', 'Amravati', 'Aurangabad', 'Beed', 'Bhandara', 'Buldhana', 'Chandrapur', 'Dhule', 'Gadchiroli', 'Gondia', 'Hingoli', 'Jalgaon', 'Jalna', 'Kolhapur', 'Latur', 'Mumbai Suburban', 'Nagpur', 'Nanded', 'Nandurbar', 'Nashik', 'Osmanabad', 'Palghar', 'Parbhani', 'Pune', 'Raigad', 'Ratnagiri', 'Sangli', 'Satara', 'Sindhudurg', 'Solapur', 'Thane', 'Wardha', 'Washim', 'Yavatmal']\n"
     ]
    },
    {
     "data": {
      "application/vnd.plotly.v1+json": {
       "config": {
        "plotlyServerURL": "https://plot.ly"
       },
       "data": [
        {
         "mode": "lines+markers",
         "name": "Ahmednagar",
         "type": "scatter",
         "visible": "legendonly",
         "x": [
          2009,
          2010,
          2011,
          2012,
          2013,
          2014,
          2015,
          2016,
          2017,
          2018,
          2019,
          2020,
          2021,
          2022,
          2023
         ],
         "y": [
          748.495832287,
          905.382960914,
          502.7259522174,
          386.1270940134,
          613.6322260606,
          541.3296806996,
          487.9847476085,
          687.9713756814,
          801.043556344,
          385.217071324,
          811.5018885,
          575.7025511209999,
          919.201708123,
          638.4273252821,
          220.109713367
         ]
        },
        {
         "mode": "lines+markers",
         "name": "Akola",
         "type": "scatter",
         "visible": "legendonly",
         "x": [
          2009,
          2010,
          2011,
          2012,
          2013,
          2014,
          2015,
          2016,
          2017,
          2018,
          2019,
          2020,
          2021,
          2022,
          2023
         ],
         "y": [
          801.838066584,
          1452.6990701966,
          709.2903239313,
          881.8580582167,
          1309.500522807,
          795.2399016336,
          895.7768144285,
          941.8424120254,
          600.4507687720001,
          735.41558005,
          815.17007246,
          574.7205875660001,
          891.0750113,
          878.376482812,
          725.7464195959
         ]
        },
        {
         "mode": "lines+markers",
         "name": "Amravati",
         "type": "scatter",
         "visible": "legendonly",
         "x": [
          2009,
          2010,
          2011,
          2012,
          2013,
          2014,
          2015,
          2016,
          2017,
          2018,
          2019,
          2020,
          2021,
          2022,
          2023
         ],
         "y": [
          932.026093241,
          1750.5671131431,
          901.357598103,
          1095.2982585536,
          1141.0849558133,
          838.128970551,
          951.6123783429,
          1019.9782257486,
          674.4883046779,
          662.431648898,
          1040.525257568,
          630.131587384,
          983.959083167,
          1149.6985564382,
          861.7257414324
         ]
        },
        {
         "mode": "lines+markers",
         "name": "Aurangabad",
         "type": "scatter",
         "visible": "legendonly",
         "x": [
          2009,
          2010,
          2011,
          2012,
          2013,
          2014,
          2015,
          2016,
          2017,
          2018,
          2019,
          2020,
          2021,
          2022,
          2023
         ],
         "y": [
          1557.20374745,
          2216.0653541012,
          1395.160490074,
          1078.1721520748,
          1516.1595006038,
          1332.3584656246,
          1334.4115063938,
          1759.777909899,
          1437.7355960752,
          1027.762614546,
          1706.417390664,
          1621.14401349,
          2359.702628644,
          1608.3411852382,
          1110.042556998
         ]
        },
        {
         "mode": "lines+markers",
         "name": "Beed",
         "type": "scatter",
         "visible": "legendonly",
         "x": [
          2009,
          2010,
          2011,
          2012,
          2013,
          2014,
          2015,
          2016,
          2017,
          2018,
          2019,
          2020,
          2021,
          2022,
          2023
         ],
         "y": [
          753.19636543,
          1123.4439590707,
          512.3944268748,
          522.2215152416001,
          791.4590944948,
          538.9515067333,
          431.4032323774,
          949.7685845899,
          794.4500850198,
          455.698770545,
          828.50768127,
          583.155769559,
          1193.112726691,
          663.9494960947,
          434.8396883646
         ]
        },
        {
         "mode": "lines+markers",
         "name": "Bhandara",
         "type": "scatter",
         "visible": "legendonly",
         "x": [
          2009,
          2010,
          2011,
          2012,
          2013,
          2014,
          2015,
          2016,
          2017,
          2018,
          2019,
          2020,
          2021,
          2022,
          2023
         ],
         "y": [
          1014.698375121,
          1923.4558322387,
          1130.0450488779,
          1336.4493662311,
          1904.0174706511,
          1082.1657912558999,
          1267.0407562631,
          1215.0371036925,
          847.6513275595,
          1079.564150212,
          1301.831873603,
          819.927033113,
          1227.543113106,
          1752.6840884521,
          1136.0644453212
         ]
        },
        {
         "mode": "lines+markers",
         "name": "Buldhana",
         "type": "scatter",
         "visible": "legendonly",
         "x": [
          2009,
          2010,
          2011,
          2012,
          2013,
          2014,
          2015,
          2016,
          2017,
          2018,
          2019,
          2020,
          2021,
          2022,
          2023
         ],
         "y": [
          790.599493102,
          1430.7779085108,
          614.0350905141,
          657.413923393,
          1119.4159507382,
          773.3871717816,
          728.8179127812,
          798.0235058277,
          686.517706364,
          531.471511684,
          831.0340817,
          608.281055921,
          890.300393057,
          805.4582075623,
          748.0444914292
         ]
        },
        {
         "mode": "lines+markers",
         "name": "Chandrapur",
         "type": "scatter",
         "visible": "legendonly",
         "x": [
          2009,
          2010,
          2011,
          2012,
          2013,
          2014,
          2015,
          2016,
          2017,
          2018,
          2019,
          2020,
          2021,
          2022,
          2023
         ],
         "y": [
          883.130496853,
          2622.8549323807,
          1108.8202580424,
          1381.3429470652,
          2010.9607376172,
          1029.7657481035,
          1181.0762511024,
          1602.5488316973,
          928.2911866654,
          1138.870295432,
          1553.426498437,
          719.173837149,
          1209.740920036,
          1656.8786150641,
          1182.1655639711
         ]
        },
        {
         "mode": "lines+markers",
         "name": "Dhule",
         "type": "scatter",
         "visible": "legendonly",
         "x": [
          2009,
          2010,
          2011,
          2012,
          2013,
          2014,
          2015,
          2016,
          2017,
          2018,
          2019,
          2020,
          2021,
          2022,
          2023
         ],
         "y": [
          704.755649062,
          612.7847258803,
          574.851983601,
          427.62983256580003,
          917.5244451208,
          657.0740371328,
          549.9239823413,
          568.1628303639,
          634.4032709136,
          472.636129968,
          1069.254666719,
          495.110644831,
          945.358439145,
          868.1486505722,
          611.2760178208
         ]
        },
        {
         "mode": "lines+markers",
         "name": "Gadchiroli",
         "type": "scatter",
         "visible": "legendonly",
         "x": [
          2009,
          2010,
          2011,
          2012,
          2013,
          2014,
          2015,
          2016,
          2017,
          2018,
          2019,
          2020,
          2021,
          2022,
          2023
         ],
         "y": [
          876.802805121,
          2873.8255582615,
          1177.4826147911,
          1651.8954282336001,
          2110.536474747,
          1324.7617817779,
          1184.7618610607,
          1735.6174012365,
          1093.4145320301,
          1432.229410558,
          1892.967855248,
          698.055784347,
          1217.036034509,
          1896.8168448669,
          1241.2786929405
         ]
        },
        {
         "mode": "lines+markers",
         "name": "Gondia",
         "type": "scatter",
         "visible": "legendonly",
         "x": [
          2009,
          2010,
          2011,
          2012,
          2013,
          2014,
          2015,
          2016,
          2017,
          2018,
          2019,
          2020,
          2021,
          2022,
          2023
         ],
         "y": [
          1006.316241326,
          1888.7422409806,
          1252.0525679045,
          1218.5893687593,
          1805.9743679601,
          1167.7238394828,
          1110.3708209921,
          1383.7406332255,
          876.5021746134,
          1083.622462478,
          1218.114576004,
          745.593242397,
          1216.095696351,
          1699.0965606803,
          1208.8273977739
         ]
        },
        {
         "mode": "lines+markers",
         "name": "Hingoli",
         "type": "scatter",
         "visible": "legendonly",
         "x": [
          2009,
          2010,
          2011,
          2012,
          2013,
          2014,
          2015,
          2016,
          2017,
          2018,
          2019,
          2020,
          2021,
          2022,
          2023
         ],
         "y": [
          766.474926953,
          1603.7356899723,
          716.2270695462,
          713.7001567365,
          1342.6068642268,
          568.7924236669,
          690.6463122868,
          1029.1953109385,
          655.6703048494,
          763.670436312,
          827.631521064,
          577.076200001,
          956.762899646,
          943.7130377697,
          623.9576069484
         ]
        },
        {
         "mode": "lines+markers",
         "name": "Jalgaon",
         "type": "scatter",
         "visible": "legendonly",
         "x": [
          2009,
          2010,
          2011,
          2012,
          2013,
          2014,
          2015,
          2016,
          2017,
          2018,
          2019,
          2020,
          2021,
          2022,
          2023
         ],
         "y": [
          796.762126843,
          875.508706675,
          608.7186405571,
          415.7204455078,
          912.1546684034,
          741.6891417918,
          551.6758207952,
          715.8866242675,
          613.5392299237,
          535.499626939,
          1025.682184166,
          516.456645618,
          965.246017043,
          845.413462444,
          705.8794332516
         ]
        },
        {
         "mode": "lines+markers",
         "name": "Jalna",
         "type": "scatter",
         "visible": "legendonly",
         "x": [
          2009,
          2010,
          2011,
          2012,
          2013,
          2014,
          2015,
          2016,
          2017,
          2018,
          2019,
          2020,
          2021,
          2022,
          2023
         ],
         "y": [
          727.195176787,
          1185.5268165683,
          606.9842083046,
          475.8024812549,
          930.3807924275,
          629.1903060971999,
          566.7116379895,
          914.7397773721,
          683.2854464444,
          493.998005113,
          845.935087466,
          608.2795424340001,
          1175.357221461,
          701.7312544134,
          490.35232995030003
         ]
        },
        {
         "mode": "lines+markers",
         "name": "Kolhapur",
         "type": "scatter",
         "visible": "legendonly",
         "x": [
          2009,
          2010,
          2011,
          2012,
          2013,
          2014,
          2015,
          2016,
          2017,
          2018,
          2019,
          2020,
          2021,
          2022,
          2023
         ],
         "y": [
          1581.624674466,
          1515.3902526373,
          1552.7131910515,
          1230.5345109018,
          1339.2686483743,
          1316.8199952318,
          795.7538655526,
          1294.6376059391,
          1334.5559942593,
          1441.676972689,
          2398.927261646,
          645.393147853,
          1899.2599231479999,
          1643.6649940104,
          729.9490456168
         ]
        },
        {
         "mode": "lines+markers",
         "name": "Latur",
         "type": "scatter",
         "visible": "legendonly",
         "x": [
          2009,
          2010,
          2011,
          2012,
          2013,
          2014,
          2015,
          2016,
          2017,
          2018,
          2019,
          2020,
          2021,
          2022,
          2023
         ],
         "y": [
          591.589535693,
          1345.0548480538,
          623.9997945288,
          697.1387278278,
          937.8008953162,
          626.7916192475,
          529.1840774908,
          1131.700488514,
          832.6818097875,
          679.069270374,
          872.176559347,
          581.261157756,
          1136.723926905,
          1043.1266404295,
          652.9188338097
         ]
        },
        {
         "mode": "lines+markers",
         "name": "Mumbai Suburban",
         "type": "scatter",
         "visible": "legendonly",
         "x": [
          2009,
          2010,
          2011,
          2012,
          2013,
          2014,
          2015,
          2016,
          2017,
          2018,
          2019,
          2020,
          2021,
          2022,
          2023
         ],
         "y": [
          4265.67608267,
          6455.57751904,
          6353.3182609592,
          4243.4484928443,
          5716.7111902248,
          4755.2434769202,
          3711.6509701079,
          5725.9459235239,
          6244.4590460465,
          4693.221714778,
          7690.660209256,
          1216.372785029,
          6796.387582942,
          4165.361371385,
          2352.2343582713
         ]
        },
        {
         "mode": "lines+markers",
         "name": "Nagpur",
         "type": "scatter",
         "visible": "legendonly",
         "x": [
          2009,
          2010,
          2011,
          2012,
          2013,
          2014,
          2015,
          2016,
          2017,
          2018,
          2019,
          2020,
          2021,
          2022,
          2023
         ],
         "y": [
          1031.789744991,
          1763.0060964177,
          917.2644321051,
          1086.7666422964,
          1550.4496199586,
          860.6264424338,
          1193.9301689423,
          976.9653138368,
          937.0779983762,
          1030.034252739,
          1245.063718348,
          752.232448843,
          1176.317453381,
          1623.7748808735,
          1062.7708020558
         ]
        },
        {
         "mode": "lines+markers",
         "name": "Nanded",
         "type": "scatter",
         "visible": "legendonly",
         "x": [
          2009,
          2010,
          2011,
          2012,
          2013,
          2014,
          2015,
          2016,
          2017,
          2018,
          2019,
          2020,
          2021,
          2022,
          2023
         ],
         "y": [
          604.327908976,
          1984.7885048411,
          751.9195146764,
          786.7736700303,
          1297.5973359465,
          602.9795617643,
          681.2584829263,
          1249.8465062229,
          793.5241882695,
          962.008369926,
          1063.848958145,
          612.563699344,
          1365.127093873,
          1493.8535567949,
          910.4574497652001
         ]
        },
        {
         "mode": "lines+markers",
         "name": "Nandurbar",
         "type": "scatter",
         "visible": "legendonly",
         "x": [
          2009,
          2010,
          2011,
          2012,
          2013,
          2014,
          2015,
          2016,
          2017,
          2018,
          2019,
          2020,
          2021,
          2022,
          2023
         ],
         "y": [
          739.34025877,
          716.0976022495,
          748.5746425517,
          497.7543673824,
          1211.8817709138,
          631.766552859,
          714.0514428698,
          738.7176615257999,
          763.9998083773,
          586.130233858,
          1363.028202322,
          429.574647073,
          895.196435689,
          968.6686646153,
          778.9260216592
         ]
        },
        {
         "mode": "lines+markers",
         "name": "Nashik",
         "type": "scatter",
         "visible": "legendonly",
         "x": [
          2009,
          2010,
          2011,
          2012,
          2013,
          2014,
          2015,
          2016,
          2017,
          2018,
          2019,
          2020,
          2021,
          2022,
          2023
         ],
         "y": [
          855.565164859,
          948.8716756576,
          763.5098675872,
          713.8309656954,
          984.6501005763,
          862.934540066,
          725.9282350218,
          1036.2365822194,
          1156.3783231424,
          788.023541469,
          1463.76882211,
          546.562914148,
          1248.08567773,
          1221.3899895538,
          675.0420898403
         ]
        },
        {
         "mode": "lines+markers",
         "name": "Osmanabad",
         "type": "scatter",
         "visible": "legendonly",
         "x": [
          2009,
          2010,
          2011,
          2012,
          2013,
          2014,
          2015,
          2016,
          2017,
          2018,
          2019,
          2020,
          2021,
          2022,
          2023
         ],
         "y": [
          748.593878281,
          1506.4877536555,
          563.6232298129,
          485.25302922040004,
          789.2494337126,
          660.1744634629,
          469.2040352953,
          965.8390323874,
          967.5400678118,
          642.094186589,
          793.142487226,
          565.853795752,
          1115.736190602,
          768.9010779661,
          441.4012874292
         ]
        },
        {
         "mode": "lines+markers",
         "name": "Palghar",
         "type": "scatter",
         "visible": "legendonly",
         "x": [
          2009,
          2010,
          2011,
          2012,
          2013,
          2014,
          2015,
          2016,
          2017,
          2018,
          2019,
          2020,
          2021,
          2022,
          2023
         ],
         "y": [
          2058.565811178,
          2673.3882114133,
          2437.9146028796,
          1978.3829258558999,
          2954.3779578509,
          2510.9838883037,
          1811.2048226407,
          3001.7970708612,
          3302.0634620431,
          2479.681676451,
          4192.54119501,
          536.649934995,
          3207.466528148,
          3153.6685037830002,
          2183.3454186572
         ]
        },
        {
         "mode": "lines+markers",
         "name": "Parbhani",
         "type": "scatter",
         "visible": "legendonly",
         "x": [
          2009,
          2010,
          2011,
          2012,
          2013,
          2014,
          2015,
          2016,
          2017,
          2018,
          2019,
          2020,
          2021,
          2022,
          2023
         ],
         "y": [
          727.708803865,
          1291.0887214183,
          689.3270313994,
          610.7813280382001,
          1106.7098473489,
          519.8788662787,
          513.4262766104,
          982.1546589515,
          695.9263466349,
          648.7732816280001,
          840.705499133,
          529.005162186,
          1248.409476322,
          873.0192800969,
          613.1566004482
         ]
        },
        {
         "mode": "lines+markers",
         "name": "Pune",
         "type": "scatter",
         "visible": "legendonly",
         "x": [
          2009,
          2010,
          2011,
          2012,
          2013,
          2014,
          2015,
          2016,
          2017,
          2018,
          2019,
          2020,
          2021,
          2022,
          2023
         ],
         "y": [
          1187.6633161720001,
          961.1438601001,
          1269.9317927773,
          1042.8210219949,
          1020.3428455743,
          906.6415464548,
          750.9920532578,
          860.9470188202,
          1038.072677157,
          650.694394642,
          1413.770208804,
          477.375666377,
          922.456577207,
          1038.0039041522,
          616.7866877381
         ]
        },
        {
         "mode": "lines+markers",
         "name": "Raigad",
         "type": "scatter",
         "visible": "legendonly",
         "x": [
          2009,
          2010,
          2011,
          2012,
          2013,
          2014,
          2015,
          2016,
          2017,
          2018,
          2019,
          2020,
          2021,
          2022,
          2023
         ],
         "y": [
          2775.448372618,
          3388.7039333027,
          3965.1856666637,
          3066.6104004625,
          4187.136237768,
          3315.755578204,
          2466.7791703082,
          4093.1987584105,
          4069.7588190573,
          3439.154602497,
          5514.247087898,
          735.789723645,
          3922.306030913,
          3217.3627486316,
          2753.1787738631
         ]
        },
        {
         "mode": "lines+markers",
         "name": "Ratnagiri",
         "type": "scatter",
         "visible": "legendonly",
         "x": [
          2009,
          2010,
          2011,
          2012,
          2013,
          2014,
          2015,
          2016,
          2017,
          2018,
          2019,
          2020,
          2021,
          2022,
          2023
         ],
         "y": [
          2846.399992315,
          3388.8237749719,
          4066.7414066605,
          3289.858900531,
          3643.5162688808,
          2842.7952684158,
          2146.1974197151,
          3813.1448266887,
          3333.8921580728,
          3282.779281237,
          4922.125765563,
          1082.009517038,
          4427.276994522,
          3119.6116941863,
          2272.1289096298
         ]
        },
        {
         "mode": "lines+markers",
         "name": "Sangli",
         "type": "scatter",
         "visible": "legendonly",
         "x": [
          2009,
          2010,
          2011,
          2012,
          2013,
          2014,
          2015,
          2016,
          2017,
          2018,
          2019,
          2020,
          2021,
          2022,
          2023
         ],
         "y": [
          829.056242117,
          818.8742805954,
          501.5110717902,
          398.6705971332,
          578.012465422,
          727.7754477729,
          488.2542062499,
          635.0289010135,
          681.8678442593,
          432.672933779,
          885.424887459,
          466.09763684,
          844.811312786,
          600.7685137976,
          251.8103324494
         ]
        },
        {
         "mode": "lines+markers",
         "name": "Satara",
         "type": "scatter",
         "visible": "legendonly",
         "x": [
          2009,
          2010,
          2011,
          2012,
          2013,
          2014,
          2015,
          2016,
          2017,
          2018,
          2019,
          2020,
          2021,
          2022,
          2023
         ],
         "y": [
          1286.003554162,
          1072.6377211066,
          727.7864479044,
          542.5381743502,
          892.8956746558,
          893.9577175685,
          616.1603214597,
          882.4493252779,
          863.1632507496,
          681.436350014,
          1343.369186099,
          469.620784281,
          1208.970481643,
          853.1126277049,
          430.8910348435
         ]
        },
        {
         "mode": "lines+markers",
         "name": "Sindhudurg",
         "type": "scatter",
         "visible": "legendonly",
         "x": [
          2009,
          2010,
          2011,
          2012,
          2013,
          2014,
          2015,
          2016,
          2017,
          2018,
          2019,
          2020,
          2021,
          2022,
          2023
         ],
         "y": [
          3865.631496733,
          4141.0843656707,
          4383.4526629456,
          3507.6648873857,
          3680.2844903938,
          3038.2800258896,
          2185.3207818213,
          3367.1251369639,
          3301.7230579337,
          3378.479017533,
          5104.68138121,
          1379.422862808,
          4688.546519629,
          3268.7569330606,
          2472.6486199102
         ]
        },
        {
         "mode": "lines+markers",
         "name": "Solapur",
         "type": "scatter",
         "visible": "legendonly",
         "x": [
          2009,
          2010,
          2011,
          2012,
          2013,
          2014,
          2015,
          2016,
          2017,
          2018,
          2019,
          2020,
          2021,
          2022,
          2023
         ],
         "y": [
          785.100855408,
          1789.743206591,
          510.2430460443,
          407.1414650748,
          639.4367503541,
          587.6877370727,
          388.8559024101,
          652.8300883213,
          800.1342866998,
          406.526962913,
          654.168237535,
          495.73762559,
          888.138601911,
          645.9851654901,
          294.3743631099
         ]
        },
        {
         "mode": "lines+markers",
         "name": "Thane",
         "type": "scatter",
         "visible": "legendonly",
         "x": [
          2009,
          2010,
          2011,
          2012,
          2013,
          2014,
          2015,
          2016,
          2017,
          2018,
          2019,
          2020,
          2021,
          2022,
          2023
         ],
         "y": [
          1936.01029864,
          2463.5358465026,
          2763.9195398202,
          2294.0618230085,
          2808.2053877586,
          2484.0899413383,
          1911.0576901846,
          2548.5729969694,
          3198.0514987215,
          2299.253335337,
          3818.533906283,
          576.316141172,
          2688.521688316,
          2934.3562444527,
          2244.803776794
         ]
        },
        {
         "mode": "lines+markers",
         "name": "Wardha",
         "type": "scatter",
         "visible": "legendonly",
         "x": [
          2009,
          2010,
          2011,
          2012,
          2013,
          2014,
          2015,
          2016,
          2017,
          2018,
          2019,
          2020,
          2021,
          2022,
          2023
         ],
         "y": [
          814.332927456,
          1677.8960722216,
          939.8272571305,
          1004.185971144,
          1276.652318803,
          847.1160237978,
          1062.3350321907,
          1049.108777998,
          840.5661197524,
          812.46184467,
          1025.810260156,
          670.922957888,
          1058.83834826,
          1566.841336439,
          923.7066721142
         ]
        },
        {
         "mode": "lines+markers",
         "name": "Washim",
         "type": "scatter",
         "visible": "legendonly",
         "x": [
          2009,
          2010,
          2011,
          2012,
          2013,
          2014,
          2015,
          2016,
          2017,
          2018,
          2019,
          2020,
          2021,
          2022,
          2023
         ],
         "y": [
          757.582216612,
          1693.1805510013,
          729.1017328616,
          798.8622826935,
          1355.6089443613,
          732.7620081067,
          822.7153541956001,
          993.6249763708,
          640.9026734901,
          811.994597116,
          737.356687479,
          681.243626937,
          1134.5167815730001,
          1102.1871176084,
          864.0481627706
         ]
        },
        {
         "mode": "lines+markers",
         "name": "Yavatmal",
         "type": "scatter",
         "visible": "legendonly",
         "x": [
          2009,
          2010,
          2011,
          2012,
          2013,
          2014,
          2015,
          2016,
          2017,
          2018,
          2019,
          2020,
          2021,
          2022,
          2023
         ],
         "y": [
          631.483633936,
          2741.0236961756,
          842.4047553395,
          1005.9207081935,
          1507.0325764392,
          821.0012998811001,
          944.1567653245,
          1115.9003329973,
          681.8952046954,
          918.325383891,
          780.51745768,
          622.487832279,
          1142.269141845,
          1454.8918729275,
          993.7885618261
         ]
        }
       ],
       "layout": {
        "legend": {
         "tracegroupgap": 0,
         "traceorder": "normal",
         "x": 1.05,
         "y": 1
        },
        "margin": {
         "b": 0,
         "l": 0,
         "r": 0,
         "t": 50
        },
        "plot_bgcolor": "white",
        "template": {
         "data": {
          "bar": [
           {
            "error_x": {
             "color": "#2a3f5f"
            },
            "error_y": {
             "color": "#2a3f5f"
            },
            "marker": {
             "line": {
              "color": "#E5ECF6",
              "width": 0.5
             },
             "pattern": {
              "fillmode": "overlay",
              "size": 10,
              "solidity": 0.2
             }
            },
            "type": "bar"
           }
          ],
          "barpolar": [
           {
            "marker": {
             "line": {
              "color": "#E5ECF6",
              "width": 0.5
             },
             "pattern": {
              "fillmode": "overlay",
              "size": 10,
              "solidity": 0.2
             }
            },
            "type": "barpolar"
           }
          ],
          "carpet": [
           {
            "aaxis": {
             "endlinecolor": "#2a3f5f",
             "gridcolor": "white",
             "linecolor": "white",
             "minorgridcolor": "white",
             "startlinecolor": "#2a3f5f"
            },
            "baxis": {
             "endlinecolor": "#2a3f5f",
             "gridcolor": "white",
             "linecolor": "white",
             "minorgridcolor": "white",
             "startlinecolor": "#2a3f5f"
            },
            "type": "carpet"
           }
          ],
          "choropleth": [
           {
            "colorbar": {
             "outlinewidth": 0,
             "ticks": ""
            },
            "type": "choropleth"
           }
          ],
          "contour": [
           {
            "colorbar": {
             "outlinewidth": 0,
             "ticks": ""
            },
            "colorscale": [
             [
              0,
              "#0d0887"
             ],
             [
              0.1111111111111111,
              "#46039f"
             ],
             [
              0.2222222222222222,
              "#7201a8"
             ],
             [
              0.3333333333333333,
              "#9c179e"
             ],
             [
              0.4444444444444444,
              "#bd3786"
             ],
             [
              0.5555555555555556,
              "#d8576b"
             ],
             [
              0.6666666666666666,
              "#ed7953"
             ],
             [
              0.7777777777777778,
              "#fb9f3a"
             ],
             [
              0.8888888888888888,
              "#fdca26"
             ],
             [
              1,
              "#f0f921"
             ]
            ],
            "type": "contour"
           }
          ],
          "contourcarpet": [
           {
            "colorbar": {
             "outlinewidth": 0,
             "ticks": ""
            },
            "type": "contourcarpet"
           }
          ],
          "heatmap": [
           {
            "colorbar": {
             "outlinewidth": 0,
             "ticks": ""
            },
            "colorscale": [
             [
              0,
              "#0d0887"
             ],
             [
              0.1111111111111111,
              "#46039f"
             ],
             [
              0.2222222222222222,
              "#7201a8"
             ],
             [
              0.3333333333333333,
              "#9c179e"
             ],
             [
              0.4444444444444444,
              "#bd3786"
             ],
             [
              0.5555555555555556,
              "#d8576b"
             ],
             [
              0.6666666666666666,
              "#ed7953"
             ],
             [
              0.7777777777777778,
              "#fb9f3a"
             ],
             [
              0.8888888888888888,
              "#fdca26"
             ],
             [
              1,
              "#f0f921"
             ]
            ],
            "type": "heatmap"
           }
          ],
          "heatmapgl": [
           {
            "colorbar": {
             "outlinewidth": 0,
             "ticks": ""
            },
            "colorscale": [
             [
              0,
              "#0d0887"
             ],
             [
              0.1111111111111111,
              "#46039f"
             ],
             [
              0.2222222222222222,
              "#7201a8"
             ],
             [
              0.3333333333333333,
              "#9c179e"
             ],
             [
              0.4444444444444444,
              "#bd3786"
             ],
             [
              0.5555555555555556,
              "#d8576b"
             ],
             [
              0.6666666666666666,
              "#ed7953"
             ],
             [
              0.7777777777777778,
              "#fb9f3a"
             ],
             [
              0.8888888888888888,
              "#fdca26"
             ],
             [
              1,
              "#f0f921"
             ]
            ],
            "type": "heatmapgl"
           }
          ],
          "histogram": [
           {
            "marker": {
             "pattern": {
              "fillmode": "overlay",
              "size": 10,
              "solidity": 0.2
             }
            },
            "type": "histogram"
           }
          ],
          "histogram2d": [
           {
            "colorbar": {
             "outlinewidth": 0,
             "ticks": ""
            },
            "colorscale": [
             [
              0,
              "#0d0887"
             ],
             [
              0.1111111111111111,
              "#46039f"
             ],
             [
              0.2222222222222222,
              "#7201a8"
             ],
             [
              0.3333333333333333,
              "#9c179e"
             ],
             [
              0.4444444444444444,
              "#bd3786"
             ],
             [
              0.5555555555555556,
              "#d8576b"
             ],
             [
              0.6666666666666666,
              "#ed7953"
             ],
             [
              0.7777777777777778,
              "#fb9f3a"
             ],
             [
              0.8888888888888888,
              "#fdca26"
             ],
             [
              1,
              "#f0f921"
             ]
            ],
            "type": "histogram2d"
           }
          ],
          "histogram2dcontour": [
           {
            "colorbar": {
             "outlinewidth": 0,
             "ticks": ""
            },
            "colorscale": [
             [
              0,
              "#0d0887"
             ],
             [
              0.1111111111111111,
              "#46039f"
             ],
             [
              0.2222222222222222,
              "#7201a8"
             ],
             [
              0.3333333333333333,
              "#9c179e"
             ],
             [
              0.4444444444444444,
              "#bd3786"
             ],
             [
              0.5555555555555556,
              "#d8576b"
             ],
             [
              0.6666666666666666,
              "#ed7953"
             ],
             [
              0.7777777777777778,
              "#fb9f3a"
             ],
             [
              0.8888888888888888,
              "#fdca26"
             ],
             [
              1,
              "#f0f921"
             ]
            ],
            "type": "histogram2dcontour"
           }
          ],
          "mesh3d": [
           {
            "colorbar": {
             "outlinewidth": 0,
             "ticks": ""
            },
            "type": "mesh3d"
           }
          ],
          "parcoords": [
           {
            "line": {
             "colorbar": {
              "outlinewidth": 0,
              "ticks": ""
             }
            },
            "type": "parcoords"
           }
          ],
          "pie": [
           {
            "automargin": true,
            "type": "pie"
           }
          ],
          "scatter": [
           {
            "fillpattern": {
             "fillmode": "overlay",
             "size": 10,
             "solidity": 0.2
            },
            "type": "scatter"
           }
          ],
          "scatter3d": [
           {
            "line": {
             "colorbar": {
              "outlinewidth": 0,
              "ticks": ""
             }
            },
            "marker": {
             "colorbar": {
              "outlinewidth": 0,
              "ticks": ""
             }
            },
            "type": "scatter3d"
           }
          ],
          "scattercarpet": [
           {
            "marker": {
             "colorbar": {
              "outlinewidth": 0,
              "ticks": ""
             }
            },
            "type": "scattercarpet"
           }
          ],
          "scattergeo": [
           {
            "marker": {
             "colorbar": {
              "outlinewidth": 0,
              "ticks": ""
             }
            },
            "type": "scattergeo"
           }
          ],
          "scattergl": [
           {
            "marker": {
             "colorbar": {
              "outlinewidth": 0,
              "ticks": ""
             }
            },
            "type": "scattergl"
           }
          ],
          "scattermapbox": [
           {
            "marker": {
             "colorbar": {
              "outlinewidth": 0,
              "ticks": ""
             }
            },
            "type": "scattermapbox"
           }
          ],
          "scatterpolar": [
           {
            "marker": {
             "colorbar": {
              "outlinewidth": 0,
              "ticks": ""
             }
            },
            "type": "scatterpolar"
           }
          ],
          "scatterpolargl": [
           {
            "marker": {
             "colorbar": {
              "outlinewidth": 0,
              "ticks": ""
             }
            },
            "type": "scatterpolargl"
           }
          ],
          "scatterternary": [
           {
            "marker": {
             "colorbar": {
              "outlinewidth": 0,
              "ticks": ""
             }
            },
            "type": "scatterternary"
           }
          ],
          "surface": [
           {
            "colorbar": {
             "outlinewidth": 0,
             "ticks": ""
            },
            "colorscale": [
             [
              0,
              "#0d0887"
             ],
             [
              0.1111111111111111,
              "#46039f"
             ],
             [
              0.2222222222222222,
              "#7201a8"
             ],
             [
              0.3333333333333333,
              "#9c179e"
             ],
             [
              0.4444444444444444,
              "#bd3786"
             ],
             [
              0.5555555555555556,
              "#d8576b"
             ],
             [
              0.6666666666666666,
              "#ed7953"
             ],
             [
              0.7777777777777778,
              "#fb9f3a"
             ],
             [
              0.8888888888888888,
              "#fdca26"
             ],
             [
              1,
              "#f0f921"
             ]
            ],
            "type": "surface"
           }
          ],
          "table": [
           {
            "cells": {
             "fill": {
              "color": "#EBF0F8"
             },
             "line": {
              "color": "white"
             }
            },
            "header": {
             "fill": {
              "color": "#C8D4E3"
             },
             "line": {
              "color": "white"
             }
            },
            "type": "table"
           }
          ]
         },
         "layout": {
          "annotationdefaults": {
           "arrowcolor": "#2a3f5f",
           "arrowhead": 0,
           "arrowwidth": 1
          },
          "autotypenumbers": "strict",
          "coloraxis": {
           "colorbar": {
            "outlinewidth": 0,
            "ticks": ""
           }
          },
          "colorscale": {
           "diverging": [
            [
             0,
             "#8e0152"
            ],
            [
             0.1,
             "#c51b7d"
            ],
            [
             0.2,
             "#de77ae"
            ],
            [
             0.3,
             "#f1b6da"
            ],
            [
             0.4,
             "#fde0ef"
            ],
            [
             0.5,
             "#f7f7f7"
            ],
            [
             0.6,
             "#e6f5d0"
            ],
            [
             0.7,
             "#b8e186"
            ],
            [
             0.8,
             "#7fbc41"
            ],
            [
             0.9,
             "#4d9221"
            ],
            [
             1,
             "#276419"
            ]
           ],
           "sequential": [
            [
             0,
             "#0d0887"
            ],
            [
             0.1111111111111111,
             "#46039f"
            ],
            [
             0.2222222222222222,
             "#7201a8"
            ],
            [
             0.3333333333333333,
             "#9c179e"
            ],
            [
             0.4444444444444444,
             "#bd3786"
            ],
            [
             0.5555555555555556,
             "#d8576b"
            ],
            [
             0.6666666666666666,
             "#ed7953"
            ],
            [
             0.7777777777777778,
             "#fb9f3a"
            ],
            [
             0.8888888888888888,
             "#fdca26"
            ],
            [
             1,
             "#f0f921"
            ]
           ],
           "sequentialminus": [
            [
             0,
             "#0d0887"
            ],
            [
             0.1111111111111111,
             "#46039f"
            ],
            [
             0.2222222222222222,
             "#7201a8"
            ],
            [
             0.3333333333333333,
             "#9c179e"
            ],
            [
             0.4444444444444444,
             "#bd3786"
            ],
            [
             0.5555555555555556,
             "#d8576b"
            ],
            [
             0.6666666666666666,
             "#ed7953"
            ],
            [
             0.7777777777777778,
             "#fb9f3a"
            ],
            [
             0.8888888888888888,
             "#fdca26"
            ],
            [
             1,
             "#f0f921"
            ]
           ]
          },
          "colorway": [
           "#636efa",
           "#EF553B",
           "#00cc96",
           "#ab63fa",
           "#FFA15A",
           "#19d3f3",
           "#FF6692",
           "#B6E880",
           "#FF97FF",
           "#FECB52"
          ],
          "font": {
           "color": "#2a3f5f"
          },
          "geo": {
           "bgcolor": "white",
           "lakecolor": "white",
           "landcolor": "#E5ECF6",
           "showlakes": true,
           "showland": true,
           "subunitcolor": "white"
          },
          "hoverlabel": {
           "align": "left"
          },
          "hovermode": "closest",
          "mapbox": {
           "style": "light"
          },
          "paper_bgcolor": "white",
          "plot_bgcolor": "#E5ECF6",
          "polar": {
           "angularaxis": {
            "gridcolor": "white",
            "linecolor": "white",
            "ticks": ""
           },
           "bgcolor": "#E5ECF6",
           "radialaxis": {
            "gridcolor": "white",
            "linecolor": "white",
            "ticks": ""
           }
          },
          "scene": {
           "xaxis": {
            "backgroundcolor": "#E5ECF6",
            "gridcolor": "white",
            "gridwidth": 2,
            "linecolor": "white",
            "showbackground": true,
            "ticks": "",
            "zerolinecolor": "white"
           },
           "yaxis": {
            "backgroundcolor": "#E5ECF6",
            "gridcolor": "white",
            "gridwidth": 2,
            "linecolor": "white",
            "showbackground": true,
            "ticks": "",
            "zerolinecolor": "white"
           },
           "zaxis": {
            "backgroundcolor": "#E5ECF6",
            "gridcolor": "white",
            "gridwidth": 2,
            "linecolor": "white",
            "showbackground": true,
            "ticks": "",
            "zerolinecolor": "white"
           }
          },
          "shapedefaults": {
           "line": {
            "color": "#2a3f5f"
           }
          },
          "ternary": {
           "aaxis": {
            "gridcolor": "white",
            "linecolor": "white",
            "ticks": ""
           },
           "baxis": {
            "gridcolor": "white",
            "linecolor": "white",
            "ticks": ""
           },
           "bgcolor": "#E5ECF6",
           "caxis": {
            "gridcolor": "white",
            "linecolor": "white",
            "ticks": ""
           }
          },
          "title": {
           "x": 0.05
          },
          "xaxis": {
           "automargin": true,
           "gridcolor": "white",
           "linecolor": "white",
           "ticks": "",
           "title": {
            "standoff": 15
           },
           "zerolinecolor": "white",
           "zerolinewidth": 2
          },
          "yaxis": {
           "automargin": true,
           "gridcolor": "white",
           "linecolor": "white",
           "ticks": "",
           "title": {
            "standoff": 15
           },
           "zerolinecolor": "white",
           "zerolinewidth": 2
          }
         }
        },
        "title": {
         "text": "Maharashtra"
        },
        "updatemenus": [
         {
          "buttons": [
           {
            "args": [
             {
              "visible": [
               true,
               true,
               true,
               true,
               true,
               true,
               true,
               true,
               true,
               true,
               true,
               true,
               true,
               true,
               true,
               true,
               true,
               true,
               true,
               true,
               true,
               true,
               true,
               true,
               true,
               true,
               true,
               true,
               true,
               true,
               true,
               true,
               true,
               true,
               true
              ]
             },
             {
              "title": "All Districts"
             }
            ],
            "label": "All",
            "method": "update"
           },
           {
            "args": [
             {
              "visible": [
               false,
               false,
               false,
               false,
               false,
               false,
               false,
               false,
               false,
               false,
               false,
               false,
               false,
               false,
               false,
               false,
               false,
               false,
               false,
               false,
               false,
               false,
               false,
               false,
               false,
               false,
               false,
               false,
               false,
               false,
               false,
               false,
               false,
               false,
               false
              ]
             },
             {
              "title": "No District"
             }
            ],
            "label": "None",
            "method": "update"
           }
          ],
          "direction": "left",
          "pad": {
           "r": 10,
           "t": 10
          },
          "showactive": true,
          "type": "buttons",
          "x": 0.05,
          "xanchor": "left",
          "y": 1.15,
          "yanchor": "top"
         }
        ],
        "xaxis": {
         "gridcolor": "lightgray",
         "gridwidth": 1,
         "showgrid": true,
         "tickmode": "array",
         "ticktext": [
          2009,
          2010,
          2011,
          2012,
          2013,
          2014,
          2015,
          2016,
          2017,
          2018,
          2019,
          2020,
          2021,
          2022,
          2023
         ],
         "tickvals": [
          2009,
          2010,
          2011,
          2012,
          2013,
          2014,
          2015,
          2016,
          2017,
          2018,
          2019,
          2020,
          2021,
          2022,
          2023
         ],
         "title": {
          "text": "Year"
         }
        },
        "yaxis": {
         "gridcolor": "lightgray",
         "gridwidth": 1,
         "showgrid": true,
         "title": {
          "text": "Average Rainfall in mm"
         }
        }
       }
      }
     },
     "metadata": {},
     "output_type": "display_data"
    },
    {
     "name": "stdout",
     "output_type": "stream",
     "text": [
      "Telangana\n",
      "['Adilabad', 'Bhadradri Kothagudem', 'Hyderabad', 'Jagitial', 'Jangoan', 'Jayashankar Bhupalapally', 'Jogulamba Gadwal', 'Kamareddy', 'Karimnagar', 'Khammam', 'Kumuram Bheem Asifabad', 'Mahabubabad', 'Mahabubnagar', 'Mancherial', 'Medak', 'Medchal Malkajgiri', 'Mulugu', 'Nagarkurnool', 'Nalgonda', 'Narayanpet', 'Nirmal', 'Nizamabad', 'Peddapalli', 'Rajanna Sircilla', 'Ranga Reddy', 'Sangareddy', 'Siddipet', 'Suryapet', 'Vikarabad', 'Wanaparthy', 'Warangal Rural', 'Warangal Urban', 'Yadadri Bhuvanagiri']\n"
     ]
    },
    {
     "data": {
      "application/vnd.plotly.v1+json": {
       "config": {
        "plotlyServerURL": "https://plot.ly"
       },
       "data": [
        {
         "mode": "lines+markers",
         "name": "Adilabad",
         "type": "scatter",
         "visible": "legendonly",
         "x": [
          2009,
          2010,
          2011,
          2012,
          2013,
          2014,
          2015,
          2016,
          2017,
          2018,
          2019,
          2020,
          2021,
          2022,
          2023
         ],
         "y": [
          672.406506639,
          1720.120180689,
          814.8927457786,
          1099.8200210625,
          1715.7747212323,
          923.1984177399,
          1015.2210240292001,
          1255.2779054514,
          931.3918873969,
          1533.8416571770001,
          1238.995500149,
          658.222534412,
          1672.328758145,
          1940.1643048147,
          1094.4986309009
         ]
        },
        {
         "mode": "lines+markers",
         "name": "Bhadradri Kothagudem",
         "type": "scatter",
         "visible": "legendonly",
         "x": [
          2009,
          2010,
          2011,
          2012,
          2013,
          2014,
          2015,
          2016,
          2017,
          2018,
          2019,
          2020,
          2021,
          2022,
          2023
         ],
         "y": [
          802.466990796,
          1776.4329851002,
          902.0049604398,
          1623.8653374234,
          1355.9858192108,
          941.7355153401,
          1206.4991857023,
          1354.9136994151,
          1103.8065175536,
          1312.680165572,
          1393.654700731,
          745.606007313,
          1486.759900205,
          1542.861538071,
          958.951644539
         ]
        },
        {
         "mode": "lines+markers",
         "name": "Hyderabad",
         "type": "scatter",
         "visible": "legendonly",
         "x": [
          2009,
          2010,
          2011,
          2012,
          2013,
          2014,
          2015,
          2016,
          2017,
          2018,
          2019,
          2020,
          2021,
          2022,
          2023
         ],
         "y": [
          620.519912618,
          996.6571365825,
          514.903924082,
          708.4946790683,
          1041.8638865978,
          741.9033509306,
          610.9906878515,
          1122.0650802729,
          960.8147998079,
          635.275765114,
          842.623031546,
          988.503684371,
          1036.218104349,
          933.9927841304,
          740.6413864514
         ]
        },
        {
         "mode": "lines+markers",
         "name": "Jagitial",
         "type": "scatter",
         "visible": "legendonly",
         "x": [
          2009,
          2010,
          2011,
          2012,
          2013,
          2014,
          2015,
          2016,
          2017,
          2018,
          2019,
          2020,
          2021,
          2022,
          2023
         ],
         "y": [
          984.3427154459999,
          1536.5457511869,
          635.4984802682,
          925.6369003296,
          1469.480914096,
          840.53458461,
          964.3673212663,
          1151.4296565877,
          759.1168855159,
          1072.35371624,
          1258.325602506,
          645.084344874,
          1228.2225723020001,
          1817.458377511,
          986.4337797499
         ]
        },
        {
         "mode": "lines+markers",
         "name": "Jangoan",
         "type": "scatter",
         "visible": "legendonly",
         "x": [
          2009,
          2010,
          2011,
          2012,
          2013,
          2014,
          2015,
          2016,
          2017,
          2018,
          2019,
          2020,
          2021,
          2022,
          2023
         ],
         "y": [
          747.767484357,
          1059.3397712233,
          648.9668900375,
          913.064236132,
          1133.2267128333,
          620.8350191799,
          873.6409228732,
          1054.1798087815,
          893.0042218312,
          760.274117033,
          1172.512017518,
          654.807964378,
          1286.028129041,
          1198.6870122644,
          940.6044740856
         ]
        },
        {
         "mode": "lines+markers",
         "name": "Jayashankar Bhupalapally",
         "type": "scatter",
         "visible": "legendonly",
         "x": [
          2009,
          2010,
          2011,
          2012,
          2013,
          2014,
          2015,
          2016,
          2017,
          2018,
          2019,
          2020,
          2021,
          2022,
          2023
         ],
         "y": [
          662.529940071,
          1657.9528836796,
          538.3667318273,
          1368.6229505105,
          1998.5446660184,
          964.468016074,
          947.6020248449,
          1201.6855785093999,
          931.2149961172,
          1372.668325206,
          1489.1548325840001,
          925.884537073,
          1234.81877462,
          1755.0208149746,
          1094.3879031109
         ]
        },
        {
         "mode": "lines+markers",
         "name": "Jogulamba Gadwal",
         "type": "scatter",
         "visible": "legendonly",
         "x": [
          2009,
          2010,
          2011,
          2012,
          2013,
          2014,
          2015,
          2016,
          2017,
          2018,
          2019,
          2020,
          2021,
          2022,
          2023
         ],
         "y": [
          802.195207203,
          968.4852837523999,
          511.1825916299,
          608.1619572659,
          816.8779498467,
          655.0520721589,
          517.4192027267,
          672.6978017827,
          628.0791617543,
          379.012836523,
          637.235743432,
          591.411354134,
          645.886169419,
          730.2098418468,
          521.8234097669
         ]
        },
        {
         "mode": "lines+markers",
         "name": "Kamareddy",
         "type": "scatter",
         "visible": "legendonly",
         "x": [
          2009,
          2010,
          2011,
          2012,
          2013,
          2014,
          2015,
          2016,
          2017,
          2018,
          2019,
          2020,
          2021,
          2022,
          2023
         ],
         "y": [
          647.222499468,
          1466.9671426937,
          952.3696347139,
          920.0156188444,
          1276.219481776,
          636.2101725509,
          741.5936929067,
          1333.3827355983,
          915.050827433,
          803.529800057,
          1241.954885759,
          774.064211782,
          1457.218302437,
          1429.685128628,
          1109.6615421269
         ]
        },
        {
         "mode": "lines+markers",
         "name": "Karimnagar",
         "type": "scatter",
         "visible": "legendonly",
         "x": [
          2009,
          2010,
          2011,
          2012,
          2013,
          2014,
          2015,
          2016,
          2017,
          2018,
          2019,
          2020,
          2021,
          2022,
          2023
         ],
         "y": [
          764.225092323,
          1249.6692066228,
          588.1353904401,
          952.0159756376,
          1459.1343519736,
          756.905635544,
          986.575738341,
          1207.4967734875,
          898.4621417691,
          994.021770036,
          1323.987137111,
          761.495659144,
          1318.212390677,
          1371.7502458931,
          884.5455852549001
         ]
        },
        {
         "mode": "lines+markers",
         "name": "Khammam",
         "type": "scatter",
         "visible": "legendonly",
         "x": [
          2009,
          2010,
          2011,
          2012,
          2013,
          2014,
          2015,
          2016,
          2017,
          2018,
          2019,
          2020,
          2021,
          2022,
          2023
         ],
         "y": [
          768.957844303,
          1583.6427709169,
          876.9989631857001,
          1498.3617001735,
          1206.6653279298,
          819.9661673485,
          1016.3337016194,
          1050.6393475452,
          958.5145975866,
          1063.18626008,
          1097.433151167,
          705.589595068,
          1331.931175234,
          1153.5601424426,
          820.4477480482
         ]
        },
        {
         "mode": "lines+markers",
         "name": "Kumuram Bheem Asifabad",
         "type": "scatter",
         "visible": "legendonly",
         "x": [
          2009,
          2010,
          2011,
          2012,
          2013,
          2014,
          2015,
          2016,
          2017,
          2018,
          2019,
          2020,
          2021,
          2022,
          2023
         ],
         "y": [
          766.007641651,
          1915.2321759535,
          1029.1682391574,
          1325.6510968489,
          2076.9678045887,
          1084.9722722986,
          1143.3729072393,
          1400.0353402989,
          893.7753010552,
          1306.012057818,
          1465.334591631,
          756.425787302,
          1403.987232959,
          1930.0232507382,
          1073.2459967459
         ]
        },
        {
         "mode": "lines+markers",
         "name": "Mahabubabad",
         "type": "scatter",
         "visible": "legendonly",
         "x": [
          2009,
          2010,
          2011,
          2012,
          2013,
          2014,
          2015,
          2016,
          2017,
          2018,
          2019,
          2020,
          2021,
          2022,
          2023
         ],
         "y": [
          682.998513856,
          1461.2291525057,
          847.581592693,
          1324.2985250865,
          1279.2315846684,
          750.7074024276,
          1097.5044399022,
          1125.4154876595999,
          982.9864588952,
          1096.271098674,
          1188.492035586,
          706.485047978,
          1478.228515026,
          1521.4943161425,
          1003.9268907677
         ]
        },
        {
         "mode": "lines+markers",
         "name": "Mahabubnagar",
         "type": "scatter",
         "visible": "legendonly",
         "x": [
          2009,
          2010,
          2011,
          2012,
          2013,
          2014,
          2015,
          2016,
          2017,
          2018,
          2019,
          2020,
          2021,
          2022,
          2023
         ],
         "y": [
          703.1101060767,
          906.4918483426,
          663.9942224373,
          711.6237331614,
          1010.9813327439,
          794.3718509805,
          548.2068753733,
          701.7612515117,
          733.7229994317,
          496.87022232699996,
          779.9507933470001,
          634.430665126,
          864.675699298,
          1026.5801422462,
          639.2513362185
         ]
        },
        {
         "mode": "lines+markers",
         "name": "Mancherial",
         "type": "scatter",
         "visible": "legendonly",
         "x": [
          2009,
          2010,
          2011,
          2012,
          2013,
          2014,
          2015,
          2016,
          2017,
          2018,
          2019,
          2020,
          2021,
          2022,
          2023
         ],
         "y": [
          809.2545966910001,
          1594.2043597987001,
          610.4778457736,
          1293.1522008961,
          1768.2958290433,
          900.0019430906,
          1005.1270211439,
          1195.1658522102,
          798.1581784521001,
          1337.810791897,
          1342.832957853,
          716.534546742,
          1134.80829401,
          1999.5577140243,
          1080.1124847045
         ]
        },
        {
         "mode": "lines+markers",
         "name": "Medak",
         "type": "scatter",
         "visible": "legendonly",
         "x": [
          2009,
          2010,
          2011,
          2012,
          2013,
          2014,
          2015,
          2016,
          2017,
          2018,
          2019,
          2020,
          2021,
          2022,
          2023
         ],
         "y": [
          673.726744789,
          1130.5464841676,
          645.9603903614,
          819.4007858786,
          1140.4722223364,
          643.1363861083,
          686.6522161454,
          1136.3231366371,
          839.9709644176,
          612.798435136,
          1091.560731413,
          892.592474993,
          1254.011431785,
          1236.1495586107999,
          1029.6864088628
         ]
        },
        {
         "mode": "lines+markers",
         "name": "Medchal Malkajgiri",
         "type": "scatter",
         "visible": "legendonly",
         "x": [
          2009,
          2010,
          2011,
          2012,
          2013,
          2014,
          2015,
          2016,
          2017,
          2018,
          2019,
          2020,
          2021,
          2022,
          2023
         ],
         "y": [
          654.293783994,
          1098.0874262731,
          512.6756731281,
          683.9187877887,
          973.5075667679,
          600.5592762221,
          614.0159274643,
          972.5011557043,
          982.5142357423,
          562.269759913,
          931.028214627,
          792.362895648,
          1120.425555313,
          905.9439555278,
          831.4932382874
         ]
        },
        {
         "mode": "lines+markers",
         "name": "Mulugu",
         "type": "scatter",
         "visible": "legendonly",
         "x": [
          2009,
          2010,
          2011,
          2012,
          2013,
          2014,
          2015,
          2016,
          2017,
          2018,
          2019,
          2020,
          2021,
          2022,
          2023
         ],
         "y": [
          780.570856102,
          1955.7026642765,
          829.3684371853,
          1512.5093781912,
          2053.3741856305,
          1076.3050564198,
          1201.9551685025,
          1257.6038572862,
          1066.2066451706,
          1319.674253813,
          1601.30076303,
          868.772541626,
          1468.9019051980001,
          1762.7028725098,
          1149.164622511
         ]
        },
        {
         "mode": "lines+markers",
         "name": "Nagarkurnool",
         "type": "scatter",
         "visible": "legendonly",
         "x": [
          2009,
          2010,
          2011,
          2012,
          2013,
          2014,
          2015,
          2016,
          2017,
          2018,
          2019,
          2020,
          2021,
          2022,
          2023
         ],
         "y": [
          739.336710843,
          987.6134751197,
          466.4049234684,
          664.3833849735,
          1160.6486150594,
          665.7754773235,
          644.4864723329999,
          613.7392666612,
          613.1471693057,
          461.72497737,
          730.704829764,
          535.34810343,
          755.858681843,
          867.5591361525001,
          480.0372544502
         ]
        },
        {
         "mode": "lines+markers",
         "name": "Nalgonda",
         "type": "scatter",
         "visible": "legendonly",
         "x": [
          2009,
          2010,
          2011,
          2012,
          2013,
          2014,
          2015,
          2016,
          2017,
          2018,
          2019,
          2020,
          2021,
          2022,
          2023
         ],
         "y": [
          696.066659842,
          980.5068854855,
          626.4947022894,
          744.948365718,
          1242.132198494,
          615.2763529706,
          730.0615296262,
          978.9602702456,
          690.0960936224,
          619.491008646,
          829.546690187,
          675.081275335,
          931.004560481,
          820.5161926085,
          511.7457341408
         ]
        },
        {
         "mode": "lines+markers",
         "name": "Narayanpet",
         "type": "scatter",
         "visible": "legendonly",
         "x": [
          2009,
          2010,
          2011,
          2012,
          2013,
          2014,
          2015,
          2016,
          2017,
          2018,
          2019,
          2020,
          2021,
          2022,
          2023
         ],
         "y": [
          723.983941233,
          970.2836956082,
          718.6719407418,
          711.8308209547,
          833.919418863,
          790.4063738044,
          572.4137321654999,
          682.5326841718,
          798.5669693949,
          478.177986275,
          682.620149525,
          663.818410522,
          899.342953409,
          945.1764091645,
          624.7396619104001
         ]
        },
        {
         "mode": "lines+markers",
         "name": "Nirmal",
         "type": "scatter",
         "visible": "legendonly",
         "x": [
          2009,
          2010,
          2011,
          2012,
          2013,
          2014,
          2015,
          2016,
          2017,
          2018,
          2019,
          2020,
          2021,
          2022,
          2023
         ],
         "y": [
          704.124448014,
          1862.150776607,
          777.2802795403,
          989.5150402726,
          1485.0910861378,
          812.1087536585001,
          1009.108510762,
          1269.7776808258,
          890.3691950655,
          1177.9540739660001,
          1243.869583098,
          577.653912189,
          1636.962901908,
          2053.6285304979,
          1077.1948802843
         ]
        },
        {
         "mode": "lines+markers",
         "name": "Nizamabad",
         "type": "scatter",
         "visible": "legendonly",
         "x": [
          2009,
          2010,
          2011,
          2012,
          2013,
          2014,
          2015,
          2016,
          2017,
          2018,
          2019,
          2020,
          2021,
          2022,
          2023
         ],
         "y": [
          734.40128789,
          1787.5414044116,
          849.8893236104,
          850.2895638744,
          1398.5329451405,
          752.4424284985,
          718.5739164466,
          1351.038355375,
          790.9025412277,
          891.669202563,
          1306.981357738,
          646.613010796,
          1560.819107606,
          1754.7545135318,
          1074.4508090191
         ]
        },
        {
         "mode": "lines+markers",
         "name": "Peddapalli",
         "type": "scatter",
         "visible": "legendonly",
         "x": [
          2009,
          2010,
          2011,
          2012,
          2013,
          2014,
          2015,
          2016,
          2017,
          2018,
          2019,
          2020,
          2021,
          2022,
          2023
         ],
         "y": [
          801.027667757,
          1601.931280388,
          687.9941616864,
          1131.5168652103,
          1487.9576433187,
          842.4434386373,
          993.8611635932,
          1175.0392567703,
          754.3484988531,
          1235.853908672,
          1322.054999982,
          793.740534392,
          1025.501478755,
          1442.1394323721,
          1013.2364945595
         ]
        },
        {
         "mode": "lines+markers",
         "name": "Rajanna Sircilla",
         "type": "scatter",
         "visible": "legendonly",
         "x": [
          2009,
          2010,
          2011,
          2012,
          2013,
          2014,
          2015,
          2016,
          2017,
          2018,
          2019,
          2020,
          2021,
          2022,
          2023
         ],
         "y": [
          642.924979065,
          1133.2595422945,
          560.8058724381,
          765.0573958384,
          1259.9394992323,
          600.5964575284,
          837.9232288877,
          1209.5134044203,
          818.2860175538,
          719.900349073,
          1270.738513419,
          786.2203276490001,
          1500.904238404,
          1428.8837403418,
          925.7922390195
         ]
        },
        {
         "mode": "lines+markers",
         "name": "Ranga Reddy",
         "type": "scatter",
         "visible": "legendonly",
         "x": [
          2009,
          2010,
          2011,
          2012,
          2013,
          2014,
          2015,
          2016,
          2017,
          2018,
          2019,
          2020,
          2021,
          2022,
          2023
         ],
         "y": [
          664.446555804,
          952.0142639379,
          467.82568900260003,
          641.7167434925,
          1067.8370927026,
          722.0598619197,
          610.2017624988,
          791.8956968056,
          803.6775971166,
          588.76213417,
          767.552640812,
          665.536340659,
          907.569022721,
          825.3914101770999,
          1058.1623112144
         ]
        },
        {
         "mode": "lines+markers",
         "name": "Sangareddy",
         "type": "scatter",
         "visible": "legendonly",
         "x": [
          2009,
          2010,
          2011,
          2012,
          2013,
          2014,
          2015,
          2016,
          2017,
          2018,
          2019,
          2020,
          2021,
          2022,
          2023
         ],
         "y": [
          696.874420002,
          1309.9044664949,
          648.4205709988,
          849.9902056684,
          1140.0115412967,
          709.5611948956999,
          638.8782745892,
          1131.3280514554,
          916.5711111745001,
          560.540409772,
          900.658155049,
          749.18029243,
          1155.25029913,
          1095.7837150987,
          1016.7740379177
         ]
        },
        {
         "mode": "lines+markers",
         "name": "Siddipet",
         "type": "scatter",
         "visible": "legendonly",
         "x": [
          2009,
          2010,
          2011,
          2012,
          2013,
          2014,
          2015,
          2016,
          2017,
          2018,
          2019,
          2020,
          2021,
          2022,
          2023
         ],
         "y": [
          616.609664923,
          1041.9577173989,
          468.2972631598,
          712.3145320456,
          1145.6169153285,
          563.1454235958,
          780.4653503164,
          1091.923969432,
          804.8459603027,
          665.99797528,
          1190.339355431,
          767.386145702,
          1341.400949673,
          1258.1223676489,
          840.7538880818
         ]
        },
        {
         "mode": "lines+markers",
         "name": "Suryapet",
         "type": "scatter",
         "visible": "legendonly",
         "x": [
          2009,
          2010,
          2011,
          2012,
          2013,
          2014,
          2015,
          2016,
          2017,
          2018,
          2019,
          2020,
          2021,
          2022,
          2023
         ],
         "y": [
          729.024947964,
          1103.6500182839,
          776.1544875933,
          1092.213860373,
          1012.8741622883,
          617.1740816979,
          730.3066953698,
          910.4763253268,
          840.6901663287,
          777.773932026,
          864.677736943,
          697.735681588,
          1004.088677864,
          1033.475690862,
          766.0442501718001
         ]
        },
        {
         "mode": "lines+markers",
         "name": "Vikarabad",
         "type": "scatter",
         "visible": "legendonly",
         "x": [
          2009,
          2010,
          2011,
          2012,
          2013,
          2014,
          2015,
          2016,
          2017,
          2018,
          2019,
          2020,
          2021,
          2022,
          2023
         ],
         "y": [
          857.179457614,
          1277.4663896283,
          641.6005832207,
          794.1181743307,
          1009.4986447438,
          848.9290617827,
          674.5804049636,
          1063.065810818,
          839.5507081938,
          555.554204735,
          668.75299682,
          619.304087082,
          1057.015948185,
          1108.6308289918,
          856.3088371216
         ]
        },
        {
         "mode": "lines+markers",
         "name": "Wanaparthy",
         "type": "scatter",
         "visible": "legendonly",
         "x": [
          2009,
          2010,
          2011,
          2012,
          2013,
          2014,
          2015,
          2016,
          2017,
          2018,
          2019,
          2020,
          2021,
          2022,
          2023
         ],
         "y": [
          755.523337375,
          868.8032241773,
          529.6760361215,
          596.2960486181,
          1027.8195065747,
          740.1017183106001,
          596.1084736845,
          746.5168457628,
          673.2391724982,
          518.706873893,
          762.503304455,
          580.038147227,
          710.589678192,
          827.6330259971,
          553.1209796217
         ]
        },
        {
         "mode": "lines+markers",
         "name": "Warangal Rural",
         "type": "scatter",
         "visible": "legendonly",
         "x": [
          2009,
          2010,
          2011,
          2012,
          2013,
          2014,
          2015,
          2016,
          2017,
          2018,
          2019,
          2020,
          2021,
          2022,
          2023
         ],
         "y": [
          698.927147001,
          1410.0679774699,
          767.3674525013,
          1257.3401924606,
          1302.3266850989,
          703.4936705517,
          1051.1618400709,
          1147.7847431259,
          1017.646611783,
          996.915518817,
          1244.994238047,
          798.501347935,
          1407.803841392,
          1505.9045116653,
          1050.9204837048
         ]
        },
        {
         "mode": "lines+markers",
         "name": "Warangal Urban",
         "type": "scatter",
         "visible": "legendonly",
         "x": [
          2009,
          2010,
          2011,
          2012,
          2013,
          2014,
          2015,
          2016,
          2017,
          2018,
          2019,
          2020,
          2021,
          2022,
          2023
         ],
         "y": [
          743.618282462,
          1255.8292974812,
          617.6645611355,
          1006.6066150341001,
          1435.2486983753,
          791.1448392913001,
          1036.9984926891,
          1352.2577056986,
          999.9926492068,
          940.941991795,
          1293.172080807,
          762.053044329,
          1333.96074524,
          1115.9511023573,
          772.7534588645
         ]
        },
        {
         "mode": "lines+markers",
         "name": "Yadadri Bhuvanagiri",
         "type": "scatter",
         "visible": "legendonly",
         "x": [
          2009,
          2010,
          2011,
          2012,
          2013,
          2014,
          2015,
          2016,
          2017,
          2018,
          2019,
          2020,
          2021,
          2022,
          2023
         ],
         "y": [
          698.096325268,
          1033.8783947668999,
          518.4622764808,
          624.513966963,
          989.3976680013,
          503.6966804546,
          679.5430053523,
          953.6894960576,
          854.9116757757,
          747.912622762,
          1063.2520319980001,
          709.624830261,
          1186.296895816,
          1128.9845358438,
          759.1008104448
         ]
        }
       ],
       "layout": {
        "legend": {
         "tracegroupgap": 0,
         "traceorder": "normal",
         "x": 1.05,
         "y": 1
        },
        "margin": {
         "b": 0,
         "l": 0,
         "r": 0,
         "t": 50
        },
        "plot_bgcolor": "white",
        "template": {
         "data": {
          "bar": [
           {
            "error_x": {
             "color": "#2a3f5f"
            },
            "error_y": {
             "color": "#2a3f5f"
            },
            "marker": {
             "line": {
              "color": "#E5ECF6",
              "width": 0.5
             },
             "pattern": {
              "fillmode": "overlay",
              "size": 10,
              "solidity": 0.2
             }
            },
            "type": "bar"
           }
          ],
          "barpolar": [
           {
            "marker": {
             "line": {
              "color": "#E5ECF6",
              "width": 0.5
             },
             "pattern": {
              "fillmode": "overlay",
              "size": 10,
              "solidity": 0.2
             }
            },
            "type": "barpolar"
           }
          ],
          "carpet": [
           {
            "aaxis": {
             "endlinecolor": "#2a3f5f",
             "gridcolor": "white",
             "linecolor": "white",
             "minorgridcolor": "white",
             "startlinecolor": "#2a3f5f"
            },
            "baxis": {
             "endlinecolor": "#2a3f5f",
             "gridcolor": "white",
             "linecolor": "white",
             "minorgridcolor": "white",
             "startlinecolor": "#2a3f5f"
            },
            "type": "carpet"
           }
          ],
          "choropleth": [
           {
            "colorbar": {
             "outlinewidth": 0,
             "ticks": ""
            },
            "type": "choropleth"
           }
          ],
          "contour": [
           {
            "colorbar": {
             "outlinewidth": 0,
             "ticks": ""
            },
            "colorscale": [
             [
              0,
              "#0d0887"
             ],
             [
              0.1111111111111111,
              "#46039f"
             ],
             [
              0.2222222222222222,
              "#7201a8"
             ],
             [
              0.3333333333333333,
              "#9c179e"
             ],
             [
              0.4444444444444444,
              "#bd3786"
             ],
             [
              0.5555555555555556,
              "#d8576b"
             ],
             [
              0.6666666666666666,
              "#ed7953"
             ],
             [
              0.7777777777777778,
              "#fb9f3a"
             ],
             [
              0.8888888888888888,
              "#fdca26"
             ],
             [
              1,
              "#f0f921"
             ]
            ],
            "type": "contour"
           }
          ],
          "contourcarpet": [
           {
            "colorbar": {
             "outlinewidth": 0,
             "ticks": ""
            },
            "type": "contourcarpet"
           }
          ],
          "heatmap": [
           {
            "colorbar": {
             "outlinewidth": 0,
             "ticks": ""
            },
            "colorscale": [
             [
              0,
              "#0d0887"
             ],
             [
              0.1111111111111111,
              "#46039f"
             ],
             [
              0.2222222222222222,
              "#7201a8"
             ],
             [
              0.3333333333333333,
              "#9c179e"
             ],
             [
              0.4444444444444444,
              "#bd3786"
             ],
             [
              0.5555555555555556,
              "#d8576b"
             ],
             [
              0.6666666666666666,
              "#ed7953"
             ],
             [
              0.7777777777777778,
              "#fb9f3a"
             ],
             [
              0.8888888888888888,
              "#fdca26"
             ],
             [
              1,
              "#f0f921"
             ]
            ],
            "type": "heatmap"
           }
          ],
          "heatmapgl": [
           {
            "colorbar": {
             "outlinewidth": 0,
             "ticks": ""
            },
            "colorscale": [
             [
              0,
              "#0d0887"
             ],
             [
              0.1111111111111111,
              "#46039f"
             ],
             [
              0.2222222222222222,
              "#7201a8"
             ],
             [
              0.3333333333333333,
              "#9c179e"
             ],
             [
              0.4444444444444444,
              "#bd3786"
             ],
             [
              0.5555555555555556,
              "#d8576b"
             ],
             [
              0.6666666666666666,
              "#ed7953"
             ],
             [
              0.7777777777777778,
              "#fb9f3a"
             ],
             [
              0.8888888888888888,
              "#fdca26"
             ],
             [
              1,
              "#f0f921"
             ]
            ],
            "type": "heatmapgl"
           }
          ],
          "histogram": [
           {
            "marker": {
             "pattern": {
              "fillmode": "overlay",
              "size": 10,
              "solidity": 0.2
             }
            },
            "type": "histogram"
           }
          ],
          "histogram2d": [
           {
            "colorbar": {
             "outlinewidth": 0,
             "ticks": ""
            },
            "colorscale": [
             [
              0,
              "#0d0887"
             ],
             [
              0.1111111111111111,
              "#46039f"
             ],
             [
              0.2222222222222222,
              "#7201a8"
             ],
             [
              0.3333333333333333,
              "#9c179e"
             ],
             [
              0.4444444444444444,
              "#bd3786"
             ],
             [
              0.5555555555555556,
              "#d8576b"
             ],
             [
              0.6666666666666666,
              "#ed7953"
             ],
             [
              0.7777777777777778,
              "#fb9f3a"
             ],
             [
              0.8888888888888888,
              "#fdca26"
             ],
             [
              1,
              "#f0f921"
             ]
            ],
            "type": "histogram2d"
           }
          ],
          "histogram2dcontour": [
           {
            "colorbar": {
             "outlinewidth": 0,
             "ticks": ""
            },
            "colorscale": [
             [
              0,
              "#0d0887"
             ],
             [
              0.1111111111111111,
              "#46039f"
             ],
             [
              0.2222222222222222,
              "#7201a8"
             ],
             [
              0.3333333333333333,
              "#9c179e"
             ],
             [
              0.4444444444444444,
              "#bd3786"
             ],
             [
              0.5555555555555556,
              "#d8576b"
             ],
             [
              0.6666666666666666,
              "#ed7953"
             ],
             [
              0.7777777777777778,
              "#fb9f3a"
             ],
             [
              0.8888888888888888,
              "#fdca26"
             ],
             [
              1,
              "#f0f921"
             ]
            ],
            "type": "histogram2dcontour"
           }
          ],
          "mesh3d": [
           {
            "colorbar": {
             "outlinewidth": 0,
             "ticks": ""
            },
            "type": "mesh3d"
           }
          ],
          "parcoords": [
           {
            "line": {
             "colorbar": {
              "outlinewidth": 0,
              "ticks": ""
             }
            },
            "type": "parcoords"
           }
          ],
          "pie": [
           {
            "automargin": true,
            "type": "pie"
           }
          ],
          "scatter": [
           {
            "fillpattern": {
             "fillmode": "overlay",
             "size": 10,
             "solidity": 0.2
            },
            "type": "scatter"
           }
          ],
          "scatter3d": [
           {
            "line": {
             "colorbar": {
              "outlinewidth": 0,
              "ticks": ""
             }
            },
            "marker": {
             "colorbar": {
              "outlinewidth": 0,
              "ticks": ""
             }
            },
            "type": "scatter3d"
           }
          ],
          "scattercarpet": [
           {
            "marker": {
             "colorbar": {
              "outlinewidth": 0,
              "ticks": ""
             }
            },
            "type": "scattercarpet"
           }
          ],
          "scattergeo": [
           {
            "marker": {
             "colorbar": {
              "outlinewidth": 0,
              "ticks": ""
             }
            },
            "type": "scattergeo"
           }
          ],
          "scattergl": [
           {
            "marker": {
             "colorbar": {
              "outlinewidth": 0,
              "ticks": ""
             }
            },
            "type": "scattergl"
           }
          ],
          "scattermapbox": [
           {
            "marker": {
             "colorbar": {
              "outlinewidth": 0,
              "ticks": ""
             }
            },
            "type": "scattermapbox"
           }
          ],
          "scatterpolar": [
           {
            "marker": {
             "colorbar": {
              "outlinewidth": 0,
              "ticks": ""
             }
            },
            "type": "scatterpolar"
           }
          ],
          "scatterpolargl": [
           {
            "marker": {
             "colorbar": {
              "outlinewidth": 0,
              "ticks": ""
             }
            },
            "type": "scatterpolargl"
           }
          ],
          "scatterternary": [
           {
            "marker": {
             "colorbar": {
              "outlinewidth": 0,
              "ticks": ""
             }
            },
            "type": "scatterternary"
           }
          ],
          "surface": [
           {
            "colorbar": {
             "outlinewidth": 0,
             "ticks": ""
            },
            "colorscale": [
             [
              0,
              "#0d0887"
             ],
             [
              0.1111111111111111,
              "#46039f"
             ],
             [
              0.2222222222222222,
              "#7201a8"
             ],
             [
              0.3333333333333333,
              "#9c179e"
             ],
             [
              0.4444444444444444,
              "#bd3786"
             ],
             [
              0.5555555555555556,
              "#d8576b"
             ],
             [
              0.6666666666666666,
              "#ed7953"
             ],
             [
              0.7777777777777778,
              "#fb9f3a"
             ],
             [
              0.8888888888888888,
              "#fdca26"
             ],
             [
              1,
              "#f0f921"
             ]
            ],
            "type": "surface"
           }
          ],
          "table": [
           {
            "cells": {
             "fill": {
              "color": "#EBF0F8"
             },
             "line": {
              "color": "white"
             }
            },
            "header": {
             "fill": {
              "color": "#C8D4E3"
             },
             "line": {
              "color": "white"
             }
            },
            "type": "table"
           }
          ]
         },
         "layout": {
          "annotationdefaults": {
           "arrowcolor": "#2a3f5f",
           "arrowhead": 0,
           "arrowwidth": 1
          },
          "autotypenumbers": "strict",
          "coloraxis": {
           "colorbar": {
            "outlinewidth": 0,
            "ticks": ""
           }
          },
          "colorscale": {
           "diverging": [
            [
             0,
             "#8e0152"
            ],
            [
             0.1,
             "#c51b7d"
            ],
            [
             0.2,
             "#de77ae"
            ],
            [
             0.3,
             "#f1b6da"
            ],
            [
             0.4,
             "#fde0ef"
            ],
            [
             0.5,
             "#f7f7f7"
            ],
            [
             0.6,
             "#e6f5d0"
            ],
            [
             0.7,
             "#b8e186"
            ],
            [
             0.8,
             "#7fbc41"
            ],
            [
             0.9,
             "#4d9221"
            ],
            [
             1,
             "#276419"
            ]
           ],
           "sequential": [
            [
             0,
             "#0d0887"
            ],
            [
             0.1111111111111111,
             "#46039f"
            ],
            [
             0.2222222222222222,
             "#7201a8"
            ],
            [
             0.3333333333333333,
             "#9c179e"
            ],
            [
             0.4444444444444444,
             "#bd3786"
            ],
            [
             0.5555555555555556,
             "#d8576b"
            ],
            [
             0.6666666666666666,
             "#ed7953"
            ],
            [
             0.7777777777777778,
             "#fb9f3a"
            ],
            [
             0.8888888888888888,
             "#fdca26"
            ],
            [
             1,
             "#f0f921"
            ]
           ],
           "sequentialminus": [
            [
             0,
             "#0d0887"
            ],
            [
             0.1111111111111111,
             "#46039f"
            ],
            [
             0.2222222222222222,
             "#7201a8"
            ],
            [
             0.3333333333333333,
             "#9c179e"
            ],
            [
             0.4444444444444444,
             "#bd3786"
            ],
            [
             0.5555555555555556,
             "#d8576b"
            ],
            [
             0.6666666666666666,
             "#ed7953"
            ],
            [
             0.7777777777777778,
             "#fb9f3a"
            ],
            [
             0.8888888888888888,
             "#fdca26"
            ],
            [
             1,
             "#f0f921"
            ]
           ]
          },
          "colorway": [
           "#636efa",
           "#EF553B",
           "#00cc96",
           "#ab63fa",
           "#FFA15A",
           "#19d3f3",
           "#FF6692",
           "#B6E880",
           "#FF97FF",
           "#FECB52"
          ],
          "font": {
           "color": "#2a3f5f"
          },
          "geo": {
           "bgcolor": "white",
           "lakecolor": "white",
           "landcolor": "#E5ECF6",
           "showlakes": true,
           "showland": true,
           "subunitcolor": "white"
          },
          "hoverlabel": {
           "align": "left"
          },
          "hovermode": "closest",
          "mapbox": {
           "style": "light"
          },
          "paper_bgcolor": "white",
          "plot_bgcolor": "#E5ECF6",
          "polar": {
           "angularaxis": {
            "gridcolor": "white",
            "linecolor": "white",
            "ticks": ""
           },
           "bgcolor": "#E5ECF6",
           "radialaxis": {
            "gridcolor": "white",
            "linecolor": "white",
            "ticks": ""
           }
          },
          "scene": {
           "xaxis": {
            "backgroundcolor": "#E5ECF6",
            "gridcolor": "white",
            "gridwidth": 2,
            "linecolor": "white",
            "showbackground": true,
            "ticks": "",
            "zerolinecolor": "white"
           },
           "yaxis": {
            "backgroundcolor": "#E5ECF6",
            "gridcolor": "white",
            "gridwidth": 2,
            "linecolor": "white",
            "showbackground": true,
            "ticks": "",
            "zerolinecolor": "white"
           },
           "zaxis": {
            "backgroundcolor": "#E5ECF6",
            "gridcolor": "white",
            "gridwidth": 2,
            "linecolor": "white",
            "showbackground": true,
            "ticks": "",
            "zerolinecolor": "white"
           }
          },
          "shapedefaults": {
           "line": {
            "color": "#2a3f5f"
           }
          },
          "ternary": {
           "aaxis": {
            "gridcolor": "white",
            "linecolor": "white",
            "ticks": ""
           },
           "baxis": {
            "gridcolor": "white",
            "linecolor": "white",
            "ticks": ""
           },
           "bgcolor": "#E5ECF6",
           "caxis": {
            "gridcolor": "white",
            "linecolor": "white",
            "ticks": ""
           }
          },
          "title": {
           "x": 0.05
          },
          "xaxis": {
           "automargin": true,
           "gridcolor": "white",
           "linecolor": "white",
           "ticks": "",
           "title": {
            "standoff": 15
           },
           "zerolinecolor": "white",
           "zerolinewidth": 2
          },
          "yaxis": {
           "automargin": true,
           "gridcolor": "white",
           "linecolor": "white",
           "ticks": "",
           "title": {
            "standoff": 15
           },
           "zerolinecolor": "white",
           "zerolinewidth": 2
          }
         }
        },
        "title": {
         "text": "Telangana"
        },
        "updatemenus": [
         {
          "buttons": [
           {
            "args": [
             {
              "visible": [
               true,
               true,
               true,
               true,
               true,
               true,
               true,
               true,
               true,
               true,
               true,
               true,
               true,
               true,
               true,
               true,
               true,
               true,
               true,
               true,
               true,
               true,
               true,
               true,
               true,
               true,
               true,
               true,
               true,
               true,
               true,
               true,
               true
              ]
             },
             {
              "title": "All Districts"
             }
            ],
            "label": "All",
            "method": "update"
           },
           {
            "args": [
             {
              "visible": [
               false,
               false,
               false,
               false,
               false,
               false,
               false,
               false,
               false,
               false,
               false,
               false,
               false,
               false,
               false,
               false,
               false,
               false,
               false,
               false,
               false,
               false,
               false,
               false,
               false,
               false,
               false,
               false,
               false,
               false,
               false,
               false,
               false
              ]
             },
             {
              "title": "No District"
             }
            ],
            "label": "None",
            "method": "update"
           }
          ],
          "direction": "left",
          "pad": {
           "r": 10,
           "t": 10
          },
          "showactive": true,
          "type": "buttons",
          "x": 0.05,
          "xanchor": "left",
          "y": 1.15,
          "yanchor": "top"
         }
        ],
        "xaxis": {
         "gridcolor": "lightgray",
         "gridwidth": 1,
         "showgrid": true,
         "tickmode": "array",
         "ticktext": [
          2009,
          2010,
          2011,
          2012,
          2013,
          2014,
          2015,
          2016,
          2017,
          2018,
          2019,
          2020,
          2021,
          2022,
          2023
         ],
         "tickvals": [
          2009,
          2010,
          2011,
          2012,
          2013,
          2014,
          2015,
          2016,
          2017,
          2018,
          2019,
          2020,
          2021,
          2022,
          2023
         ],
         "title": {
          "text": "Year"
         }
        },
        "yaxis": {
         "gridcolor": "lightgray",
         "gridwidth": 1,
         "showgrid": true,
         "title": {
          "text": "Average Rainfall in mm"
         }
        }
       }
      }
     },
     "metadata": {},
     "output_type": "display_data"
    },
    {
     "name": "stdout",
     "output_type": "stream",
     "text": [
      "Uttar Pradesh\n",
      "['Agra', 'Aligarh', 'Ambedkar Nagar', 'Amethi', 'Amroha', 'Auraiya', 'Ayodhya', 'Azamgarh', 'Baghpat', 'Bahraich', 'Ballia', 'Balrampur', 'Banda', 'Barabanki', 'Bareilly', 'Basti', 'Bhadohi', 'Bijnor', 'Budaun', 'Bulandshahr', 'Chandauli', 'Chitrakoot', 'Deoria', 'Etah', 'Etawah', 'Farrukhabad', 'Fatehpur', 'Firozabad', 'Gautam Buddha Nagar', 'Ghaziabad', 'Ghazipur', 'Gonda', 'Gorakhpur', 'Hamirpur', 'Hapur', 'Hardoi', 'Hathras', 'Jalaun', 'Jaunpur', 'Jhansi', 'Kannauj', 'Kanpur Dehat', 'Kanpur Nagar', 'Kasganj', 'Kaushambi', 'Kheri', 'Kushi Nagar', 'Lalitpur', 'Lucknow', 'Maharajganj', 'Mahoba', 'Mainpuri', 'Mathura', 'Mau', 'Meerut', 'Mirzapur', 'Moradabad', 'Muzaffarnagar', 'Pilibhit', 'Pratapgarh', 'Prayagraj', 'Rae Bareli', 'Rampur', 'Saharanpur', 'Sambhal', 'Sant Kabeer Nagar', 'Shahjahanpur', 'Shamli', 'Shravasti', 'Siddharth Nagar', 'Sitapur', 'Sonbhadra', 'Sultanpur', 'Unnao', 'Varanasi']\n"
     ]
    },
    {
     "data": {
      "application/vnd.plotly.v1+json": {
       "config": {
        "plotlyServerURL": "https://plot.ly"
       },
       "data": [
        {
         "mode": "lines+markers",
         "name": "Agra",
         "type": "scatter",
         "visible": "legendonly",
         "x": [
          2009,
          2010,
          2011,
          2012,
          2013,
          2014,
          2015,
          2016,
          2017,
          2018,
          2019,
          2020,
          2021,
          2022,
          2023
         ],
         "y": [
          331.79775960399996,
          773.879947606,
          704.3706786426,
          675.8436178091999,
          871.1677202712,
          402.115555052,
          516.1641281527,
          672.0523740822,
          430.8246166636,
          855.334783665,
          659.561720539,
          539.348497093,
          644.399906336,
          756.7105457931,
          598.3394397584
         ]
        },
        {
         "mode": "lines+markers",
         "name": "Aligarh",
         "type": "scatter",
         "visible": "legendonly",
         "x": [
          2009,
          2010,
          2011,
          2012,
          2013,
          2014,
          2015,
          2016,
          2017,
          2018,
          2019,
          2020,
          2021,
          2022,
          2023
         ],
         "y": [
          386.256616327,
          1079.1858789277,
          872.7084914274,
          657.8542428748,
          697.4164026333,
          417.8724765781,
          584.676525313,
          705.2489625951999,
          592.4647428811,
          768.429741111,
          508.391427132,
          518.979840288,
          836.165873971,
          820.9610865248,
          659.8977308737
         ]
        },
        {
         "mode": "lines+markers",
         "name": "Ambedkar Nagar",
         "type": "scatter",
         "visible": "legendonly",
         "x": [
          2009,
          2010,
          2011,
          2012,
          2013,
          2014,
          2015,
          2016,
          2017,
          2018,
          2019,
          2020,
          2021,
          2022,
          2023
         ],
         "y": [
          549.038479672,
          995.0141777814,
          1150.2505671915,
          1105.2287423646,
          1269.4477025973,
          724.3799277445,
          535.9808390285,
          877.8329427291,
          785.5302789801,
          639.367379614,
          971.1718434430001,
          1027.8912797790001,
          1110.841738252,
          737.746286005,
          528.263597189
         ]
        },
        {
         "mode": "lines+markers",
         "name": "Amethi",
         "type": "scatter",
         "visible": "legendonly",
         "x": [
          2009,
          2010,
          2011,
          2012,
          2013,
          2014,
          2015,
          2016,
          2017,
          2018,
          2019,
          2020,
          2021,
          2022,
          2023
         ],
         "y": [
          692.291547593,
          979.7763136216,
          1045.6908798175,
          956.3564913466,
          1167.1666144849,
          594.6141856588,
          540.0018440223,
          760.2263062702,
          500.8567502854,
          823.977862149,
          783.888438592,
          860.919259082,
          914.88144802,
          631.6937178962,
          562.3430989889999
         ]
        },
        {
         "mode": "lines+markers",
         "name": "Amroha",
         "type": "scatter",
         "visible": "legendonly",
         "x": [
          2009,
          2010,
          2011,
          2012,
          2013,
          2014,
          2015,
          2016,
          2017,
          2018,
          2019,
          2020,
          2021,
          2022,
          2023
         ],
         "y": [
          659.608919747,
          1838.2822488433,
          1100.7924443662,
          624.3069508267,
          836.9207880708,
          596.2064923589,
          760.619702044,
          844.3841251484,
          776.0965961917,
          863.832292057,
          696.0182919709999,
          635.999727454,
          934.721892917,
          808.8641909462,
          921.0323056039
         ]
        },
        {
         "mode": "lines+markers",
         "name": "Auraiya",
         "type": "scatter",
         "visible": "legendonly",
         "x": [
          2009,
          2010,
          2011,
          2012,
          2013,
          2014,
          2015,
          2016,
          2017,
          2018,
          2019,
          2020,
          2021,
          2022,
          2023
         ],
         "y": [
          442.994136283,
          748.4429918396,
          557.3261249791,
          448.7367340308,
          755.8965318525001,
          317.2531056368,
          369.8759419044,
          317.4246423583,
          288.8550820778,
          604.48323943,
          409.901157133,
          710.915424704,
          418.78819562,
          681.9530345062,
          656.7409256008
         ]
        },
        {
         "mode": "lines+markers",
         "name": "Ayodhya",
         "type": "scatter",
         "visible": "legendonly",
         "x": [
          2009,
          2010,
          2011,
          2012,
          2013,
          2014,
          2015,
          2016,
          2017,
          2018,
          2019,
          2020,
          2021,
          2022,
          2023
         ],
         "y": [
          807.768329121,
          1012.1856789027,
          966.230869625,
          987.8701373586,
          1060.0134035204,
          652.8434215022,
          512.7651770873,
          829.3239116464,
          651.1024678069,
          738.26688596,
          1067.938445325,
          1152.704384867,
          1182.080009941,
          913.1900451070001,
          716.1428781863
         ]
        },
        {
         "mode": "lines+markers",
         "name": "Azamgarh",
         "type": "scatter",
         "visible": "legendonly",
         "x": [
          2009,
          2010,
          2011,
          2012,
          2013,
          2014,
          2015,
          2016,
          2017,
          2018,
          2019,
          2020,
          2021,
          2022,
          2023
         ],
         "y": [
          500.841995079,
          775.7217710519,
          1095.9463241407,
          897.9565275112,
          791.3722282768,
          592.3058939948,
          616.9256807331,
          978.4675740054,
          731.7353500876,
          598.818634252,
          910.945572304,
          787.625818161,
          1137.38754351,
          804.1941738672,
          548.1454180197
         ]
        },
        {
         "mode": "lines+markers",
         "name": "Baghpat",
         "type": "scatter",
         "visible": "legendonly",
         "x": [
          2009,
          2010,
          2011,
          2012,
          2013,
          2014,
          2015,
          2016,
          2017,
          2018,
          2019,
          2020,
          2021,
          2022,
          2023
         ],
         "y": [
          345.507689813,
          904.5659448271,
          677.6151497204,
          536.0563490222,
          816.5029270583,
          417.4697801636,
          614.4249073032,
          498.68349601709997,
          512.2572539371,
          769.4215858169999,
          532.662158135,
          635.982716903,
          936.5916469499999,
          589.5866117433,
          595.6070695203
         ]
        },
        {
         "mode": "lines+markers",
         "name": "Bahraich",
         "type": "scatter",
         "visible": "legendonly",
         "x": [
          2009,
          2010,
          2011,
          2012,
          2013,
          2014,
          2015,
          2016,
          2017,
          2018,
          2019,
          2020,
          2021,
          2022,
          2023
         ],
         "y": [
          1322.319676685,
          1304.5335206652,
          1014.3952610845,
          1013.4258983617,
          1242.508145576,
          1206.8696489146,
          795.9042602644,
          1212.6911107271999,
          984.4829716884,
          1236.671098725,
          1313.071006279,
          1096.367892481,
          1618.894320094,
          1208.0506318361,
          870.5732641618999
         ]
        },
        {
         "mode": "lines+markers",
         "name": "Ballia",
         "type": "scatter",
         "visible": "legendonly",
         "x": [
          2009,
          2010,
          2011,
          2012,
          2013,
          2014,
          2015,
          2016,
          2017,
          2018,
          2019,
          2020,
          2021,
          2022,
          2023
         ],
         "y": [
          546.881963718,
          640.3675100611,
          1056.3555061314,
          751.0401889063,
          801.6931913818,
          712.9545333963,
          573.2850974192,
          881.4142478744,
          717.9931864164,
          572.64628167,
          1207.64004643,
          890.349840093,
          1349.66476334,
          717.8212796486,
          649.6440564943
         ]
        },
        {
         "mode": "lines+markers",
         "name": "Balrampur",
         "type": "scatter",
         "visible": "legendonly",
         "x": [
          2009,
          2010,
          2011,
          2012,
          2013,
          2014,
          2015,
          2016,
          2017,
          2018,
          2019,
          2020,
          2021,
          2022,
          2023
         ],
         "y": [
          1667.604464152,
          1715.7547847196,
          2274.8868725038,
          2297.7235907972,
          2020.7975304292,
          1675.7130680858,
          1676.6611258408,
          2168.6759047334,
          1789.6310207902,
          1724.472645146,
          2344.702055094,
          2533.975680286,
          2628.678012086,
          1801.0308300338,
          1597.282950869
         ]
        },
        {
         "mode": "lines+markers",
         "name": "Banda",
         "type": "scatter",
         "visible": "legendonly",
         "x": [
          2009,
          2010,
          2011,
          2012,
          2013,
          2014,
          2015,
          2016,
          2017,
          2018,
          2019,
          2020,
          2021,
          2022,
          2023
         ],
         "y": [
          649.835863667,
          971.0279587187999,
          971.7510299135,
          874.2682733311,
          1412.9087552402,
          633.6219070557,
          619.4583956803,
          951.8597543813,
          636.2470249039,
          827.8375840369999,
          986.8929350569999,
          988.081748559,
          1116.324515488,
          872.4479638471,
          636.6839735848
         ]
        },
        {
         "mode": "lines+markers",
         "name": "Barabanki",
         "type": "scatter",
         "visible": "legendonly",
         "x": [
          2009,
          2010,
          2011,
          2012,
          2013,
          2014,
          2015,
          2016,
          2017,
          2018,
          2019,
          2020,
          2021,
          2022,
          2023
         ],
         "y": [
          703.174260162,
          1088.9903279336,
          1050.1964006618,
          992.0706761157,
          1072.6153574839,
          875.0498314705,
          622.4228337288,
          936.9682415619,
          724.5922755105,
          1040.2931117609999,
          1303.3763643940001,
          1088.712650752,
          1333.107535641,
          936.8903190688,
          1045.6660400554001
         ]
        },
        {
         "mode": "lines+markers",
         "name": "Bareilly",
         "type": "scatter",
         "visible": "legendonly",
         "x": [
          2009,
          2010,
          2011,
          2012,
          2013,
          2014,
          2015,
          2016,
          2017,
          2018,
          2019,
          2020,
          2021,
          2022,
          2023
         ],
         "y": [
          864.839465433,
          1712.0058104531001,
          1398.5882138585,
          866.0329500001001,
          1075.56763974,
          527.9134481952,
          679.6758231148,
          979.9469395178,
          855.1698315144,
          1132.228077616,
          854.722737903,
          914.006911093,
          1080.387066289,
          881.8211229513,
          1063.6883059819
         ]
        },
        {
         "mode": "lines+markers",
         "name": "Basti",
         "type": "scatter",
         "visible": "legendonly",
         "x": [
          2009,
          2010,
          2011,
          2012,
          2013,
          2014,
          2015,
          2016,
          2017,
          2018,
          2019,
          2020,
          2021,
          2022,
          2023
         ],
         "y": [
          915.318673099,
          1122.1309454224,
          1029.5770865412,
          1148.6947875581,
          1344.1749992515,
          903.2217456591,
          676.7590337839,
          994.2251977031,
          1017.7560556376,
          694.292067792,
          1195.414684094,
          1262.674251934,
          1466.434176575,
          944.5619276117,
          668.6481724556
         ]
        },
        {
         "mode": "lines+markers",
         "name": "Bhadohi",
         "type": "scatter",
         "visible": "legendonly",
         "x": [
          2009,
          2010,
          2011,
          2012,
          2013,
          2014,
          2015,
          2016,
          2017,
          2018,
          2019,
          2020,
          2021,
          2022,
          2023
         ],
         "y": [
          303.653514542,
          873.0399706649999,
          1097.6382850539,
          831.5140792413999,
          959.4888199409,
          787.7706983241,
          752.0184570509,
          1126.888209927,
          616.9516773032,
          992.326461938,
          1308.699861594,
          1226.927065487,
          955.8891436,
          689.4407874067,
          645.313074022
         ]
        },
        {
         "mode": "lines+markers",
         "name": "Bijnor",
         "type": "scatter",
         "visible": "legendonly",
         "x": [
          2009,
          2010,
          2011,
          2012,
          2013,
          2014,
          2015,
          2016,
          2017,
          2018,
          2019,
          2020,
          2021,
          2022,
          2023
         ],
         "y": [
          799.0784170019999,
          2631.3784768464,
          1071.3783156224001,
          527.1624949499,
          1106.750087433,
          913.0905393831,
          913.1092685680001,
          859.6946670619,
          926.2359994657,
          905.885994533,
          938.869716227,
          867.658204812,
          1203.424072718,
          1002.3458824119,
          1326.9397971138
         ]
        },
        {
         "mode": "lines+markers",
         "name": "Budaun",
         "type": "scatter",
         "visible": "legendonly",
         "x": [
          2009,
          2010,
          2011,
          2012,
          2013,
          2014,
          2015,
          2016,
          2017,
          2018,
          2019,
          2020,
          2021,
          2022,
          2023
         ],
         "y": [
          775.030361427,
          1387.0388775518,
          995.968712931,
          763.2923042395,
          773.4084975983,
          412.7250691832,
          604.552068562,
          672.5497707111,
          581.6449191304,
          739.317301441,
          570.231510639,
          640.255320468,
          645.431045156,
          789.8069627326,
          885.7406631494
         ]
        },
        {
         "mode": "lines+markers",
         "name": "Bulandshahr",
         "type": "scatter",
         "visible": "legendonly",
         "x": [
          2009,
          2010,
          2011,
          2012,
          2013,
          2014,
          2015,
          2016,
          2017,
          2018,
          2019,
          2020,
          2021,
          2022,
          2023
         ],
         "y": [
          551.053559612,
          1295.7578097418,
          836.0554314107,
          612.7771934344,
          501.7810528245,
          367.3971829454,
          641.9850454558,
          702.0433308885,
          604.3045505789,
          575.648987461,
          445.13442790199997,
          439.239617545,
          702.32217811,
          668.8094481643,
          652.9575248306
         ]
        },
        {
         "mode": "lines+markers",
         "name": "Chandauli",
         "type": "scatter",
         "visible": "legendonly",
         "x": [
          2009,
          2010,
          2011,
          2012,
          2013,
          2014,
          2015,
          2016,
          2017,
          2018,
          2019,
          2020,
          2021,
          2022,
          2023
         ],
         "y": [
          629.862355951,
          783.0800485624,
          1017.8574414627,
          991.8871556331,
          968.1648598605,
          731.7092352335,
          773.2733311526,
          1104.0638388218,
          737.5457712915,
          826.183891919,
          1097.361250864,
          881.182184627,
          1097.270818309,
          696.5337247722,
          526.1832960805
         ]
        },
        {
         "mode": "lines+markers",
         "name": "Chitrakoot",
         "type": "scatter",
         "visible": "legendonly",
         "x": [
          2009,
          2010,
          2011,
          2012,
          2013,
          2014,
          2015,
          2016,
          2017,
          2018,
          2019,
          2020,
          2021,
          2022,
          2023
         ],
         "y": [
          495.268820412,
          735.1783304664,
          1129.5001939004,
          1173.5555476692,
          1506.5991838435,
          766.4521457175,
          644.3576262726,
          726.409781407,
          759.8472799244,
          693.259764962,
          965.925197323,
          868.531481393,
          1193.510615105,
          1149.5961171389,
          535.8526817337
         ]
        },
        {
         "mode": "lines+markers",
         "name": "Deoria",
         "type": "scatter",
         "visible": "legendonly",
         "x": [
          2009,
          2010,
          2011,
          2012,
          2013,
          2014,
          2015,
          2016,
          2017,
          2018,
          2019,
          2020,
          2021,
          2022,
          2023
         ],
         "y": [
          679.3164292499999,
          992.9918553493,
          1023.6909397298,
          918.1274926487,
          843.3470002087,
          684.8830859493,
          677.7771839027,
          689.5247156083,
          724.6281952611,
          650.530716667,
          1223.879198379,
          1081.983822101,
          1470.84083845,
          1018.2770548715,
          523.0741824250999
         ]
        },
        {
         "mode": "lines+markers",
         "name": "Etah",
         "type": "scatter",
         "visible": "legendonly",
         "x": [
          2009,
          2010,
          2011,
          2012,
          2013,
          2014,
          2015,
          2016,
          2017,
          2018,
          2019,
          2020,
          2021,
          2022,
          2023
         ],
         "y": [
          445.655620887,
          907.2336765542,
          745.0045430018,
          541.9039914138,
          641.341671536,
          335.5649255603,
          393.8093732078,
          511.3882169338,
          548.7766896623,
          887.632494886,
          609.299585604,
          516.877594547,
          741.862691988,
          924.7852315481,
          916.0423552702
         ]
        },
        {
         "mode": "lines+markers",
         "name": "Etawah",
         "type": "scatter",
         "visible": "legendonly",
         "x": [
          2009,
          2010,
          2011,
          2012,
          2013,
          2014,
          2015,
          2016,
          2017,
          2018,
          2019,
          2020,
          2021,
          2022,
          2023
         ],
         "y": [
          339.26590748,
          587.7388519857,
          733.4052893883,
          347.2331329444,
          717.8972071254,
          270.8273439707,
          381.0238253982,
          432.9026646213,
          416.8948364716,
          707.831047143,
          470.739519106,
          695.208767272,
          504.188419682,
          701.1466671146,
          647.5686679449
         ]
        },
        {
         "mode": "lines+markers",
         "name": "Farrukhabad",
         "type": "scatter",
         "visible": "legendonly",
         "x": [
          2009,
          2010,
          2011,
          2012,
          2013,
          2014,
          2015,
          2016,
          2017,
          2018,
          2019,
          2020,
          2021,
          2022,
          2023
         ],
         "y": [
          554.114602001,
          1193.9203228909,
          732.2587357848,
          532.9670164254,
          698.0706569609,
          298.0503842297,
          466.1449466077,
          356.7847534128,
          631.7962765633999,
          709.436958229,
          549.446111011,
          612.428631528,
          520.157949999,
          461.0000546139,
          614.5647865081
         ]
        },
        {
         "mode": "lines+markers",
         "name": "Fatehpur",
         "type": "scatter",
         "visible": "legendonly",
         "x": [
          2009,
          2010,
          2011,
          2012,
          2013,
          2014,
          2015,
          2016,
          2017,
          2018,
          2019,
          2020,
          2021,
          2022,
          2023
         ],
         "y": [
          560.814934311,
          874.8334895840001,
          984.5695309352,
          1054.4961067414,
          911.8108647966001,
          438.1884088522,
          268.8205805526,
          576.0741546071,
          589.7521049447,
          824.808395896,
          885.734330602,
          831.085598969,
          1057.642196061,
          866.1676123149,
          502.6582864952
         ]
        },
        {
         "mode": "lines+markers",
         "name": "Firozabad",
         "type": "scatter",
         "visible": "legendonly",
         "x": [
          2009,
          2010,
          2011,
          2012,
          2013,
          2014,
          2015,
          2016,
          2017,
          2018,
          2019,
          2020,
          2021,
          2022,
          2023
         ],
         "y": [
          402.61628692,
          629.6601004351,
          758.8278117909,
          540.0966810538,
          840.2495996094,
          368.1251459239,
          505.0972633609,
          562.6918301851,
          654.8269819594,
          901.720592618,
          533.39965087,
          575.742594777,
          685.783574898,
          826.757718776,
          870.0106484869
         ]
        },
        {
         "mode": "lines+markers",
         "name": "Gautam Buddha Nagar",
         "type": "scatter",
         "visible": "legendonly",
         "x": [
          2009,
          2010,
          2011,
          2012,
          2013,
          2014,
          2015,
          2016,
          2017,
          2018,
          2019,
          2020,
          2021,
          2022,
          2023
         ],
         "y": [
          315.533533868,
          863.4670297171,
          728.4356879799,
          521.4824794327,
          354.6669898831,
          244.8324207671,
          355.4880828773,
          437.2881998496,
          504.9671324868,
          431.929660593,
          382.87611033,
          422.35976564,
          510.945905243,
          362.5513762176,
          412.0778761232
         ]
        },
        {
         "mode": "lines+markers",
         "name": "Ghaziabad",
         "type": "scatter",
         "visible": "legendonly",
         "x": [
          2009,
          2010,
          2011,
          2012,
          2013,
          2014,
          2015,
          2016,
          2017,
          2018,
          2019,
          2020,
          2021,
          2022,
          2023
         ],
         "y": [
          345.218278128,
          1112.1601767509999,
          694.3265045872,
          538.8482167279,
          675.3155900087,
          357.9250173953,
          596.1411204428,
          422.8465913139,
          538.2839772324,
          586.45588318,
          468.103235356,
          569.159013774,
          735.110739462,
          580.9032354704,
          644.5423436389
         ]
        },
        {
         "mode": "lines+markers",
         "name": "Ghazipur",
         "type": "scatter",
         "visible": "legendonly",
         "x": [
          2009,
          2010,
          2011,
          2012,
          2013,
          2014,
          2015,
          2016,
          2017,
          2018,
          2019,
          2020,
          2021,
          2022,
          2023
         ],
         "y": [
          623.554227086,
          814.8136386868,
          1151.8756129143,
          618.5818436867,
          872.747693899,
          669.9107043689,
          807.2821888799,
          950.4691200247,
          736.9676908322,
          767.264110352,
          1096.583516336,
          786.03336281,
          1111.029277023,
          623.4948623991,
          617.6881317925
         ]
        },
        {
         "mode": "lines+markers",
         "name": "Gonda",
         "type": "scatter",
         "visible": "legendonly",
         "x": [
          2009,
          2010,
          2011,
          2012,
          2013,
          2014,
          2015,
          2016,
          2017,
          2018,
          2019,
          2020,
          2021,
          2022,
          2023
         ],
         "y": [
          939.878082083,
          1280.0538508344,
          849.1143165357,
          1037.7257154174,
          1181.4297602531,
          776.2426455843,
          622.8445404983,
          842.9883873716,
          729.1503736657,
          777.139044523,
          1085.26209533,
          1292.777098581,
          1540.749477027,
          999.6869821758,
          778.2387795927
         ]
        },
        {
         "mode": "lines+markers",
         "name": "Gorakhpur",
         "type": "scatter",
         "visible": "legendonly",
         "x": [
          2009,
          2010,
          2011,
          2012,
          2013,
          2014,
          2015,
          2016,
          2017,
          2018,
          2019,
          2020,
          2021,
          2022,
          2023
         ],
         "y": [
          518.002408628,
          1173.2869736658,
          1172.0881642063,
          1139.1650249579,
          1030.9197184412,
          852.4479989378,
          539.4786310587,
          775.5268104255,
          787.1963409174,
          578.786500541,
          987.793456831,
          1059.533549604,
          1472.214228157,
          1067.6801313865,
          715.3359690843
         ]
        },
        {
         "mode": "lines+markers",
         "name": "Hamirpur",
         "type": "scatter",
         "visible": "legendonly",
         "x": [
          2009,
          2010,
          2011,
          2012,
          2013,
          2014,
          2015,
          2016,
          2017,
          2018,
          2019,
          2020,
          2021,
          2022,
          2023
         ],
         "y": [
          1571.3514033136,
          2370.8855400082,
          1422.1355218574,
          1147.1765889242,
          2421.4247179598,
          1416.2497911532,
          1488.2595775454001,
          1977.2221985046,
          1425.8910972114,
          2066.209057708,
          2230.629647498,
          1619.070188896,
          1888.02729013,
          2137.6810388012,
          2390.6082636289
         ]
        },
        {
         "mode": "lines+markers",
         "name": "Hapur",
         "type": "scatter",
         "visible": "legendonly",
         "x": [
          2009,
          2010,
          2011,
          2012,
          2013,
          2014,
          2015,
          2016,
          2017,
          2018,
          2019,
          2020,
          2021,
          2022,
          2023
         ],
         "y": [
          546.613194306,
          1485.2669356493,
          749.7697880966,
          562.6078251959,
          584.0016016816,
          400.344829297,
          655.7088972118,
          634.4035984314,
          794.3731640096,
          650.082917841,
          556.193477848,
          567.433535833,
          785.939283275,
          706.4873648153,
          695.7776816994
         ]
        },
        {
         "mode": "lines+markers",
         "name": "Hardoi",
         "type": "scatter",
         "visible": "legendonly",
         "x": [
          2009,
          2010,
          2011,
          2012,
          2013,
          2014,
          2015,
          2016,
          2017,
          2018,
          2019,
          2020,
          2021,
          2022,
          2023
         ],
         "y": [
          716.054121949,
          1174.0724980125,
          874.2131058845,
          932.2073110137,
          894.3013109556,
          536.3996476197,
          675.2591137691,
          756.2781703076,
          737.7995741208,
          874.980228821,
          799.93000819,
          786.4821586,
          785.596309712,
          721.8720978272,
          671.9120126518001
         ]
        },
        {
         "mode": "lines+markers",
         "name": "Hathras",
         "type": "scatter",
         "visible": "legendonly",
         "x": [
          2009,
          2010,
          2011,
          2012,
          2013,
          2014,
          2015,
          2016,
          2017,
          2018,
          2019,
          2020,
          2021,
          2022,
          2023
         ],
         "y": [
          261.06845039,
          910.6838267575,
          829.5800180859001,
          677.0238011461,
          840.9418091129,
          445.0973654631,
          522.9609726614,
          956.7376426229,
          520.2248359165,
          1055.8099308,
          645.044303775,
          511.378370645,
          901.144890777,
          925.8431683924,
          778.5646470861
         ]
        },
        {
         "mode": "lines+markers",
         "name": "Jalaun",
         "type": "scatter",
         "visible": "legendonly",
         "x": [
          2009,
          2010,
          2011,
          2012,
          2013,
          2014,
          2015,
          2016,
          2017,
          2018,
          2019,
          2020,
          2021,
          2022,
          2023
         ],
         "y": [
          520.621418073,
          899.8422263826,
          251.6148430033,
          213.8304168169,
          1072.161542955,
          502.1550203957,
          451.0102898193,
          635.4644562434,
          356.550006068,
          663.23348278,
          635.093254131,
          658.8267391310001,
          760.517437226,
          930.8442402425001,
          608.2210870069
         ]
        },
        {
         "mode": "lines+markers",
         "name": "Jaunpur",
         "type": "scatter",
         "visible": "legendonly",
         "x": [
          2009,
          2010,
          2011,
          2012,
          2013,
          2014,
          2015,
          2016,
          2017,
          2018,
          2019,
          2020,
          2021,
          2022,
          2023
         ],
         "y": [
          550.282436833,
          903.1685002646,
          1065.4750990302,
          847.8388356276,
          894.3745481913,
          678.855017555,
          764.7385730393,
          1008.8809224691,
          745.9334077139,
          730.398257555,
          1019.327343863,
          842.3356604210001,
          777.480043175,
          709.4894961067,
          571.6060767566
         ]
        },
        {
         "mode": "lines+markers",
         "name": "Jhansi",
         "type": "scatter",
         "visible": "legendonly",
         "x": [
          2009,
          2010,
          2011,
          2012,
          2013,
          2014,
          2015,
          2016,
          2017,
          2018,
          2019,
          2020,
          2021,
          2022,
          2023
         ],
         "y": [
          713.088111377,
          949.8012302489,
          701.2305001267,
          582.8365346627,
          1293.1986077212,
          579.0624301708,
          568.9304063272,
          648.9564653528,
          438.5530083789,
          789.360499961,
          677.144557706,
          569.025627362,
          721.302255258,
          873.266342644,
          665.3046677475
         ]
        },
        {
         "mode": "lines+markers",
         "name": "Kannauj",
         "type": "scatter",
         "visible": "legendonly",
         "x": [
          2009,
          2010,
          2011,
          2012,
          2013,
          2014,
          2015,
          2016,
          2017,
          2018,
          2019,
          2020,
          2021,
          2022,
          2023
         ],
         "y": [
          576.083013245,
          877.170547088,
          798.8327419234,
          674.2027395778,
          728.2971028324,
          317.8827240689,
          441.584469316,
          382.2006148971,
          562.5912184149,
          1057.776133046,
          744.634488985,
          711.675995525,
          626.88291018,
          580.7944192411001,
          711.7453968155
         ]
        },
        {
         "mode": "lines+markers",
         "name": "Kanpur Dehat",
         "type": "scatter",
         "visible": "legendonly",
         "x": [
          2009,
          2010,
          2011,
          2012,
          2013,
          2014,
          2015,
          2016,
          2017,
          2018,
          2019,
          2020,
          2021,
          2022,
          2023
         ],
         "y": [
          451.7820109,
          876.4573440508,
          477.156970627,
          568.500665044,
          941.1552508322,
          507.8380328364,
          456.5709760112,
          436.6670383423,
          393.1338778797,
          695.946482779,
          539.558046565,
          853.331102643,
          563.001912845,
          555.0725753293,
          551.120255339
         ]
        },
        {
         "mode": "lines+markers",
         "name": "Kanpur Nagar",
         "type": "scatter",
         "visible": "legendonly",
         "x": [
          2009,
          2010,
          2011,
          2012,
          2013,
          2014,
          2015,
          2016,
          2017,
          2018,
          2019,
          2020,
          2021,
          2022,
          2023
         ],
         "y": [
          567.960413431,
          836.5097091667,
          718.7526150819,
          725.7110353508,
          949.1442056082,
          509.4363300385,
          418.1552948872,
          591.6296196189,
          580.1764493185,
          822.040521575,
          796.586506955,
          1003.064529906,
          812.2755048729999,
          512.7550495776,
          546.6891571919
         ]
        },
        {
         "mode": "lines+markers",
         "name": "Kasganj",
         "type": "scatter",
         "visible": "legendonly",
         "x": [
          2009,
          2010,
          2011,
          2012,
          2013,
          2014,
          2015,
          2016,
          2017,
          2018,
          2019,
          2020,
          2021,
          2022,
          2023
         ],
         "y": [
          613.257293844,
          1056.8155932857,
          771.2927135848,
          607.2107716343,
          725.9840261152,
          401.3927092022,
          536.6956992563,
          586.2976838299,
          647.3061209071,
          896.254370493,
          639.824592672,
          526.4403238259999,
          591.995957003,
          808.9823886995,
          887.1682108454
         ]
        },
        {
         "mode": "lines+markers",
         "name": "Kaushambi",
         "type": "scatter",
         "visible": "legendonly",
         "x": [
          2009,
          2010,
          2011,
          2012,
          2013,
          2014,
          2015,
          2016,
          2017,
          2018,
          2019,
          2020,
          2021,
          2022,
          2023
         ],
         "y": [
          466.880271365,
          712.3027204277,
          1188.2185139548,
          1239.8189596087,
          1413.5540509573,
          801.054854576,
          572.248532406,
          844.202151773,
          798.6653609688,
          770.963086177,
          1198.94674865,
          868.974514991,
          1325.249444049,
          774.0402131484,
          501.2608188519
         ]
        },
        {
         "mode": "lines+markers",
         "name": "Kheri",
         "type": "scatter",
         "visible": "legendonly",
         "x": [
          2009,
          2010,
          2011,
          2012,
          2013,
          2014,
          2015,
          2016,
          2017,
          2018,
          2019,
          2020,
          2021,
          2022,
          2023
         ],
         "y": [
          1222.909965303,
          1629.8065262938,
          362.2692426911,
          971.6308857904,
          1269.5378922038,
          1064.8418240179,
          909.0371266884,
          1175.7116477526,
          1008.5728840431,
          1178.993930074,
          816.705291073,
          911.326974412,
          1692.565364169,
          1427.4619560253,
          816.9509057543
         ]
        },
        {
         "mode": "lines+markers",
         "name": "Kushi Nagar",
         "type": "scatter",
         "visible": "legendonly",
         "x": [
          2009,
          2010,
          2011,
          2012,
          2013,
          2014,
          2015,
          2016,
          2017,
          2018,
          2019,
          2020,
          2021,
          2022,
          2023
         ],
         "y": [
          799.809286071,
          912.8496794366,
          1112.186455965,
          1171.9099840407,
          625.4321571316,
          583.317763317,
          510.4185312268,
          636.185566664,
          756.0839683459,
          640.381281822,
          993.652133106,
          1127.163736547,
          1484.612387276,
          712.0671877016,
          478.6354629568
         ]
        },
        {
         "mode": "lines+markers",
         "name": "Lalitpur",
         "type": "scatter",
         "visible": "legendonly",
         "x": [
          2009,
          2010,
          2011,
          2012,
          2013,
          2014,
          2015,
          2016,
          2017,
          2018,
          2019,
          2020,
          2021,
          2022,
          2023
         ],
         "y": [
          771.048787601,
          1150.2033622703,
          1177.7327948021,
          777.0244934224,
          1496.307573433,
          849.9460046606,
          637.5450340928,
          1036.3244555875,
          665.0372250308,
          906.194645775,
          1051.236013419,
          497.6742494,
          848.014554795,
          1069.4886688942,
          764.9006300745
         ]
        },
        {
         "mode": "lines+markers",
         "name": "Lucknow",
         "type": "scatter",
         "visible": "legendonly",
         "x": [
          2009,
          2010,
          2011,
          2012,
          2013,
          2014,
          2015,
          2016,
          2017,
          2018,
          2019,
          2020,
          2021,
          2022,
          2023
         ],
         "y": [
          1043.059567063,
          990.2660550872,
          1068.745791777,
          990.1451311937,
          836.830482945,
          679.5416163861,
          507.4107843987,
          670.1993682297,
          693.4347945352,
          970.699758911,
          1032.64734314,
          975.643726051,
          958.561326853,
          737.1877176622,
          879.2523548017
         ]
        },
        {
         "mode": "lines+markers",
         "name": "Maharajganj",
         "type": "scatter",
         "visible": "legendonly",
         "x": [
          2009,
          2010,
          2011,
          2012,
          2013,
          2014,
          2015,
          2016,
          2017,
          2018,
          2019,
          2020,
          2021,
          2022,
          2023
         ],
         "y": [
          951.100783254,
          947.6954916763,
          1084.596401513,
          1306.7342321352,
          722.7447403601,
          751.7113745648,
          523.3281992812,
          1066.6647814409,
          1310.2583483808,
          1071.444618957,
          1076.551949524,
          1214.905413704,
          1842.23913612,
          1210.3470670945,
          708.5592730919
         ]
        },
        {
         "mode": "lines+markers",
         "name": "Mahoba",
         "type": "scatter",
         "visible": "legendonly",
         "x": [
          2009,
          2010,
          2011,
          2012,
          2013,
          2014,
          2015,
          2016,
          2017,
          2018,
          2019,
          2020,
          2021,
          2022,
          2023
         ],
         "y": [
          827.68346205,
          923.7920619304,
          986.9828716718,
          716.9649477083,
          1147.7146734769,
          516.9713515297,
          527.8662518482,
          1047.9772266106,
          512.1004622491,
          772.630890053,
          854.217099937,
          729.666154232,
          694.928782574,
          860.5606380715,
          766.3933236038
         ]
        },
        {
         "mode": "lines+markers",
         "name": "Mainpuri",
         "type": "scatter",
         "visible": "legendonly",
         "x": [
          2009,
          2010,
          2011,
          2012,
          2013,
          2014,
          2015,
          2016,
          2017,
          2018,
          2019,
          2020,
          2021,
          2022,
          2023
         ],
         "y": [
          449.331945022,
          700.2379143869,
          721.9717335807001,
          440.2595261476,
          636.6203150127,
          259.955511513,
          321.8128388198,
          296.2385999649,
          538.84650593,
          813.897773637,
          459.942345602,
          595.033023158,
          621.48294215,
          655.7618184363,
          852.4030316032
         ]
        },
        {
         "mode": "lines+markers",
         "name": "Mathura",
         "type": "scatter",
         "visible": "legendonly",
         "x": [
          2009,
          2010,
          2011,
          2012,
          2013,
          2014,
          2015,
          2016,
          2017,
          2018,
          2019,
          2020,
          2021,
          2022,
          2023
         ],
         "y": [
          372.549595787,
          863.2322156616,
          806.3950663994,
          689.4726118366,
          605.6949763896,
          348.4686057035,
          417.4243420158,
          580.8803914458,
          349.6517630749,
          744.671405863,
          432.788513358,
          537.164368496,
          667.138031236,
          721.1565877706,
          454.30061361549997
         ]
        },
        {
         "mode": "lines+markers",
         "name": "Mau",
         "type": "scatter",
         "visible": "legendonly",
         "x": [
          2009,
          2010,
          2011,
          2012,
          2013,
          2014,
          2015,
          2016,
          2017,
          2018,
          2019,
          2020,
          2021,
          2022,
          2023
         ],
         "y": [
          313.506162536,
          828.1265808078,
          1010.2852053935,
          762.7529698685,
          838.3683947223,
          821.7113703417,
          705.5744411119,
          839.153247407,
          743.4584853921,
          520.020264474,
          1062.969360674,
          1087.064176059,
          1337.123720126,
          801.6803796945,
          600.7490134274
         ]
        },
        {
         "mode": "lines+markers",
         "name": "Meerut",
         "type": "scatter",
         "visible": "legendonly",
         "x": [
          2009,
          2010,
          2011,
          2012,
          2013,
          2014,
          2015,
          2016,
          2017,
          2018,
          2019,
          2020,
          2021,
          2022,
          2023
         ],
         "y": [
          347.023389275,
          1256.9150754581,
          762.4419491649,
          545.3539405168,
          997.9615838412,
          570.4934986234,
          748.8800882051,
          707.3658456561,
          801.2072232829,
          928.318806214,
          714.046985905,
          689.338582505,
          940.0477315229,
          918.8514702045,
          976.5240495704
         ]
        },
        {
         "mode": "lines+markers",
         "name": "Mirzapur",
         "type": "scatter",
         "visible": "legendonly",
         "x": [
          2009,
          2010,
          2011,
          2012,
          2013,
          2014,
          2015,
          2016,
          2017,
          2018,
          2019,
          2020,
          2021,
          2022,
          2023
         ],
         "y": [
          461.36806523399997,
          915.8982234308,
          1174.6911392453,
          924.962512464,
          886.7931956511,
          711.5735234328,
          691.0295090258,
          1197.2812133889,
          656.091264992,
          996.357420285,
          1263.689677685,
          1037.85354922,
          1116.078828341,
          759.6160826894,
          528.5379668705
         ]
        },
        {
         "mode": "lines+markers",
         "name": "Moradabad",
         "type": "scatter",
         "visible": "legendonly",
         "x": [
          2009,
          2010,
          2011,
          2012,
          2013,
          2014,
          2015,
          2016,
          2017,
          2018,
          2019,
          2020,
          2021,
          2022,
          2023
         ],
         "y": [
          594.217742015,
          1696.9756648044,
          1704.3484600462,
          850.1870208286,
          967.4972634513,
          626.1922279058,
          643.8805571237,
          786.5230809142,
          671.6991336299,
          778.710252265,
          746.635381018,
          692.113883154,
          801.590456629,
          701.8558617399,
          1120.1755296771
         ]
        },
        {
         "mode": "lines+markers",
         "name": "Muzaffarnagar",
         "type": "scatter",
         "visible": "legendonly",
         "x": [
          2009,
          2010,
          2011,
          2012,
          2013,
          2014,
          2015,
          2016,
          2017,
          2018,
          2019,
          2020,
          2021,
          2022,
          2023
         ],
         "y": [
          473.61848588,
          1648.6528813533,
          827.4694192933,
          546.8311378367,
          1137.8789644001,
          673.89694523,
          884.1552314675,
          798.6341559439,
          880.4861939994,
          1101.1002505879999,
          845.037395244,
          939.06899447,
          987.400066964,
          905.4217675343,
          1081.173168072
         ]
        },
        {
         "mode": "lines+markers",
         "name": "Pilibhit",
         "type": "scatter",
         "visible": "legendonly",
         "x": [
          2009,
          2010,
          2011,
          2012,
          2013,
          2014,
          2015,
          2016,
          2017,
          2018,
          2019,
          2020,
          2021,
          2022,
          2023
         ],
         "y": [
          1258.444608114,
          1949.7536058183,
          910.2041338771,
          967.1036451412,
          1267.4804832179,
          795.5878300424,
          969.2574308472,
          1121.995705836,
          1157.7927869909,
          1426.833802741,
          976.415399503,
          1101.237220568,
          1355.227804707,
          873.7196258694,
          921.8526096657
         ]
        },
        {
         "mode": "lines+markers",
         "name": "Pratapgarh",
         "type": "scatter",
         "visible": "legendonly",
         "x": [
          2009,
          2010,
          2011,
          2012,
          2013,
          2014,
          2015,
          2016,
          2017,
          2018,
          2019,
          2020,
          2021,
          2022,
          2023
         ],
         "y": [
          1347.295096238,
          1573.1208483768,
          2191.263433083,
          2161.6356621126,
          2225.6656615088,
          1412.3071606862,
          1404.2228549582,
          2008.4676281702,
          1839.8701515902,
          1978.64007774,
          3149.946841316,
          1158.086696195,
          2539.4857812239998,
          2022.0516120699,
          1426.7907349232
         ]
        },
        {
         "mode": "lines+markers",
         "name": "Prayagraj",
         "type": "scatter",
         "visible": "legendonly",
         "x": [
          2009,
          2010,
          2011,
          2012,
          2013,
          2014,
          2015,
          2016,
          2017,
          2018,
          2019,
          2020,
          2021,
          2022,
          2023
         ],
         "y": [
          516.801082992,
          937.0354156638,
          1256.6142459649,
          1099.719448844,
          1100.9238877582,
          754.91901902,
          655.5940815691,
          934.7876643173,
          614.5961294598,
          824.8067045619999,
          1184.753236095,
          805.113617873,
          1083.194199402,
          605.9837390322,
          509.3223263826
         ]
        },
        {
         "mode": "lines+markers",
         "name": "Rae Bareli",
         "type": "scatter",
         "visible": "legendonly",
         "x": [
          2009,
          2010,
          2011,
          2012,
          2013,
          2014,
          2015,
          2016,
          2017,
          2018,
          2019,
          2020,
          2021,
          2022,
          2023
         ],
         "y": [
          428.910818974,
          777.9173474671001,
          1086.3527631145,
          1035.5023076731,
          773.2966215947,
          382.3407454613,
          202.54438674280001,
          697.7514911498,
          522.8798459363001,
          821.382285435,
          990.9588438320001,
          792.485862858,
          839.326662981,
          554.2806940082,
          666.3066580814
         ]
        },
        {
         "mode": "lines+markers",
         "name": "Rampur",
         "type": "scatter",
         "visible": "legendonly",
         "x": [
          2009,
          2010,
          2011,
          2012,
          2013,
          2014,
          2015,
          2016,
          2017,
          2018,
          2019,
          2020,
          2021,
          2022,
          2023
         ],
         "y": [
          950.3649892992,
          1854.0089431872,
          1807.4260015414,
          909.8773043407,
          1373.3010937848,
          828.7564455609,
          920.4857561619999,
          1135.4150206719,
          1036.913606999,
          1219.589076224,
          1047.33874787,
          976.57727889,
          1149.104763196,
          820.1623914251,
          1050.3820555276
         ]
        },
        {
         "mode": "lines+markers",
         "name": "Saharanpur",
         "type": "scatter",
         "visible": "legendonly",
         "x": [
          2009,
          2010,
          2011,
          2012,
          2013,
          2014,
          2015,
          2016,
          2017,
          2018,
          2019,
          2020,
          2021,
          2022,
          2023
         ],
         "y": [
          1028.5869022377,
          2628.0604702622,
          1332.988723212,
          1148.8424773274,
          1782.2691099216,
          848.172361515,
          939.8323868234,
          894.35390586,
          1063.5204674037,
          1196.154826723,
          851.528635356,
          938.226893409,
          1125.964889026,
          917.9775520039,
          1242.6280753478
         ]
        },
        {
         "mode": "lines+markers",
         "name": "Sambhal",
         "type": "scatter",
         "visible": "legendonly",
         "x": [
          2009,
          2010,
          2011,
          2012,
          2013,
          2014,
          2015,
          2016,
          2017,
          2018,
          2019,
          2020,
          2021,
          2022,
          2023
         ],
         "y": [
          610.142687006,
          1518.6192160799,
          1282.3676499234,
          763.3429723621,
          815.2404006876,
          494.52701825089997,
          730.2121874707,
          752.1833401349,
          616.8574071225,
          768.109211412,
          624.163190303,
          589.300278141,
          792.912172003,
          790.6562506769,
          1024.2043211915
         ]
        },
        {
         "mode": "lines+markers",
         "name": "Sant Kabeer Nagar",
         "type": "scatter",
         "visible": "legendonly",
         "x": [
          2009,
          2010,
          2011,
          2012,
          2013,
          2014,
          2015,
          2016,
          2017,
          2018,
          2019,
          2020,
          2021,
          2022,
          2023
         ],
         "y": [
          819.217515555,
          1118.7822058837,
          1207.685708281,
          1173.3334147307,
          1301.5146431704,
          891.6794134003001,
          631.957318604,
          1053.4377295714,
          889.9544861139,
          735.048243938,
          1054.079226602,
          1265.667226209,
          1513.335398061,
          733.8688866067,
          597.9105132444
         ]
        },
        {
         "mode": "lines+markers",
         "name": "Shahjahanpur",
         "type": "scatter",
         "visible": "legendonly",
         "x": [
          2009,
          2010,
          2011,
          2012,
          2013,
          2014,
          2015,
          2016,
          2017,
          2018,
          2019,
          2020,
          2021,
          2022,
          2023
         ],
         "y": [
          1067.506787404,
          1492.6739615951,
          726.2058079133,
          965.9985652048,
          1119.7032508692,
          573.9054005696,
          683.9844737807999,
          734.028234984,
          644.8482374588,
          911.132161301,
          685.173783125,
          700.437039597,
          878.048723141,
          611.7922421847001,
          640.3538272758
         ]
        },
        {
         "mode": "lines+markers",
         "name": "Shamli",
         "type": "scatter",
         "visible": "legendonly",
         "x": [
          2009,
          2010,
          2011,
          2012,
          2013,
          2014,
          2015,
          2016,
          2017,
          2018,
          2019,
          2020,
          2021,
          2022,
          2023
         ],
         "y": [
          398.347395407,
          1178.2908500876,
          685.5790158073,
          527.4960231009,
          1164.8719521312,
          526.2604376311,
          714.0061236927,
          539.4763759625,
          587.2654762026,
          893.258750219,
          566.041104715,
          695.65589928,
          868.316929318,
          595.3902560422,
          573.9255988392
         ]
        },
        {
         "mode": "lines+markers",
         "name": "Shravasti",
         "type": "scatter",
         "visible": "legendonly",
         "x": [
          2009,
          2010,
          2011,
          2012,
          2013,
          2014,
          2015,
          2016,
          2017,
          2018,
          2019,
          2020,
          2021,
          2022,
          2023
         ],
         "y": [
          1214.35491706,
          1248.7325490569,
          915.0201487966,
          1024.098956738,
          1245.0448015093,
          1176.2855789395,
          733.8288868579,
          1091.3425161625,
          946.0073420091001,
          1128.242487385,
          1449.715332937,
          1229.292340731,
          1757.365345884,
          868.3085337097,
          895.1256233979
         ]
        },
        {
         "mode": "lines+markers",
         "name": "Siddharth Nagar",
         "type": "scatter",
         "visible": "legendonly",
         "x": [
          2009,
          2010,
          2011,
          2012,
          2013,
          2014,
          2015,
          2016,
          2017,
          2018,
          2019,
          2020,
          2021,
          2022,
          2023
         ],
         "y": [
          764.614297818,
          835.4236049948,
          848.4174113631,
          1197.803350443,
          881.9266958674,
          745.4412906136,
          485.2630949593,
          821.659583153,
          930.0627582947001,
          775.109782726,
          924.078642843,
          1361.289876824,
          1509.928346285,
          796.7660622815,
          703.0178312301
         ]
        },
        {
         "mode": "lines+markers",
         "name": "Sitapur",
         "type": "scatter",
         "visible": "legendonly",
         "x": [
          2009,
          2010,
          2011,
          2012,
          2013,
          2014,
          2015,
          2016,
          2017,
          2018,
          2019,
          2020,
          2021,
          2022,
          2023
         ],
         "y": [
          1026.842767051,
          1297.5595210898,
          738.8767111885,
          987.820482631,
          1164.251056616,
          965.1801720093,
          753.5549046913,
          813.9401097124,
          690.5154544192,
          823.577370043,
          720.592503198,
          738.963735629,
          1291.382654586,
          926.0088476253001,
          708.2560132467
         ]
        },
        {
         "mode": "lines+markers",
         "name": "Sonbhadra",
         "type": "scatter",
         "visible": "legendonly",
         "x": [
          2009,
          2010,
          2011,
          2012,
          2013,
          2014,
          2015,
          2016,
          2017,
          2018,
          2019,
          2020,
          2021,
          2022,
          2023
         ],
         "y": [
          577.292305787,
          675.9770177988,
          1233.5335961007,
          1049.8742331661,
          977.7601279215,
          792.3773918996,
          698.9965308787,
          1356.3327574282,
          719.8704342271,
          936.623412367,
          969.731876951,
          1002.346107938,
          1029.659472291,
          673.7623788026,
          594.8616938453
         ]
        },
        {
         "mode": "lines+markers",
         "name": "Sultanpur",
         "type": "scatter",
         "visible": "legendonly",
         "x": [
          2009,
          2010,
          2011,
          2012,
          2013,
          2014,
          2015,
          2016,
          2017,
          2018,
          2019,
          2020,
          2021,
          2022,
          2023
         ],
         "y": [
          484.041363615,
          946.6009870724,
          1043.7357644977,
          973.4586883542,
          1148.7371163158,
          633.8711229098,
          478.8602431322,
          728.1505718342,
          607.7700326238,
          684.04054851,
          847.061370767,
          992.671196333,
          898.209941307,
          719.7111747568,
          550.0649257288
         ]
        },
        {
         "mode": "lines+markers",
         "name": "Unnao",
         "type": "scatter",
         "visible": "legendonly",
         "x": [
          2009,
          2010,
          2011,
          2012,
          2013,
          2014,
          2015,
          2016,
          2017,
          2018,
          2019,
          2020,
          2021,
          2022,
          2023
         ],
         "y": [
          692.553495838,
          1066.6641892842001,
          1034.1434485893,
          928.1800725898,
          719.7589691038,
          446.3249015297,
          417.32432311089997,
          578.739853786,
          476.6230328296,
          731.157399124,
          706.750688711,
          850.790174414,
          708.163615582,
          603.2352982398,
          566.7448892965
         ]
        },
        {
         "mode": "lines+markers",
         "name": "Varanasi",
         "type": "scatter",
         "visible": "legendonly",
         "x": [
          2009,
          2010,
          2011,
          2012,
          2013,
          2014,
          2015,
          2016,
          2017,
          2018,
          2019,
          2020,
          2021,
          2022,
          2023
         ],
         "y": [
          478.703564561,
          727.756371877,
          1094.9920677442,
          829.351180383,
          893.5659553223,
          787.1003377428,
          771.3951086982,
          944.5133453806,
          707.3293391829,
          847.440415665,
          1112.819961899,
          1111.895903289,
          1010.926785396,
          889.719192264,
          625.1363543111
         ]
        }
       ],
       "layout": {
        "legend": {
         "tracegroupgap": 0,
         "traceorder": "normal",
         "x": 1.05,
         "y": 1
        },
        "margin": {
         "b": 0,
         "l": 0,
         "r": 0,
         "t": 50
        },
        "plot_bgcolor": "white",
        "template": {
         "data": {
          "bar": [
           {
            "error_x": {
             "color": "#2a3f5f"
            },
            "error_y": {
             "color": "#2a3f5f"
            },
            "marker": {
             "line": {
              "color": "#E5ECF6",
              "width": 0.5
             },
             "pattern": {
              "fillmode": "overlay",
              "size": 10,
              "solidity": 0.2
             }
            },
            "type": "bar"
           }
          ],
          "barpolar": [
           {
            "marker": {
             "line": {
              "color": "#E5ECF6",
              "width": 0.5
             },
             "pattern": {
              "fillmode": "overlay",
              "size": 10,
              "solidity": 0.2
             }
            },
            "type": "barpolar"
           }
          ],
          "carpet": [
           {
            "aaxis": {
             "endlinecolor": "#2a3f5f",
             "gridcolor": "white",
             "linecolor": "white",
             "minorgridcolor": "white",
             "startlinecolor": "#2a3f5f"
            },
            "baxis": {
             "endlinecolor": "#2a3f5f",
             "gridcolor": "white",
             "linecolor": "white",
             "minorgridcolor": "white",
             "startlinecolor": "#2a3f5f"
            },
            "type": "carpet"
           }
          ],
          "choropleth": [
           {
            "colorbar": {
             "outlinewidth": 0,
             "ticks": ""
            },
            "type": "choropleth"
           }
          ],
          "contour": [
           {
            "colorbar": {
             "outlinewidth": 0,
             "ticks": ""
            },
            "colorscale": [
             [
              0,
              "#0d0887"
             ],
             [
              0.1111111111111111,
              "#46039f"
             ],
             [
              0.2222222222222222,
              "#7201a8"
             ],
             [
              0.3333333333333333,
              "#9c179e"
             ],
             [
              0.4444444444444444,
              "#bd3786"
             ],
             [
              0.5555555555555556,
              "#d8576b"
             ],
             [
              0.6666666666666666,
              "#ed7953"
             ],
             [
              0.7777777777777778,
              "#fb9f3a"
             ],
             [
              0.8888888888888888,
              "#fdca26"
             ],
             [
              1,
              "#f0f921"
             ]
            ],
            "type": "contour"
           }
          ],
          "contourcarpet": [
           {
            "colorbar": {
             "outlinewidth": 0,
             "ticks": ""
            },
            "type": "contourcarpet"
           }
          ],
          "heatmap": [
           {
            "colorbar": {
             "outlinewidth": 0,
             "ticks": ""
            },
            "colorscale": [
             [
              0,
              "#0d0887"
             ],
             [
              0.1111111111111111,
              "#46039f"
             ],
             [
              0.2222222222222222,
              "#7201a8"
             ],
             [
              0.3333333333333333,
              "#9c179e"
             ],
             [
              0.4444444444444444,
              "#bd3786"
             ],
             [
              0.5555555555555556,
              "#d8576b"
             ],
             [
              0.6666666666666666,
              "#ed7953"
             ],
             [
              0.7777777777777778,
              "#fb9f3a"
             ],
             [
              0.8888888888888888,
              "#fdca26"
             ],
             [
              1,
              "#f0f921"
             ]
            ],
            "type": "heatmap"
           }
          ],
          "heatmapgl": [
           {
            "colorbar": {
             "outlinewidth": 0,
             "ticks": ""
            },
            "colorscale": [
             [
              0,
              "#0d0887"
             ],
             [
              0.1111111111111111,
              "#46039f"
             ],
             [
              0.2222222222222222,
              "#7201a8"
             ],
             [
              0.3333333333333333,
              "#9c179e"
             ],
             [
              0.4444444444444444,
              "#bd3786"
             ],
             [
              0.5555555555555556,
              "#d8576b"
             ],
             [
              0.6666666666666666,
              "#ed7953"
             ],
             [
              0.7777777777777778,
              "#fb9f3a"
             ],
             [
              0.8888888888888888,
              "#fdca26"
             ],
             [
              1,
              "#f0f921"
             ]
            ],
            "type": "heatmapgl"
           }
          ],
          "histogram": [
           {
            "marker": {
             "pattern": {
              "fillmode": "overlay",
              "size": 10,
              "solidity": 0.2
             }
            },
            "type": "histogram"
           }
          ],
          "histogram2d": [
           {
            "colorbar": {
             "outlinewidth": 0,
             "ticks": ""
            },
            "colorscale": [
             [
              0,
              "#0d0887"
             ],
             [
              0.1111111111111111,
              "#46039f"
             ],
             [
              0.2222222222222222,
              "#7201a8"
             ],
             [
              0.3333333333333333,
              "#9c179e"
             ],
             [
              0.4444444444444444,
              "#bd3786"
             ],
             [
              0.5555555555555556,
              "#d8576b"
             ],
             [
              0.6666666666666666,
              "#ed7953"
             ],
             [
              0.7777777777777778,
              "#fb9f3a"
             ],
             [
              0.8888888888888888,
              "#fdca26"
             ],
             [
              1,
              "#f0f921"
             ]
            ],
            "type": "histogram2d"
           }
          ],
          "histogram2dcontour": [
           {
            "colorbar": {
             "outlinewidth": 0,
             "ticks": ""
            },
            "colorscale": [
             [
              0,
              "#0d0887"
             ],
             [
              0.1111111111111111,
              "#46039f"
             ],
             [
              0.2222222222222222,
              "#7201a8"
             ],
             [
              0.3333333333333333,
              "#9c179e"
             ],
             [
              0.4444444444444444,
              "#bd3786"
             ],
             [
              0.5555555555555556,
              "#d8576b"
             ],
             [
              0.6666666666666666,
              "#ed7953"
             ],
             [
              0.7777777777777778,
              "#fb9f3a"
             ],
             [
              0.8888888888888888,
              "#fdca26"
             ],
             [
              1,
              "#f0f921"
             ]
            ],
            "type": "histogram2dcontour"
           }
          ],
          "mesh3d": [
           {
            "colorbar": {
             "outlinewidth": 0,
             "ticks": ""
            },
            "type": "mesh3d"
           }
          ],
          "parcoords": [
           {
            "line": {
             "colorbar": {
              "outlinewidth": 0,
              "ticks": ""
             }
            },
            "type": "parcoords"
           }
          ],
          "pie": [
           {
            "automargin": true,
            "type": "pie"
           }
          ],
          "scatter": [
           {
            "fillpattern": {
             "fillmode": "overlay",
             "size": 10,
             "solidity": 0.2
            },
            "type": "scatter"
           }
          ],
          "scatter3d": [
           {
            "line": {
             "colorbar": {
              "outlinewidth": 0,
              "ticks": ""
             }
            },
            "marker": {
             "colorbar": {
              "outlinewidth": 0,
              "ticks": ""
             }
            },
            "type": "scatter3d"
           }
          ],
          "scattercarpet": [
           {
            "marker": {
             "colorbar": {
              "outlinewidth": 0,
              "ticks": ""
             }
            },
            "type": "scattercarpet"
           }
          ],
          "scattergeo": [
           {
            "marker": {
             "colorbar": {
              "outlinewidth": 0,
              "ticks": ""
             }
            },
            "type": "scattergeo"
           }
          ],
          "scattergl": [
           {
            "marker": {
             "colorbar": {
              "outlinewidth": 0,
              "ticks": ""
             }
            },
            "type": "scattergl"
           }
          ],
          "scattermapbox": [
           {
            "marker": {
             "colorbar": {
              "outlinewidth": 0,
              "ticks": ""
             }
            },
            "type": "scattermapbox"
           }
          ],
          "scatterpolar": [
           {
            "marker": {
             "colorbar": {
              "outlinewidth": 0,
              "ticks": ""
             }
            },
            "type": "scatterpolar"
           }
          ],
          "scatterpolargl": [
           {
            "marker": {
             "colorbar": {
              "outlinewidth": 0,
              "ticks": ""
             }
            },
            "type": "scatterpolargl"
           }
          ],
          "scatterternary": [
           {
            "marker": {
             "colorbar": {
              "outlinewidth": 0,
              "ticks": ""
             }
            },
            "type": "scatterternary"
           }
          ],
          "surface": [
           {
            "colorbar": {
             "outlinewidth": 0,
             "ticks": ""
            },
            "colorscale": [
             [
              0,
              "#0d0887"
             ],
             [
              0.1111111111111111,
              "#46039f"
             ],
             [
              0.2222222222222222,
              "#7201a8"
             ],
             [
              0.3333333333333333,
              "#9c179e"
             ],
             [
              0.4444444444444444,
              "#bd3786"
             ],
             [
              0.5555555555555556,
              "#d8576b"
             ],
             [
              0.6666666666666666,
              "#ed7953"
             ],
             [
              0.7777777777777778,
              "#fb9f3a"
             ],
             [
              0.8888888888888888,
              "#fdca26"
             ],
             [
              1,
              "#f0f921"
             ]
            ],
            "type": "surface"
           }
          ],
          "table": [
           {
            "cells": {
             "fill": {
              "color": "#EBF0F8"
             },
             "line": {
              "color": "white"
             }
            },
            "header": {
             "fill": {
              "color": "#C8D4E3"
             },
             "line": {
              "color": "white"
             }
            },
            "type": "table"
           }
          ]
         },
         "layout": {
          "annotationdefaults": {
           "arrowcolor": "#2a3f5f",
           "arrowhead": 0,
           "arrowwidth": 1
          },
          "autotypenumbers": "strict",
          "coloraxis": {
           "colorbar": {
            "outlinewidth": 0,
            "ticks": ""
           }
          },
          "colorscale": {
           "diverging": [
            [
             0,
             "#8e0152"
            ],
            [
             0.1,
             "#c51b7d"
            ],
            [
             0.2,
             "#de77ae"
            ],
            [
             0.3,
             "#f1b6da"
            ],
            [
             0.4,
             "#fde0ef"
            ],
            [
             0.5,
             "#f7f7f7"
            ],
            [
             0.6,
             "#e6f5d0"
            ],
            [
             0.7,
             "#b8e186"
            ],
            [
             0.8,
             "#7fbc41"
            ],
            [
             0.9,
             "#4d9221"
            ],
            [
             1,
             "#276419"
            ]
           ],
           "sequential": [
            [
             0,
             "#0d0887"
            ],
            [
             0.1111111111111111,
             "#46039f"
            ],
            [
             0.2222222222222222,
             "#7201a8"
            ],
            [
             0.3333333333333333,
             "#9c179e"
            ],
            [
             0.4444444444444444,
             "#bd3786"
            ],
            [
             0.5555555555555556,
             "#d8576b"
            ],
            [
             0.6666666666666666,
             "#ed7953"
            ],
            [
             0.7777777777777778,
             "#fb9f3a"
            ],
            [
             0.8888888888888888,
             "#fdca26"
            ],
            [
             1,
             "#f0f921"
            ]
           ],
           "sequentialminus": [
            [
             0,
             "#0d0887"
            ],
            [
             0.1111111111111111,
             "#46039f"
            ],
            [
             0.2222222222222222,
             "#7201a8"
            ],
            [
             0.3333333333333333,
             "#9c179e"
            ],
            [
             0.4444444444444444,
             "#bd3786"
            ],
            [
             0.5555555555555556,
             "#d8576b"
            ],
            [
             0.6666666666666666,
             "#ed7953"
            ],
            [
             0.7777777777777778,
             "#fb9f3a"
            ],
            [
             0.8888888888888888,
             "#fdca26"
            ],
            [
             1,
             "#f0f921"
            ]
           ]
          },
          "colorway": [
           "#636efa",
           "#EF553B",
           "#00cc96",
           "#ab63fa",
           "#FFA15A",
           "#19d3f3",
           "#FF6692",
           "#B6E880",
           "#FF97FF",
           "#FECB52"
          ],
          "font": {
           "color": "#2a3f5f"
          },
          "geo": {
           "bgcolor": "white",
           "lakecolor": "white",
           "landcolor": "#E5ECF6",
           "showlakes": true,
           "showland": true,
           "subunitcolor": "white"
          },
          "hoverlabel": {
           "align": "left"
          },
          "hovermode": "closest",
          "mapbox": {
           "style": "light"
          },
          "paper_bgcolor": "white",
          "plot_bgcolor": "#E5ECF6",
          "polar": {
           "angularaxis": {
            "gridcolor": "white",
            "linecolor": "white",
            "ticks": ""
           },
           "bgcolor": "#E5ECF6",
           "radialaxis": {
            "gridcolor": "white",
            "linecolor": "white",
            "ticks": ""
           }
          },
          "scene": {
           "xaxis": {
            "backgroundcolor": "#E5ECF6",
            "gridcolor": "white",
            "gridwidth": 2,
            "linecolor": "white",
            "showbackground": true,
            "ticks": "",
            "zerolinecolor": "white"
           },
           "yaxis": {
            "backgroundcolor": "#E5ECF6",
            "gridcolor": "white",
            "gridwidth": 2,
            "linecolor": "white",
            "showbackground": true,
            "ticks": "",
            "zerolinecolor": "white"
           },
           "zaxis": {
            "backgroundcolor": "#E5ECF6",
            "gridcolor": "white",
            "gridwidth": 2,
            "linecolor": "white",
            "showbackground": true,
            "ticks": "",
            "zerolinecolor": "white"
           }
          },
          "shapedefaults": {
           "line": {
            "color": "#2a3f5f"
           }
          },
          "ternary": {
           "aaxis": {
            "gridcolor": "white",
            "linecolor": "white",
            "ticks": ""
           },
           "baxis": {
            "gridcolor": "white",
            "linecolor": "white",
            "ticks": ""
           },
           "bgcolor": "#E5ECF6",
           "caxis": {
            "gridcolor": "white",
            "linecolor": "white",
            "ticks": ""
           }
          },
          "title": {
           "x": 0.05
          },
          "xaxis": {
           "automargin": true,
           "gridcolor": "white",
           "linecolor": "white",
           "ticks": "",
           "title": {
            "standoff": 15
           },
           "zerolinecolor": "white",
           "zerolinewidth": 2
          },
          "yaxis": {
           "automargin": true,
           "gridcolor": "white",
           "linecolor": "white",
           "ticks": "",
           "title": {
            "standoff": 15
           },
           "zerolinecolor": "white",
           "zerolinewidth": 2
          }
         }
        },
        "title": {
         "text": "Uttar Pradesh"
        },
        "updatemenus": [
         {
          "buttons": [
           {
            "args": [
             {
              "visible": [
               true,
               true,
               true,
               true,
               true,
               true,
               true,
               true,
               true,
               true,
               true,
               true,
               true,
               true,
               true,
               true,
               true,
               true,
               true,
               true,
               true,
               true,
               true,
               true,
               true,
               true,
               true,
               true,
               true,
               true,
               true,
               true,
               true,
               true,
               true,
               true,
               true,
               true,
               true,
               true,
               true,
               true,
               true,
               true,
               true,
               true,
               true,
               true,
               true,
               true,
               true,
               true,
               true,
               true,
               true,
               true,
               true,
               true,
               true,
               true,
               true,
               true,
               true,
               true,
               true,
               true,
               true,
               true,
               true,
               true,
               true,
               true,
               true,
               true,
               true
              ]
             },
             {
              "title": "All Districts"
             }
            ],
            "label": "All",
            "method": "update"
           },
           {
            "args": [
             {
              "visible": [
               false,
               false,
               false,
               false,
               false,
               false,
               false,
               false,
               false,
               false,
               false,
               false,
               false,
               false,
               false,
               false,
               false,
               false,
               false,
               false,
               false,
               false,
               false,
               false,
               false,
               false,
               false,
               false,
               false,
               false,
               false,
               false,
               false,
               false,
               false,
               false,
               false,
               false,
               false,
               false,
               false,
               false,
               false,
               false,
               false,
               false,
               false,
               false,
               false,
               false,
               false,
               false,
               false,
               false,
               false,
               false,
               false,
               false,
               false,
               false,
               false,
               false,
               false,
               false,
               false,
               false,
               false,
               false,
               false,
               false,
               false,
               false,
               false,
               false,
               false
              ]
             },
             {
              "title": "No District"
             }
            ],
            "label": "None",
            "method": "update"
           }
          ],
          "direction": "left",
          "pad": {
           "r": 10,
           "t": 10
          },
          "showactive": true,
          "type": "buttons",
          "x": 0.05,
          "xanchor": "left",
          "y": 1.15,
          "yanchor": "top"
         }
        ],
        "xaxis": {
         "gridcolor": "lightgray",
         "gridwidth": 1,
         "showgrid": true,
         "tickmode": "array",
         "ticktext": [
          2009,
          2010,
          2011,
          2012,
          2013,
          2014,
          2015,
          2016,
          2017,
          2018,
          2019,
          2020,
          2021,
          2022,
          2023
         ],
         "tickvals": [
          2009,
          2010,
          2011,
          2012,
          2013,
          2014,
          2015,
          2016,
          2017,
          2018,
          2019,
          2020,
          2021,
          2022,
          2023
         ],
         "title": {
          "text": "Year"
         }
        },
        "yaxis": {
         "gridcolor": "lightgray",
         "gridwidth": 1,
         "showgrid": true,
         "title": {
          "text": "Average Rainfall in mm"
         }
        }
       }
      }
     },
     "metadata": {},
     "output_type": "display_data"
    }
   ],
   "source": [
    "import pandas as pd\n",
    "import plotly.graph_objects as go\n",
    "\n",
    "states = ['Andhra Pradesh' , 'Bihar', 'Gujarat', 'Maharashtra', 'Telangana', 'Uttar Pradesh']\n",
    "\n",
    "for st in states:\n",
    "    df = pd.read_csv('../states/'+ st+'.csv')\n",
    "    districts = sorted(df['District'].unique())\n",
    "    print(st)\n",
    "    print(districts)\n",
    "    fig = go.Figure()\n",
    "\n",
    "    # Read the dataset and add traces\n",
    "    for i in districts:\n",
    "        data = pd.read_csv('../districts/'+i+'.csv',parse_dates= True)\n",
    "        data = data.sort_values(by=\"Date\", ascending=True)\n",
    "        yearly_sum = data.groupby('Year')['Avg_rainfall'].sum()\n",
    "        fig.add_trace(go.Scatter(x=yearly_sum.index, y=yearly_sum.values, mode='lines+markers', name=i, visible='legendonly'))\n",
    "    \n",
    "\n",
    "    years = list(range(int(min(yearly_sum.index)), int(max(yearly_sum.index)) + 1, 1))  # Adjust the range and step as needed1\n",
    "    fig.update_xaxes(tickmode='array', tickvals=years, ticktext=years)\n",
    "\n",
    "    # Update layout\n",
    "    fig.update_layout(\n",
    "        title=st,\n",
    "        xaxis=dict(title='Year', showgrid=True, gridwidth=1, gridcolor='lightgray'),\n",
    "        yaxis=dict(title='Average Rainfall in mm', showgrid=True, gridwidth=1, gridcolor='lightgray'),\n",
    "        legend=dict(x=1.05, y=1, traceorder='normal'),\n",
    "        margin=dict(l=0, r=0, t=50, b=0),\n",
    "        plot_bgcolor='white'\n",
    "    )\n",
    "    fig.update_layout(\n",
    "        legend=dict(\n",
    "            tracegroupgap=0,\n",
    "        ),\n",
    "        updatemenus=[\n",
    "            dict(\n",
    "                type=\"buttons\",\n",
    "                direction=\"left\",\n",
    "                buttons=list([\n",
    "                    dict(label=\"All\",\n",
    "                        method=\"update\",\n",
    "                        args=[{\"visible\": [True] * len(districts)},\n",
    "                            {\"title\": \"All Districts\"}]),\n",
    "                    dict(label=\"None\",\n",
    "                        method=\"update\",\n",
    "                        args=[{\"visible\": [False] * len(districts)},\n",
    "                            {\"title\": \"No District\"}])\n",
    "                ]),\n",
    "                pad={\"r\": 10, \"t\": 10},\n",
    "                showactive=True,\n",
    "                x=0.05,\n",
    "                xanchor=\"left\",\n",
    "                y=1.15,\n",
    "                yanchor=\"top\"\n",
    "            ),\n",
    "        ]\n",
    "    )\n",
    "\n",
    "    def create_legend_callback(index):\n",
    "        def callback(trace, points, selector):\n",
    "            for i in range(len(fig.data)):\n",
    "                if i == index:\n",
    "                    fig.data[i].visible = True\n",
    "                else:\n",
    "                    fig.data[i].visible = False\n",
    "        return callback\n",
    "\n",
    "    for i, _ in enumerate(fig.data):\n",
    "        fig.data[i].on_click(create_legend_callback(i))\n",
    "\n",
    "\n",
    "\n",
    "    fig.show()\n"
   ]
  },
  {
   "cell_type": "code",
   "execution_count": 1,
   "metadata": {},
   "outputs": [
    {
     "data": {
      "text/plain": [
       "<matplotlib.legend.Legend at 0x184b8503ef0>"
      ]
     },
     "execution_count": 1,
     "metadata": {},
     "output_type": "execute_result"
    },
    {
     "data": {
      "image/png": "[encoded data removed]",
      "text/plain": [
       "<Figure size 1000x600 with 1 Axes>"
      ]
     },
     "metadata": {},
     "output_type": "display_data"
    }
   ],
   "source": [
    "import pandas as pd\n",
    "import matplotlib.pyplot as plt\n",
    "\n",
    "fig = plt.figure(figsize=(10, 6), dpi = 100)\n",
    "ax = fig.add_axes([0,0,1,1])\n",
    "\n",
    "states = ['Andhra Pradesh' , 'Bihar', 'Gujarat', 'Maharashtra', 'Telangana', 'Uttar Pradesh']\n",
    "# Read the dataset\n",
    "for i in states:\n",
    "    data = pd.read_csv('../states_cumulative/'+i+'.csv',parse_dates= True)\n",
    "    data = data.sort_values(by=\"Date\", ascending=True)\n",
    "    yearly_sum = data.groupby('Year')['Average'].sum()\n",
    "    plt.plot(yearly_sum.index, yearly_sum.values, marker='o', linestyle='-', label = i)\n",
    "    plt.xticks(yearly_sum.index)\n",
    "\n",
    "ax.set_xlabel('Year')\n",
    "ax.set_ylabel('Average Rainfall in mm')\n",
    "ax.grid(True)\n",
    "ax.set_title('Group 2 Combined Plot')\n",
    "ax.legend()\n",
    "\n",
    "\n"
   ]
  }
 ],
 "metadata": {
  "kernelspec": {
   "display_name": "Python 3",
   "language": "python",
   "name": "python3"
  },
  "language_info": {
   "codemirror_mode": {
    "name": "ipython",
    "version": 3
   },
   "file_extension": ".py",
   "mimetype": "text/x-python",
   "name": "python",
   "nbconvert_exporter": "python",
   "pygments_lexer": "ipython3",
   "version": "3.12.1"
  }
 },
 "nbformat": 4,
 "nbformat_minor": 2
}
