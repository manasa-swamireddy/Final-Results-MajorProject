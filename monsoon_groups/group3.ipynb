{
 "cells": [
  {
   "cell_type": "markdown",
   "metadata": {},
   "source": [
    "Group 3: June to September\n",
    "\n",
    "Jammu & Kashmir, Himachal Pradesh, Haryana, Punjab, Jharkhand, Rajasthan, Uttarakhand, Chhattisgarh"
   ]
  },
  {
   "cell_type": "code",
   "execution_count": 10,
   "metadata": {},
   "outputs": [
    {
     "name": "stdout",
     "output_type": "stream",
     "text": [
      "Jammu & Kashmir\n",
      "['Anantnag', 'Bandipora', 'Baramulla', 'Budgam', 'Doda', 'Ganderbal', 'Jammu', 'Kathua', 'Kishtwar', 'Kulgam', 'Kupwara', 'Mirpur', 'Muzaffarabad', 'Poonch', 'Pulwama', 'Rajouri', 'Ramban', 'Reasi', 'Samba', 'Shopian', 'Srinagar', 'Udhampur']\n"
     ]
    },
    {
     "data": {
      "application/vnd.plotly.v1+json": {
       "config": {
        "plotlyServerURL": "https://plot.ly"
       },
       "data": [
        {
         "mode": "lines+markers",
         "name": "Anantnag",
         "type": "scatter",
         "visible": "legendonly",
         "x": [
          2009,
          2010,
          2011,
          2012,
          2013,
          2014,
          2015,
          2016,
          2017,
          2018,
          2019,
          2020,
          2021,
          2022,
          2023
         ],
         "y": [
          1032.588261389,
          3701.3718895211,
          1260.4644110807,
          1187.6297577155,
          987.0184851826,
          1550.3898303049,
          1566.7094284305,
          733.9438556378,
          1302.1272072927,
          974.452818209,
          1357.801863861,
          1124.336339416,
          1022.376411816,
          859.7134806268,
          1108.5788888922
         ]
        },
        {
         "mode": "lines+markers",
         "name": "Bandipora",
         "type": "scatter",
         "visible": "legendonly",
         "x": [
          2009,
          2010,
          2011,
          2012,
          2013,
          2014,
          2015,
          2016,
          2017,
          2018,
          2019,
          2020,
          2021,
          2022,
          2023
         ],
         "y": [
          659.218565017,
          3065.283796703,
          1097.1687039069,
          1070.7126489341001,
          774.1977504006,
          1124.9042242419,
          1319.21121911,
          634.22897115,
          1029.6587147722,
          881.580779103,
          1007.689197639,
          877.856619879,
          877.687008299,
          664.5812028227,
          722.0435553968
         ]
        },
        {
         "mode": "lines+markers",
         "name": "Baramulla",
         "type": "scatter",
         "visible": "legendonly",
         "x": [
          2009,
          2010,
          2011,
          2012,
          2013,
          2014,
          2015,
          2016,
          2017,
          2018,
          2019,
          2020,
          2021,
          2022,
          2023
         ],
         "y": [
          794.29752978,
          2219.8428513813,
          1094.4113851831,
          1017.8844935879,
          875.7784430498,
          1305.0690277139,
          1560.4334163325,
          807.7167050017,
          1183.2173118591,
          872.289018695,
          1362.244302836,
          1346.686135753,
          999.96395366,
          948.5275430591,
          831.4102470773
         ]
        },
        {
         "mode": "lines+markers",
         "name": "Budgam",
         "type": "scatter",
         "visible": "legendonly",
         "x": [
          2009,
          2010,
          2011,
          2012,
          2013,
          2014,
          2015,
          2016,
          2017,
          2018,
          2019,
          2020,
          2021,
          2022,
          2023
         ],
         "y": [
          885.414696503,
          1919.9999131207,
          968.0814895324,
          860.508379558,
          725.5515934056,
          1194.9783420692,
          1313.3034178664,
          620.3069363962001,
          1007.2115500321,
          731.183347692,
          1132.562054188,
          1148.675335013,
          924.990211959,
          890.7192624708,
          697.2768934387
         ]
        },
        {
         "mode": "lines+markers",
         "name": "Doda",
         "type": "scatter",
         "visible": "legendonly",
         "x": [
          2009,
          2010,
          2011,
          2012,
          2013,
          2014,
          2015,
          2016,
          2017,
          2018,
          2019,
          2020,
          2021,
          2022,
          2023
         ],
         "y": [
          1455.248437961,
          4168.1121811035,
          1123.5813646132,
          1056.9880839109999,
          1391.8699738313999,
          1450.4191631634,
          1694.3107873609,
          962.5332725634,
          1444.1792257066,
          1153.2463908070001,
          1670.551051101,
          1613.632265756,
          1003.267524265,
          1054.0309476147,
          1206.6149394939
         ]
        },
        {
         "mode": "lines+markers",
         "name": "Ganderbal",
         "type": "scatter",
         "visible": "legendonly",
         "x": [
          2009,
          2010,
          2011,
          2012,
          2013,
          2014,
          2015,
          2016,
          2017,
          2018,
          2019,
          2020,
          2021,
          2022,
          2023
         ],
         "y": [
          663.602372421,
          1911.1267227954,
          1158.18327429,
          1137.4559924138,
          777.546647266,
          1120.707567048,
          1273.2495460434,
          640.180506257,
          1030.9610760925,
          743.353336247,
          1086.652788979,
          1016.4554923110001,
          1025.564951952,
          824.5508321147,
          839.9254998715
         ]
        },
        {
         "mode": "lines+markers",
         "name": "Jammu",
         "type": "scatter",
         "visible": "legendonly",
         "x": [
          2009,
          2010,
          2011,
          2012,
          2013,
          2014,
          2015,
          2016,
          2017,
          2018,
          2019,
          2020,
          2021,
          2022,
          2023
         ],
         "y": [
          1067.090152243,
          2074.3064849311,
          1429.2004084475,
          1309.8794847097,
          2034.6546024232,
          1535.4035244123,
          1923.3002060009,
          1288.3939759989,
          1508.1921333189,
          1502.8027577340001,
          1842.119697844,
          1329.257821418,
          1528.806641234,
          1590.2012923327,
          1619.9873227695
         ]
        },
        {
         "mode": "lines+markers",
         "name": "Kathua",
         "type": "scatter",
         "visible": "legendonly",
         "x": [
          2009,
          2010,
          2011,
          2012,
          2013,
          2014,
          2015,
          2016,
          2017,
          2018,
          2019,
          2020,
          2021,
          2022,
          2023
         ],
         "y": [
          1602.933354327,
          1912.5067308732,
          1171.8676823572,
          1100.8220206011001,
          1635.1954150886,
          1147.6538977643,
          1515.7436274143,
          1188.5893548263,
          1441.8440548488,
          1418.779974585,
          1677.7255453999999,
          1609.764870155,
          1313.579355801,
          1404.4541307501,
          1388.5302423021
         ]
        },
        {
         "mode": "lines+markers",
         "name": "Kishtwar",
         "type": "scatter",
         "visible": "legendonly",
         "x": [
          2009,
          2010,
          2011,
          2012,
          2013,
          2014,
          2015,
          2016,
          2017,
          2018,
          2019,
          2020,
          2021,
          2022,
          2023
         ],
         "y": [
          1144.127647043,
          7392.7226724785005,
          1173.1759898711,
          1113.0541094745,
          1557.4788613067,
          1518.9617525119,
          1587.95733523,
          989.8244245874,
          1560.1318520862,
          1281.902814763,
          1550.325901188,
          1143.496740494,
          1022.461412632,
          823.8527242511,
          906.4772734557
         ]
        },
        {
         "mode": "lines+markers",
         "name": "Kulgam",
         "type": "scatter",
         "visible": "legendonly",
         "x": [
          2009,
          2010,
          2011,
          2012,
          2013,
          2014,
          2015,
          2016,
          2017,
          2018,
          2019,
          2020,
          2021,
          2022,
          2023
         ],
         "y": [
          1168.590420023,
          3243.3294959522,
          1274.3601060358,
          1113.1331790246,
          932.3252678018,
          1603.0728309988,
          1647.4505345609,
          718.6304003958,
          1226.7458993985,
          938.797616925,
          1476.274408472,
          1478.963297889,
          1014.185403729,
          1071.7673147534001,
          892.2720176558
         ]
        },
        {
         "mode": "lines+markers",
         "name": "Kupwara",
         "type": "scatter",
         "visible": "legendonly",
         "x": [
          2009,
          2010,
          2011,
          2012,
          2013,
          2014,
          2015,
          2016,
          2017,
          2018,
          2019,
          2020,
          2021,
          2022,
          2023
         ],
         "y": [
          676.536544293,
          2220.4120659998002,
          1100.9569055872,
          1035.3914329115,
          889.8430378552999,
          1282.0821662909,
          1588.9027650432,
          789.7536139544001,
          1103.2414665512,
          924.038638539,
          1321.415705338,
          1320.768730182,
          835.569400137,
          676.050501384,
          697.6100824711
         ]
        },
        {
         "mode": "lines+markers",
         "name": "Mirpur",
         "type": "scatter",
         "visible": "legendonly",
         "x": [
          2009,
          2010,
          2011,
          2012,
          2013,
          2014,
          2015,
          2016,
          2017,
          2018,
          2019,
          2020,
          2021,
          2022,
          2023
         ],
         "y": [
          1089.970074196,
          0,
          0,
          0,
          0,
          0,
          1818.5910988162,
          924.4521523102,
          1074.9126834166,
          915.548193716,
          1414.656686833,
          1212.964414264,
          1012.531611678,
          1135.0034586655,
          911.6340701537
         ]
        },
        {
         "mode": "lines+markers",
         "name": "Muzaffarabad",
         "type": "scatter",
         "visible": "legendonly",
         "x": [
          2009,
          2010,
          2011,
          2012,
          2013,
          2014,
          2015,
          2016,
          2017,
          2018,
          2019,
          2020,
          2021,
          2022,
          2023
         ],
         "y": [
          668.564464383,
          3131.3048080940002,
          1151.7458466268,
          1088.3298709204,
          904.2817514418,
          1302.393545785,
          1610.9814157056,
          818.722739131,
          1125.4482564976,
          912.98801006,
          1352.518702673,
          1457.4326203150001,
          882.036797307,
          799.1424388602001,
          759.668911462
         ]
        },
        {
         "mode": "lines+markers",
         "name": "Poonch",
         "type": "scatter",
         "visible": "legendonly",
         "x": [
          2009,
          2010,
          2011,
          2012,
          2013,
          2014,
          2015,
          2016,
          2017,
          2018,
          2019,
          2020,
          2021,
          2022,
          2023
         ],
         "y": [
          1025.82701281,
          3854.3230411078002,
          1510.0666594851,
          1442.418904366,
          951.2079054932,
          1380.194501343,
          1627.9717676204,
          880.4062961313,
          1136.1687876255,
          852.619345025,
          1326.346215265,
          1367.193278643,
          1012.694882647,
          1152.0746371774,
          937.7552081155
         ]
        },
        {
         "mode": "lines+markers",
         "name": "Pulwama",
         "type": "scatter",
         "visible": "legendonly",
         "x": [
          2009,
          2010,
          2011,
          2012,
          2013,
          2014,
          2015,
          2016,
          2017,
          2018,
          2019,
          2020,
          2021,
          2022,
          2023
         ],
         "y": [
          855.965732538,
          1919.5378270262,
          1162.5058038198,
          1095.7828611109,
          824.8890465695,
          1303.0316416868,
          1341.0902864265,
          626.6867390181,
          1053.041972186,
          842.362257992,
          1153.253893587,
          1084.901435445,
          921.870003054,
          809.4290293063,
          829.8317328086
         ]
        },
        {
         "mode": "lines+markers",
         "name": "Rajouri",
         "type": "scatter",
         "visible": "legendonly",
         "x": [
          2009,
          2010,
          2011,
          2012,
          2013,
          2014,
          2015,
          2016,
          2017,
          2018,
          2019,
          2020,
          2021,
          2022,
          2023
         ],
         "y": [
          1179.493804997,
          3046.2892804448,
          1543.1826500083,
          1443.0857784515,
          1801.9877252388999,
          1736.1821987839,
          1960.0787479836,
          1023.5099574095,
          1259.4079319021,
          1082.175307081,
          1771.371445788,
          1367.279176306,
          1250.111270903,
          1328.0843305429,
          1008.8056204345
         ]
        },
        {
         "mode": "lines+markers",
         "name": "Ramban",
         "type": "scatter",
         "visible": "legendonly",
         "x": [
          2009,
          2010,
          2011,
          2012,
          2013,
          2014,
          2015,
          2016,
          2017,
          2018,
          2019,
          2020,
          2021,
          2022,
          2023
         ],
         "y": [
          1251.792292305,
          3076.4320266276,
          1311.5334703777,
          1188.039956297,
          1276.0916859198,
          1856.1206838806,
          2002.4491822547,
          955.4311551794,
          1544.8479802127,
          1170.301223896,
          1776.827650948,
          1784.659491548,
          1152.064948448,
          1272.3226180001,
          1331.0270371038
         ]
        },
        {
         "mode": "lines+markers",
         "name": "Reasi",
         "type": "scatter",
         "visible": "legendonly",
         "x": [
          2009,
          2010,
          2011,
          2012,
          2013,
          2014,
          2015,
          2016,
          2017,
          2018,
          2019,
          2020,
          2021,
          2022,
          2023
         ],
         "y": [
          1220.039124774,
          3178.9705971905,
          1349.4803866913,
          1210.8697029467,
          1755.8283075589,
          1871.2879079534,
          2045.3473882435,
          1168.3610824147,
          1726.8729625657,
          1375.804065241,
          2209.826041037,
          1915.451264589,
          1590.591172976,
          1564.3153382464,
          1393.4591434186
         ]
        },
        {
         "mode": "lines+markers",
         "name": "Samba",
         "type": "scatter",
         "visible": "legendonly",
         "x": [
          2009,
          2010,
          2011,
          2012,
          2013,
          2014,
          2015,
          2016,
          2017,
          2018,
          2019,
          2020,
          2021,
          2022,
          2023
         ],
         "y": [
          1162.109899798,
          1480.27413097,
          1363.8581480205,
          1259.3709863886,
          1844.2376759645,
          1324.7388133821,
          1693.7365956816,
          1020.7677018828,
          1089.8086436423,
          1348.054365545,
          1427.371975854,
          1210.064539092,
          1268.426361705,
          1275.8924554745,
          1263.4333497830999
         ]
        },
        {
         "mode": "lines+markers",
         "name": "Shopian",
         "type": "scatter",
         "visible": "legendonly",
         "x": [
          2009,
          2010,
          2011,
          2012,
          2013,
          2014,
          2015,
          2016,
          2017,
          2018,
          2019,
          2020,
          2021,
          2022,
          2023
         ],
         "y": [
          1083.653787723,
          1579.8397854551,
          1121.3012604822,
          963.7731723442,
          731.9958887017,
          1301.1913798964,
          1288.4329184975,
          546.429416231,
          968.2441317094,
          802.220321476,
          1089.652764725,
          1208.654365595,
          823.975047034,
          817.1673771353,
          638.4324552523
         ]
        },
        {
         "mode": "lines+markers",
         "name": "Srinagar",
         "type": "scatter",
         "visible": "legendonly",
         "x": [
          2009,
          2010,
          2011,
          2012,
          2013,
          2014,
          2015,
          2016,
          2017,
          2018,
          2019,
          2020,
          2021,
          2022,
          2023
         ],
         "y": [
          695.042929906,
          1645.2239879464,
          1081.1324371056,
          1039.4245083225,
          712.5487920151,
          1068.1009696163,
          1222.6370232936,
          581.5008517169,
          968.620186902,
          712.026373293,
          1029.992438432,
          990.9954789230001,
          935.745312678,
          768.6018595281,
          763.8322612447
         ]
        },
        {
         "mode": "lines+markers",
         "name": "Udhampur",
         "type": "scatter",
         "visible": "legendonly",
         "x": [
          2009,
          2010,
          2011,
          2012,
          2013,
          2014,
          2015,
          2016,
          2017,
          2018,
          2019,
          2020,
          2021,
          2022,
          2023
         ],
         "y": [
          1341.176752515,
          2914.9162085525,
          1236.1027852014,
          1157.255166045,
          1565.3279331273,
          1686.7806189363,
          1921.4904103677,
          1037.8107897312,
          1470.131513358,
          1231.92238478,
          1842.4769485059999,
          1943.990542154,
          1222.726870698,
          1460.9586391685,
          1530.6256539505
         ]
        }
       ],
       "layout": {
        "legend": {
         "tracegroupgap": 0,
         "traceorder": "normal",
         "x": 1.05,
         "y": 1
        },
        "margin": {
         "b": 0,
         "l": 0,
         "r": 0,
         "t": 50
        },
        "plot_bgcolor": "white",
        "template": {
         "data": {
          "bar": [
           {
            "error_x": {
             "color": "#2a3f5f"
            },
            "error_y": {
             "color": "#2a3f5f"
            },
            "marker": {
             "line": {
              "color": "#E5ECF6",
              "width": 0.5
             },
             "pattern": {
              "fillmode": "overlay",
              "size": 10,
              "solidity": 0.2
             }
            },
            "type": "bar"
           }
          ],
          "barpolar": [
           {
            "marker": {
             "line": {
              "color": "#E5ECF6",
              "width": 0.5
             },
             "pattern": {
              "fillmode": "overlay",
              "size": 10,
              "solidity": 0.2
             }
            },
            "type": "barpolar"
           }
          ],
          "carpet": [
           {
            "aaxis": {
             "endlinecolor": "#2a3f5f",
             "gridcolor": "white",
             "linecolor": "white",
             "minorgridcolor": "white",
             "startlinecolor": "#2a3f5f"
            },
            "baxis": {
             "endlinecolor": "#2a3f5f",
             "gridcolor": "white",
             "linecolor": "white",
             "minorgridcolor": "white",
             "startlinecolor": "#2a3f5f"
            },
            "type": "carpet"
           }
          ],
          "choropleth": [
           {
            "colorbar": {
             "outlinewidth": 0,
             "ticks": ""
            },
            "type": "choropleth"
           }
          ],
          "contour": [
           {
            "colorbar": {
             "outlinewidth": 0,
             "ticks": ""
            },
            "colorscale": [
             [
              0,
              "#0d0887"
             ],
             [
              0.1111111111111111,
              "#46039f"
             ],
             [
              0.2222222222222222,
              "#7201a8"
             ],
             [
              0.3333333333333333,
              "#9c179e"
             ],
             [
              0.4444444444444444,
              "#bd3786"
             ],
             [
              0.5555555555555556,
              "#d8576b"
             ],
             [
              0.6666666666666666,
              "#ed7953"
             ],
             [
              0.7777777777777778,
              "#fb9f3a"
             ],
             [
              0.8888888888888888,
              "#fdca26"
             ],
             [
              1,
              "#f0f921"
             ]
            ],
            "type": "contour"
           }
          ],
          "contourcarpet": [
           {
            "colorbar": {
             "outlinewidth": 0,
             "ticks": ""
            },
            "type": "contourcarpet"
           }
          ],
          "heatmap": [
           {
            "colorbar": {
             "outlinewidth": 0,
             "ticks": ""
            },
            "colorscale": [
             [
              0,
              "#0d0887"
             ],
             [
              0.1111111111111111,
              "#46039f"
             ],
             [
              0.2222222222222222,
              "#7201a8"
             ],
             [
              0.3333333333333333,
              "#9c179e"
             ],
             [
              0.4444444444444444,
              "#bd3786"
             ],
             [
              0.5555555555555556,
              "#d8576b"
             ],
             [
              0.6666666666666666,
              "#ed7953"
             ],
             [
              0.7777777777777778,
              "#fb9f3a"
             ],
             [
              0.8888888888888888,
              "#fdca26"
             ],
             [
              1,
              "#f0f921"
             ]
            ],
            "type": "heatmap"
           }
          ],
          "heatmapgl": [
           {
            "colorbar": {
             "outlinewidth": 0,
             "ticks": ""
            },
            "colorscale": [
             [
              0,
              "#0d0887"
             ],
             [
              0.1111111111111111,
              "#46039f"
             ],
             [
              0.2222222222222222,
              "#7201a8"
             ],
             [
              0.3333333333333333,
              "#9c179e"
             ],
             [
              0.4444444444444444,
              "#bd3786"
             ],
             [
              0.5555555555555556,
              "#d8576b"
             ],
             [
              0.6666666666666666,
              "#ed7953"
             ],
             [
              0.7777777777777778,
              "#fb9f3a"
             ],
             [
              0.8888888888888888,
              "#fdca26"
             ],
             [
              1,
              "#f0f921"
             ]
            ],
            "type": "heatmapgl"
           }
          ],
          "histogram": [
           {
            "marker": {
             "pattern": {
              "fillmode": "overlay",
              "size": 10,
              "solidity": 0.2
             }
            },
            "type": "histogram"
           }
          ],
          "histogram2d": [
           {
            "colorbar": {
             "outlinewidth": 0,
             "ticks": ""
            },
            "colorscale": [
             [
              0,
              "#0d0887"
             ],
             [
              0.1111111111111111,
              "#46039f"
             ],
             [
              0.2222222222222222,
              "#7201a8"
             ],
             [
              0.3333333333333333,
              "#9c179e"
             ],
             [
              0.4444444444444444,
              "#bd3786"
             ],
             [
              0.5555555555555556,
              "#d8576b"
             ],
             [
              0.6666666666666666,
              "#ed7953"
             ],
             [
              0.7777777777777778,
              "#fb9f3a"
             ],
             [
              0.8888888888888888,
              "#fdca26"
             ],
             [
              1,
              "#f0f921"
             ]
            ],
            "type": "histogram2d"
           }
          ],
          "histogram2dcontour": [
           {
            "colorbar": {
             "outlinewidth": 0,
             "ticks": ""
            },
            "colorscale": [
             [
              0,
              "#0d0887"
             ],
             [
              0.1111111111111111,
              "#46039f"
             ],
             [
              0.2222222222222222,
              "#7201a8"
             ],
             [
              0.3333333333333333,
              "#9c179e"
             ],
             [
              0.4444444444444444,
              "#bd3786"
             ],
             [
              0.5555555555555556,
              "#d8576b"
             ],
             [
              0.6666666666666666,
              "#ed7953"
             ],
             [
              0.7777777777777778,
              "#fb9f3a"
             ],
             [
              0.8888888888888888,
              "#fdca26"
             ],
             [
              1,
              "#f0f921"
             ]
            ],
            "type": "histogram2dcontour"
           }
          ],
          "mesh3d": [
           {
            "colorbar": {
             "outlinewidth": 0,
             "ticks": ""
            },
            "type": "mesh3d"
           }
          ],
          "parcoords": [
           {
            "line": {
             "colorbar": {
              "outlinewidth": 0,
              "ticks": ""
             }
            },
            "type": "parcoords"
           }
          ],
          "pie": [
           {
            "automargin": true,
            "type": "pie"
           }
          ],
          "scatter": [
           {
            "fillpattern": {
             "fillmode": "overlay",
             "size": 10,
             "solidity": 0.2
            },
            "type": "scatter"
           }
          ],
          "scatter3d": [
           {
            "line": {
             "colorbar": {
              "outlinewidth": 0,
              "ticks": ""
             }
            },
            "marker": {
             "colorbar": {
              "outlinewidth": 0,
              "ticks": ""
             }
            },
            "type": "scatter3d"
           }
          ],
          "scattercarpet": [
           {
            "marker": {
             "colorbar": {
              "outlinewidth": 0,
              "ticks": ""
             }
            },
            "type": "scattercarpet"
           }
          ],
          "scattergeo": [
           {
            "marker": {
             "colorbar": {
              "outlinewidth": 0,
              "ticks": ""
             }
            },
            "type": "scattergeo"
           }
          ],
          "scattergl": [
           {
            "marker": {
             "colorbar": {
              "outlinewidth": 0,
              "ticks": ""
             }
            },
            "type": "scattergl"
           }
          ],
          "scattermapbox": [
           {
            "marker": {
             "colorbar": {
              "outlinewidth": 0,
              "ticks": ""
             }
            },
            "type": "scattermapbox"
           }
          ],
          "scatterpolar": [
           {
            "marker": {
             "colorbar": {
              "outlinewidth": 0,
              "ticks": ""
             }
            },
            "type": "scatterpolar"
           }
          ],
          "scatterpolargl": [
           {
            "marker": {
             "colorbar": {
              "outlinewidth": 0,
              "ticks": ""
             }
            },
            "type": "scatterpolargl"
           }
          ],
          "scatterternary": [
           {
            "marker": {
             "colorbar": {
              "outlinewidth": 0,
              "ticks": ""
             }
            },
            "type": "scatterternary"
           }
          ],
          "surface": [
           {
            "colorbar": {
             "outlinewidth": 0,
             "ticks": ""
            },
            "colorscale": [
             [
              0,
              "#0d0887"
             ],
             [
              0.1111111111111111,
              "#46039f"
             ],
             [
              0.2222222222222222,
              "#7201a8"
             ],
             [
              0.3333333333333333,
              "#9c179e"
             ],
             [
              0.4444444444444444,
              "#bd3786"
             ],
             [
              0.5555555555555556,
              "#d8576b"
             ],
             [
              0.6666666666666666,
              "#ed7953"
             ],
             [
              0.7777777777777778,
              "#fb9f3a"
             ],
             [
              0.8888888888888888,
              "#fdca26"
             ],
             [
              1,
              "#f0f921"
             ]
            ],
            "type": "surface"
           }
          ],
          "table": [
           {
            "cells": {
             "fill": {
              "color": "#EBF0F8"
             },
             "line": {
              "color": "white"
             }
            },
            "header": {
             "fill": {
              "color": "#C8D4E3"
             },
             "line": {
              "color": "white"
             }
            },
            "type": "table"
           }
          ]
         },
         "layout": {
          "annotationdefaults": {
           "arrowcolor": "#2a3f5f",
           "arrowhead": 0,
           "arrowwidth": 1
          },
          "autotypenumbers": "strict",
          "coloraxis": {
           "colorbar": {
            "outlinewidth": 0,
            "ticks": ""
           }
          },
          "colorscale": {
           "diverging": [
            [
             0,
             "#8e0152"
            ],
            [
             0.1,
             "#c51b7d"
            ],
            [
             0.2,
             "#de77ae"
            ],
            [
             0.3,
             "#f1b6da"
            ],
            [
             0.4,
             "#fde0ef"
            ],
            [
             0.5,
             "#f7f7f7"
            ],
            [
             0.6,
             "#e6f5d0"
            ],
            [
             0.7,
             "#b8e186"
            ],
            [
             0.8,
             "#7fbc41"
            ],
            [
             0.9,
             "#4d9221"
            ],
            [
             1,
             "#276419"
            ]
           ],
           "sequential": [
            [
             0,
             "#0d0887"
            ],
            [
             0.1111111111111111,
             "#46039f"
            ],
            [
             0.2222222222222222,
             "#7201a8"
            ],
            [
             0.3333333333333333,
             "#9c179e"
            ],
            [
             0.4444444444444444,
             "#bd3786"
            ],
            [
             0.5555555555555556,
             "#d8576b"
            ],
            [
             0.6666666666666666,
             "#ed7953"
            ],
            [
             0.7777777777777778,
             "#fb9f3a"
            ],
            [
             0.8888888888888888,
             "#fdca26"
            ],
            [
             1,
             "#f0f921"
            ]
           ],
           "sequentialminus": [
            [
             0,
             "#0d0887"
            ],
            [
             0.1111111111111111,
             "#46039f"
            ],
            [
             0.2222222222222222,
             "#7201a8"
            ],
            [
             0.3333333333333333,
             "#9c179e"
            ],
            [
             0.4444444444444444,
             "#bd3786"
            ],
            [
             0.5555555555555556,
             "#d8576b"
            ],
            [
             0.6666666666666666,
             "#ed7953"
            ],
            [
             0.7777777777777778,
             "#fb9f3a"
            ],
            [
             0.8888888888888888,
             "#fdca26"
            ],
            [
             1,
             "#f0f921"
            ]
           ]
          },
          "colorway": [
           "#636efa",
           "#EF553B",
           "#00cc96",
           "#ab63fa",
           "#FFA15A",
           "#19d3f3",
           "#FF6692",
           "#B6E880",
           "#FF97FF",
           "#FECB52"
          ],
          "font": {
           "color": "#2a3f5f"
          },
          "geo": {
           "bgcolor": "white",
           "lakecolor": "white",
           "landcolor": "#E5ECF6",
           "showlakes": true,
           "showland": true,
           "subunitcolor": "white"
          },
          "hoverlabel": {
           "align": "left"
          },
          "hovermode": "closest",
          "mapbox": {
           "style": "light"
          },
          "paper_bgcolor": "white",
          "plot_bgcolor": "#E5ECF6",
          "polar": {
           "angularaxis": {
            "gridcolor": "white",
            "linecolor": "white",
            "ticks": ""
           },
           "bgcolor": "#E5ECF6",
           "radialaxis": {
            "gridcolor": "white",
            "linecolor": "white",
            "ticks": ""
           }
          },
          "scene": {
           "xaxis": {
            "backgroundcolor": "#E5ECF6",
            "gridcolor": "white",
            "gridwidth": 2,
            "linecolor": "white",
            "showbackground": true,
            "ticks": "",
            "zerolinecolor": "white"
           },
           "yaxis": {
            "backgroundcolor": "#E5ECF6",
            "gridcolor": "white",
            "gridwidth": 2,
            "linecolor": "white",
            "showbackground": true,
            "ticks": "",
            "zerolinecolor": "white"
           },
           "zaxis": {
            "backgroundcolor": "#E5ECF6",
            "gridcolor": "white",
            "gridwidth": 2,
            "linecolor": "white",
            "showbackground": true,
            "ticks": "",
            "zerolinecolor": "white"
           }
          },
          "shapedefaults": {
           "line": {
            "color": "#2a3f5f"
           }
          },
          "ternary": {
           "aaxis": {
            "gridcolor": "white",
            "linecolor": "white",
            "ticks": ""
           },
           "baxis": {
            "gridcolor": "white",
            "linecolor": "white",
            "ticks": ""
           },
           "bgcolor": "#E5ECF6",
           "caxis": {
            "gridcolor": "white",
            "linecolor": "white",
            "ticks": ""
           }
          },
          "title": {
           "x": 0.05
          },
          "xaxis": {
           "automargin": true,
           "gridcolor": "white",
           "linecolor": "white",
           "ticks": "",
           "title": {
            "standoff": 15
           },
           "zerolinecolor": "white",
           "zerolinewidth": 2
          },
          "yaxis": {
           "automargin": true,
           "gridcolor": "white",
           "linecolor": "white",
           "ticks": "",
           "title": {
            "standoff": 15
           },
           "zerolinecolor": "white",
           "zerolinewidth": 2
          }
         }
        },
        "title": {
         "text": "Jammu & Kashmir"
        },
        "updatemenus": [
         {
          "buttons": [
           {
            "args": [
             {
              "visible": [
               true,
               true,
               true,
               true,
               true,
               true,
               true,
               true,
               true,
               true,
               true,
               true,
               true,
               true,
               true,
               true,
               true,
               true,
               true,
               true,
               true,
               true
              ]
             },
             {
              "title": "All Districts"
             }
            ],
            "label": "All",
            "method": "update"
           },
           {
            "args": [
             {
              "visible": [
               false,
               false,
               false,
               false,
               false,
               false,
               false,
               false,
               false,
               false,
               false,
               false,
               false,
               false,
               false,
               false,
               false,
               false,
               false,
               false,
               false,
               false
              ]
             },
             {
              "title": "No District"
             }
            ],
            "label": "None",
            "method": "update"
           }
          ],
          "direction": "left",
          "pad": {
           "r": 10,
           "t": 10
          },
          "showactive": true,
          "type": "buttons",
          "x": 0.05,
          "xanchor": "left",
          "y": 1.15,
          "yanchor": "top"
         }
        ],
        "xaxis": {
         "gridcolor": "lightgray",
         "gridwidth": 1,
         "showgrid": true,
         "tickmode": "array",
         "ticktext": [
          2009,
          2010,
          2011,
          2012,
          2013,
          2014,
          2015,
          2016,
          2017,
          2018,
          2019,
          2020,
          2021,
          2022,
          2023
         ],
         "tickvals": [
          2009,
          2010,
          2011,
          2012,
          2013,
          2014,
          2015,
          2016,
          2017,
          2018,
          2019,
          2020,
          2021,
          2022,
          2023
         ],
         "title": {
          "text": "Year"
         }
        },
        "yaxis": {
         "gridcolor": "lightgray",
         "gridwidth": 1,
         "showgrid": true,
         "title": {
          "text": "Average Rainfall in mm"
         }
        }
       }
      }
     },
     "metadata": {},
     "output_type": "display_data"
    },
    {
     "name": "stdout",
     "output_type": "stream",
     "text": [
      "Himachal Pradesh\n",
      "['Bilaspur', 'Chamba', 'Hamirpur', 'Kangra', 'Kinnaur', 'Kullu', 'Lahul & Spiti', 'Mandi', 'Shimla', 'Sirmaur', 'Solan', 'Una']\n"
     ]
    },
    {
     "data": {
      "application/vnd.plotly.v1+json": {
       "config": {
        "plotlyServerURL": "https://plot.ly"
       },
       "data": [
        {
         "mode": "lines+markers",
         "name": "Bilaspur",
         "type": "scatter",
         "visible": "legendonly",
         "x": [
          2009,
          2010,
          2011,
          2012,
          2013,
          2014,
          2015,
          2016,
          2017,
          2018,
          2019,
          2020,
          2021,
          2022,
          2023
         ],
         "y": [
          1967.036881089,
          2804.2997225424,
          2889.7696617871,
          2464.7249362824,
          2564.707682448,
          2652.3849923365,
          2636.1597698443,
          2466.5729244364,
          2470.0817596953,
          2545.967516733,
          2767.248394121,
          1909.895093176,
          2493.651309368,
          1919.5825520672,
          1832.3787814721
         ]
        },
        {
         "mode": "lines+markers",
         "name": "Chamba",
         "type": "scatter",
         "visible": "legendonly",
         "x": [
          2009,
          2010,
          2011,
          2012,
          2013,
          2014,
          2015,
          2016,
          2017,
          2018,
          2019,
          2020,
          2021,
          2022,
          2023
         ],
         "y": [
          1390.166350298,
          4411.599059579,
          1084.7050200819,
          1030.3487544658,
          1839.1896677627,
          1259.6172497758,
          1544.2555030756,
          1151.8517990233,
          1477.1011024922,
          1551.232488634,
          1502.690382688,
          1166.79949504,
          1347.12317523,
          1283.5871460664,
          1231.4192397697
         ]
        },
        {
         "mode": "lines+markers",
         "name": "Hamirpur",
         "type": "scatter",
         "visible": "legendonly",
         "x": [
          2009,
          2010,
          2011,
          2012,
          2013,
          2014,
          2015,
          2016,
          2017,
          2018,
          2019,
          2020,
          2021,
          2022,
          2023
         ],
         "y": [
          1571.3514033136,
          2370.8855400082,
          1422.1355218574,
          1147.1765889242,
          2421.4247179598,
          1416.2497911532,
          1488.2595775454001,
          1977.2221985046,
          1425.8910972114,
          2066.209057708,
          2230.629647498,
          1619.070188896,
          1888.02729013,
          2137.6810388012,
          2390.6082636289
         ]
        },
        {
         "mode": "lines+markers",
         "name": "Kangra",
         "type": "scatter",
         "visible": "legendonly",
         "x": [
          2009,
          2010,
          2011,
          2012,
          2013,
          2014,
          2015,
          2016,
          2017,
          2018,
          2019,
          2020,
          2021,
          2022,
          2023
         ],
         "y": [
          1416.425214862,
          4012.1699313677,
          1128.4702231386,
          1009.3536204121,
          2155.4421109208,
          1507.8808703732,
          1829.3572456432,
          1586.7563369441,
          1795.4862282825,
          1932.455204793,
          1718.485632207,
          1349.059274084,
          1563.258231345,
          1464.9886898265,
          1859.8498571337
         ]
        },
        {
         "mode": "lines+markers",
         "name": "Kinnaur",
         "type": "scatter",
         "visible": "legendonly",
         "x": [
          2009,
          2010,
          2011,
          2012,
          2013,
          2014,
          2015,
          2016,
          2017,
          2018,
          2019,
          2020,
          2021,
          2022,
          2023
         ],
         "y": [
          465.914665423,
          3637.3151669067,
          489.6505444052,
          871.2262159973,
          1198.4591208688,
          819.0110867226,
          949.7955148812,
          662.4785208044,
          856.6806785928,
          556.60688621,
          703.790971418,
          691.018212806,
          713.050900418,
          429.408626082,
          467.9193897075
         ]
        },
        {
         "mode": "lines+markers",
         "name": "Kullu",
         "type": "scatter",
         "visible": "legendonly",
         "x": [
          2009,
          2010,
          2011,
          2012,
          2013,
          2014,
          2015,
          2016,
          2017,
          2018,
          2019,
          2020,
          2021,
          2022,
          2023
         ],
         "y": [
          977.52989244,
          3888.4990860215,
          766.0347662611999,
          814.1240219941,
          1163.1610124669,
          1047.9989416698,
          1226.3190009846,
          950.3133995231,
          1181.0836660746,
          1139.064166095,
          1313.417036005,
          1227.5278587139999,
          1098.467465197,
          1016.9583917483,
          1047.971923033
         ]
        },
        {
         "mode": "lines+markers",
         "name": "Lahul & Spiti",
         "type": "scatter",
         "visible": "legendonly",
         "x": [
          2009,
          2010,
          2011,
          2012,
          2013,
          2014,
          2015,
          2016,
          2017,
          2018,
          2019,
          2020,
          2021,
          2022,
          2023
         ],
         "y": [
          897.571184482,
          7074.4574604267,
          578.8113080109,
          801.180828188,
          1101.352001471,
          847.6068927866,
          1084.7411545759,
          849.620006098,
          996.4418215956,
          852.916705157,
          940.7009027080001,
          806.171745088,
          830.550768221,
          623.2678218431,
          605.1870612031
         ]
        },
        {
         "mode": "lines+markers",
         "name": "Mandi",
         "type": "scatter",
         "visible": "legendonly",
         "x": [
          2009,
          2010,
          2011,
          2012,
          2013,
          2014,
          2015,
          2016,
          2017,
          2018,
          2019,
          2020,
          2021,
          2022,
          2023
         ],
         "y": [
          932.234168437,
          3185.7356550894,
          1438.7433100095,
          953.5848283692,
          1236.9679505877,
          1229.5987973385,
          1208.2402863325,
          987.0985546099,
          1252.9354335014,
          1256.295625831,
          1266.420644164,
          1220.691682849,
          1189.821482571,
          1258.8426930171,
          1675.0718813862
         ]
        },
        {
         "mode": "lines+markers",
         "name": "Shimla",
         "type": "scatter",
         "visible": "legendonly",
         "x": [
          2009,
          2010,
          2011,
          2012,
          2013,
          2014,
          2015,
          2016,
          2017,
          2018,
          2019,
          2020,
          2021,
          2022,
          2023
         ],
         "y": [
          617.692297119,
          3296.2806972896,
          1025.8734491144,
          980.7696298397,
          1135.1428412923,
          974.7788285911,
          1045.2116333152,
          852.707513105,
          1003.1003549708,
          935.273545454,
          1077.523336708,
          1098.298326679,
          959.798675957,
          1079.520141456,
          1165.3494909964
         ]
        },
        {
         "mode": "lines+markers",
         "name": "Sirmaur",
         "type": "scatter",
         "visible": "legendonly",
         "x": [
          2009,
          2010,
          2011,
          2012,
          2013,
          2014,
          2015,
          2016,
          2017,
          2018,
          2019,
          2020,
          2021,
          2022,
          2023
         ],
         "y": [
          946.250973051,
          2627.1273282799,
          1768.8549471397,
          1302.5550100717,
          1891.7554619412,
          1171.6488580579,
          1279.534782038,
          1034.9703142967,
          1390.1750764988,
          1409.051773221,
          1372.162520416,
          1234.740802881,
          1328.427176292,
          1495.1757988304,
          1826.9282072351
         ]
        },
        {
         "mode": "lines+markers",
         "name": "Solan",
         "type": "scatter",
         "visible": "legendonly",
         "x": [
          2009,
          2010,
          2011,
          2012,
          2013,
          2014,
          2015,
          2016,
          2017,
          2018,
          2019,
          2020,
          2021,
          2022,
          2023
         ],
         "y": [
          937.280211755,
          2125.7129622668,
          1544.9847746209,
          1011.3232177799,
          1168.3173111977,
          1247.8701322406,
          1332.7155846392,
          1152.3916577955001,
          1362.9027623215,
          1228.047080445,
          1222.313478003,
          1307.510003929,
          1156.476080124,
          1357.6940237467,
          1527.1133485379
         ]
        },
        {
         "mode": "lines+markers",
         "name": "Una",
         "type": "scatter",
         "visible": "legendonly",
         "x": [
          2009,
          2010,
          2011,
          2012,
          2013,
          2014,
          2015,
          2016,
          2017,
          2018,
          2019,
          2020,
          2021,
          2022,
          2023
         ],
         "y": [
          963.6584478645,
          1464.9525758717,
          1412.7763459251,
          979.1262835129,
          1531.7133294878,
          1372.1186788878,
          1399.8193998498,
          1105.6185108957,
          1317.8785741071,
          1585.030496522,
          1428.342357835,
          962.726051794,
          946.801506345,
          971.2296995148,
          1317.8902161322999
         ]
        }
       ],
       "layout": {
        "legend": {
         "tracegroupgap": 0,
         "traceorder": "normal",
         "x": 1.05,
         "y": 1
        },
        "margin": {
         "b": 0,
         "l": 0,
         "r": 0,
         "t": 50
        },
        "plot_bgcolor": "white",
        "template": {
         "data": {
          "bar": [
           {
            "error_x": {
             "color": "#2a3f5f"
            },
            "error_y": {
             "color": "#2a3f5f"
            },
            "marker": {
             "line": {
              "color": "#E5ECF6",
              "width": 0.5
             },
             "pattern": {
              "fillmode": "overlay",
              "size": 10,
              "solidity": 0.2
             }
            },
            "type": "bar"
           }
          ],
          "barpolar": [
           {
            "marker": {
             "line": {
              "color": "#E5ECF6",
              "width": 0.5
             },
             "pattern": {
              "fillmode": "overlay",
              "size": 10,
              "solidity": 0.2
             }
            },
            "type": "barpolar"
           }
          ],
          "carpet": [
           {
            "aaxis": {
             "endlinecolor": "#2a3f5f",
             "gridcolor": "white",
             "linecolor": "white",
             "minorgridcolor": "white",
             "startlinecolor": "#2a3f5f"
            },
            "baxis": {
             "endlinecolor": "#2a3f5f",
             "gridcolor": "white",
             "linecolor": "white",
             "minorgridcolor": "white",
             "startlinecolor": "#2a3f5f"
            },
            "type": "carpet"
           }
          ],
          "choropleth": [
           {
            "colorbar": {
             "outlinewidth": 0,
             "ticks": ""
            },
            "type": "choropleth"
           }
          ],
          "contour": [
           {
            "colorbar": {
             "outlinewidth": 0,
             "ticks": ""
            },
            "colorscale": [
             [
              0,
              "#0d0887"
             ],
             [
              0.1111111111111111,
              "#46039f"
             ],
             [
              0.2222222222222222,
              "#7201a8"
             ],
             [
              0.3333333333333333,
              "#9c179e"
             ],
             [
              0.4444444444444444,
              "#bd3786"
             ],
             [
              0.5555555555555556,
              "#d8576b"
             ],
             [
              0.6666666666666666,
              "#ed7953"
             ],
             [
              0.7777777777777778,
              "#fb9f3a"
             ],
             [
              0.8888888888888888,
              "#fdca26"
             ],
             [
              1,
              "#f0f921"
             ]
            ],
            "type": "contour"
           }
          ],
          "contourcarpet": [
           {
            "colorbar": {
             "outlinewidth": 0,
             "ticks": ""
            },
            "type": "contourcarpet"
           }
          ],
          "heatmap": [
           {
            "colorbar": {
             "outlinewidth": 0,
             "ticks": ""
            },
            "colorscale": [
             [
              0,
              "#0d0887"
             ],
             [
              0.1111111111111111,
              "#46039f"
             ],
             [
              0.2222222222222222,
              "#7201a8"
             ],
             [
              0.3333333333333333,
              "#9c179e"
             ],
             [
              0.4444444444444444,
              "#bd3786"
             ],
             [
              0.5555555555555556,
              "#d8576b"
             ],
             [
              0.6666666666666666,
              "#ed7953"
             ],
             [
              0.7777777777777778,
              "#fb9f3a"
             ],
             [
              0.8888888888888888,
              "#fdca26"
             ],
             [
              1,
              "#f0f921"
             ]
            ],
            "type": "heatmap"
           }
          ],
          "heatmapgl": [
           {
            "colorbar": {
             "outlinewidth": 0,
             "ticks": ""
            },
            "colorscale": [
             [
              0,
              "#0d0887"
             ],
             [
              0.1111111111111111,
              "#46039f"
             ],
             [
              0.2222222222222222,
              "#7201a8"
             ],
             [
              0.3333333333333333,
              "#9c179e"
             ],
             [
              0.4444444444444444,
              "#bd3786"
             ],
             [
              0.5555555555555556,
              "#d8576b"
             ],
             [
              0.6666666666666666,
              "#ed7953"
             ],
             [
              0.7777777777777778,
              "#fb9f3a"
             ],
             [
              0.8888888888888888,
              "#fdca26"
             ],
             [
              1,
              "#f0f921"
             ]
            ],
            "type": "heatmapgl"
           }
          ],
          "histogram": [
           {
            "marker": {
             "pattern": {
              "fillmode": "overlay",
              "size": 10,
              "solidity": 0.2
             }
            },
            "type": "histogram"
           }
          ],
          "histogram2d": [
           {
            "colorbar": {
             "outlinewidth": 0,
             "ticks": ""
            },
            "colorscale": [
             [
              0,
              "#0d0887"
             ],
             [
              0.1111111111111111,
              "#46039f"
             ],
             [
              0.2222222222222222,
              "#7201a8"
             ],
             [
              0.3333333333333333,
              "#9c179e"
             ],
             [
              0.4444444444444444,
              "#bd3786"
             ],
             [
              0.5555555555555556,
              "#d8576b"
             ],
             [
              0.6666666666666666,
              "#ed7953"
             ],
             [
              0.7777777777777778,
              "#fb9f3a"
             ],
             [
              0.8888888888888888,
              "#fdca26"
             ],
             [
              1,
              "#f0f921"
             ]
            ],
            "type": "histogram2d"
           }
          ],
          "histogram2dcontour": [
           {
            "colorbar": {
             "outlinewidth": 0,
             "ticks": ""
            },
            "colorscale": [
             [
              0,
              "#0d0887"
             ],
             [
              0.1111111111111111,
              "#46039f"
             ],
             [
              0.2222222222222222,
              "#7201a8"
             ],
             [
              0.3333333333333333,
              "#9c179e"
             ],
             [
              0.4444444444444444,
              "#bd3786"
             ],
             [
              0.5555555555555556,
              "#d8576b"
             ],
             [
              0.6666666666666666,
              "#ed7953"
             ],
             [
              0.7777777777777778,
              "#fb9f3a"
             ],
             [
              0.8888888888888888,
              "#fdca26"
             ],
             [
              1,
              "#f0f921"
             ]
            ],
            "type": "histogram2dcontour"
           }
          ],
          "mesh3d": [
           {
            "colorbar": {
             "outlinewidth": 0,
             "ticks": ""
            },
            "type": "mesh3d"
           }
          ],
          "parcoords": [
           {
            "line": {
             "colorbar": {
              "outlinewidth": 0,
              "ticks": ""
             }
            },
            "type": "parcoords"
           }
          ],
          "pie": [
           {
            "automargin": true,
            "type": "pie"
           }
          ],
          "scatter": [
           {
            "fillpattern": {
             "fillmode": "overlay",
             "size": 10,
             "solidity": 0.2
            },
            "type": "scatter"
           }
          ],
          "scatter3d": [
           {
            "line": {
             "colorbar": {
              "outlinewidth": 0,
              "ticks": ""
             }
            },
            "marker": {
             "colorbar": {
              "outlinewidth": 0,
              "ticks": ""
             }
            },
            "type": "scatter3d"
           }
          ],
          "scattercarpet": [
           {
            "marker": {
             "colorbar": {
              "outlinewidth": 0,
              "ticks": ""
             }
            },
            "type": "scattercarpet"
           }
          ],
          "scattergeo": [
           {
            "marker": {
             "colorbar": {
              "outlinewidth": 0,
              "ticks": ""
             }
            },
            "type": "scattergeo"
           }
          ],
          "scattergl": [
           {
            "marker": {
             "colorbar": {
              "outlinewidth": 0,
              "ticks": ""
             }
            },
            "type": "scattergl"
           }
          ],
          "scattermapbox": [
           {
            "marker": {
             "colorbar": {
              "outlinewidth": 0,
              "ticks": ""
             }
            },
            "type": "scattermapbox"
           }
          ],
          "scatterpolar": [
           {
            "marker": {
             "colorbar": {
              "outlinewidth": 0,
              "ticks": ""
             }
            },
            "type": "scatterpolar"
           }
          ],
          "scatterpolargl": [
           {
            "marker": {
             "colorbar": {
              "outlinewidth": 0,
              "ticks": ""
             }
            },
            "type": "scatterpolargl"
           }
          ],
          "scatterternary": [
           {
            "marker": {
             "colorbar": {
              "outlinewidth": 0,
              "ticks": ""
             }
            },
            "type": "scatterternary"
           }
          ],
          "surface": [
           {
            "colorbar": {
             "outlinewidth": 0,
             "ticks": ""
            },
            "colorscale": [
             [
              0,
              "#0d0887"
             ],
             [
              0.1111111111111111,
              "#46039f"
             ],
             [
              0.2222222222222222,
              "#7201a8"
             ],
             [
              0.3333333333333333,
              "#9c179e"
             ],
             [
              0.4444444444444444,
              "#bd3786"
             ],
             [
              0.5555555555555556,
              "#d8576b"
             ],
             [
              0.6666666666666666,
              "#ed7953"
             ],
             [
              0.7777777777777778,
              "#fb9f3a"
             ],
             [
              0.8888888888888888,
              "#fdca26"
             ],
             [
              1,
              "#f0f921"
             ]
            ],
            "type": "surface"
           }
          ],
          "table": [
           {
            "cells": {
             "fill": {
              "color": "#EBF0F8"
             },
             "line": {
              "color": "white"
             }
            },
            "header": {
             "fill": {
              "color": "#C8D4E3"
             },
             "line": {
              "color": "white"
             }
            },
            "type": "table"
           }
          ]
         },
         "layout": {
          "annotationdefaults": {
           "arrowcolor": "#2a3f5f",
           "arrowhead": 0,
           "arrowwidth": 1
          },
          "autotypenumbers": "strict",
          "coloraxis": {
           "colorbar": {
            "outlinewidth": 0,
            "ticks": ""
           }
          },
          "colorscale": {
           "diverging": [
            [
             0,
             "#8e0152"
            ],
            [
             0.1,
             "#c51b7d"
            ],
            [
             0.2,
             "#de77ae"
            ],
            [
             0.3,
             "#f1b6da"
            ],
            [
             0.4,
             "#fde0ef"
            ],
            [
             0.5,
             "#f7f7f7"
            ],
            [
             0.6,
             "#e6f5d0"
            ],
            [
             0.7,
             "#b8e186"
            ],
            [
             0.8,
             "#7fbc41"
            ],
            [
             0.9,
             "#4d9221"
            ],
            [
             1,
             "#276419"
            ]
           ],
           "sequential": [
            [
             0,
             "#0d0887"
            ],
            [
             0.1111111111111111,
             "#46039f"
            ],
            [
             0.2222222222222222,
             "#7201a8"
            ],
            [
             0.3333333333333333,
             "#9c179e"
            ],
            [
             0.4444444444444444,
             "#bd3786"
            ],
            [
             0.5555555555555556,
             "#d8576b"
            ],
            [
             0.6666666666666666,
             "#ed7953"
            ],
            [
             0.7777777777777778,
             "#fb9f3a"
            ],
            [
             0.8888888888888888,
             "#fdca26"
            ],
            [
             1,
             "#f0f921"
            ]
           ],
           "sequentialminus": [
            [
             0,
             "#0d0887"
            ],
            [
             0.1111111111111111,
             "#46039f"
            ],
            [
             0.2222222222222222,
             "#7201a8"
            ],
            [
             0.3333333333333333,
             "#9c179e"
            ],
            [
             0.4444444444444444,
             "#bd3786"
            ],
            [
             0.5555555555555556,
             "#d8576b"
            ],
            [
             0.6666666666666666,
             "#ed7953"
            ],
            [
             0.7777777777777778,
             "#fb9f3a"
            ],
            [
             0.8888888888888888,
             "#fdca26"
            ],
            [
             1,
             "#f0f921"
            ]
           ]
          },
          "colorway": [
           "#636efa",
           "#EF553B",
           "#00cc96",
           "#ab63fa",
           "#FFA15A",
           "#19d3f3",
           "#FF6692",
           "#B6E880",
           "#FF97FF",
           "#FECB52"
          ],
          "font": {
           "color": "#2a3f5f"
          },
          "geo": {
           "bgcolor": "white",
           "lakecolor": "white",
           "landcolor": "#E5ECF6",
           "showlakes": true,
           "showland": true,
           "subunitcolor": "white"
          },
          "hoverlabel": {
           "align": "left"
          },
          "hovermode": "closest",
          "mapbox": {
           "style": "light"
          },
          "paper_bgcolor": "white",
          "plot_bgcolor": "#E5ECF6",
          "polar": {
           "angularaxis": {
            "gridcolor": "white",
            "linecolor": "white",
            "ticks": ""
           },
           "bgcolor": "#E5ECF6",
           "radialaxis": {
            "gridcolor": "white",
            "linecolor": "white",
            "ticks": ""
           }
          },
          "scene": {
           "xaxis": {
            "backgroundcolor": "#E5ECF6",
            "gridcolor": "white",
            "gridwidth": 2,
            "linecolor": "white",
            "showbackground": true,
            "ticks": "",
            "zerolinecolor": "white"
           },
           "yaxis": {
            "backgroundcolor": "#E5ECF6",
            "gridcolor": "white",
            "gridwidth": 2,
            "linecolor": "white",
            "showbackground": true,
            "ticks": "",
            "zerolinecolor": "white"
           },
           "zaxis": {
            "backgroundcolor": "#E5ECF6",
            "gridcolor": "white",
            "gridwidth": 2,
            "linecolor": "white",
            "showbackground": true,
            "ticks": "",
            "zerolinecolor": "white"
           }
          },
          "shapedefaults": {
           "line": {
            "color": "#2a3f5f"
           }
          },
          "ternary": {
           "aaxis": {
            "gridcolor": "white",
            "linecolor": "white",
            "ticks": ""
           },
           "baxis": {
            "gridcolor": "white",
            "linecolor": "white",
            "ticks": ""
           },
           "bgcolor": "#E5ECF6",
           "caxis": {
            "gridcolor": "white",
            "linecolor": "white",
            "ticks": ""
           }
          },
          "title": {
           "x": 0.05
          },
          "xaxis": {
           "automargin": true,
           "gridcolor": "white",
           "linecolor": "white",
           "ticks": "",
           "title": {
            "standoff": 15
           },
           "zerolinecolor": "white",
           "zerolinewidth": 2
          },
          "yaxis": {
           "automargin": true,
           "gridcolor": "white",
           "linecolor": "white",
           "ticks": "",
           "title": {
            "standoff": 15
           },
           "zerolinecolor": "white",
           "zerolinewidth": 2
          }
         }
        },
        "title": {
         "text": "Himachal Pradesh"
        },
        "updatemenus": [
         {
          "buttons": [
           {
            "args": [
             {
              "visible": [
               true,
               true,
               true,
               true,
               true,
               true,
               true,
               true,
               true,
               true,
               true,
               true
              ]
             },
             {
              "title": "All Districts"
             }
            ],
            "label": "All",
            "method": "update"
           },
           {
            "args": [
             {
              "visible": [
               false,
               false,
               false,
               false,
               false,
               false,
               false,
               false,
               false,
               false,
               false,
               false
              ]
             },
             {
              "title": "No District"
             }
            ],
            "label": "None",
            "method": "update"
           }
          ],
          "direction": "left",
          "pad": {
           "r": 10,
           "t": 10
          },
          "showactive": true,
          "type": "buttons",
          "x": 0.05,
          "xanchor": "left",
          "y": 1.15,
          "yanchor": "top"
         }
        ],
        "xaxis": {
         "gridcolor": "lightgray",
         "gridwidth": 1,
         "showgrid": true,
         "tickmode": "array",
         "ticktext": [
          2009,
          2010,
          2011,
          2012,
          2013,
          2014,
          2015,
          2016,
          2017,
          2018,
          2019,
          2020,
          2021,
          2022,
          2023
         ],
         "tickvals": [
          2009,
          2010,
          2011,
          2012,
          2013,
          2014,
          2015,
          2016,
          2017,
          2018,
          2019,
          2020,
          2021,
          2022,
          2023
         ],
         "title": {
          "text": "Year"
         }
        },
        "yaxis": {
         "gridcolor": "lightgray",
         "gridwidth": 1,
         "showgrid": true,
         "title": {
          "text": "Average Rainfall in mm"
         }
        }
       }
      }
     },
     "metadata": {},
     "output_type": "display_data"
    },
    {
     "name": "stdout",
     "output_type": "stream",
     "text": [
      "Haryana\n",
      "['Ambala', 'Bhiwani', 'Charki Dadri', 'Faridabad', 'Fatehabad', 'Gurugram', 'Hisar', 'Jhajjar', 'Jind', 'Kaithal', 'Karnal', 'Kurukshetra', 'Mahendragarh', 'Nuh', 'Palwal', 'Panchkula', 'Panipat', 'Rewari', 'Rohtak', 'Sirsa', 'Sonipat', 'Yamunanagar']\n"
     ]
    },
    {
     "data": {
      "application/vnd.plotly.v1+json": {
       "config": {
        "plotlyServerURL": "https://plot.ly"
       },
       "data": [
        {
         "mode": "lines+markers",
         "name": "Ambala",
         "type": "scatter",
         "visible": "legendonly",
         "x": [
          2009,
          2010,
          2011,
          2012,
          2013,
          2014,
          2015,
          2016,
          2017,
          2018,
          2019,
          2020,
          2021,
          2022,
          2023
         ],
         "y": [
          899.619683354,
          1476.8931633205,
          1178.3063592061999,
          862.4346821952,
          1198.8123870658,
          853.2757261449,
          917.9635337867,
          610.7333941181,
          813.2270772352,
          921.930238455,
          777.785409416,
          784.197962274,
          728.8607201899999,
          850.5716641705,
          1204.6985745323
         ]
        },
        {
         "mode": "lines+markers",
         "name": "Bhiwani",
         "type": "scatter",
         "visible": "legendonly",
         "x": [
          2009,
          2010,
          2011,
          2012,
          2013,
          2014,
          2015,
          2016,
          2017,
          2018,
          2019,
          2020,
          2021,
          2022,
          2023
         ],
         "y": [
          366.529749109,
          672.0043055154,
          599.0849350511,
          412.238205551,
          416.0365153087,
          288.3805993877,
          324.9396680092,
          320.8204816349,
          259.3617686883,
          355.195884667,
          265.77261024,
          356.03275631500003,
          484.857316374,
          419.9097564518,
          292.3492645833
         ]
        },
        {
         "mode": "lines+markers",
         "name": "Charki Dadri",
         "type": "scatter",
         "visible": "legendonly",
         "x": [
          2009,
          2010,
          2011,
          2012,
          2013,
          2014,
          2015,
          2016,
          2017,
          2018,
          2019,
          2020,
          2021,
          2022,
          2023
         ],
         "y": [
          403.623784812,
          774.5445346848,
          532.1327568383,
          358.82997458890003,
          389.0962689397,
          306.1702812734,
          338.2811088426,
          456.8059089979,
          317.0924472894,
          408.008752147,
          270.154100814,
          368.977505791,
          731.563499222,
          513.2705582168,
          495.6919084469
         ]
        },
        {
         "mode": "lines+markers",
         "name": "Faridabad",
         "type": "scatter",
         "visible": "legendonly",
         "x": [
          2009,
          2010,
          2011,
          2012,
          2013,
          2014,
          2015,
          2016,
          2017,
          2018,
          2019,
          2020,
          2021,
          2022,
          2023
         ],
         "y": [
          303.464945636,
          683.5855436049,
          609.1757387658,
          467.5686227916,
          565.876406935,
          331.1051577472,
          502.7468047524,
          512.8610487232,
          477.8668809684,
          432.047374904,
          449.23223914100004,
          597.055536657,
          627.095181711,
          690.6007107167001,
          564.1566152304
         ]
        },
        {
         "mode": "lines+markers",
         "name": "Fatehabad",
         "type": "scatter",
         "visible": "legendonly",
         "x": [
          2009,
          2010,
          2011,
          2012,
          2013,
          2014,
          2015,
          2016,
          2017,
          2018,
          2019,
          2020,
          2021,
          2022,
          2023
         ],
         "y": [
          293.51352153,
          577.0150735369,
          653.2982099428,
          470.3750597596,
          357.8582913504,
          198.4116878273,
          236.5392274492,
          234.5713873803,
          211.4690013008,
          211.494168108,
          192.784984372,
          371.708072909,
          627.858987359,
          614.12591673,
          278.9947777685
         ]
        },
        {
         "mode": "lines+markers",
         "name": "Gurugram",
         "type": "scatter",
         "visible": "legendonly",
         "x": [
          2009,
          2010,
          2011,
          2012,
          2013,
          2014,
          2015,
          2016,
          2017,
          2018,
          2019,
          2020,
          2021,
          2022,
          2023
         ],
         "y": [
          489.232111038,
          996.2293104689,
          535.8330858183,
          397.2425822455,
          656.353022659,
          378.8055750452,
          627.6806359828,
          519.8789455707999,
          499.7598987631,
          513.601023843,
          463.946840361,
          608.703221382,
          1004.933587947,
          886.1509615223999,
          626.0296312813
         ]
        },
        {
         "mode": "lines+markers",
         "name": "Hisar",
         "type": "scatter",
         "visible": "legendonly",
         "x": [
          2009,
          2010,
          2011,
          2012,
          2013,
          2014,
          2015,
          2016,
          2017,
          2018,
          2019,
          2020,
          2021,
          2022,
          2023
         ],
         "y": [
          350.450759806,
          703.6889553511,
          641.4457271644,
          417.6356615171,
          506.2596744036,
          247.6824028527,
          371.9422352131,
          294.4577020869,
          313.8745981374,
          293.907278635,
          240.931313355,
          390.191928788,
          544.341130333,
          503.9264311596,
          252.939539022
         ]
        },
        {
         "mode": "lines+markers",
         "name": "Jhajjar",
         "type": "scatter",
         "visible": "legendonly",
         "x": [
          2009,
          2010,
          2011,
          2012,
          2013,
          2014,
          2015,
          2016,
          2017,
          2018,
          2019,
          2020,
          2021,
          2022,
          2023
         ],
         "y": [
          437.832144528,
          892.0283171279,
          532.0328536436,
          311.6926430934,
          492.0228883282,
          281.091076742,
          517.8372963993,
          502.9935066321,
          435.8984987046,
          477.527337159,
          317.58709430199997,
          459.251229642,
          956.646739859,
          663.1360848768,
          497.9076315784
         ]
        },
        {
         "mode": "lines+markers",
         "name": "Jind",
         "type": "scatter",
         "visible": "legendonly",
         "x": [
          2009,
          2010,
          2011,
          2012,
          2013,
          2014,
          2015,
          2016,
          2017,
          2018,
          2019,
          2020,
          2021,
          2022,
          2023
         ],
         "y": [
          464.020378571,
          876.1905278151,
          529.2678052142,
          390.1911217204,
          558.0264529421,
          283.5061984181,
          472.7899418944,
          308.2777232499,
          406.7008409581,
          473.687953016,
          290.19174337,
          523.288951164,
          749.169305348,
          660.5519760398,
          429.4430772836
         ]
        },
        {
         "mode": "lines+markers",
         "name": "Kaithal",
         "type": "scatter",
         "visible": "legendonly",
         "x": [
          2009,
          2010,
          2011,
          2012,
          2013,
          2014,
          2015,
          2016,
          2017,
          2018,
          2019,
          2020,
          2021,
          2022,
          2023
         ],
         "y": [
          556.186065971,
          927.7279626204,
          639.6635882654,
          489.17402229099997,
          504.8674752681,
          336.7024765187,
          477.1999945155,
          331.8889798957,
          541.5254529597,
          707.32261193,
          461.507531633,
          700.969356379,
          782.533631199,
          716.2813678668,
          801.1937710507
         ]
        },
        {
         "mode": "lines+markers",
         "name": "Karnal",
         "type": "scatter",
         "visible": "legendonly",
         "x": [
          2009,
          2010,
          2011,
          2012,
          2013,
          2014,
          2015,
          2016,
          2017,
          2018,
          2019,
          2020,
          2021,
          2022,
          2023
         ],
         "y": [
          410.046008143,
          1204.7069345085,
          611.955066998,
          476.5304842001,
          760.2589598922,
          551.7197318788,
          655.0529601544,
          452.5004293786,
          624.353551917,
          961.487375801,
          529.501888741,
          793.998851941,
          847.542219412,
          813.3341143581,
          811.8243207853
         ]
        },
        {
         "mode": "lines+markers",
         "name": "Kurukshetra",
         "type": "scatter",
         "visible": "legendonly",
         "x": [
          2009,
          2010,
          2011,
          2012,
          2013,
          2014,
          2015,
          2016,
          2017,
          2018,
          2019,
          2020,
          2021,
          2022,
          2023
         ],
         "y": [
          824.926688907,
          858.4834790702,
          792.3733656623,
          630.274876884,
          658.1866638833,
          423.4129884882,
          481.54452559230003,
          323.5784980279,
          521.6519290666,
          703.709434326,
          471.669546243,
          717.075045907,
          624.127660422,
          759.8533709453,
          912.1678611119
         ]
        },
        {
         "mode": "lines+markers",
         "name": "Mahendragarh",
         "type": "scatter",
         "visible": "legendonly",
         "x": [
          2009,
          2010,
          2011,
          2012,
          2013,
          2014,
          2015,
          2016,
          2017,
          2018,
          2019,
          2020,
          2021,
          2022,
          2023
         ],
         "y": [
          410.435927021,
          800.5666729072,
          551.9170338138,
          469.6906851271,
          504.6971106859,
          336.7997925336,
          400.9104160017,
          469.70572548949997,
          360.00451528909997,
          440.524381279,
          314.432132473,
          444.673597976,
          754.264556264,
          699.967380227,
          567.1722163969
         ]
        },
        {
         "mode": "lines+markers",
         "name": "Nuh",
         "type": "scatter",
         "visible": "legendonly",
         "x": [
          2009,
          2010,
          2011,
          2012,
          2013,
          2014,
          2015,
          2016,
          2017,
          2018,
          2019,
          2020,
          2021,
          2022,
          2023
         ],
         "y": [
          428.955335886,
          899.1029441234,
          526.5642658029,
          494.1260323458,
          487.724940222,
          312.2254424605,
          499.0445287226,
          501.5153287485,
          442.11003297679997,
          430.481922194,
          391.873617992,
          588.98564747,
          708.906715058,
          618.7906943837,
          508.8794957182
         ]
        },
        {
         "mode": "lines+markers",
         "name": "Palwal",
         "type": "scatter",
         "visible": "legendonly",
         "x": [
          2009,
          2010,
          2011,
          2012,
          2013,
          2014,
          2015,
          2016,
          2017,
          2018,
          2019,
          2020,
          2021,
          2022,
          2023
         ],
         "y": [
          295.291371456,
          720.9884622273,
          630.1955555838,
          495.8205104439,
          506.39304482340003,
          274.0122618833,
          430.7260329343,
          480.0794016786,
          431.6690013528,
          395.37577274,
          337.773479786,
          518.023106135,
          572.975735855,
          731.8876117259,
          489.99154150699997
         ]
        },
        {
         "mode": "lines+markers",
         "name": "Panchkula",
         "type": "scatter",
         "visible": "legendonly",
         "x": [
          2009,
          2010,
          2011,
          2012,
          2013,
          2014,
          2015,
          2016,
          2017,
          2018,
          2019,
          2020,
          2021,
          2022,
          2023
         ],
         "y": [
          1129.617740167,
          1751.2654310233,
          1521.2463171084,
          980.0390162315,
          1327.7807152789999,
          1079.52961684,
          1270.1694234348,
          977.9548306828,
          1327.4826946224,
          1210.844005092,
          1315.886528145,
          1149.577354282,
          1015.613103243,
          1272.8710291671,
          1561.3499216155
         ]
        },
        {
         "mode": "lines+markers",
         "name": "Panipat",
         "type": "scatter",
         "visible": "legendonly",
         "x": [
          2009,
          2010,
          2011,
          2012,
          2013,
          2014,
          2015,
          2016,
          2017,
          2018,
          2019,
          2020,
          2021,
          2022,
          2023
         ],
         "y": [
          339.016246838,
          805.1059655477,
          537.1398902582,
          431.2057236154,
          514.5196659213,
          417.9919959696,
          609.4483697011,
          294.9404238336,
          446.9657708087,
          543.473889615,
          297.200386382,
          629.659518531,
          750.801217608,
          611.4360099109,
          528.5981504692
         ]
        },
        {
         "mode": "lines+markers",
         "name": "Rewari",
         "type": "scatter",
         "visible": "legendonly",
         "x": [
          2009,
          2010,
          2011,
          2012,
          2013,
          2014,
          2015,
          2016,
          2017,
          2018,
          2019,
          2020,
          2021,
          2022,
          2023
         ],
         "y": [
          449.247659407,
          864.6406611805,
          645.2210430732,
          392.9030815972,
          534.8532709126999,
          345.7686106185,
          485.865068558,
          517.0623176496,
          392.0193586116,
          550.354065165,
          406.647877963,
          597.55071934,
          925.981367716,
          849.9091760914,
          560.3109030366
         ]
        },
        {
         "mode": "lines+markers",
         "name": "Rohtak",
         "type": "scatter",
         "visible": "legendonly",
         "x": [
          2009,
          2010,
          2011,
          2012,
          2013,
          2014,
          2015,
          2016,
          2017,
          2018,
          2019,
          2020,
          2021,
          2022,
          2023
         ],
         "y": [
          570.887482213,
          750.4571920211,
          519.6301966758,
          315.30243686570003,
          557.7535452283,
          254.4634729567,
          501.4643573231,
          364.3162277825,
          418.5156856219,
          458.37777237,
          328.422633265,
          535.985098011,
          908.674764219,
          637.7183745582,
          494.0075054838
         ]
        },
        {
         "mode": "lines+markers",
         "name": "Sirsa",
         "type": "scatter",
         "visible": "legendonly",
         "x": [
          2009,
          2010,
          2011,
          2012,
          2013,
          2014,
          2015,
          2016,
          2017,
          2018,
          2019,
          2020,
          2021,
          2022,
          2023
         ],
         "y": [
          186.942762442,
          624.2440443646,
          477.0875842109,
          395.8991209033,
          364.9062821386,
          285.26010078490003,
          311.0597018196,
          202.3621504414,
          209.8540002656,
          223.766972445,
          302.450073811,
          423.94440626200003,
          404.118202469,
          403.11690887,
          279.8289099068
         ]
        },
        {
         "mode": "lines+markers",
         "name": "Sonipat",
         "type": "scatter",
         "visible": "legendonly",
         "x": [
          2009,
          2010,
          2011,
          2012,
          2013,
          2014,
          2015,
          2016,
          2017,
          2018,
          2019,
          2020,
          2021,
          2022,
          2023
         ],
         "y": [
          583.164229137,
          1026.6539691696,
          539.178070445,
          403.3449411852,
          636.6754526278,
          392.95457368169997,
          586.3607941559,
          368.4812119329,
          493.1921866108,
          560.746944549,
          360.715044914,
          602.352507139,
          924.238822273,
          574.0383287908,
          543.1991765386
         ]
        },
        {
         "mode": "lines+markers",
         "name": "Yamunanagar",
         "type": "scatter",
         "visible": "legendonly",
         "x": [
          2009,
          2010,
          2011,
          2012,
          2013,
          2014,
          2015,
          2016,
          2017,
          2018,
          2019,
          2020,
          2021,
          2022,
          2023
         ],
         "y": [
          710.492358528,
          1921.4783588277,
          1294.0729468506,
          1015.2664538179,
          1596.3750629786,
          844.1015990416,
          1029.723891641,
          1032.5829834734,
          1200.3634078756,
          1225.4740469399999,
          1097.113027565,
          873.429909384,
          1233.847259501,
          1212.7408333095,
          1623.4388282684
         ]
        }
       ],
       "layout": {
        "legend": {
         "tracegroupgap": 0,
         "traceorder": "normal",
         "x": 1.05,
         "y": 1
        },
        "margin": {
         "b": 0,
         "l": 0,
         "r": 0,
         "t": 50
        },
        "plot_bgcolor": "white",
        "template": {
         "data": {
          "bar": [
           {
            "error_x": {
             "color": "#2a3f5f"
            },
            "error_y": {
             "color": "#2a3f5f"
            },
            "marker": {
             "line": {
              "color": "#E5ECF6",
              "width": 0.5
             },
             "pattern": {
              "fillmode": "overlay",
              "size": 10,
              "solidity": 0.2
             }
            },
            "type": "bar"
           }
          ],
          "barpolar": [
           {
            "marker": {
             "line": {
              "color": "#E5ECF6",
              "width": 0.5
             },
             "pattern": {
              "fillmode": "overlay",
              "size": 10,
              "solidity": 0.2
             }
            },
            "type": "barpolar"
           }
          ],
          "carpet": [
           {
            "aaxis": {
             "endlinecolor": "#2a3f5f",
             "gridcolor": "white",
             "linecolor": "white",
             "minorgridcolor": "white",
             "startlinecolor": "#2a3f5f"
            },
            "baxis": {
             "endlinecolor": "#2a3f5f",
             "gridcolor": "white",
             "linecolor": "white",
             "minorgridcolor": "white",
             "startlinecolor": "#2a3f5f"
            },
            "type": "carpet"
           }
          ],
          "choropleth": [
           {
            "colorbar": {
             "outlinewidth": 0,
             "ticks": ""
            },
            "type": "choropleth"
           }
          ],
          "contour": [
           {
            "colorbar": {
             "outlinewidth": 0,
             "ticks": ""
            },
            "colorscale": [
             [
              0,
              "#0d0887"
             ],
             [
              0.1111111111111111,
              "#46039f"
             ],
             [
              0.2222222222222222,
              "#7201a8"
             ],
             [
              0.3333333333333333,
              "#9c179e"
             ],
             [
              0.4444444444444444,
              "#bd3786"
             ],
             [
              0.5555555555555556,
              "#d8576b"
             ],
             [
              0.6666666666666666,
              "#ed7953"
             ],
             [
              0.7777777777777778,
              "#fb9f3a"
             ],
             [
              0.8888888888888888,
              "#fdca26"
             ],
             [
              1,
              "#f0f921"
             ]
            ],
            "type": "contour"
           }
          ],
          "contourcarpet": [
           {
            "colorbar": {
             "outlinewidth": 0,
             "ticks": ""
            },
            "type": "contourcarpet"
           }
          ],
          "heatmap": [
           {
            "colorbar": {
             "outlinewidth": 0,
             "ticks": ""
            },
            "colorscale": [
             [
              0,
              "#0d0887"
             ],
             [
              0.1111111111111111,
              "#46039f"
             ],
             [
              0.2222222222222222,
              "#7201a8"
             ],
             [
              0.3333333333333333,
              "#9c179e"
             ],
             [
              0.4444444444444444,
              "#bd3786"
             ],
             [
              0.5555555555555556,
              "#d8576b"
             ],
             [
              0.6666666666666666,
              "#ed7953"
             ],
             [
              0.7777777777777778,
              "#fb9f3a"
             ],
             [
              0.8888888888888888,
              "#fdca26"
             ],
             [
              1,
              "#f0f921"
             ]
            ],
            "type": "heatmap"
           }
          ],
          "heatmapgl": [
           {
            "colorbar": {
             "outlinewidth": 0,
             "ticks": ""
            },
            "colorscale": [
             [
              0,
              "#0d0887"
             ],
             [
              0.1111111111111111,
              "#46039f"
             ],
             [
              0.2222222222222222,
              "#7201a8"
             ],
             [
              0.3333333333333333,
              "#9c179e"
             ],
             [
              0.4444444444444444,
              "#bd3786"
             ],
             [
              0.5555555555555556,
              "#d8576b"
             ],
             [
              0.6666666666666666,
              "#ed7953"
             ],
             [
              0.7777777777777778,
              "#fb9f3a"
             ],
             [
              0.8888888888888888,
              "#fdca26"
             ],
             [
              1,
              "#f0f921"
             ]
            ],
            "type": "heatmapgl"
           }
          ],
          "histogram": [
           {
            "marker": {
             "pattern": {
              "fillmode": "overlay",
              "size": 10,
              "solidity": 0.2
             }
            },
            "type": "histogram"
           }
          ],
          "histogram2d": [
           {
            "colorbar": {
             "outlinewidth": 0,
             "ticks": ""
            },
            "colorscale": [
             [
              0,
              "#0d0887"
             ],
             [
              0.1111111111111111,
              "#46039f"
             ],
             [
              0.2222222222222222,
              "#7201a8"
             ],
             [
              0.3333333333333333,
              "#9c179e"
             ],
             [
              0.4444444444444444,
              "#bd3786"
             ],
             [
              0.5555555555555556,
              "#d8576b"
             ],
             [
              0.6666666666666666,
              "#ed7953"
             ],
             [
              0.7777777777777778,
              "#fb9f3a"
             ],
             [
              0.8888888888888888,
              "#fdca26"
             ],
             [
              1,
              "#f0f921"
             ]
            ],
            "type": "histogram2d"
           }
          ],
          "histogram2dcontour": [
           {
            "colorbar": {
             "outlinewidth": 0,
             "ticks": ""
            },
            "colorscale": [
             [
              0,
              "#0d0887"
             ],
             [
              0.1111111111111111,
              "#46039f"
             ],
             [
              0.2222222222222222,
              "#7201a8"
             ],
             [
              0.3333333333333333,
              "#9c179e"
             ],
             [
              0.4444444444444444,
              "#bd3786"
             ],
             [
              0.5555555555555556,
              "#d8576b"
             ],
             [
              0.6666666666666666,
              "#ed7953"
             ],
             [
              0.7777777777777778,
              "#fb9f3a"
             ],
             [
              0.8888888888888888,
              "#fdca26"
             ],
             [
              1,
              "#f0f921"
             ]
            ],
            "type": "histogram2dcontour"
           }
          ],
          "mesh3d": [
           {
            "colorbar": {
             "outlinewidth": 0,
             "ticks": ""
            },
            "type": "mesh3d"
           }
          ],
          "parcoords": [
           {
            "line": {
             "colorbar": {
              "outlinewidth": 0,
              "ticks": ""
             }
            },
            "type": "parcoords"
           }
          ],
          "pie": [
           {
            "automargin": true,
            "type": "pie"
           }
          ],
          "scatter": [
           {
            "fillpattern": {
             "fillmode": "overlay",
             "size": 10,
             "solidity": 0.2
            },
            "type": "scatter"
           }
          ],
          "scatter3d": [
           {
            "line": {
             "colorbar": {
              "outlinewidth": 0,
              "ticks": ""
             }
            },
            "marker": {
             "colorbar": {
              "outlinewidth": 0,
              "ticks": ""
             }
            },
            "type": "scatter3d"
           }
          ],
          "scattercarpet": [
           {
            "marker": {
             "colorbar": {
              "outlinewidth": 0,
              "ticks": ""
             }
            },
            "type": "scattercarpet"
           }
          ],
          "scattergeo": [
           {
            "marker": {
             "colorbar": {
              "outlinewidth": 0,
              "ticks": ""
             }
            },
            "type": "scattergeo"
           }
          ],
          "scattergl": [
           {
            "marker": {
             "colorbar": {
              "outlinewidth": 0,
              "ticks": ""
             }
            },
            "type": "scattergl"
           }
          ],
          "scattermapbox": [
           {
            "marker": {
             "colorbar": {
              "outlinewidth": 0,
              "ticks": ""
             }
            },
            "type": "scattermapbox"
           }
          ],
          "scatterpolar": [
           {
            "marker": {
             "colorbar": {
              "outlinewidth": 0,
              "ticks": ""
             }
            },
            "type": "scatterpolar"
           }
          ],
          "scatterpolargl": [
           {
            "marker": {
             "colorbar": {
              "outlinewidth": 0,
              "ticks": ""
             }
            },
            "type": "scatterpolargl"
           }
          ],
          "scatterternary": [
           {
            "marker": {
             "colorbar": {
              "outlinewidth": 0,
              "ticks": ""
             }
            },
            "type": "scatterternary"
           }
          ],
          "surface": [
           {
            "colorbar": {
             "outlinewidth": 0,
             "ticks": ""
            },
            "colorscale": [
             [
              0,
              "#0d0887"
             ],
             [
              0.1111111111111111,
              "#46039f"
             ],
             [
              0.2222222222222222,
              "#7201a8"
             ],
             [
              0.3333333333333333,
              "#9c179e"
             ],
             [
              0.4444444444444444,
              "#bd3786"
             ],
             [
              0.5555555555555556,
              "#d8576b"
             ],
             [
              0.6666666666666666,
              "#ed7953"
             ],
             [
              0.7777777777777778,
              "#fb9f3a"
             ],
             [
              0.8888888888888888,
              "#fdca26"
             ],
             [
              1,
              "#f0f921"
             ]
            ],
            "type": "surface"
           }
          ],
          "table": [
           {
            "cells": {
             "fill": {
              "color": "#EBF0F8"
             },
             "line": {
              "color": "white"
             }
            },
            "header": {
             "fill": {
              "color": "#C8D4E3"
             },
             "line": {
              "color": "white"
             }
            },
            "type": "table"
           }
          ]
         },
         "layout": {
          "annotationdefaults": {
           "arrowcolor": "#2a3f5f",
           "arrowhead": 0,
           "arrowwidth": 1
          },
          "autotypenumbers": "strict",
          "coloraxis": {
           "colorbar": {
            "outlinewidth": 0,
            "ticks": ""
           }
          },
          "colorscale": {
           "diverging": [
            [
             0,
             "#8e0152"
            ],
            [
             0.1,
             "#c51b7d"
            ],
            [
             0.2,
             "#de77ae"
            ],
            [
             0.3,
             "#f1b6da"
            ],
            [
             0.4,
             "#fde0ef"
            ],
            [
             0.5,
             "#f7f7f7"
            ],
            [
             0.6,
             "#e6f5d0"
            ],
            [
             0.7,
             "#b8e186"
            ],
            [
             0.8,
             "#7fbc41"
            ],
            [
             0.9,
             "#4d9221"
            ],
            [
             1,
             "#276419"
            ]
           ],
           "sequential": [
            [
             0,
             "#0d0887"
            ],
            [
             0.1111111111111111,
             "#46039f"
            ],
            [
             0.2222222222222222,
             "#7201a8"
            ],
            [
             0.3333333333333333,
             "#9c179e"
            ],
            [
             0.4444444444444444,
             "#bd3786"
            ],
            [
             0.5555555555555556,
             "#d8576b"
            ],
            [
             0.6666666666666666,
             "#ed7953"
            ],
            [
             0.7777777777777778,
             "#fb9f3a"
            ],
            [
             0.8888888888888888,
             "#fdca26"
            ],
            [
             1,
             "#f0f921"
            ]
           ],
           "sequentialminus": [
            [
             0,
             "#0d0887"
            ],
            [
             0.1111111111111111,
             "#46039f"
            ],
            [
             0.2222222222222222,
             "#7201a8"
            ],
            [
             0.3333333333333333,
             "#9c179e"
            ],
            [
             0.4444444444444444,
             "#bd3786"
            ],
            [
             0.5555555555555556,
             "#d8576b"
            ],
            [
             0.6666666666666666,
             "#ed7953"
            ],
            [
             0.7777777777777778,
             "#fb9f3a"
            ],
            [
             0.8888888888888888,
             "#fdca26"
            ],
            [
             1,
             "#f0f921"
            ]
           ]
          },
          "colorway": [
           "#636efa",
           "#EF553B",
           "#00cc96",
           "#ab63fa",
           "#FFA15A",
           "#19d3f3",
           "#FF6692",
           "#B6E880",
           "#FF97FF",
           "#FECB52"
          ],
          "font": {
           "color": "#2a3f5f"
          },
          "geo": {
           "bgcolor": "white",
           "lakecolor": "white",
           "landcolor": "#E5ECF6",
           "showlakes": true,
           "showland": true,
           "subunitcolor": "white"
          },
          "hoverlabel": {
           "align": "left"
          },
          "hovermode": "closest",
          "mapbox": {
           "style": "light"
          },
          "paper_bgcolor": "white",
          "plot_bgcolor": "#E5ECF6",
          "polar": {
           "angularaxis": {
            "gridcolor": "white",
            "linecolor": "white",
            "ticks": ""
           },
           "bgcolor": "#E5ECF6",
           "radialaxis": {
            "gridcolor": "white",
            "linecolor": "white",
            "ticks": ""
           }
          },
          "scene": {
           "xaxis": {
            "backgroundcolor": "#E5ECF6",
            "gridcolor": "white",
            "gridwidth": 2,
            "linecolor": "white",
            "showbackground": true,
            "ticks": "",
            "zerolinecolor": "white"
           },
           "yaxis": {
            "backgroundcolor": "#E5ECF6",
            "gridcolor": "white",
            "gridwidth": 2,
            "linecolor": "white",
            "showbackground": true,
            "ticks": "",
            "zerolinecolor": "white"
           },
           "zaxis": {
            "backgroundcolor": "#E5ECF6",
            "gridcolor": "white",
            "gridwidth": 2,
            "linecolor": "white",
            "showbackground": true,
            "ticks": "",
            "zerolinecolor": "white"
           }
          },
          "shapedefaults": {
           "line": {
            "color": "#2a3f5f"
           }
          },
          "ternary": {
           "aaxis": {
            "gridcolor": "white",
            "linecolor": "white",
            "ticks": ""
           },
           "baxis": {
            "gridcolor": "white",
            "linecolor": "white",
            "ticks": ""
           },
           "bgcolor": "#E5ECF6",
           "caxis": {
            "gridcolor": "white",
            "linecolor": "white",
            "ticks": ""
           }
          },
          "title": {
           "x": 0.05
          },
          "xaxis": {
           "automargin": true,
           "gridcolor": "white",
           "linecolor": "white",
           "ticks": "",
           "title": {
            "standoff": 15
           },
           "zerolinecolor": "white",
           "zerolinewidth": 2
          },
          "yaxis": {
           "automargin": true,
           "gridcolor": "white",
           "linecolor": "white",
           "ticks": "",
           "title": {
            "standoff": 15
           },
           "zerolinecolor": "white",
           "zerolinewidth": 2
          }
         }
        },
        "title": {
         "text": "Haryana"
        },
        "updatemenus": [
         {
          "buttons": [
           {
            "args": [
             {
              "visible": [
               true,
               true,
               true,
               true,
               true,
               true,
               true,
               true,
               true,
               true,
               true,
               true,
               true,
               true,
               true,
               true,
               true,
               true,
               true,
               true,
               true,
               true
              ]
             },
             {
              "title": "All Districts"
             }
            ],
            "label": "All",
            "method": "update"
           },
           {
            "args": [
             {
              "visible": [
               false,
               false,
               false,
               false,
               false,
               false,
               false,
               false,
               false,
               false,
               false,
               false,
               false,
               false,
               false,
               false,
               false,
               false,
               false,
               false,
               false,
               false
              ]
             },
             {
              "title": "No District"
             }
            ],
            "label": "None",
            "method": "update"
           }
          ],
          "direction": "left",
          "pad": {
           "r": 10,
           "t": 10
          },
          "showactive": true,
          "type": "buttons",
          "x": 0.05,
          "xanchor": "left",
          "y": 1.15,
          "yanchor": "top"
         }
        ],
        "xaxis": {
         "gridcolor": "lightgray",
         "gridwidth": 1,
         "showgrid": true,
         "tickmode": "array",
         "ticktext": [
          2009,
          2010,
          2011,
          2012,
          2013,
          2014,
          2015,
          2016,
          2017,
          2018,
          2019,
          2020,
          2021,
          2022,
          2023
         ],
         "tickvals": [
          2009,
          2010,
          2011,
          2012,
          2013,
          2014,
          2015,
          2016,
          2017,
          2018,
          2019,
          2020,
          2021,
          2022,
          2023
         ],
         "title": {
          "text": "Year"
         }
        },
        "yaxis": {
         "gridcolor": "lightgray",
         "gridwidth": 1,
         "showgrid": true,
         "title": {
          "text": "Average Rainfall in mm"
         }
        }
       }
      }
     },
     "metadata": {},
     "output_type": "display_data"
    },
    {
     "name": "stdout",
     "output_type": "stream",
     "text": [
      "Punjab\n",
      "['Amritsar', 'Barnala', 'Bathinda', 'Faridkot', 'Fatehgarh Sahib', 'Fazilka', 'Firozepur', 'Gurdaspur', 'Hoshiarpur', 'Jalandhar', 'Kapurthala', 'Ludhiana', 'Mansa', 'Moga', 'Pathankot', 'Patiala', 'Rupnagar', 'S.A.S Nagar', 'Sangrur', 'Shahid Bhagat Singh Nagar', 'Sri Muktsar Sahib', 'Tarn Taran']\n"
     ]
    },
    {
     "data": {
      "application/vnd.plotly.v1+json": {
       "config": {
        "plotlyServerURL": "https://plot.ly"
       },
       "data": [
        {
         "mode": "lines+markers",
         "name": "Amritsar",
         "type": "scatter",
         "visible": "legendonly",
         "x": [
          2009,
          2010,
          2011,
          2012,
          2013,
          2014,
          2015,
          2016,
          2017,
          2018,
          2019,
          2020,
          2021,
          2022,
          2023
         ],
         "y": [
          478.811430332,
          662.3982368082,
          1454.2480245396,
          1331.0069290256,
          753.5901871271,
          521.7436153788,
          646.309703169,
          500.875769822,
          611.7276135046,
          712.219167371,
          706.27592972,
          577.708845153,
          763.532271287,
          595.9056407041,
          831.1987927098
         ]
        },
        {
         "mode": "lines+markers",
         "name": "Barnala",
         "type": "scatter",
         "visible": "legendonly",
         "x": [
          2009,
          2010,
          2011,
          2012,
          2013,
          2014,
          2015,
          2016,
          2017,
          2018,
          2019,
          2020,
          2021,
          2022,
          2023
         ],
         "y": [
          402.766890004,
          626.6239237914,
          443.8166307669,
          600.1474167171,
          388.788790651,
          285.7031220967,
          453.2674033368,
          338.5881508119,
          404.6007631061,
          535.838350486,
          508.466260792,
          459.319011704,
          380.929532597,
          539.8953958557,
          479.6786002843
         ]
        },
        {
         "mode": "lines+markers",
         "name": "Bathinda",
         "type": "scatter",
         "visible": "legendonly",
         "x": [
          2009,
          2010,
          2011,
          2012,
          2013,
          2014,
          2015,
          2016,
          2017,
          2018,
          2019,
          2020,
          2021,
          2022,
          2023
         ],
         "y": [
          234.351076971,
          534.870589173,
          350.713123758,
          366.8912283184,
          532.3009762295,
          340.6188195193,
          396.1898879642,
          346.0164900119,
          338.2898295012,
          292.343589974,
          472.243654367,
          430.001148761,
          391.778936981,
          368.832049809,
          287.973676936
         ]
        },
        {
         "mode": "lines+markers",
         "name": "Faridkot",
         "type": "scatter",
         "visible": "legendonly",
         "x": [
          2009,
          2010,
          2011,
          2012,
          2013,
          2014,
          2015,
          2016,
          2017,
          2018,
          2019,
          2020,
          2021,
          2022,
          2023
         ],
         "y": [
          251.277428332,
          381.7940320647,
          368.77810653579996,
          349.0388476927,
          650.3941187165,
          414.1862406952,
          413.7410910353,
          438.3743051021,
          349.3598942986,
          360.23188473,
          464.312700713,
          456.148480123,
          495.206297635,
          482.2224631408,
          538.9358980713
         ]
        },
        {
         "mode": "lines+markers",
         "name": "Fatehgarh Sahib",
         "type": "scatter",
         "visible": "legendonly",
         "x": [
          2009,
          2010,
          2011,
          2012,
          2013,
          2014,
          2015,
          2016,
          2017,
          2018,
          2019,
          2020,
          2021,
          2022,
          2023
         ],
         "y": [
          733.325966033,
          1113.4522042819,
          1435.9913313278,
          948.2829422013,
          856.4093729862,
          636.2438527897,
          877.8315564183999,
          506.5849139503,
          647.3827433504,
          916.6650967530001,
          852.882012649,
          693.3016802230001,
          619.253422492,
          870.4740231181,
          1017.2807971133
         ]
        },
        {
         "mode": "lines+markers",
         "name": "Fazilka",
         "type": "scatter",
         "visible": "legendonly",
         "x": [
          2009,
          2010,
          2011,
          2012,
          2013,
          2014,
          2015,
          2016,
          2017,
          2018,
          2019,
          2020,
          2021,
          2022,
          2023
         ],
         "y": [
          246.047059877,
          305.8274166231,
          442.040521685,
          349.5116290942,
          283.4690958477,
          201.5735332045,
          198.0550085734,
          161.2362358822,
          181.0778124769,
          197.355097278,
          286.521317474,
          357.984370564,
          247.67470799,
          290.2923031764,
          297.3961199392
         ]
        },
        {
         "mode": "lines+markers",
         "name": "Firozepur",
         "type": "scatter",
         "visible": "legendonly",
         "x": [
          2009,
          2010,
          2011,
          2012,
          2013,
          2014,
          2015,
          2016,
          2017,
          2018,
          2019,
          2020,
          2021,
          2022,
          2023
         ],
         "y": [
          275.751380944,
          366.4988754437,
          390.8619354421,
          449.3743025847,
          517.4684044895,
          293.5002347403,
          316.2855876177,
          403.0000657692,
          253.2688354421,
          325.352513771,
          476.764127486,
          527.91468398,
          523.647974087,
          509.8810323881,
          554.4522898174
         ]
        },
        {
         "mode": "lines+markers",
         "name": "Gurdaspur",
         "type": "scatter",
         "visible": "legendonly",
         "x": [
          2009,
          2010,
          2011,
          2012,
          2013,
          2014,
          2015,
          2016,
          2017,
          2018,
          2019,
          2020,
          2021,
          2022,
          2023
         ],
         "y": [
          647.739193139,
          700.1688863116,
          1358.0511714004,
          1252.4002910262,
          993.8131068028,
          625.8454987797,
          935.556604402,
          568.6039376536,
          766.486508092,
          832.20898623,
          839.634945398,
          596.398808081,
          788.571440099,
          775.3985837905,
          943.6154212876
         ]
        },
        {
         "mode": "lines+markers",
         "name": "Hoshiarpur",
         "type": "scatter",
         "visible": "legendonly",
         "x": [
          2009,
          2010,
          2011,
          2012,
          2013,
          2014,
          2015,
          2016,
          2017,
          2018,
          2019,
          2020,
          2021,
          2022,
          2023
         ],
         "y": [
          805.633643104,
          1119.5355821332,
          1262.5698744666,
          1027.3352560391,
          1154.2362157253,
          858.2601419269,
          1068.7163784422,
          764.7704391262,
          908.8991826441,
          1291.1388400810001,
          1148.354203616,
          716.065549118,
          883.396786703,
          788.7766042888,
          1047.2214253209
         ]
        },
        {
         "mode": "lines+markers",
         "name": "Jalandhar",
         "type": "scatter",
         "visible": "legendonly",
         "x": [
          2009,
          2010,
          2011,
          2012,
          2013,
          2014,
          2015,
          2016,
          2017,
          2018,
          2019,
          2020,
          2021,
          2022,
          2023
         ],
         "y": [
          667.677656191,
          772.3362741232,
          1139.9556467628,
          954.4371828764,
          624.2675318338,
          613.9999840383,
          650.6256411655,
          630.4090038347,
          718.4459722911,
          870.655192029,
          914.915181566,
          687.287572901,
          830.018658544,
          686.3492198348,
          750.3866898285
         ]
        },
        {
         "mode": "lines+markers",
         "name": "Kapurthala",
         "type": "scatter",
         "visible": "legendonly",
         "x": [
          2009,
          2010,
          2011,
          2012,
          2013,
          2014,
          2015,
          2016,
          2017,
          2018,
          2019,
          2020,
          2021,
          2022,
          2023
         ],
         "y": [
          567.8445489430001,
          644.1872837958,
          1329.5360823911,
          1160.750746948,
          559.2282659528,
          559.1617196207,
          621.885825886,
          738.5529213567,
          823.3794747019,
          917.070450302,
          1128.254260789,
          793.622496946,
          1003.451024581,
          875.9892938249,
          894.9864686605
         ]
        },
        {
         "mode": "lines+markers",
         "name": "Ludhiana",
         "type": "scatter",
         "visible": "legendonly",
         "x": [
          2009,
          2010,
          2011,
          2012,
          2013,
          2014,
          2015,
          2016,
          2017,
          2018,
          2019,
          2020,
          2021,
          2022,
          2023
         ],
         "y": [
          587.510664191,
          937.900325284,
          1202.2024079718,
          882.500272368,
          693.330494172,
          530.5041873399,
          733.272890634,
          461.8277189154,
          618.4124933819,
          816.540658374,
          795.4102159610001,
          524.136014466,
          697.186819882,
          738.1574966076,
          697.7211060079001
         ]
        },
        {
         "mode": "lines+markers",
         "name": "Mansa",
         "type": "scatter",
         "visible": "legendonly",
         "x": [
          2009,
          2010,
          2011,
          2012,
          2013,
          2014,
          2015,
          2016,
          2017,
          2018,
          2019,
          2020,
          2021,
          2022,
          2023
         ],
         "y": [
          247.137570617,
          541.3303389357,
          401.4101730023,
          469.15739878069996,
          320.12100695830003,
          219.66723852,
          253.5255106202,
          262.1451506497,
          242.1933923575,
          282.342584837,
          292.33178511799997,
          417.992688759,
          365.191776392,
          475.7996811491,
          249.0027998726
         ]
        },
        {
         "mode": "lines+markers",
         "name": "Moga",
         "type": "scatter",
         "visible": "legendonly",
         "x": [
          2009,
          2010,
          2011,
          2012,
          2013,
          2014,
          2015,
          2016,
          2017,
          2018,
          2019,
          2020,
          2021,
          2022,
          2023
         ],
         "y": [
          355.147076252,
          507.9010967583,
          329.8942474101,
          411.5813320321,
          490.4876736575,
          378.4084209421,
          376.8352096143,
          537.490931396,
          532.8556144966,
          480.422977278,
          586.657473082,
          525.141476848,
          674.4954860720001,
          601.5775828303,
          540.4318484606
         ]
        },
        {
         "mode": "lines+markers",
         "name": "Pathankot",
         "type": "scatter",
         "visible": "legendonly",
         "x": [
          2009,
          2010,
          2011,
          2012,
          2013,
          2014,
          2015,
          2016,
          2017,
          2018,
          2019,
          2020,
          2021,
          2022,
          2023
         ],
         "y": [
          1423.433152742,
          1367.811274901,
          1171.2942957555001,
          1100.650440716,
          1665.5487674137,
          981.3886651672,
          1440.9372075677,
          1110.9721658539,
          1246.4778339259,
          1453.47585228,
          1585.062533689,
          1251.426134996,
          1189.507318045,
          1387.7574258445,
          1509.6144658978
         ]
        },
        {
         "mode": "lines+markers",
         "name": "Patiala",
         "type": "scatter",
         "visible": "legendonly",
         "x": [
          2009,
          2010,
          2011,
          2012,
          2013,
          2014,
          2015,
          2016,
          2017,
          2018,
          2019,
          2020,
          2021,
          2022,
          2023
         ],
         "y": [
          761.3067855498,
          1202.4138916507,
          1086.0308896273,
          762.8409903823,
          751.9177305935,
          549.0486729867,
          738.5645562365,
          422.2203829046,
          562.0662662346,
          804.229439509,
          828.906519741,
          712.961643162,
          720.999437519,
          820.8523733036001,
          855.4533443631001
         ]
        },
        {
         "mode": "lines+markers",
         "name": "Rupnagar",
         "type": "scatter",
         "visible": "legendonly",
         "x": [
          2009,
          2010,
          2011,
          2012,
          2013,
          2014,
          2015,
          2016,
          2017,
          2018,
          2019,
          2020,
          2021,
          2022,
          2023
         ],
         "y": [
          801.400808891,
          1389.4937409832,
          1533.9665296271,
          997.0297102106,
          1097.179069611,
          851.4566112608,
          1024.6413028447,
          872.6997375414,
          1078.4157781888,
          1364.471278825,
          1138.284899108,
          928.48603264,
          879.087596021,
          1095.3098863882,
          1323.62291011
         ]
        },
        {
         "mode": "lines+markers",
         "name": "S.A.S Nagar",
         "type": "scatter",
         "visible": "legendonly",
         "x": [
          2009,
          2010,
          2011,
          2012,
          2013,
          2014,
          2015,
          2016,
          2017,
          2018,
          2019,
          2020,
          2021,
          2022,
          2023
         ],
         "y": [
          910.670635921,
          1482.7659704895,
          1497.1644987065,
          985.8471484139,
          1218.5026780813,
          951.2709927866,
          1011.9658212014,
          591.2296515858,
          817.1362659405,
          962.2668054869999,
          835.755177352,
          712.699879939,
          737.8997470630001,
          970.0728103623001,
          1300.3903721484
         ]
        },
        {
         "mode": "lines+markers",
         "name": "Sangrur",
         "type": "scatter",
         "visible": "legendonly",
         "x": [
          2009,
          2010,
          2011,
          2012,
          2013,
          2014,
          2015,
          2016,
          2017,
          2018,
          2019,
          2020,
          2021,
          2022,
          2023
         ],
         "y": [
          450.846626801,
          860.9961162036,
          960.8516346037,
          694.5339825323999,
          423.5671223467,
          317.1996390547,
          487.8267345968,
          376.8053124721,
          350.8106341438,
          565.89326805,
          537.891461533,
          512.598039128,
          523.831713177,
          616.0769687777,
          467.3351604403
         ]
        },
        {
         "mode": "lines+markers",
         "name": "Shahid Bhagat Singh Nagar",
         "type": "scatter",
         "visible": "legendonly",
         "x": [
          2009,
          2010,
          2011,
          2012,
          2013,
          2014,
          2015,
          2016,
          2017,
          2018,
          2019,
          2020,
          2021,
          2022,
          2023
         ],
         "y": [
          548.04533301,
          863.5357743183,
          1511.5662137623,
          974.8070240127,
          874.7869502316,
          719.1056112863,
          817.6844851693,
          680.1874371163,
          861.2134409677,
          1054.797435575,
          936.2664271790001,
          656.494536737,
          682.204521251,
          809.5578855035,
          1006.2269461802999
         ]
        },
        {
         "mode": "lines+markers",
         "name": "Sri Muktsar Sahib",
         "type": "scatter",
         "visible": "legendonly",
         "x": [
          2009,
          2010,
          2011,
          2012,
          2013,
          2014,
          2015,
          2016,
          2017,
          2018,
          2019,
          2020,
          2021,
          2022,
          2023
         ],
         "y": [
          243.243372266,
          424.9176911138,
          385.520747981,
          348.9427675048,
          600.7219377298,
          354.8796270852,
          370.6873271677,
          365.0146427169,
          303.2393921927,
          335.103083223,
          469.310390822,
          420.801533131,
          449.70120676,
          369.7861524196,
          394.78010848270003
         ]
        },
        {
         "mode": "lines+markers",
         "name": "Tarn Taran",
         "type": "scatter",
         "visible": "legendonly",
         "x": [
          2009,
          2010,
          2011,
          2012,
          2013,
          2014,
          2015,
          2016,
          2017,
          2018,
          2019,
          2020,
          2021,
          2022,
          2023
         ],
         "y": [
          406.507082372,
          497.4230401031,
          1073.76191962,
          1313.8966686209,
          610.8824613102,
          395.5234717329,
          552.4679973986,
          557.8601697467,
          429.8375275027,
          654.768944468,
          776.185153825,
          673.286968199,
          784.853644794,
          604.6028668104,
          749.3818358707
         ]
        }
       ],
       "layout": {
        "legend": {
         "tracegroupgap": 0,
         "traceorder": "normal",
         "x": 1.05,
         "y": 1
        },
        "margin": {
         "b": 0,
         "l": 0,
         "r": 0,
         "t": 50
        },
        "plot_bgcolor": "white",
        "template": {
         "data": {
          "bar": [
           {
            "error_x": {
             "color": "#2a3f5f"
            },
            "error_y": {
             "color": "#2a3f5f"
            },
            "marker": {
             "line": {
              "color": "#E5ECF6",
              "width": 0.5
             },
             "pattern": {
              "fillmode": "overlay",
              "size": 10,
              "solidity": 0.2
             }
            },
            "type": "bar"
           }
          ],
          "barpolar": [
           {
            "marker": {
             "line": {
              "color": "#E5ECF6",
              "width": 0.5
             },
             "pattern": {
              "fillmode": "overlay",
              "size": 10,
              "solidity": 0.2
             }
            },
            "type": "barpolar"
           }
          ],
          "carpet": [
           {
            "aaxis": {
             "endlinecolor": "#2a3f5f",
             "gridcolor": "white",
             "linecolor": "white",
             "minorgridcolor": "white",
             "startlinecolor": "#2a3f5f"
            },
            "baxis": {
             "endlinecolor": "#2a3f5f",
             "gridcolor": "white",
             "linecolor": "white",
             "minorgridcolor": "white",
             "startlinecolor": "#2a3f5f"
            },
            "type": "carpet"
           }
          ],
          "choropleth": [
           {
            "colorbar": {
             "outlinewidth": 0,
             "ticks": ""
            },
            "type": "choropleth"
           }
          ],
          "contour": [
           {
            "colorbar": {
             "outlinewidth": 0,
             "ticks": ""
            },
            "colorscale": [
             [
              0,
              "#0d0887"
             ],
             [
              0.1111111111111111,
              "#46039f"
             ],
             [
              0.2222222222222222,
              "#7201a8"
             ],
             [
              0.3333333333333333,
              "#9c179e"
             ],
             [
              0.4444444444444444,
              "#bd3786"
             ],
             [
              0.5555555555555556,
              "#d8576b"
             ],
             [
              0.6666666666666666,
              "#ed7953"
             ],
             [
              0.7777777777777778,
              "#fb9f3a"
             ],
             [
              0.8888888888888888,
              "#fdca26"
             ],
             [
              1,
              "#f0f921"
             ]
            ],
            "type": "contour"
           }
          ],
          "contourcarpet": [
           {
            "colorbar": {
             "outlinewidth": 0,
             "ticks": ""
            },
            "type": "contourcarpet"
           }
          ],
          "heatmap": [
           {
            "colorbar": {
             "outlinewidth": 0,
             "ticks": ""
            },
            "colorscale": [
             [
              0,
              "#0d0887"
             ],
             [
              0.1111111111111111,
              "#46039f"
             ],
             [
              0.2222222222222222,
              "#7201a8"
             ],
             [
              0.3333333333333333,
              "#9c179e"
             ],
             [
              0.4444444444444444,
              "#bd3786"
             ],
             [
              0.5555555555555556,
              "#d8576b"
             ],
             [
              0.6666666666666666,
              "#ed7953"
             ],
             [
              0.7777777777777778,
              "#fb9f3a"
             ],
             [
              0.8888888888888888,
              "#fdca26"
             ],
             [
              1,
              "#f0f921"
             ]
            ],
            "type": "heatmap"
           }
          ],
          "heatmapgl": [
           {
            "colorbar": {
             "outlinewidth": 0,
             "ticks": ""
            },
            "colorscale": [
             [
              0,
              "#0d0887"
             ],
             [
              0.1111111111111111,
              "#46039f"
             ],
             [
              0.2222222222222222,
              "#7201a8"
             ],
             [
              0.3333333333333333,
              "#9c179e"
             ],
             [
              0.4444444444444444,
              "#bd3786"
             ],
             [
              0.5555555555555556,
              "#d8576b"
             ],
             [
              0.6666666666666666,
              "#ed7953"
             ],
             [
              0.7777777777777778,
              "#fb9f3a"
             ],
             [
              0.8888888888888888,
              "#fdca26"
             ],
             [
              1,
              "#f0f921"
             ]
            ],
            "type": "heatmapgl"
           }
          ],
          "histogram": [
           {
            "marker": {
             "pattern": {
              "fillmode": "overlay",
              "size": 10,
              "solidity": 0.2
             }
            },
            "type": "histogram"
           }
          ],
          "histogram2d": [
           {
            "colorbar": {
             "outlinewidth": 0,
             "ticks": ""
            },
            "colorscale": [
             [
              0,
              "#0d0887"
             ],
             [
              0.1111111111111111,
              "#46039f"
             ],
             [
              0.2222222222222222,
              "#7201a8"
             ],
             [
              0.3333333333333333,
              "#9c179e"
             ],
             [
              0.4444444444444444,
              "#bd3786"
             ],
             [
              0.5555555555555556,
              "#d8576b"
             ],
             [
              0.6666666666666666,
              "#ed7953"
             ],
             [
              0.7777777777777778,
              "#fb9f3a"
             ],
             [
              0.8888888888888888,
              "#fdca26"
             ],
             [
              1,
              "#f0f921"
             ]
            ],
            "type": "histogram2d"
           }
          ],
          "histogram2dcontour": [
           {
            "colorbar": {
             "outlinewidth": 0,
             "ticks": ""
            },
            "colorscale": [
             [
              0,
              "#0d0887"
             ],
             [
              0.1111111111111111,
              "#46039f"
             ],
             [
              0.2222222222222222,
              "#7201a8"
             ],
             [
              0.3333333333333333,
              "#9c179e"
             ],
             [
              0.4444444444444444,
              "#bd3786"
             ],
             [
              0.5555555555555556,
              "#d8576b"
             ],
             [
              0.6666666666666666,
              "#ed7953"
             ],
             [
              0.7777777777777778,
              "#fb9f3a"
             ],
             [
              0.8888888888888888,
              "#fdca26"
             ],
             [
              1,
              "#f0f921"
             ]
            ],
            "type": "histogram2dcontour"
           }
          ],
          "mesh3d": [
           {
            "colorbar": {
             "outlinewidth": 0,
             "ticks": ""
            },
            "type": "mesh3d"
           }
          ],
          "parcoords": [
           {
            "line": {
             "colorbar": {
              "outlinewidth": 0,
              "ticks": ""
             }
            },
            "type": "parcoords"
           }
          ],
          "pie": [
           {
            "automargin": true,
            "type": "pie"
           }
          ],
          "scatter": [
           {
            "fillpattern": {
             "fillmode": "overlay",
             "size": 10,
             "solidity": 0.2
            },
            "type": "scatter"
           }
          ],
          "scatter3d": [
           {
            "line": {
             "colorbar": {
              "outlinewidth": 0,
              "ticks": ""
             }
            },
            "marker": {
             "colorbar": {
              "outlinewidth": 0,
              "ticks": ""
             }
            },
            "type": "scatter3d"
           }
          ],
          "scattercarpet": [
           {
            "marker": {
             "colorbar": {
              "outlinewidth": 0,
              "ticks": ""
             }
            },
            "type": "scattercarpet"
           }
          ],
          "scattergeo": [
           {
            "marker": {
             "colorbar": {
              "outlinewidth": 0,
              "ticks": ""
             }
            },
            "type": "scattergeo"
           }
          ],
          "scattergl": [
           {
            "marker": {
             "colorbar": {
              "outlinewidth": 0,
              "ticks": ""
             }
            },
            "type": "scattergl"
           }
          ],
          "scattermapbox": [
           {
            "marker": {
             "colorbar": {
              "outlinewidth": 0,
              "ticks": ""
             }
            },
            "type": "scattermapbox"
           }
          ],
          "scatterpolar": [
           {
            "marker": {
             "colorbar": {
              "outlinewidth": 0,
              "ticks": ""
             }
            },
            "type": "scatterpolar"
           }
          ],
          "scatterpolargl": [
           {
            "marker": {
             "colorbar": {
              "outlinewidth": 0,
              "ticks": ""
             }
            },
            "type": "scatterpolargl"
           }
          ],
          "scatterternary": [
           {
            "marker": {
             "colorbar": {
              "outlinewidth": 0,
              "ticks": ""
             }
            },
            "type": "scatterternary"
           }
          ],
          "surface": [
           {
            "colorbar": {
             "outlinewidth": 0,
             "ticks": ""
            },
            "colorscale": [
             [
              0,
              "#0d0887"
             ],
             [
              0.1111111111111111,
              "#46039f"
             ],
             [
              0.2222222222222222,
              "#7201a8"
             ],
             [
              0.3333333333333333,
              "#9c179e"
             ],
             [
              0.4444444444444444,
              "#bd3786"
             ],
             [
              0.5555555555555556,
              "#d8576b"
             ],
             [
              0.6666666666666666,
              "#ed7953"
             ],
             [
              0.7777777777777778,
              "#fb9f3a"
             ],
             [
              0.8888888888888888,
              "#fdca26"
             ],
             [
              1,
              "#f0f921"
             ]
            ],
            "type": "surface"
           }
          ],
          "table": [
           {
            "cells": {
             "fill": {
              "color": "#EBF0F8"
             },
             "line": {
              "color": "white"
             }
            },
            "header": {
             "fill": {
              "color": "#C8D4E3"
             },
             "line": {
              "color": "white"
             }
            },
            "type": "table"
           }
          ]
         },
         "layout": {
          "annotationdefaults": {
           "arrowcolor": "#2a3f5f",
           "arrowhead": 0,
           "arrowwidth": 1
          },
          "autotypenumbers": "strict",
          "coloraxis": {
           "colorbar": {
            "outlinewidth": 0,
            "ticks": ""
           }
          },
          "colorscale": {
           "diverging": [
            [
             0,
             "#8e0152"
            ],
            [
             0.1,
             "#c51b7d"
            ],
            [
             0.2,
             "#de77ae"
            ],
            [
             0.3,
             "#f1b6da"
            ],
            [
             0.4,
             "#fde0ef"
            ],
            [
             0.5,
             "#f7f7f7"
            ],
            [
             0.6,
             "#e6f5d0"
            ],
            [
             0.7,
             "#b8e186"
            ],
            [
             0.8,
             "#7fbc41"
            ],
            [
             0.9,
             "#4d9221"
            ],
            [
             1,
             "#276419"
            ]
           ],
           "sequential": [
            [
             0,
             "#0d0887"
            ],
            [
             0.1111111111111111,
             "#46039f"
            ],
            [
             0.2222222222222222,
             "#7201a8"
            ],
            [
             0.3333333333333333,
             "#9c179e"
            ],
            [
             0.4444444444444444,
             "#bd3786"
            ],
            [
             0.5555555555555556,
             "#d8576b"
            ],
            [
             0.6666666666666666,
             "#ed7953"
            ],
            [
             0.7777777777777778,
             "#fb9f3a"
            ],
            [
             0.8888888888888888,
             "#fdca26"
            ],
            [
             1,
             "#f0f921"
            ]
           ],
           "sequentialminus": [
            [
             0,
             "#0d0887"
            ],
            [
             0.1111111111111111,
             "#46039f"
            ],
            [
             0.2222222222222222,
             "#7201a8"
            ],
            [
             0.3333333333333333,
             "#9c179e"
            ],
            [
             0.4444444444444444,
             "#bd3786"
            ],
            [
             0.5555555555555556,
             "#d8576b"
            ],
            [
             0.6666666666666666,
             "#ed7953"
            ],
            [
             0.7777777777777778,
             "#fb9f3a"
            ],
            [
             0.8888888888888888,
             "#fdca26"
            ],
            [
             1,
             "#f0f921"
            ]
           ]
          },
          "colorway": [
           "#636efa",
           "#EF553B",
           "#00cc96",
           "#ab63fa",
           "#FFA15A",
           "#19d3f3",
           "#FF6692",
           "#B6E880",
           "#FF97FF",
           "#FECB52"
          ],
          "font": {
           "color": "#2a3f5f"
          },
          "geo": {
           "bgcolor": "white",
           "lakecolor": "white",
           "landcolor": "#E5ECF6",
           "showlakes": true,
           "showland": true,
           "subunitcolor": "white"
          },
          "hoverlabel": {
           "align": "left"
          },
          "hovermode": "closest",
          "mapbox": {
           "style": "light"
          },
          "paper_bgcolor": "white",
          "plot_bgcolor": "#E5ECF6",
          "polar": {
           "angularaxis": {
            "gridcolor": "white",
            "linecolor": "white",
            "ticks": ""
           },
           "bgcolor": "#E5ECF6",
           "radialaxis": {
            "gridcolor": "white",
            "linecolor": "white",
            "ticks": ""
           }
          },
          "scene": {
           "xaxis": {
            "backgroundcolor": "#E5ECF6",
            "gridcolor": "white",
            "gridwidth": 2,
            "linecolor": "white",
            "showbackground": true,
            "ticks": "",
            "zerolinecolor": "white"
           },
           "yaxis": {
            "backgroundcolor": "#E5ECF6",
            "gridcolor": "white",
            "gridwidth": 2,
            "linecolor": "white",
            "showbackground": true,
            "ticks": "",
            "zerolinecolor": "white"
           },
           "zaxis": {
            "backgroundcolor": "#E5ECF6",
            "gridcolor": "white",
            "gridwidth": 2,
            "linecolor": "white",
            "showbackground": true,
            "ticks": "",
            "zerolinecolor": "white"
           }
          },
          "shapedefaults": {
           "line": {
            "color": "#2a3f5f"
           }
          },
          "ternary": {
           "aaxis": {
            "gridcolor": "white",
            "linecolor": "white",
            "ticks": ""
           },
           "baxis": {
            "gridcolor": "white",
            "linecolor": "white",
            "ticks": ""
           },
           "bgcolor": "#E5ECF6",
           "caxis": {
            "gridcolor": "white",
            "linecolor": "white",
            "ticks": ""
           }
          },
          "title": {
           "x": 0.05
          },
          "xaxis": {
           "automargin": true,
           "gridcolor": "white",
           "linecolor": "white",
           "ticks": "",
           "title": {
            "standoff": 15
           },
           "zerolinecolor": "white",
           "zerolinewidth": 2
          },
          "yaxis": {
           "automargin": true,
           "gridcolor": "white",
           "linecolor": "white",
           "ticks": "",
           "title": {
            "standoff": 15
           },
           "zerolinecolor": "white",
           "zerolinewidth": 2
          }
         }
        },
        "title": {
         "text": "Punjab"
        },
        "updatemenus": [
         {
          "buttons": [
           {
            "args": [
             {
              "visible": [
               true,
               true,
               true,
               true,
               true,
               true,
               true,
               true,
               true,
               true,
               true,
               true,
               true,
               true,
               true,
               true,
               true,
               true,
               true,
               true,
               true,
               true
              ]
             },
             {
              "title": "All Districts"
             }
            ],
            "label": "All",
            "method": "update"
           },
           {
            "args": [
             {
              "visible": [
               false,
               false,
               false,
               false,
               false,
               false,
               false,
               false,
               false,
               false,
               false,
               false,
               false,
               false,
               false,
               false,
               false,
               false,
               false,
               false,
               false,
               false
              ]
             },
             {
              "title": "No District"
             }
            ],
            "label": "None",
            "method": "update"
           }
          ],
          "direction": "left",
          "pad": {
           "r": 10,
           "t": 10
          },
          "showactive": true,
          "type": "buttons",
          "x": 0.05,
          "xanchor": "left",
          "y": 1.15,
          "yanchor": "top"
         }
        ],
        "xaxis": {
         "gridcolor": "lightgray",
         "gridwidth": 1,
         "showgrid": true,
         "tickmode": "array",
         "ticktext": [
          2009,
          2010,
          2011,
          2012,
          2013,
          2014,
          2015,
          2016,
          2017,
          2018,
          2019,
          2020,
          2021,
          2022,
          2023
         ],
         "tickvals": [
          2009,
          2010,
          2011,
          2012,
          2013,
          2014,
          2015,
          2016,
          2017,
          2018,
          2019,
          2020,
          2021,
          2022,
          2023
         ],
         "title": {
          "text": "Year"
         }
        },
        "yaxis": {
         "gridcolor": "lightgray",
         "gridwidth": 1,
         "showgrid": true,
         "title": {
          "text": "Average Rainfall in mm"
         }
        }
       }
      }
     },
     "metadata": {},
     "output_type": "display_data"
    },
    {
     "name": "stdout",
     "output_type": "stream",
     "text": [
      "Jharkhand\n",
      "['Bokaro', 'Chatra', 'Deoghar', 'Dhanbad', 'Dumka', 'East Singhbum', 'Garhwa', 'Giridih', 'Godda', 'Gumla', 'Hazaribagh', 'Jamtara', 'Khunti', 'Koderma', 'Latehar', 'Lohardaga', 'Pakur', 'Palamu', 'Ramgarh', 'Ranchi', 'Sahebganj', 'Saraikela Kharsawan', 'Simdega', 'West Singhbhum']\n"
     ]
    },
    {
     "data": {
      "application/vnd.plotly.v1+json": {
       "config": {
        "plotlyServerURL": "https://plot.ly"
       },
       "data": [
        {
         "mode": "lines+markers",
         "name": "Bokaro",
         "type": "scatter",
         "visible": "legendonly",
         "x": [
          2009,
          2010,
          2011,
          2012,
          2013,
          2014,
          2015,
          2016,
          2017,
          2018,
          2019,
          2020,
          2021,
          2022,
          2023
         ],
         "y": [
          1155.179713084,
          1039.1169220189,
          1077.5778169204,
          994.3498902667,
          1199.7736079423,
          1022.2223192466,
          973.6398436735,
          1249.839496367,
          1311.3454203558,
          934.760315718,
          1211.99238431,
          1131.812105827,
          1531.431929726,
          1007.3866777419,
          915.3188561502
         ]
        },
        {
         "mode": "lines+markers",
         "name": "Chatra",
         "type": "scatter",
         "visible": "legendonly",
         "x": [
          2009,
          2010,
          2011,
          2012,
          2013,
          2014,
          2015,
          2016,
          2017,
          2018,
          2019,
          2020,
          2021,
          2022,
          2023
         ],
         "y": [
          786.353549049,
          777.9311222032001,
          942.3926438074,
          1068.3353212016,
          1042.3874210374,
          1206.1457590317,
          958.4813809342,
          1343.4401115752,
          1027.9092457056,
          831.905685521,
          1025.077488122,
          1260.720704157,
          1587.137003735,
          818.6967864298,
          658.7744157233
         ]
        },
        {
         "mode": "lines+markers",
         "name": "Deoghar",
         "type": "scatter",
         "visible": "legendonly",
         "x": [
          2009,
          2010,
          2011,
          2012,
          2013,
          2014,
          2015,
          2016,
          2017,
          2018,
          2019,
          2020,
          2021,
          2022,
          2023
         ],
         "y": [
          932.986811148,
          1099.8219063101,
          1068.3701616518,
          1182.5267819146,
          1254.9123418020001,
          1053.9912506239,
          1403.3214877476,
          1327.4545438332,
          1531.9085407638,
          836.990984372,
          1201.832410551,
          1281.218608335,
          1328.385880126,
          841.8576869869,
          934.0495752657
         ]
        },
        {
         "mode": "lines+markers",
         "name": "Dhanbad",
         "type": "scatter",
         "visible": "legendonly",
         "x": [
          2009,
          2010,
          2011,
          2012,
          2013,
          2014,
          2015,
          2016,
          2017,
          2018,
          2019,
          2020,
          2021,
          2022,
          2023
         ],
         "y": [
          1305.355154839,
          1142.6690567108,
          1299.5103007267,
          1152.4661510092,
          1203.6642292633,
          1001.3297276638,
          994.4137059707,
          1402.5733597212,
          1322.6279833868,
          1127.188812511,
          1346.558873684,
          1104.484214461,
          1825.956028892,
          955.8520551815,
          1031.4863281158
         ]
        },
        {
         "mode": "lines+markers",
         "name": "Dumka",
         "type": "scatter",
         "visible": "legendonly",
         "x": [
          2009,
          2010,
          2011,
          2012,
          2013,
          2014,
          2015,
          2016,
          2017,
          2018,
          2019,
          2020,
          2021,
          2022,
          2023
         ],
         "y": [
          1133.233466625,
          1092.7950919148,
          1056.797177436,
          1115.7449669479,
          1560.6979180214,
          1155.6616720347,
          1564.3550150806,
          1260.2742640237,
          1878.445715211,
          1044.677731201,
          1285.722762706,
          1261.27062097,
          1373.404764544,
          962.6704292352,
          1002.1758645653999
         ]
        },
        {
         "mode": "lines+markers",
         "name": "East Singhbum",
         "type": "scatter",
         "visible": "legendonly",
         "x": [
          2009,
          2010,
          2011,
          2012,
          2013,
          2014,
          2015,
          2016,
          2017,
          2018,
          2019,
          2020,
          2021,
          2022,
          2023
         ],
         "y": [
          1366.007693362,
          813.0070643432,
          1835.6469396384,
          1331.5558403634,
          1958.7550623097,
          1257.2664407443,
          1208.7875943879,
          1357.9652243852,
          1455.3004929988,
          1330.174218359,
          1542.915676105,
          1368.835644931,
          2038.203790514,
          1128.5808297779,
          937.837258985
         ]
        },
        {
         "mode": "lines+markers",
         "name": "Garhwa",
         "type": "scatter",
         "visible": "legendonly",
         "x": [
          2009,
          2010,
          2011,
          2012,
          2013,
          2014,
          2015,
          2016,
          2017,
          2018,
          2019,
          2020,
          2021,
          2022,
          2023
         ],
         "y": [
          711.771981389,
          630.1587704136,
          1140.2108255832,
          1057.1875771574,
          1008.0338877364,
          794.4120738382,
          1139.1098778409,
          1315.5533377368,
          836.3953673998,
          794.415906688,
          915.912543181,
          1342.8811933040001,
          1111.866265889,
          654.1858664954,
          648.7944795706001
         ]
        },
        {
         "mode": "lines+markers",
         "name": "Giridih",
         "type": "scatter",
         "visible": "legendonly",
         "x": [
          2009,
          2010,
          2011,
          2012,
          2013,
          2014,
          2015,
          2016,
          2017,
          2018,
          2019,
          2020,
          2021,
          2022,
          2023
         ],
         "y": [
          780.668071624,
          1071.8575609205,
          952.1338775696,
          1001.5987787532,
          1126.9500132975,
          1137.5010873134,
          1063.472328716,
          1119.7700016631,
          1092.6208293623,
          781.5945094,
          1031.640398153,
          1039.068402411,
          1318.386369996,
          888.0489261133,
          890.5321333078
         ]
        },
        {
         "mode": "lines+markers",
         "name": "Godda",
         "type": "scatter",
         "visible": "legendonly",
         "x": [
          2009,
          2010,
          2011,
          2012,
          2013,
          2014,
          2015,
          2016,
          2017,
          2018,
          2019,
          2020,
          2021,
          2022,
          2023
         ],
         "y": [
          1099.396484775,
          984.2504304652999,
          1121.8625887312,
          1382.4040707788,
          1628.5722244981,
          1368.1775209282,
          1234.0123013175,
          974.8262750865,
          1376.3407846792,
          936.48846822,
          1268.145759513,
          1209.004696269,
          1318.125512914,
          822.0876700113,
          1240.5616647521
         ]
        },
        {
         "mode": "lines+markers",
         "name": "Gumla",
         "type": "scatter",
         "visible": "legendonly",
         "x": [
          2009,
          2010,
          2011,
          2012,
          2013,
          2014,
          2015,
          2016,
          2017,
          2018,
          2019,
          2020,
          2021,
          2022,
          2023
         ],
         "y": [
          1160.31190276,
          1107.3761175517,
          1710.2783242334,
          1407.4268848644,
          1451.565398391,
          1194.7501773137,
          1271.7276139174,
          1213.2005305312,
          1161.5331340897,
          991.404434347,
          1168.42692181,
          1136.768877929,
          1381.805723248,
          907.6111926808001,
          844.1713739679
         ]
        },
        {
         "mode": "lines+markers",
         "name": "Hazaribagh",
         "type": "scatter",
         "visible": "legendonly",
         "x": [
          2009,
          2010,
          2011,
          2012,
          2013,
          2014,
          2015,
          2016,
          2017,
          2018,
          2019,
          2020,
          2021,
          2022,
          2023
         ],
         "y": [
          996.716268678,
          980.6040995825,
          951.3285651545,
          957.2324949971,
          1171.9868036352,
          1314.3424658928,
          1049.3410039207,
          1135.1115939139,
          974.5744774027,
          778.405229786,
          996.624133606,
          1163.883776485,
          1328.977908036,
          924.189983357,
          685.7248554186
         ]
        },
        {
         "mode": "lines+markers",
         "name": "Jamtara",
         "type": "scatter",
         "visible": "legendonly",
         "x": [
          2009,
          2010,
          2011,
          2012,
          2013,
          2014,
          2015,
          2016,
          2017,
          2018,
          2019,
          2020,
          2021,
          2022,
          2023
         ],
         "y": [
          1286.865546776,
          1177.9338806768,
          1233.065191602,
          1138.190714667,
          1299.6537033493,
          1109.466127516,
          1457.0564035609,
          1413.3132868145,
          1413.1986030594,
          1078.211631458,
          1262.80882603,
          1352.705829023,
          1690.108339468,
          988.2227272645,
          1032.9763766136
         ]
        },
        {
         "mode": "lines+markers",
         "name": "Khunti",
         "type": "scatter",
         "visible": "legendonly",
         "x": [
          2009,
          2010,
          2011,
          2012,
          2013,
          2014,
          2015,
          2016,
          2017,
          2018,
          2019,
          2020,
          2021,
          2022,
          2023
         ],
         "y": [
          1327.583856404,
          877.7382774212,
          1659.9398030474,
          1263.4571619694,
          1399.8177692944,
          1219.5124129332,
          1005.8616546599,
          916.4261202804,
          944.9185373002,
          837.748146423,
          918.879621051,
          1081.375128395,
          1690.323806243,
          963.8047125701,
          938.9175113303
         ]
        },
        {
         "mode": "lines+markers",
         "name": "Koderma",
         "type": "scatter",
         "visible": "legendonly",
         "x": [
          2009,
          2010,
          2011,
          2012,
          2013,
          2014,
          2015,
          2016,
          2017,
          2018,
          2019,
          2020,
          2021,
          2022,
          2023
         ],
         "y": [
          803.902415522,
          767.5721351279,
          937.0850500393,
          898.9975263569,
          1028.4603570157,
          1197.0881763523,
          948.2747771264,
          1034.8505438562,
          969.8631593749,
          690.2144680920001,
          963.189556227,
          1164.547637395,
          1368.278477627,
          896.7582886865,
          728.0202952269
         ]
        },
        {
         "mode": "lines+markers",
         "name": "Latehar",
         "type": "scatter",
         "visible": "legendonly",
         "x": [
          2009,
          2010,
          2011,
          2012,
          2013,
          2014,
          2015,
          2016,
          2017,
          2018,
          2019,
          2020,
          2021,
          2022,
          2023
         ],
         "y": [
          777.626500347,
          933.5613592438,
          1147.3079203171,
          1186.5863050277,
          1415.9775145354,
          1099.0582395868,
          1057.2919225614,
          1402.197558017,
          1168.0082909088,
          977.950256889,
          991.203278609,
          1387.362164915,
          1470.336663798,
          957.2205120551,
          745.7912396354
         ]
        },
        {
         "mode": "lines+markers",
         "name": "Lohardaga",
         "type": "scatter",
         "visible": "legendonly",
         "x": [
          2009,
          2010,
          2011,
          2012,
          2013,
          2014,
          2015,
          2016,
          2017,
          2018,
          2019,
          2020,
          2021,
          2022,
          2023
         ],
         "y": [
          1046.252313151,
          929.2916283035,
          1639.8974636172,
          1361.3049990064,
          1421.9275751061,
          1083.7905772755,
          1126.7126235005,
          1278.9136900071999,
          1258.4288978202999,
          1010.576275145,
          1151.806789351,
          1453.686294523,
          1694.042070987,
          990.141232707,
          822.5851187083
         ]
        },
        {
         "mode": "lines+markers",
         "name": "Pakur",
         "type": "scatter",
         "visible": "legendonly",
         "x": [
          2009,
          2010,
          2011,
          2012,
          2013,
          2014,
          2015,
          2016,
          2017,
          2018,
          2019,
          2020,
          2021,
          2022,
          2023
         ],
         "y": [
          1339.284353665,
          1014.1635270876,
          1022.2976342427,
          954.7282507243,
          1672.0921586076,
          1343.3381422382,
          1683.8393772393,
          1088.0836071693,
          1499.856535501,
          829.780987941,
          1048.018115743,
          1387.181312316,
          1226.492252676,
          775.5334320531,
          1048.5329240918
         ]
        },
        {
         "mode": "lines+markers",
         "name": "Palamu",
         "type": "scatter",
         "visible": "legendonly",
         "x": [
          2009,
          2010,
          2011,
          2012,
          2013,
          2014,
          2015,
          2016,
          2017,
          2018,
          2019,
          2020,
          2021,
          2022,
          2023
         ],
         "y": [
          632.488376215,
          736.6184543975,
          963.3191528501,
          1100.318360496,
          1070.6723161492,
          894.9796393714,
          1086.8470610063,
          1397.6652122778,
          891.2147799985,
          766.852443097,
          998.562805174,
          1290.7074439350001,
          1287.806851671,
          608.9769977801,
          637.7050818122
         ]
        },
        {
         "mode": "lines+markers",
         "name": "Ramgarh",
         "type": "scatter",
         "visible": "legendonly",
         "x": [
          2009,
          2010,
          2011,
          2012,
          2013,
          2014,
          2015,
          2016,
          2017,
          2018,
          2019,
          2020,
          2021,
          2022,
          2023
         ],
         "y": [
          1126.425506656,
          861.4015660562001,
          865.5770659183,
          919.3672899412,
          1350.1812692663,
          1010.0990872969,
          917.4262320923,
          906.1556100814,
          1207.0648378506,
          750.565696527,
          958.6847024,
          1303.720784527,
          1396.175103011,
          960.4376645025,
          802.5757655301
         ]
        },
        {
         "mode": "lines+markers",
         "name": "Ranchi",
         "type": "scatter",
         "visible": "legendonly",
         "x": [
          2009,
          2010,
          2011,
          2012,
          2013,
          2014,
          2015,
          2016,
          2017,
          2018,
          2019,
          2020,
          2021,
          2022,
          2023
         ],
         "y": [
          1185.559097971,
          889.5606271844,
          1402.7924437028,
          1090.3155503781,
          1225.1924134698,
          905.203281466,
          881.9182689399,
          999.9452574378,
          1178.3545363307,
          851.414959071,
          956.131382188,
          1118.01378647,
          1495.668203427,
          960.6396793924999,
          831.7929423047
         ]
        },
        {
         "mode": "lines+markers",
         "name": "Sahebganj",
         "type": "scatter",
         "visible": "legendonly",
         "x": [
          2009,
          2010,
          2011,
          2012,
          2013,
          2014,
          2015,
          2016,
          2017,
          2018,
          2019,
          2020,
          2021,
          2022,
          2023
         ],
         "y": [
          1331.90836867,
          1147.1413812005,
          1190.6537516925,
          1040.624044677,
          1441.1923699038,
          1483.056641205,
          1478.2600534961,
          1162.7173188315,
          1462.7470580122,
          1099.474390558,
          1574.622511169,
          1429.831287184,
          1483.702690332,
          859.9239315827,
          1254.2845000386
         ]
        },
        {
         "mode": "lines+markers",
         "name": "Saraikela Kharsawan",
         "type": "scatter",
         "visible": "legendonly",
         "x": [
          2009,
          2010,
          2011,
          2012,
          2013,
          2014,
          2015,
          2016,
          2017,
          2018,
          2019,
          2020,
          2021,
          2022,
          2023
         ],
         "y": [
          1307.50573559,
          575.3138544202,
          1883.4926719445,
          1419.5877470301,
          1599.7004423015,
          1236.404268298,
          1108.5251004698,
          1705.3919094426,
          1837.5144674335,
          1347.691284431,
          1486.320030481,
          1272.556807617,
          1789.345000298,
          1076.5159092467,
          943.9996018474
         ]
        },
        {
         "mode": "lines+markers",
         "name": "Simdega",
         "type": "scatter",
         "visible": "legendonly",
         "x": [
          2009,
          2010,
          2011,
          2012,
          2013,
          2014,
          2015,
          2016,
          2017,
          2018,
          2019,
          2020,
          2021,
          2022,
          2023
         ],
         "y": [
          1113.32819513,
          873.5336405655,
          1702.4547066481,
          1466.8872579892,
          1547.6811633246,
          1291.4392343912,
          1213.5973164278,
          1153.0148522771,
          1347.3114853896,
          1209.318585022,
          1468.241459801,
          1325.688344852,
          1415.301434574,
          1103.81030873,
          1066.4677748099
         ]
        },
        {
         "mode": "lines+markers",
         "name": "West Singhbhum",
         "type": "scatter",
         "visible": "legendonly",
         "x": [
          2009,
          2010,
          2011,
          2012,
          2013,
          2014,
          2015,
          2016,
          2017,
          2018,
          2019,
          2020,
          2021,
          2022,
          2023
         ],
         "y": [
          1449.623794362,
          768.3154050443,
          1885.4082934082,
          1398.5521242917,
          1646.9203174601,
          1445.8452078742,
          1067.1295891019,
          1249.4709235879,
          1286.3314997543,
          1319.557994438,
          1376.934311179,
          1229.083825554,
          1634.35577242,
          1094.805205783,
          957.4394571799
         ]
        }
       ],
       "layout": {
        "legend": {
         "tracegroupgap": 0,
         "traceorder": "normal",
         "x": 1.05,
         "y": 1
        },
        "margin": {
         "b": 0,
         "l": 0,
         "r": 0,
         "t": 50
        },
        "plot_bgcolor": "white",
        "template": {
         "data": {
          "bar": [
           {
            "error_x": {
             "color": "#2a3f5f"
            },
            "error_y": {
             "color": "#2a3f5f"
            },
            "marker": {
             "line": {
              "color": "#E5ECF6",
              "width": 0.5
             },
             "pattern": {
              "fillmode": "overlay",
              "size": 10,
              "solidity": 0.2
             }
            },
            "type": "bar"
           }
          ],
          "barpolar": [
           {
            "marker": {
             "line": {
              "color": "#E5ECF6",
              "width": 0.5
             },
             "pattern": {
              "fillmode": "overlay",
              "size": 10,
              "solidity": 0.2
             }
            },
            "type": "barpolar"
           }
          ],
          "carpet": [
           {
            "aaxis": {
             "endlinecolor": "#2a3f5f",
             "gridcolor": "white",
             "linecolor": "white",
             "minorgridcolor": "white",
             "startlinecolor": "#2a3f5f"
            },
            "baxis": {
             "endlinecolor": "#2a3f5f",
             "gridcolor": "white",
             "linecolor": "white",
             "minorgridcolor": "white",
             "startlinecolor": "#2a3f5f"
            },
            "type": "carpet"
           }
          ],
          "choropleth": [
           {
            "colorbar": {
             "outlinewidth": 0,
             "ticks": ""
            },
            "type": "choropleth"
           }
          ],
          "contour": [
           {
            "colorbar": {
             "outlinewidth": 0,
             "ticks": ""
            },
            "colorscale": [
             [
              0,
              "#0d0887"
             ],
             [
              0.1111111111111111,
              "#46039f"
             ],
             [
              0.2222222222222222,
              "#7201a8"
             ],
             [
              0.3333333333333333,
              "#9c179e"
             ],
             [
              0.4444444444444444,
              "#bd3786"
             ],
             [
              0.5555555555555556,
              "#d8576b"
             ],
             [
              0.6666666666666666,
              "#ed7953"
             ],
             [
              0.7777777777777778,
              "#fb9f3a"
             ],
             [
              0.8888888888888888,
              "#fdca26"
             ],
             [
              1,
              "#f0f921"
             ]
            ],
            "type": "contour"
           }
          ],
          "contourcarpet": [
           {
            "colorbar": {
             "outlinewidth": 0,
             "ticks": ""
            },
            "type": "contourcarpet"
           }
          ],
          "heatmap": [
           {
            "colorbar": {
             "outlinewidth": 0,
             "ticks": ""
            },
            "colorscale": [
             [
              0,
              "#0d0887"
             ],
             [
              0.1111111111111111,
              "#46039f"
             ],
             [
              0.2222222222222222,
              "#7201a8"
             ],
             [
              0.3333333333333333,
              "#9c179e"
             ],
             [
              0.4444444444444444,
              "#bd3786"
             ],
             [
              0.5555555555555556,
              "#d8576b"
             ],
             [
              0.6666666666666666,
              "#ed7953"
             ],
             [
              0.7777777777777778,
              "#fb9f3a"
             ],
             [
              0.8888888888888888,
              "#fdca26"
             ],
             [
              1,
              "#f0f921"
             ]
            ],
            "type": "heatmap"
           }
          ],
          "heatmapgl": [
           {
            "colorbar": {
             "outlinewidth": 0,
             "ticks": ""
            },
            "colorscale": [
             [
              0,
              "#0d0887"
             ],
             [
              0.1111111111111111,
              "#46039f"
             ],
             [
              0.2222222222222222,
              "#7201a8"
             ],
             [
              0.3333333333333333,
              "#9c179e"
             ],
             [
              0.4444444444444444,
              "#bd3786"
             ],
             [
              0.5555555555555556,
              "#d8576b"
             ],
             [
              0.6666666666666666,
              "#ed7953"
             ],
             [
              0.7777777777777778,
              "#fb9f3a"
             ],
             [
              0.8888888888888888,
              "#fdca26"
             ],
             [
              1,
              "#f0f921"
             ]
            ],
            "type": "heatmapgl"
           }
          ],
          "histogram": [
           {
            "marker": {
             "pattern": {
              "fillmode": "overlay",
              "size": 10,
              "solidity": 0.2
             }
            },
            "type": "histogram"
           }
          ],
          "histogram2d": [
           {
            "colorbar": {
             "outlinewidth": 0,
             "ticks": ""
            },
            "colorscale": [
             [
              0,
              "#0d0887"
             ],
             [
              0.1111111111111111,
              "#46039f"
             ],
             [
              0.2222222222222222,
              "#7201a8"
             ],
             [
              0.3333333333333333,
              "#9c179e"
             ],
             [
              0.4444444444444444,
              "#bd3786"
             ],
             [
              0.5555555555555556,
              "#d8576b"
             ],
             [
              0.6666666666666666,
              "#ed7953"
             ],
             [
              0.7777777777777778,
              "#fb9f3a"
             ],
             [
              0.8888888888888888,
              "#fdca26"
             ],
             [
              1,
              "#f0f921"
             ]
            ],
            "type": "histogram2d"
           }
          ],
          "histogram2dcontour": [
           {
            "colorbar": {
             "outlinewidth": 0,
             "ticks": ""
            },
            "colorscale": [
             [
              0,
              "#0d0887"
             ],
             [
              0.1111111111111111,
              "#46039f"
             ],
             [
              0.2222222222222222,
              "#7201a8"
             ],
             [
              0.3333333333333333,
              "#9c179e"
             ],
             [
              0.4444444444444444,
              "#bd3786"
             ],
             [
              0.5555555555555556,
              "#d8576b"
             ],
             [
              0.6666666666666666,
              "#ed7953"
             ],
             [
              0.7777777777777778,
              "#fb9f3a"
             ],
             [
              0.8888888888888888,
              "#fdca26"
             ],
             [
              1,
              "#f0f921"
             ]
            ],
            "type": "histogram2dcontour"
           }
          ],
          "mesh3d": [
           {
            "colorbar": {
             "outlinewidth": 0,
             "ticks": ""
            },
            "type": "mesh3d"
           }
          ],
          "parcoords": [
           {
            "line": {
             "colorbar": {
              "outlinewidth": 0,
              "ticks": ""
             }
            },
            "type": "parcoords"
           }
          ],
          "pie": [
           {
            "automargin": true,
            "type": "pie"
           }
          ],
          "scatter": [
           {
            "fillpattern": {
             "fillmode": "overlay",
             "size": 10,
             "solidity": 0.2
            },
            "type": "scatter"
           }
          ],
          "scatter3d": [
           {
            "line": {
             "colorbar": {
              "outlinewidth": 0,
              "ticks": ""
             }
            },
            "marker": {
             "colorbar": {
              "outlinewidth": 0,
              "ticks": ""
             }
            },
            "type": "scatter3d"
           }
          ],
          "scattercarpet": [
           {
            "marker": {
             "colorbar": {
              "outlinewidth": 0,
              "ticks": ""
             }
            },
            "type": "scattercarpet"
           }
          ],
          "scattergeo": [
           {
            "marker": {
             "colorbar": {
              "outlinewidth": 0,
              "ticks": ""
             }
            },
            "type": "scattergeo"
           }
          ],
          "scattergl": [
           {
            "marker": {
             "colorbar": {
              "outlinewidth": 0,
              "ticks": ""
             }
            },
            "type": "scattergl"
           }
          ],
          "scattermapbox": [
           {
            "marker": {
             "colorbar": {
              "outlinewidth": 0,
              "ticks": ""
             }
            },
            "type": "scattermapbox"
           }
          ],
          "scatterpolar": [
           {
            "marker": {
             "colorbar": {
              "outlinewidth": 0,
              "ticks": ""
             }
            },
            "type": "scatterpolar"
           }
          ],
          "scatterpolargl": [
           {
            "marker": {
             "colorbar": {
              "outlinewidth": 0,
              "ticks": ""
             }
            },
            "type": "scatterpolargl"
           }
          ],
          "scatterternary": [
           {
            "marker": {
             "colorbar": {
              "outlinewidth": 0,
              "ticks": ""
             }
            },
            "type": "scatterternary"
           }
          ],
          "surface": [
           {
            "colorbar": {
             "outlinewidth": 0,
             "ticks": ""
            },
            "colorscale": [
             [
              0,
              "#0d0887"
             ],
             [
              0.1111111111111111,
              "#46039f"
             ],
             [
              0.2222222222222222,
              "#7201a8"
             ],
             [
              0.3333333333333333,
              "#9c179e"
             ],
             [
              0.4444444444444444,
              "#bd3786"
             ],
             [
              0.5555555555555556,
              "#d8576b"
             ],
             [
              0.6666666666666666,
              "#ed7953"
             ],
             [
              0.7777777777777778,
              "#fb9f3a"
             ],
             [
              0.8888888888888888,
              "#fdca26"
             ],
             [
              1,
              "#f0f921"
             ]
            ],
            "type": "surface"
           }
          ],
          "table": [
           {
            "cells": {
             "fill": {
              "color": "#EBF0F8"
             },
             "line": {
              "color": "white"
             }
            },
            "header": {
             "fill": {
              "color": "#C8D4E3"
             },
             "line": {
              "color": "white"
             }
            },
            "type": "table"
           }
          ]
         },
         "layout": {
          "annotationdefaults": {
           "arrowcolor": "#2a3f5f",
           "arrowhead": 0,
           "arrowwidth": 1
          },
          "autotypenumbers": "strict",
          "coloraxis": {
           "colorbar": {
            "outlinewidth": 0,
            "ticks": ""
           }
          },
          "colorscale": {
           "diverging": [
            [
             0,
             "#8e0152"
            ],
            [
             0.1,
             "#c51b7d"
            ],
            [
             0.2,
             "#de77ae"
            ],
            [
             0.3,
             "#f1b6da"
            ],
            [
             0.4,
             "#fde0ef"
            ],
            [
             0.5,
             "#f7f7f7"
            ],
            [
             0.6,
             "#e6f5d0"
            ],
            [
             0.7,
             "#b8e186"
            ],
            [
             0.8,
             "#7fbc41"
            ],
            [
             0.9,
             "#4d9221"
            ],
            [
             1,
             "#276419"
            ]
           ],
           "sequential": [
            [
             0,
             "#0d0887"
            ],
            [
             0.1111111111111111,
             "#46039f"
            ],
            [
             0.2222222222222222,
             "#7201a8"
            ],
            [
             0.3333333333333333,
             "#9c179e"
            ],
            [
             0.4444444444444444,
             "#bd3786"
            ],
            [
             0.5555555555555556,
             "#d8576b"
            ],
            [
             0.6666666666666666,
             "#ed7953"
            ],
            [
             0.7777777777777778,
             "#fb9f3a"
            ],
            [
             0.8888888888888888,
             "#fdca26"
            ],
            [
             1,
             "#f0f921"
            ]
           ],
           "sequentialminus": [
            [
             0,
             "#0d0887"
            ],
            [
             0.1111111111111111,
             "#46039f"
            ],
            [
             0.2222222222222222,
             "#7201a8"
            ],
            [
             0.3333333333333333,
             "#9c179e"
            ],
            [
             0.4444444444444444,
             "#bd3786"
            ],
            [
             0.5555555555555556,
             "#d8576b"
            ],
            [
             0.6666666666666666,
             "#ed7953"
            ],
            [
             0.7777777777777778,
             "#fb9f3a"
            ],
            [
             0.8888888888888888,
             "#fdca26"
            ],
            [
             1,
             "#f0f921"
            ]
           ]
          },
          "colorway": [
           "#636efa",
           "#EF553B",
           "#00cc96",
           "#ab63fa",
           "#FFA15A",
           "#19d3f3",
           "#FF6692",
           "#B6E880",
           "#FF97FF",
           "#FECB52"
          ],
          "font": {
           "color": "#2a3f5f"
          },
          "geo": {
           "bgcolor": "white",
           "lakecolor": "white",
           "landcolor": "#E5ECF6",
           "showlakes": true,
           "showland": true,
           "subunitcolor": "white"
          },
          "hoverlabel": {
           "align": "left"
          },
          "hovermode": "closest",
          "mapbox": {
           "style": "light"
          },
          "paper_bgcolor": "white",
          "plot_bgcolor": "#E5ECF6",
          "polar": {
           "angularaxis": {
            "gridcolor": "white",
            "linecolor": "white",
            "ticks": ""
           },
           "bgcolor": "#E5ECF6",
           "radialaxis": {
            "gridcolor": "white",
            "linecolor": "white",
            "ticks": ""
           }
          },
          "scene": {
           "xaxis": {
            "backgroundcolor": "#E5ECF6",
            "gridcolor": "white",
            "gridwidth": 2,
            "linecolor": "white",
            "showbackground": true,
            "ticks": "",
            "zerolinecolor": "white"
           },
           "yaxis": {
            "backgroundcolor": "#E5ECF6",
            "gridcolor": "white",
            "gridwidth": 2,
            "linecolor": "white",
            "showbackground": true,
            "ticks": "",
            "zerolinecolor": "white"
           },
           "zaxis": {
            "backgroundcolor": "#E5ECF6",
            "gridcolor": "white",
            "gridwidth": 2,
            "linecolor": "white",
            "showbackground": true,
            "ticks": "",
            "zerolinecolor": "white"
           }
          },
          "shapedefaults": {
           "line": {
            "color": "#2a3f5f"
           }
          },
          "ternary": {
           "aaxis": {
            "gridcolor": "white",
            "linecolor": "white",
            "ticks": ""
           },
           "baxis": {
            "gridcolor": "white",
            "linecolor": "white",
            "ticks": ""
           },
           "bgcolor": "#E5ECF6",
           "caxis": {
            "gridcolor": "white",
            "linecolor": "white",
            "ticks": ""
           }
          },
          "title": {
           "x": 0.05
          },
          "xaxis": {
           "automargin": true,
           "gridcolor": "white",
           "linecolor": "white",
           "ticks": "",
           "title": {
            "standoff": 15
           },
           "zerolinecolor": "white",
           "zerolinewidth": 2
          },
          "yaxis": {
           "automargin": true,
           "gridcolor": "white",
           "linecolor": "white",
           "ticks": "",
           "title": {
            "standoff": 15
           },
           "zerolinecolor": "white",
           "zerolinewidth": 2
          }
         }
        },
        "title": {
         "text": "Jharkhand"
        },
        "updatemenus": [
         {
          "buttons": [
           {
            "args": [
             {
              "visible": [
               true,
               true,
               true,
               true,
               true,
               true,
               true,
               true,
               true,
               true,
               true,
               true,
               true,
               true,
               true,
               true,
               true,
               true,
               true,
               true,
               true,
               true,
               true,
               true
              ]
             },
             {
              "title": "All Districts"
             }
            ],
            "label": "All",
            "method": "update"
           },
           {
            "args": [
             {
              "visible": [
               false,
               false,
               false,
               false,
               false,
               false,
               false,
               false,
               false,
               false,
               false,
               false,
               false,
               false,
               false,
               false,
               false,
               false,
               false,
               false,
               false,
               false,
               false,
               false
              ]
             },
             {
              "title": "No District"
             }
            ],
            "label": "None",
            "method": "update"
           }
          ],
          "direction": "left",
          "pad": {
           "r": 10,
           "t": 10
          },
          "showactive": true,
          "type": "buttons",
          "x": 0.05,
          "xanchor": "left",
          "y": 1.15,
          "yanchor": "top"
         }
        ],
        "xaxis": {
         "gridcolor": "lightgray",
         "gridwidth": 1,
         "showgrid": true,
         "tickmode": "array",
         "ticktext": [
          2009,
          2010,
          2011,
          2012,
          2013,
          2014,
          2015,
          2016,
          2017,
          2018,
          2019,
          2020,
          2021,
          2022,
          2023
         ],
         "tickvals": [
          2009,
          2010,
          2011,
          2012,
          2013,
          2014,
          2015,
          2016,
          2017,
          2018,
          2019,
          2020,
          2021,
          2022,
          2023
         ],
         "title": {
          "text": "Year"
         }
        },
        "yaxis": {
         "gridcolor": "lightgray",
         "gridwidth": 1,
         "showgrid": true,
         "title": {
          "text": "Average Rainfall in mm"
         }
        }
       }
      }
     },
     "metadata": {},
     "output_type": "display_data"
    },
    {
     "name": "stdout",
     "output_type": "stream",
     "text": [
      "Rajasthan\n",
      "['Ajmer', 'Alwar', 'Banswara', 'Baran', 'Barmer', 'Bharatpur', 'Bhilwara', 'Bikaner', 'Bundi', 'Chittorgarh', 'Churu', 'Dausa', 'Dholpur', 'Dungarpur', 'Ganganagar', 'Hanumangarh', 'Jaipur', 'Jaisalmer', 'Jalore', 'Jhalawar', 'Jhunjhunu', 'Jodhpur', 'Karauli', 'Kota', 'Nagaur', 'Pali', 'Pratapgarh', 'Rajsamand', 'Sawai Madhopur', 'Sikar', 'Sirohi', 'Tonk', 'Udaipur']\n"
     ]
    },
    {
     "data": {
      "application/vnd.plotly.v1+json": {
       "config": {
        "plotlyServerURL": "https://plot.ly"
       },
       "data": [
        {
         "mode": "lines+markers",
         "name": "Ajmer",
         "type": "scatter",
         "visible": "legendonly",
         "x": [
          2009,
          2010,
          2011,
          2012,
          2013,
          2014,
          2015,
          2016,
          2017,
          2018,
          2019,
          2020,
          2021,
          2022,
          2023
         ],
         "y": [
          287.965325542,
          896.6192506322,
          735.1122207268,
          747.76999831,
          569.2874541298,
          600.785656982,
          518.5401739399,
          632.1935776712,
          503.26540781660003,
          433.57869654,
          806.477987708,
          303.160241209,
          584.037589161,
          646.454804633,
          618.0593034046
         ]
        },
        {
         "mode": "lines+markers",
         "name": "Alwar",
         "type": "scatter",
         "visible": "legendonly",
         "x": [
          2009,
          2010,
          2011,
          2012,
          2013,
          2014,
          2015,
          2016,
          2017,
          2018,
          2019,
          2020,
          2021,
          2022,
          2023
         ],
         "y": [
          475.96951971,
          1332.6401933188,
          674.20086597,
          597.0548802170999,
          679.6270776171,
          453.6242192632,
          504.0837256871,
          671.0737376652,
          366.3034699576,
          556.0673055,
          469.512244123,
          504.37382096199997,
          728.224669252,
          839.0560444488,
          567.8290871311
         ]
        },
        {
         "mode": "lines+markers",
         "name": "Banswara",
         "type": "scatter",
         "visible": "legendonly",
         "x": [
          2009,
          2010,
          2011,
          2012,
          2013,
          2014,
          2015,
          2016,
          2017,
          2018,
          2019,
          2020,
          2021,
          2022,
          2023
         ],
         "y": [
          708.864517477,
          730.7260343422,
          1150.2836574089,
          1214.2719158635,
          1179.727342429,
          730.164050958,
          748.3141595892,
          1234.4605376189,
          982.1294275227,
          904.901002466,
          1357.573294647,
          514.990829121,
          979.013684559,
          1081.5081824913,
          1040.6026356846
         ]
        },
        {
         "mode": "lines+markers",
         "name": "Baran",
         "type": "scatter",
         "visible": "legendonly",
         "x": [
          2009,
          2010,
          2011,
          2012,
          2013,
          2014,
          2015,
          2016,
          2017,
          2018,
          2019,
          2020,
          2021,
          2022,
          2023
         ],
         "y": [
          640.325344478,
          863.9966744423,
          1408.6608199146,
          690.9049069518001,
          1496.282075681,
          1063.7484645936,
          1016.8531060392,
          1294.0060363498,
          584.4709460521,
          968.527186968,
          1403.745103122,
          480.730328713,
          1483.034329712,
          1195.3962644761,
          609.6656559359
         ]
        },
        {
         "mode": "lines+markers",
         "name": "Barmer",
         "type": "scatter",
         "visible": "legendonly",
         "x": [
          2009,
          2010,
          2011,
          2012,
          2013,
          2014,
          2015,
          2016,
          2017,
          2018,
          2019,
          2020,
          2021,
          2022,
          2023
         ],
         "y": [
          205.145462101,
          539.8628328648,
          472.2974174049,
          271.7860962279,
          431.8267266535,
          224.7104915289,
          440.00154378,
          277.0679724013,
          478.7397668473,
          127.245681094,
          378.794336674,
          234.481997183,
          262.515915789,
          444.0720099826,
          468.2964356577
         ]
        },
        {
         "mode": "lines+markers",
         "name": "Bharatpur",
         "type": "scatter",
         "visible": "legendonly",
         "x": [
          2009,
          2010,
          2011,
          2012,
          2013,
          2014,
          2015,
          2016,
          2017,
          2018,
          2019,
          2020,
          2021,
          2022,
          2023
         ],
         "y": [
          511.285569201,
          1059.2131596099,
          726.725465041,
          772.6393765219,
          616.0879660654,
          461.573306089,
          520.920596973,
          624.2854983326,
          353.3359029994,
          826.102376018,
          538.703184985,
          463.116770483,
          699.2260343730001,
          796.0264613307,
          593.1258308121
         ]
        },
        {
         "mode": "lines+markers",
         "name": "Bhilwara",
         "type": "scatter",
         "visible": "legendonly",
         "x": [
          2009,
          2010,
          2011,
          2012,
          2013,
          2014,
          2015,
          2016,
          2017,
          2018,
          2019,
          2020,
          2021,
          2022,
          2023
         ],
         "y": [
          359.226722919,
          735.0434226986999,
          714.0076550703,
          790.7210830998,
          727.2045143637,
          732.4865858491,
          585.133101589,
          926.3760362789,
          590.2771176334,
          585.340734997,
          1093.59132394,
          345.555831009,
          778.785837321,
          720.8944925229,
          588.1838655025
         ]
        },
        {
         "mode": "lines+markers",
         "name": "Bikaner",
         "type": "scatter",
         "visible": "legendonly",
         "x": [
          2009,
          2010,
          2011,
          2012,
          2013,
          2014,
          2015,
          2016,
          2017,
          2018,
          2019,
          2020,
          2021,
          2022,
          2023
         ],
         "y": [
          199.126189751,
          793.393752687,
          352.9505337568,
          351.2068775034,
          320.2864601437,
          257.31751651039997,
          480.0260851396,
          290.12948144620003,
          248.8063707134,
          262.698706348,
          308.7149887588,
          231.768962838,
          337.714042449,
          416.6210235163,
          342.3300547387
         ]
        },
        {
         "mode": "lines+markers",
         "name": "Bundi",
         "type": "scatter",
         "visible": "legendonly",
         "x": [
          2009,
          2010,
          2011,
          2012,
          2013,
          2014,
          2015,
          2016,
          2017,
          2018,
          2019,
          2020,
          2021,
          2022,
          2023
         ],
         "y": [
          451.878183781,
          606.1531279218,
          923.5200416007,
          779.0549849503,
          1028.2977673751,
          792.1482782535,
          760.5126482282,
          956.2651834650001,
          487.8114932569,
          721.750772155,
          1172.630030631,
          372.35633506199997,
          1161.367856739,
          946.5410872507999,
          615.9417664437
         ]
        },
        {
         "mode": "lines+markers",
         "name": "Chittorgarh",
         "type": "scatter",
         "visible": "legendonly",
         "x": [
          2009,
          2010,
          2011,
          2012,
          2013,
          2014,
          2015,
          2016,
          2017,
          2018,
          2019,
          2020,
          2021,
          2022,
          2023
         ],
         "y": [
          566.328406832,
          794.5865353402,
          860.0354066407,
          829.5030355369,
          1018.4507413215,
          862.5008156435,
          739.2048341348,
          1313.8671843999,
          704.2942426722,
          744.359879878,
          1405.970233757,
          445.218084051,
          1092.352645405,
          848.0343495631,
          646.2783760602
         ]
        },
        {
         "mode": "lines+markers",
         "name": "Churu",
         "type": "scatter",
         "visible": "legendonly",
         "x": [
          2009,
          2010,
          2011,
          2012,
          2013,
          2014,
          2015,
          2016,
          2017,
          2018,
          2019,
          2020,
          2021,
          2022,
          2023
         ],
         "y": [
          213.870051435,
          1113.1697800437,
          648.4905654897,
          437.13053873260003,
          456.7779847705,
          438.002706276,
          508.6632215714,
          444.6217156805,
          331.127754431,
          363.013335189,
          419.358151066,
          327.06700306,
          563.983176817,
          482.8494570669,
          426.4507440996
         ]
        },
        {
         "mode": "lines+markers",
         "name": "Dausa",
         "type": "scatter",
         "visible": "legendonly",
         "x": [
          2009,
          2010,
          2011,
          2012,
          2013,
          2014,
          2015,
          2016,
          2017,
          2018,
          2019,
          2020,
          2021,
          2022,
          2023
         ],
         "y": [
          381.412273452,
          897.6589837783,
          794.3516358392,
          738.2464389666,
          787.0329462467,
          607.0333582255,
          425.0734978891,
          721.1907181988,
          377.9236274991,
          637.856096549,
          649.098690418,
          355.865170461,
          741.961770838,
          872.1235259023999,
          607.5899490908
         ]
        },
        {
         "mode": "lines+markers",
         "name": "Dholpur",
         "type": "scatter",
         "visible": "legendonly",
         "x": [
          2009,
          2010,
          2011,
          2012,
          2013,
          2014,
          2015,
          2016,
          2017,
          2018,
          2019,
          2020,
          2021,
          2022,
          2023
         ],
         "y": [
          542.905001538,
          877.3277350659,
          703.5116233241,
          614.4803337184001,
          1016.0511671228,
          510.2395433284,
          527.7069029527,
          598.7518723218,
          429.4932170522,
          791.354296494,
          826.4264522670001,
          572.920511753,
          752.019791983,
          722.1942573775,
          696.7141194953
         ]
        },
        {
         "mode": "lines+markers",
         "name": "Dungarpur",
         "type": "scatter",
         "visible": "legendonly",
         "x": [
          2009,
          2010,
          2011,
          2012,
          2013,
          2014,
          2015,
          2016,
          2017,
          2018,
          2019,
          2020,
          2021,
          2022,
          2023
         ],
         "y": [
          493.063291185,
          618.5495695854,
          1007.3635344428,
          1114.8592895705,
          1008.8586475821,
          658.3532154288,
          690.0105550972,
          956.0111818083,
          845.8716270840999,
          711.165124491,
          1162.765876433,
          448.354409654,
          745.757620355,
          872.9609887194,
          602.4612378358
         ]
        },
        {
         "mode": "lines+markers",
         "name": "Ganganagar",
         "type": "scatter",
         "visible": "legendonly",
         "x": [
          2009,
          2010,
          2011,
          2012,
          2013,
          2014,
          2015,
          2016,
          2017,
          2018,
          2019,
          2020,
          2021,
          2022,
          2023
         ],
         "y": [
          240.920589719,
          762.933195529,
          357.85217019379996,
          358.4474558537,
          245.7416233059,
          308.87547170610003,
          369.6804645379,
          172.2043163511,
          186.2187836072,
          176.51364148,
          243.186531089,
          316.138070468,
          251.679890676,
          456.080484231,
          324.3786256182
         ]
        },
        {
         "mode": "lines+markers",
         "name": "Hanumangarh",
         "type": "scatter",
         "visible": "legendonly",
         "x": [
          2009,
          2010,
          2011,
          2012,
          2013,
          2014,
          2015,
          2016,
          2017,
          2018,
          2019,
          2020,
          2021,
          2022,
          2023
         ],
         "y": [
          210.060343302,
          851.0390326894,
          598.2480854015,
          400.5883529061,
          364.4636921129,
          344.8424286477,
          367.1405051412,
          232.6942391024,
          225.1790430991,
          167.63756256,
          242.00813176,
          399.24697542,
          396.435390367,
          356.2910906001,
          320.9713952394
         ]
        },
        {
         "mode": "lines+markers",
         "name": "Jaipur",
         "type": "scatter",
         "visible": "legendonly",
         "x": [
          2009,
          2010,
          2011,
          2012,
          2013,
          2014,
          2015,
          2016,
          2017,
          2018,
          2019,
          2020,
          2021,
          2022,
          2023
         ],
         "y": [
          319.23216049,
          1201.7144636276,
          715.7448039424,
          727.8750333093,
          658.158592402,
          576.0622075505,
          466.0478756471,
          634.2742811794,
          373.5368701941,
          520.797495472,
          749.111334971,
          324.976607919,
          737.561923666,
          816.909789561,
          575.958221125
         ]
        },
        {
         "mode": "lines+markers",
         "name": "Jaisalmer",
         "type": "scatter",
         "visible": "legendonly",
         "x": [
          2009,
          2010,
          2011,
          2012,
          2013,
          2014,
          2015,
          2016,
          2017,
          2018,
          2019,
          2020,
          2021,
          2022,
          2023
         ],
         "y": [
          97.705783848,
          53.6171810239,
          56.912320695700004,
          43.664354178,
          45.454097683200004,
          2.0275609111,
          324.2867951734,
          148.1356559464,
          268.41004147030003,
          114.076771003,
          253.49124494699998,
          190.862808794,
          285.864970322,
          357.5416301289,
          260.0903234777
         ]
        },
        {
         "mode": "lines+markers",
         "name": "Jalore",
         "type": "scatter",
         "visible": "legendonly",
         "x": [
          2009,
          2010,
          2011,
          2012,
          2013,
          2014,
          2015,
          2016,
          2017,
          2018,
          2019,
          2020,
          2021,
          2022,
          2023
         ],
         "y": [
          194.267010717,
          676.7482615918,
          653.7651298518999,
          432.8674029083,
          616.0833658159,
          360.2148626226,
          689.5597431733,
          504.2751849421,
          895.0534972184,
          159.510699689,
          542.806954573,
          254.11009292399999,
          354.852404354,
          586.2877172101,
          710.8099402253
         ]
        },
        {
         "mode": "lines+markers",
         "name": "Jhalawar",
         "type": "scatter",
         "visible": "legendonly",
         "x": [
          2009,
          2010,
          2011,
          2012,
          2013,
          2014,
          2015,
          2016,
          2017,
          2018,
          2019,
          2020,
          2021,
          2022,
          2023
         ],
         "y": [
          746.201562579,
          707.6768488345,
          1352.971237457,
          704.5099049417,
          1483.9174753124,
          931.7451646399,
          1220.1878588257,
          1188.5762634008,
          788.2734366763,
          950.371808762,
          1708.9172775069999,
          484.04205485,
          1226.339925235,
          1375.5633813159,
          665.1408722629
         ]
        },
        {
         "mode": "lines+markers",
         "name": "Jhunjhunu",
         "type": "scatter",
         "visible": "legendonly",
         "x": [
          2009,
          2010,
          2011,
          2012,
          2013,
          2014,
          2015,
          2016,
          2017,
          2018,
          2019,
          2020,
          2021,
          2022,
          2023
         ],
         "y": [
          340.518719234,
          1066.1787048891001,
          644.5191800966,
          515.1257201333,
          523.2177104271,
          430.4317014463,
          457.7314531728,
          584.9923345857,
          349.3465098117,
          474.048094227,
          584.92282171,
          319.536626377,
          628.40062504,
          545.3339506132,
          550.3711778074
         ]
        },
        {
         "mode": "lines+markers",
         "name": "Jodhpur",
         "type": "scatter",
         "visible": "legendonly",
         "x": [
          2009,
          2010,
          2011,
          2012,
          2013,
          2014,
          2015,
          2016,
          2017,
          2018,
          2019,
          2020,
          2021,
          2022,
          2023
         ],
         "y": [
          138.501260803,
          532.3116066949,
          386.57691119780003,
          357.782678342,
          446.63695963419997,
          319.1491026627,
          419.3043773214,
          388.4224443884,
          444.6102792352,
          215.445326214,
          430.794655155,
          209.679945259,
          387.06829927,
          407.9401240313,
          414.9052014311
         ]
        },
        {
         "mode": "lines+markers",
         "name": "Karauli",
         "type": "scatter",
         "visible": "legendonly",
         "x": [
          2009,
          2010,
          2011,
          2012,
          2013,
          2014,
          2015,
          2016,
          2017,
          2018,
          2019,
          2020,
          2021,
          2022,
          2023
         ],
         "y": [
          536.634805993,
          809.4552894548,
          683.6932506308,
          717.3380198202,
          878.9282882358,
          608.0834190541,
          540.3265414143,
          754.5142230694,
          372.4446609608,
          704.136020717,
          665.981921797,
          454.772015295,
          902.302604364,
          887.8485031137,
          758.3450231413
         ]
        },
        {
         "mode": "lines+markers",
         "name": "Kota",
         "type": "scatter",
         "visible": "legendonly",
         "x": [
          2009,
          2010,
          2011,
          2012,
          2013,
          2014,
          2015,
          2016,
          2017,
          2018,
          2019,
          2020,
          2021,
          2022,
          2023
         ],
         "y": [
          574.67090626,
          591.1446584493,
          1293.1000773273,
          774.4247847095,
          1338.200559611,
          861.9149614833,
          805.4610307379,
          904.8951164832,
          460.8166013922,
          786.584369667,
          1217.438438258,
          474.164195032,
          1202.7619788289999,
          1076.2505464317,
          632.6021645167
         ]
        },
        {
         "mode": "lines+markers",
         "name": "Nagaur",
         "type": "scatter",
         "visible": "legendonly",
         "x": [
          2009,
          2010,
          2011,
          2012,
          2013,
          2014,
          2015,
          2016,
          2017,
          2018,
          2019,
          2020,
          2021,
          2022,
          2023
         ],
         "y": [
          173.17589748700001,
          993.2632393222,
          437.3560119625,
          619.3271273342,
          510.1111659596,
          458.2075554451,
          538.4454384727001,
          485.4074258581,
          384.8092721416,
          321.620800819,
          607.680262347,
          276.348209636,
          595.291728419,
          536.666697924,
          555.6158171824
         ]
        },
        {
         "mode": "lines+markers",
         "name": "Pali",
         "type": "scatter",
         "visible": "legendonly",
         "x": [
          2009,
          2010,
          2011,
          2012,
          2013,
          2014,
          2015,
          2016,
          2017,
          2018,
          2019,
          2020,
          2021,
          2022,
          2023
         ],
         "y": [
          261.847883354,
          729.2231294619,
          635.3598764748,
          591.1858257041,
          556.8742099176,
          544.9597225356,
          562.9575604658,
          817.3850774009001,
          781.2564977826,
          344.486543468,
          785.699138042,
          296.752998241,
          535.232138535,
          551.9700190065,
          748.9673997296
         ]
        },
        {
         "mode": "lines+markers",
         "name": "Pratapgarh",
         "type": "scatter",
         "visible": "legendonly",
         "x": [
          2009,
          2010,
          2011,
          2012,
          2013,
          2014,
          2015,
          2016,
          2017,
          2018,
          2019,
          2020,
          2021,
          2022,
          2023
         ],
         "y": [
          1347.295096238,
          1573.1208483768,
          2191.263433083,
          2161.6356621126,
          2225.6656615088,
          1412.3071606862,
          1404.2228549582,
          2008.4676281702,
          1839.8701515902,
          1978.64007774,
          3149.946841316,
          1158.086696195,
          2539.4857812239998,
          2022.0516120699,
          1426.7907349232
         ]
        },
        {
         "mode": "lines+markers",
         "name": "Rajsamand",
         "type": "scatter",
         "visible": "legendonly",
         "x": [
          2009,
          2010,
          2011,
          2012,
          2013,
          2014,
          2015,
          2016,
          2017,
          2018,
          2019,
          2020,
          2021,
          2022,
          2023
         ],
         "y": [
          419.267310325,
          673.6980333691,
          713.8056068596,
          808.6274609149,
          681.5641675751,
          569.0292636525,
          552.9595455564,
          894.9653452002,
          761.9663873563,
          569.74188477,
          909.644058312,
          424.329279078,
          686.3562983529999,
          655.3065309164,
          838.4145819818
         ]
        },
        {
         "mode": "lines+markers",
         "name": "Sawai Madhopur",
         "type": "scatter",
         "visible": "legendonly",
         "x": [
          2009,
          2010,
          2011,
          2012,
          2013,
          2014,
          2015,
          2016,
          2017,
          2018,
          2019,
          2020,
          2021,
          2022,
          2023
         ],
         "y": [
          502.077041484,
          752.4526134414,
          842.794452559,
          779.4493803247,
          930.8261112155,
          671.8461015491,
          552.6569269382,
          864.4347668577,
          391.9419434092,
          920.6899211369999,
          916.146437484,
          447.10550733,
          1034.713389498,
          919.6464459173,
          652.0660335981
         ]
        },
        {
         "mode": "lines+markers",
         "name": "Sikar",
         "type": "scatter",
         "visible": "legendonly",
         "x": [
          2009,
          2010,
          2011,
          2012,
          2013,
          2014,
          2015,
          2016,
          2017,
          2018,
          2019,
          2020,
          2021,
          2022,
          2023
         ],
         "y": [
          247.797686748,
          1183.4329459713001,
          603.7856440310001,
          564.8418543066,
          556.0129122532,
          493.0681513573,
          571.0632113548,
          537.1335259299,
          353.2373253308,
          575.798515897,
          754.519219456,
          376.56841228999997,
          713.43809384,
          651.3538199353,
          567.1037314307999
         ]
        },
        {
         "mode": "lines+markers",
         "name": "Sirohi",
         "type": "scatter",
         "visible": "legendonly",
         "x": [
          2009,
          2010,
          2011,
          2012,
          2013,
          2014,
          2015,
          2016,
          2017,
          2018,
          2019,
          2020,
          2021,
          2022,
          2023
         ],
         "y": [
          406.260808933,
          769.1948404381,
          973.6109341666,
          672.6252905337,
          740.7694526071,
          603.2795267685,
          940.4401152248,
          849.3453493471001,
          1339.7230547459,
          353.083060141,
          822.3937591490001,
          292.42049026899997,
          555.419543398,
          846.623434284,
          1143.8118910508
         ]
        },
        {
         "mode": "lines+markers",
         "name": "Tonk",
         "type": "scatter",
         "visible": "legendonly",
         "x": [
          2009,
          2010,
          2011,
          2012,
          2013,
          2014,
          2015,
          2016,
          2017,
          2018,
          2019,
          2020,
          2021,
          2022,
          2023
         ],
         "y": [
          312.533238821,
          929.3751218055,
          734.9416165407999,
          763.1027766485,
          821.9247874908,
          762.5443831272,
          598.2408115154,
          801.8024577141,
          436.5242948687,
          634.834595134,
          889.916152073,
          366.510922977,
          877.46221928,
          847.9055425558,
          616.9944736594
         ]
        },
        {
         "mode": "lines+markers",
         "name": "Udaipur",
         "type": "scatter",
         "visible": "legendonly",
         "x": [
          2009,
          2010,
          2011,
          2012,
          2013,
          2014,
          2015,
          2016,
          2017,
          2018,
          2019,
          2020,
          2021,
          2022,
          2023
         ],
         "y": [
          503.921686832,
          815.7619616916,
          851.4346158653,
          874.9287203378,
          800.2620930503,
          701.7735805412,
          653.3185643278,
          972.7740581044,
          808.9326533302,
          586.446424491,
          1069.446166851,
          449.506338684,
          794.499457685,
          921.8440894331,
          789.7760327571
         ]
        }
       ],
       "layout": {
        "legend": {
         "tracegroupgap": 0,
         "traceorder": "normal",
         "x": 1.05,
         "y": 1
        },
        "margin": {
         "b": 0,
         "l": 0,
         "r": 0,
         "t": 50
        },
        "plot_bgcolor": "white",
        "template": {
         "data": {
          "bar": [
           {
            "error_x": {
             "color": "#2a3f5f"
            },
            "error_y": {
             "color": "#2a3f5f"
            },
            "marker": {
             "line": {
              "color": "#E5ECF6",
              "width": 0.5
             },
             "pattern": {
              "fillmode": "overlay",
              "size": 10,
              "solidity": 0.2
             }
            },
            "type": "bar"
           }
          ],
          "barpolar": [
           {
            "marker": {
             "line": {
              "color": "#E5ECF6",
              "width": 0.5
             },
             "pattern": {
              "fillmode": "overlay",
              "size": 10,
              "solidity": 0.2
             }
            },
            "type": "barpolar"
           }
          ],
          "carpet": [
           {
            "aaxis": {
             "endlinecolor": "#2a3f5f",
             "gridcolor": "white",
             "linecolor": "white",
             "minorgridcolor": "white",
             "startlinecolor": "#2a3f5f"
            },
            "baxis": {
             "endlinecolor": "#2a3f5f",
             "gridcolor": "white",
             "linecolor": "white",
             "minorgridcolor": "white",
             "startlinecolor": "#2a3f5f"
            },
            "type": "carpet"
           }
          ],
          "choropleth": [
           {
            "colorbar": {
             "outlinewidth": 0,
             "ticks": ""
            },
            "type": "choropleth"
           }
          ],
          "contour": [
           {
            "colorbar": {
             "outlinewidth": 0,
             "ticks": ""
            },
            "colorscale": [
             [
              0,
              "#0d0887"
             ],
             [
              0.1111111111111111,
              "#46039f"
             ],
             [
              0.2222222222222222,
              "#7201a8"
             ],
             [
              0.3333333333333333,
              "#9c179e"
             ],
             [
              0.4444444444444444,
              "#bd3786"
             ],
             [
              0.5555555555555556,
              "#d8576b"
             ],
             [
              0.6666666666666666,
              "#ed7953"
             ],
             [
              0.7777777777777778,
              "#fb9f3a"
             ],
             [
              0.8888888888888888,
              "#fdca26"
             ],
             [
              1,
              "#f0f921"
             ]
            ],
            "type": "contour"
           }
          ],
          "contourcarpet": [
           {
            "colorbar": {
             "outlinewidth": 0,
             "ticks": ""
            },
            "type": "contourcarpet"
           }
          ],
          "heatmap": [
           {
            "colorbar": {
             "outlinewidth": 0,
             "ticks": ""
            },
            "colorscale": [
             [
              0,
              "#0d0887"
             ],
             [
              0.1111111111111111,
              "#46039f"
             ],
             [
              0.2222222222222222,
              "#7201a8"
             ],
             [
              0.3333333333333333,
              "#9c179e"
             ],
             [
              0.4444444444444444,
              "#bd3786"
             ],
             [
              0.5555555555555556,
              "#d8576b"
             ],
             [
              0.6666666666666666,
              "#ed7953"
             ],
             [
              0.7777777777777778,
              "#fb9f3a"
             ],
             [
              0.8888888888888888,
              "#fdca26"
             ],
             [
              1,
              "#f0f921"
             ]
            ],
            "type": "heatmap"
           }
          ],
          "heatmapgl": [
           {
            "colorbar": {
             "outlinewidth": 0,
             "ticks": ""
            },
            "colorscale": [
             [
              0,
              "#0d0887"
             ],
             [
              0.1111111111111111,
              "#46039f"
             ],
             [
              0.2222222222222222,
              "#7201a8"
             ],
             [
              0.3333333333333333,
              "#9c179e"
             ],
             [
              0.4444444444444444,
              "#bd3786"
             ],
             [
              0.5555555555555556,
              "#d8576b"
             ],
             [
              0.6666666666666666,
              "#ed7953"
             ],
             [
              0.7777777777777778,
              "#fb9f3a"
             ],
             [
              0.8888888888888888,
              "#fdca26"
             ],
             [
              1,
              "#f0f921"
             ]
            ],
            "type": "heatmapgl"
           }
          ],
          "histogram": [
           {
            "marker": {
             "pattern": {
              "fillmode": "overlay",
              "size": 10,
              "solidity": 0.2
             }
            },
            "type": "histogram"
           }
          ],
          "histogram2d": [
           {
            "colorbar": {
             "outlinewidth": 0,
             "ticks": ""
            },
            "colorscale": [
             [
              0,
              "#0d0887"
             ],
             [
              0.1111111111111111,
              "#46039f"
             ],
             [
              0.2222222222222222,
              "#7201a8"
             ],
             [
              0.3333333333333333,
              "#9c179e"
             ],
             [
              0.4444444444444444,
              "#bd3786"
             ],
             [
              0.5555555555555556,
              "#d8576b"
             ],
             [
              0.6666666666666666,
              "#ed7953"
             ],
             [
              0.7777777777777778,
              "#fb9f3a"
             ],
             [
              0.8888888888888888,
              "#fdca26"
             ],
             [
              1,
              "#f0f921"
             ]
            ],
            "type": "histogram2d"
           }
          ],
          "histogram2dcontour": [
           {
            "colorbar": {
             "outlinewidth": 0,
             "ticks": ""
            },
            "colorscale": [
             [
              0,
              "#0d0887"
             ],
             [
              0.1111111111111111,
              "#46039f"
             ],
             [
              0.2222222222222222,
              "#7201a8"
             ],
             [
              0.3333333333333333,
              "#9c179e"
             ],
             [
              0.4444444444444444,
              "#bd3786"
             ],
             [
              0.5555555555555556,
              "#d8576b"
             ],
             [
              0.6666666666666666,
              "#ed7953"
             ],
             [
              0.7777777777777778,
              "#fb9f3a"
             ],
             [
              0.8888888888888888,
              "#fdca26"
             ],
             [
              1,
              "#f0f921"
             ]
            ],
            "type": "histogram2dcontour"
           }
          ],
          "mesh3d": [
           {
            "colorbar": {
             "outlinewidth": 0,
             "ticks": ""
            },
            "type": "mesh3d"
           }
          ],
          "parcoords": [
           {
            "line": {
             "colorbar": {
              "outlinewidth": 0,
              "ticks": ""
             }
            },
            "type": "parcoords"
           }
          ],
          "pie": [
           {
            "automargin": true,
            "type": "pie"
           }
          ],
          "scatter": [
           {
            "fillpattern": {
             "fillmode": "overlay",
             "size": 10,
             "solidity": 0.2
            },
            "type": "scatter"
           }
          ],
          "scatter3d": [
           {
            "line": {
             "colorbar": {
              "outlinewidth": 0,
              "ticks": ""
             }
            },
            "marker": {
             "colorbar": {
              "outlinewidth": 0,
              "ticks": ""
             }
            },
            "type": "scatter3d"
           }
          ],
          "scattercarpet": [
           {
            "marker": {
             "colorbar": {
              "outlinewidth": 0,
              "ticks": ""
             }
            },
            "type": "scattercarpet"
           }
          ],
          "scattergeo": [
           {
            "marker": {
             "colorbar": {
              "outlinewidth": 0,
              "ticks": ""
             }
            },
            "type": "scattergeo"
           }
          ],
          "scattergl": [
           {
            "marker": {
             "colorbar": {
              "outlinewidth": 0,
              "ticks": ""
             }
            },
            "type": "scattergl"
           }
          ],
          "scattermapbox": [
           {
            "marker": {
             "colorbar": {
              "outlinewidth": 0,
              "ticks": ""
             }
            },
            "type": "scattermapbox"
           }
          ],
          "scatterpolar": [
           {
            "marker": {
             "colorbar": {
              "outlinewidth": 0,
              "ticks": ""
             }
            },
            "type": "scatterpolar"
           }
          ],
          "scatterpolargl": [
           {
            "marker": {
             "colorbar": {
              "outlinewidth": 0,
              "ticks": ""
             }
            },
            "type": "scatterpolargl"
           }
          ],
          "scatterternary": [
           {
            "marker": {
             "colorbar": {
              "outlinewidth": 0,
              "ticks": ""
             }
            },
            "type": "scatterternary"
           }
          ],
          "surface": [
           {
            "colorbar": {
             "outlinewidth": 0,
             "ticks": ""
            },
            "colorscale": [
             [
              0,
              "#0d0887"
             ],
             [
              0.1111111111111111,
              "#46039f"
             ],
             [
              0.2222222222222222,
              "#7201a8"
             ],
             [
              0.3333333333333333,
              "#9c179e"
             ],
             [
              0.4444444444444444,
              "#bd3786"
             ],
             [
              0.5555555555555556,
              "#d8576b"
             ],
             [
              0.6666666666666666,
              "#ed7953"
             ],
             [
              0.7777777777777778,
              "#fb9f3a"
             ],
             [
              0.8888888888888888,
              "#fdca26"
             ],
             [
              1,
              "#f0f921"
             ]
            ],
            "type": "surface"
           }
          ],
          "table": [
           {
            "cells": {
             "fill": {
              "color": "#EBF0F8"
             },
             "line": {
              "color": "white"
             }
            },
            "header": {
             "fill": {
              "color": "#C8D4E3"
             },
             "line": {
              "color": "white"
             }
            },
            "type": "table"
           }
          ]
         },
         "layout": {
          "annotationdefaults": {
           "arrowcolor": "#2a3f5f",
           "arrowhead": 0,
           "arrowwidth": 1
          },
          "autotypenumbers": "strict",
          "coloraxis": {
           "colorbar": {
            "outlinewidth": 0,
            "ticks": ""
           }
          },
          "colorscale": {
           "diverging": [
            [
             0,
             "#8e0152"
            ],
            [
             0.1,
             "#c51b7d"
            ],
            [
             0.2,
             "#de77ae"
            ],
            [
             0.3,
             "#f1b6da"
            ],
            [
             0.4,
             "#fde0ef"
            ],
            [
             0.5,
             "#f7f7f7"
            ],
            [
             0.6,
             "#e6f5d0"
            ],
            [
             0.7,
             "#b8e186"
            ],
            [
             0.8,
             "#7fbc41"
            ],
            [
             0.9,
             "#4d9221"
            ],
            [
             1,
             "#276419"
            ]
           ],
           "sequential": [
            [
             0,
             "#0d0887"
            ],
            [
             0.1111111111111111,
             "#46039f"
            ],
            [
             0.2222222222222222,
             "#7201a8"
            ],
            [
             0.3333333333333333,
             "#9c179e"
            ],
            [
             0.4444444444444444,
             "#bd3786"
            ],
            [
             0.5555555555555556,
             "#d8576b"
            ],
            [
             0.6666666666666666,
             "#ed7953"
            ],
            [
             0.7777777777777778,
             "#fb9f3a"
            ],
            [
             0.8888888888888888,
             "#fdca26"
            ],
            [
             1,
             "#f0f921"
            ]
           ],
           "sequentialminus": [
            [
             0,
             "#0d0887"
            ],
            [
             0.1111111111111111,
             "#46039f"
            ],
            [
             0.2222222222222222,
             "#7201a8"
            ],
            [
             0.3333333333333333,
             "#9c179e"
            ],
            [
             0.4444444444444444,
             "#bd3786"
            ],
            [
             0.5555555555555556,
             "#d8576b"
            ],
            [
             0.6666666666666666,
             "#ed7953"
            ],
            [
             0.7777777777777778,
             "#fb9f3a"
            ],
            [
             0.8888888888888888,
             "#fdca26"
            ],
            [
             1,
             "#f0f921"
            ]
           ]
          },
          "colorway": [
           "#636efa",
           "#EF553B",
           "#00cc96",
           "#ab63fa",
           "#FFA15A",
           "#19d3f3",
           "#FF6692",
           "#B6E880",
           "#FF97FF",
           "#FECB52"
          ],
          "font": {
           "color": "#2a3f5f"
          },
          "geo": {
           "bgcolor": "white",
           "lakecolor": "white",
           "landcolor": "#E5ECF6",
           "showlakes": true,
           "showland": true,
           "subunitcolor": "white"
          },
          "hoverlabel": {
           "align": "left"
          },
          "hovermode": "closest",
          "mapbox": {
           "style": "light"
          },
          "paper_bgcolor": "white",
          "plot_bgcolor": "#E5ECF6",
          "polar": {
           "angularaxis": {
            "gridcolor": "white",
            "linecolor": "white",
            "ticks": ""
           },
           "bgcolor": "#E5ECF6",
           "radialaxis": {
            "gridcolor": "white",
            "linecolor": "white",
            "ticks": ""
           }
          },
          "scene": {
           "xaxis": {
            "backgroundcolor": "#E5ECF6",
            "gridcolor": "white",
            "gridwidth": 2,
            "linecolor": "white",
            "showbackground": true,
            "ticks": "",
            "zerolinecolor": "white"
           },
           "yaxis": {
            "backgroundcolor": "#E5ECF6",
            "gridcolor": "white",
            "gridwidth": 2,
            "linecolor": "white",
            "showbackground": true,
            "ticks": "",
            "zerolinecolor": "white"
           },
           "zaxis": {
            "backgroundcolor": "#E5ECF6",
            "gridcolor": "white",
            "gridwidth": 2,
            "linecolor": "white",
            "showbackground": true,
            "ticks": "",
            "zerolinecolor": "white"
           }
          },
          "shapedefaults": {
           "line": {
            "color": "#2a3f5f"
           }
          },
          "ternary": {
           "aaxis": {
            "gridcolor": "white",
            "linecolor": "white",
            "ticks": ""
           },
           "baxis": {
            "gridcolor": "white",
            "linecolor": "white",
            "ticks": ""
           },
           "bgcolor": "#E5ECF6",
           "caxis": {
            "gridcolor": "white",
            "linecolor": "white",
            "ticks": ""
           }
          },
          "title": {
           "x": 0.05
          },
          "xaxis": {
           "automargin": true,
           "gridcolor": "white",
           "linecolor": "white",
           "ticks": "",
           "title": {
            "standoff": 15
           },
           "zerolinecolor": "white",
           "zerolinewidth": 2
          },
          "yaxis": {
           "automargin": true,
           "gridcolor": "white",
           "linecolor": "white",
           "ticks": "",
           "title": {
            "standoff": 15
           },
           "zerolinecolor": "white",
           "zerolinewidth": 2
          }
         }
        },
        "title": {
         "text": "Rajasthan"
        },
        "updatemenus": [
         {
          "buttons": [
           {
            "args": [
             {
              "visible": [
               true,
               true,
               true,
               true,
               true,
               true,
               true,
               true,
               true,
               true,
               true,
               true,
               true,
               true,
               true,
               true,
               true,
               true,
               true,
               true,
               true,
               true,
               true,
               true,
               true,
               true,
               true,
               true,
               true,
               true,
               true,
               true,
               true
              ]
             },
             {
              "title": "All Districts"
             }
            ],
            "label": "All",
            "method": "update"
           },
           {
            "args": [
             {
              "visible": [
               false,
               false,
               false,
               false,
               false,
               false,
               false,
               false,
               false,
               false,
               false,
               false,
               false,
               false,
               false,
               false,
               false,
               false,
               false,
               false,
               false,
               false,
               false,
               false,
               false,
               false,
               false,
               false,
               false,
               false,
               false,
               false,
               false
              ]
             },
             {
              "title": "No District"
             }
            ],
            "label": "None",
            "method": "update"
           }
          ],
          "direction": "left",
          "pad": {
           "r": 10,
           "t": 10
          },
          "showactive": true,
          "type": "buttons",
          "x": 0.05,
          "xanchor": "left",
          "y": 1.15,
          "yanchor": "top"
         }
        ],
        "xaxis": {
         "gridcolor": "lightgray",
         "gridwidth": 1,
         "showgrid": true,
         "tickmode": "array",
         "ticktext": [
          2009,
          2010,
          2011,
          2012,
          2013,
          2014,
          2015,
          2016,
          2017,
          2018,
          2019,
          2020,
          2021,
          2022,
          2023
         ],
         "tickvals": [
          2009,
          2010,
          2011,
          2012,
          2013,
          2014,
          2015,
          2016,
          2017,
          2018,
          2019,
          2020,
          2021,
          2022,
          2023
         ],
         "title": {
          "text": "Year"
         }
        },
        "yaxis": {
         "gridcolor": "lightgray",
         "gridwidth": 1,
         "showgrid": true,
         "title": {
          "text": "Average Rainfall in mm"
         }
        }
       }
      }
     },
     "metadata": {},
     "output_type": "display_data"
    },
    {
     "name": "stdout",
     "output_type": "stream",
     "text": [
      "Uttarakhand\n",
      "['Almora', 'Bageshwar', 'Chamoli', 'Champawat', 'Dehradun', 'Haridwar', 'Nainital', 'Pauri Garhwal', 'Pithoragarh', 'Rudra Prayag', 'Tehri Garhwal', 'Udam Singh Nagar', 'Uttar Kashi']\n"
     ]
    },
    {
     "data": {
      "application/vnd.plotly.v1+json": {
       "config": {
        "plotlyServerURL": "https://plot.ly"
       },
       "data": [
        {
         "mode": "lines+markers",
         "name": "Almora",
         "type": "scatter",
         "visible": "legendonly",
         "x": [
          2009,
          2010,
          2011,
          2012,
          2013,
          2014,
          2015,
          2016,
          2017,
          2018,
          2019,
          2020,
          2021,
          2022,
          2023
         ],
         "y": [
          1101.306851872,
          2504.8923436477,
          1499.0410373586,
          1034.3929225006,
          1347.9035649048,
          1188.4231931108,
          1082.3855070094,
          1075.5221707974,
          1167.4242079988,
          1000.534998748,
          1118.146685464,
          1197.509553177,
          1442.718351764,
          1161.863919029,
          1099.2327095007
         ]
        },
        {
         "mode": "lines+markers",
         "name": "Bageshwar",
         "type": "scatter",
         "visible": "legendonly",
         "x": [
          2009,
          2010,
          2011,
          2012,
          2013,
          2014,
          2015,
          2016,
          2017,
          2018,
          2019,
          2020,
          2021,
          2022,
          2023
         ],
         "y": [
          1186.562671492,
          2363.7498949559,
          1448.1884988603,
          1044.8505302747,
          1856.9000551686,
          1390.1843684592,
          1233.7040716343,
          1601.7995217082,
          1933.3124866023,
          2277.148147753,
          2129.053417447,
          1453.44886219,
          2163.178072985,
          1789.7614344214,
          1787.3598241092
         ]
        },
        {
         "mode": "lines+markers",
         "name": "Chamoli",
         "type": "scatter",
         "visible": "legendonly",
         "x": [
          2009,
          2010,
          2011,
          2012,
          2013,
          2014,
          2015,
          2016,
          2017,
          2018,
          2019,
          2020,
          2021,
          2022,
          2023
         ],
         "y": [
          873.867548934,
          3556.3747934619,
          1381.8934803033,
          1080.8082387214,
          1857.7160433942,
          1389.3852813479,
          1301.461682564,
          1420.0437667008,
          1631.5308858576,
          1779.046419609,
          1658.869786986,
          1122.819076201,
          1980.301778353,
          1415.6024133827,
          1134.5198889108
         ]
        },
        {
         "mode": "lines+markers",
         "name": "Champawat",
         "type": "scatter",
         "visible": "legendonly",
         "x": [
          2009,
          2010,
          2011,
          2012,
          2013,
          2014,
          2015,
          2016,
          2017,
          2018,
          2019,
          2020,
          2021,
          2022,
          2023
         ],
         "y": [
          1777.1940240850001,
          10.3305005198,
          121.0453458399,
          0,
          71.015703435,
          0,
          1147.8782670712,
          1174.8547904152,
          1191.4784769104,
          1251.583864863,
          1126.10160797,
          1504.706654282,
          1845.976674304,
          1387.4715680783,
          1057.5780740979
         ]
        },
        {
         "mode": "lines+markers",
         "name": "Dehradun",
         "type": "scatter",
         "visible": "legendonly",
         "x": [
          2009,
          2010,
          2011,
          2012,
          2013,
          2014,
          2015,
          2016,
          2017,
          2018,
          2019,
          2020,
          2021,
          2022,
          2023
         ],
         "y": [
          1081.7642267850001,
          3442.2721868413,
          1730.3078758336,
          1590.8904038459,
          2078.8916674165002,
          1247.3687412105,
          1300.7829861727,
          1321.2530227866,
          1659.6608373073,
          1638.664931635,
          1371.769668583,
          1511.147749334,
          1671.017025063,
          1458.0219268299,
          1793.2935594
         ]
        },
        {
         "mode": "lines+markers",
         "name": "Haridwar",
         "type": "scatter",
         "visible": "legendonly",
         "x": [
          2009,
          2010,
          2011,
          2012,
          2013,
          2014,
          2015,
          2016,
          2017,
          2018,
          2019,
          2020,
          2021,
          2022,
          2023
         ],
         "y": [
          1182.9532447448,
          2559.1398909194,
          1330.3157331372,
          1063.0217166913,
          1558.5837431078999,
          1150.9479512144999,
          1082.1757091789,
          1144.5866137894,
          1171.4645849763,
          1417.160089572,
          1118.545753939,
          1291.261949865,
          1273.969900399,
          1046.8891126482,
          1627.0761028068
         ]
        },
        {
         "mode": "lines+markers",
         "name": "Nainital",
         "type": "scatter",
         "visible": "legendonly",
         "x": [
          2009,
          2010,
          2011,
          2012,
          2013,
          2014,
          2015,
          2016,
          2017,
          2018,
          2019,
          2020,
          2021,
          2022,
          2023
         ],
         "y": [
          1198.832796743,
          3040.9472472432,
          1596.1504866984,
          1015.5507293143,
          1678.5116289338,
          1446.4190696641,
          1388.0141463924,
          1451.4010451734,
          1615.8539286899,
          1480.277124226,
          1438.559907378,
          1485.941711895,
          1990.101291787,
          1432.6199547308,
          1319.0628932975999
         ]
        },
        {
         "mode": "lines+markers",
         "name": "Pauri Garhwal",
         "type": "scatter",
         "visible": "legendonly",
         "x": [
          2009,
          2010,
          2011,
          2012,
          2013,
          2014,
          2015,
          2016,
          2017,
          2018,
          2019,
          2020,
          2021,
          2022,
          2023
         ],
         "y": [
          638.2621342808,
          3342.2878694234,
          1300.8285339695,
          902.0957256436,
          1338.6245534173,
          1072.3725275983,
          1094.83347704,
          1022.649116555,
          1185.8381735041,
          914.458509099,
          1050.678736938,
          1194.122590258,
          1230.726951636,
          1039.4141401665,
          1072.3238653423
         ]
        },
        {
         "mode": "lines+markers",
         "name": "Pithoragarh",
         "type": "scatter",
         "visible": "legendonly",
         "x": [
          2009,
          2010,
          2011,
          2012,
          2013,
          2014,
          2015,
          2016,
          2017,
          2018,
          2019,
          2020,
          2021,
          2022,
          2023
         ],
         "y": [
          1226.184970176,
          0,
          0,
          0,
          0,
          0,
          1268.266591773,
          1828.1673919771,
          2182.1463496344,
          2284.296786222,
          2298.443200762,
          1562.458985921,
          2455.441921429,
          1698.5309379226,
          1253.4998196543
         ]
        },
        {
         "mode": "lines+markers",
         "name": "Rudra Prayag",
         "type": "scatter",
         "visible": "legendonly",
         "x": [
          2009,
          2010,
          2011,
          2012,
          2013,
          2014,
          2015,
          2016,
          2017,
          2018,
          2019,
          2020,
          2021,
          2022,
          2023
         ],
         "y": [
          729.113641048,
          2901.2311639283,
          1244.3021883906,
          1172.3855748541,
          1985.6701715405,
          1312.7659653696,
          1283.2743443872,
          1769.5254217139,
          1841.0439021821,
          1713.521257069,
          1560.345467443,
          1217.685109987,
          1970.05304506,
          1569.0803505687,
          1265.9238853017
         ]
        },
        {
         "mode": "lines+markers",
         "name": "Tehri Garhwal",
         "type": "scatter",
         "visible": "legendonly",
         "x": [
          2009,
          2010,
          2011,
          2012,
          2013,
          2014,
          2015,
          2016,
          2017,
          2018,
          2019,
          2020,
          2021,
          2022,
          2023
         ],
         "y": [
          747.855543862,
          4077.5532545272,
          1337.3847417446,
          1277.7640804325,
          1541.0904073406,
          1125.2415196407,
          1033.8197904966,
          1339.9229928485,
          1442.2216367311,
          1226.100876284,
          1316.028471702,
          1451.582903169,
          1418.760508751,
          1313.1725986792,
          1422.3681729235
         ]
        },
        {
         "mode": "lines+markers",
         "name": "Udam Singh Nagar",
         "type": "scatter",
         "visible": "legendonly",
         "x": [
          2009,
          2010,
          2011,
          2012,
          2013,
          2014,
          2015,
          2016,
          2017,
          2018,
          2019,
          2020,
          2021,
          2022,
          2023
         ],
         "y": [
          1281.134444021,
          2728.8525712349,
          1718.4620530821999,
          972.1885587365999,
          1662.762882882,
          1241.3866646193999,
          1355.0274686525,
          1454.8495315609,
          1630.6739045597,
          1751.00141303,
          1523.306966838,
          1419.156591776,
          1904.367688701,
          1047.3683762326,
          1347.8825185545
         ]
        },
        {
         "mode": "lines+markers",
         "name": "Uttar Kashi",
         "type": "scatter",
         "visible": "legendonly",
         "x": [
          2009,
          2010,
          2011,
          2012,
          2013,
          2014,
          2015,
          2016,
          2017,
          2018,
          2019,
          2020,
          2021,
          2022,
          2023
         ],
         "y": [
          855.27425753,
          1138.9946329861,
          36.5523325945,
          127.09370977420001,
          250.4751422782,
          23.600286068400003,
          1248.7350099273,
          1250.5624567602,
          1381.1385968955,
          1331.451806297,
          1272.858649494,
          1139.769851408,
          1525.804988453,
          1081.2929876332,
          1077.3584483873
         ]
        }
       ],
       "layout": {
        "legend": {
         "tracegroupgap": 0,
         "traceorder": "normal",
         "x": 1.05,
         "y": 1
        },
        "margin": {
         "b": 0,
         "l": 0,
         "r": 0,
         "t": 50
        },
        "plot_bgcolor": "white",
        "template": {
         "data": {
          "bar": [
           {
            "error_x": {
             "color": "#2a3f5f"
            },
            "error_y": {
             "color": "#2a3f5f"
            },
            "marker": {
             "line": {
              "color": "#E5ECF6",
              "width": 0.5
             },
             "pattern": {
              "fillmode": "overlay",
              "size": 10,
              "solidity": 0.2
             }
            },
            "type": "bar"
           }
          ],
          "barpolar": [
           {
            "marker": {
             "line": {
              "color": "#E5ECF6",
              "width": 0.5
             },
             "pattern": {
              "fillmode": "overlay",
              "size": 10,
              "solidity": 0.2
             }
            },
            "type": "barpolar"
           }
          ],
          "carpet": [
           {
            "aaxis": {
             "endlinecolor": "#2a3f5f",
             "gridcolor": "white",
             "linecolor": "white",
             "minorgridcolor": "white",
             "startlinecolor": "#2a3f5f"
            },
            "baxis": {
             "endlinecolor": "#2a3f5f",
             "gridcolor": "white",
             "linecolor": "white",
             "minorgridcolor": "white",
             "startlinecolor": "#2a3f5f"
            },
            "type": "carpet"
           }
          ],
          "choropleth": [
           {
            "colorbar": {
             "outlinewidth": 0,
             "ticks": ""
            },
            "type": "choropleth"
           }
          ],
          "contour": [
           {
            "colorbar": {
             "outlinewidth": 0,
             "ticks": ""
            },
            "colorscale": [
             [
              0,
              "#0d0887"
             ],
             [
              0.1111111111111111,
              "#46039f"
             ],
             [
              0.2222222222222222,
              "#7201a8"
             ],
             [
              0.3333333333333333,
              "#9c179e"
             ],
             [
              0.4444444444444444,
              "#bd3786"
             ],
             [
              0.5555555555555556,
              "#d8576b"
             ],
             [
              0.6666666666666666,
              "#ed7953"
             ],
             [
              0.7777777777777778,
              "#fb9f3a"
             ],
             [
              0.8888888888888888,
              "#fdca26"
             ],
             [
              1,
              "#f0f921"
             ]
            ],
            "type": "contour"
           }
          ],
          "contourcarpet": [
           {
            "colorbar": {
             "outlinewidth": 0,
             "ticks": ""
            },
            "type": "contourcarpet"
           }
          ],
          "heatmap": [
           {
            "colorbar": {
             "outlinewidth": 0,
             "ticks": ""
            },
            "colorscale": [
             [
              0,
              "#0d0887"
             ],
             [
              0.1111111111111111,
              "#46039f"
             ],
             [
              0.2222222222222222,
              "#7201a8"
             ],
             [
              0.3333333333333333,
              "#9c179e"
             ],
             [
              0.4444444444444444,
              "#bd3786"
             ],
             [
              0.5555555555555556,
              "#d8576b"
             ],
             [
              0.6666666666666666,
              "#ed7953"
             ],
             [
              0.7777777777777778,
              "#fb9f3a"
             ],
             [
              0.8888888888888888,
              "#fdca26"
             ],
             [
              1,
              "#f0f921"
             ]
            ],
            "type": "heatmap"
           }
          ],
          "heatmapgl": [
           {
            "colorbar": {
             "outlinewidth": 0,
             "ticks": ""
            },
            "colorscale": [
             [
              0,
              "#0d0887"
             ],
             [
              0.1111111111111111,
              "#46039f"
             ],
             [
              0.2222222222222222,
              "#7201a8"
             ],
             [
              0.3333333333333333,
              "#9c179e"
             ],
             [
              0.4444444444444444,
              "#bd3786"
             ],
             [
              0.5555555555555556,
              "#d8576b"
             ],
             [
              0.6666666666666666,
              "#ed7953"
             ],
             [
              0.7777777777777778,
              "#fb9f3a"
             ],
             [
              0.8888888888888888,
              "#fdca26"
             ],
             [
              1,
              "#f0f921"
             ]
            ],
            "type": "heatmapgl"
           }
          ],
          "histogram": [
           {
            "marker": {
             "pattern": {
              "fillmode": "overlay",
              "size": 10,
              "solidity": 0.2
             }
            },
            "type": "histogram"
           }
          ],
          "histogram2d": [
           {
            "colorbar": {
             "outlinewidth": 0,
             "ticks": ""
            },
            "colorscale": [
             [
              0,
              "#0d0887"
             ],
             [
              0.1111111111111111,
              "#46039f"
             ],
             [
              0.2222222222222222,
              "#7201a8"
             ],
             [
              0.3333333333333333,
              "#9c179e"
             ],
             [
              0.4444444444444444,
              "#bd3786"
             ],
             [
              0.5555555555555556,
              "#d8576b"
             ],
             [
              0.6666666666666666,
              "#ed7953"
             ],
             [
              0.7777777777777778,
              "#fb9f3a"
             ],
             [
              0.8888888888888888,
              "#fdca26"
             ],
             [
              1,
              "#f0f921"
             ]
            ],
            "type": "histogram2d"
           }
          ],
          "histogram2dcontour": [
           {
            "colorbar": {
             "outlinewidth": 0,
             "ticks": ""
            },
            "colorscale": [
             [
              0,
              "#0d0887"
             ],
             [
              0.1111111111111111,
              "#46039f"
             ],
             [
              0.2222222222222222,
              "#7201a8"
             ],
             [
              0.3333333333333333,
              "#9c179e"
             ],
             [
              0.4444444444444444,
              "#bd3786"
             ],
             [
              0.5555555555555556,
              "#d8576b"
             ],
             [
              0.6666666666666666,
              "#ed7953"
             ],
             [
              0.7777777777777778,
              "#fb9f3a"
             ],
             [
              0.8888888888888888,
              "#fdca26"
             ],
             [
              1,
              "#f0f921"
             ]
            ],
            "type": "histogram2dcontour"
           }
          ],
          "mesh3d": [
           {
            "colorbar": {
             "outlinewidth": 0,
             "ticks": ""
            },
            "type": "mesh3d"
           }
          ],
          "parcoords": [
           {
            "line": {
             "colorbar": {
              "outlinewidth": 0,
              "ticks": ""
             }
            },
            "type": "parcoords"
           }
          ],
          "pie": [
           {
            "automargin": true,
            "type": "pie"
           }
          ],
          "scatter": [
           {
            "fillpattern": {
             "fillmode": "overlay",
             "size": 10,
             "solidity": 0.2
            },
            "type": "scatter"
           }
          ],
          "scatter3d": [
           {
            "line": {
             "colorbar": {
              "outlinewidth": 0,
              "ticks": ""
             }
            },
            "marker": {
             "colorbar": {
              "outlinewidth": 0,
              "ticks": ""
             }
            },
            "type": "scatter3d"
           }
          ],
          "scattercarpet": [
           {
            "marker": {
             "colorbar": {
              "outlinewidth": 0,
              "ticks": ""
             }
            },
            "type": "scattercarpet"
           }
          ],
          "scattergeo": [
           {
            "marker": {
             "colorbar": {
              "outlinewidth": 0,
              "ticks": ""
             }
            },
            "type": "scattergeo"
           }
          ],
          "scattergl": [
           {
            "marker": {
             "colorbar": {
              "outlinewidth": 0,
              "ticks": ""
             }
            },
            "type": "scattergl"
           }
          ],
          "scattermapbox": [
           {
            "marker": {
             "colorbar": {
              "outlinewidth": 0,
              "ticks": ""
             }
            },
            "type": "scattermapbox"
           }
          ],
          "scatterpolar": [
           {
            "marker": {
             "colorbar": {
              "outlinewidth": 0,
              "ticks": ""
             }
            },
            "type": "scatterpolar"
           }
          ],
          "scatterpolargl": [
           {
            "marker": {
             "colorbar": {
              "outlinewidth": 0,
              "ticks": ""
             }
            },
            "type": "scatterpolargl"
           }
          ],
          "scatterternary": [
           {
            "marker": {
             "colorbar": {
              "outlinewidth": 0,
              "ticks": ""
             }
            },
            "type": "scatterternary"
           }
          ],
          "surface": [
           {
            "colorbar": {
             "outlinewidth": 0,
             "ticks": ""
            },
            "colorscale": [
             [
              0,
              "#0d0887"
             ],
             [
              0.1111111111111111,
              "#46039f"
             ],
             [
              0.2222222222222222,
              "#7201a8"
             ],
             [
              0.3333333333333333,
              "#9c179e"
             ],
             [
              0.4444444444444444,
              "#bd3786"
             ],
             [
              0.5555555555555556,
              "#d8576b"
             ],
             [
              0.6666666666666666,
              "#ed7953"
             ],
             [
              0.7777777777777778,
              "#fb9f3a"
             ],
             [
              0.8888888888888888,
              "#fdca26"
             ],
             [
              1,
              "#f0f921"
             ]
            ],
            "type": "surface"
           }
          ],
          "table": [
           {
            "cells": {
             "fill": {
              "color": "#EBF0F8"
             },
             "line": {
              "color": "white"
             }
            },
            "header": {
             "fill": {
              "color": "#C8D4E3"
             },
             "line": {
              "color": "white"
             }
            },
            "type": "table"
           }
          ]
         },
         "layout": {
          "annotationdefaults": {
           "arrowcolor": "#2a3f5f",
           "arrowhead": 0,
           "arrowwidth": 1
          },
          "autotypenumbers": "strict",
          "coloraxis": {
           "colorbar": {
            "outlinewidth": 0,
            "ticks": ""
           }
          },
          "colorscale": {
           "diverging": [
            [
             0,
             "#8e0152"
            ],
            [
             0.1,
             "#c51b7d"
            ],
            [
             0.2,
             "#de77ae"
            ],
            [
             0.3,
             "#f1b6da"
            ],
            [
             0.4,
             "#fde0ef"
            ],
            [
             0.5,
             "#f7f7f7"
            ],
            [
             0.6,
             "#e6f5d0"
            ],
            [
             0.7,
             "#b8e186"
            ],
            [
             0.8,
             "#7fbc41"
            ],
            [
             0.9,
             "#4d9221"
            ],
            [
             1,
             "#276419"
            ]
           ],
           "sequential": [
            [
             0,
             "#0d0887"
            ],
            [
             0.1111111111111111,
             "#46039f"
            ],
            [
             0.2222222222222222,
             "#7201a8"
            ],
            [
             0.3333333333333333,
             "#9c179e"
            ],
            [
             0.4444444444444444,
             "#bd3786"
            ],
            [
             0.5555555555555556,
             "#d8576b"
            ],
            [
             0.6666666666666666,
             "#ed7953"
            ],
            [
             0.7777777777777778,
             "#fb9f3a"
            ],
            [
             0.8888888888888888,
             "#fdca26"
            ],
            [
             1,
             "#f0f921"
            ]
           ],
           "sequentialminus": [
            [
             0,
             "#0d0887"
            ],
            [
             0.1111111111111111,
             "#46039f"
            ],
            [
             0.2222222222222222,
             "#7201a8"
            ],
            [
             0.3333333333333333,
             "#9c179e"
            ],
            [
             0.4444444444444444,
             "#bd3786"
            ],
            [
             0.5555555555555556,
             "#d8576b"
            ],
            [
             0.6666666666666666,
             "#ed7953"
            ],
            [
             0.7777777777777778,
             "#fb9f3a"
            ],
            [
             0.8888888888888888,
             "#fdca26"
            ],
            [
             1,
             "#f0f921"
            ]
           ]
          },
          "colorway": [
           "#636efa",
           "#EF553B",
           "#00cc96",
           "#ab63fa",
           "#FFA15A",
           "#19d3f3",
           "#FF6692",
           "#B6E880",
           "#FF97FF",
           "#FECB52"
          ],
          "font": {
           "color": "#2a3f5f"
          },
          "geo": {
           "bgcolor": "white",
           "lakecolor": "white",
           "landcolor": "#E5ECF6",
           "showlakes": true,
           "showland": true,
           "subunitcolor": "white"
          },
          "hoverlabel": {
           "align": "left"
          },
          "hovermode": "closest",
          "mapbox": {
           "style": "light"
          },
          "paper_bgcolor": "white",
          "plot_bgcolor": "#E5ECF6",
          "polar": {
           "angularaxis": {
            "gridcolor": "white",
            "linecolor": "white",
            "ticks": ""
           },
           "bgcolor": "#E5ECF6",
           "radialaxis": {
            "gridcolor": "white",
            "linecolor": "white",
            "ticks": ""
           }
          },
          "scene": {
           "xaxis": {
            "backgroundcolor": "#E5ECF6",
            "gridcolor": "white",
            "gridwidth": 2,
            "linecolor": "white",
            "showbackground": true,
            "ticks": "",
            "zerolinecolor": "white"
           },
           "yaxis": {
            "backgroundcolor": "#E5ECF6",
            "gridcolor": "white",
            "gridwidth": 2,
            "linecolor": "white",
            "showbackground": true,
            "ticks": "",
            "zerolinecolor": "white"
           },
           "zaxis": {
            "backgroundcolor": "#E5ECF6",
            "gridcolor": "white",
            "gridwidth": 2,
            "linecolor": "white",
            "showbackground": true,
            "ticks": "",
            "zerolinecolor": "white"
           }
          },
          "shapedefaults": {
           "line": {
            "color": "#2a3f5f"
           }
          },
          "ternary": {
           "aaxis": {
            "gridcolor": "white",
            "linecolor": "white",
            "ticks": ""
           },
           "baxis": {
            "gridcolor": "white",
            "linecolor": "white",
            "ticks": ""
           },
           "bgcolor": "#E5ECF6",
           "caxis": {
            "gridcolor": "white",
            "linecolor": "white",
            "ticks": ""
           }
          },
          "title": {
           "x": 0.05
          },
          "xaxis": {
           "automargin": true,
           "gridcolor": "white",
           "linecolor": "white",
           "ticks": "",
           "title": {
            "standoff": 15
           },
           "zerolinecolor": "white",
           "zerolinewidth": 2
          },
          "yaxis": {
           "automargin": true,
           "gridcolor": "white",
           "linecolor": "white",
           "ticks": "",
           "title": {
            "standoff": 15
           },
           "zerolinecolor": "white",
           "zerolinewidth": 2
          }
         }
        },
        "title": {
         "text": "Uttarakhand"
        },
        "updatemenus": [
         {
          "buttons": [
           {
            "args": [
             {
              "visible": [
               true,
               true,
               true,
               true,
               true,
               true,
               true,
               true,
               true,
               true,
               true,
               true,
               true
              ]
             },
             {
              "title": "All Districts"
             }
            ],
            "label": "All",
            "method": "update"
           },
           {
            "args": [
             {
              "visible": [
               false,
               false,
               false,
               false,
               false,
               false,
               false,
               false,
               false,
               false,
               false,
               false,
               false
              ]
             },
             {
              "title": "No District"
             }
            ],
            "label": "None",
            "method": "update"
           }
          ],
          "direction": "left",
          "pad": {
           "r": 10,
           "t": 10
          },
          "showactive": true,
          "type": "buttons",
          "x": 0.05,
          "xanchor": "left",
          "y": 1.15,
          "yanchor": "top"
         }
        ],
        "xaxis": {
         "gridcolor": "lightgray",
         "gridwidth": 1,
         "showgrid": true,
         "tickmode": "array",
         "ticktext": [
          2009,
          2010,
          2011,
          2012,
          2013,
          2014,
          2015,
          2016,
          2017,
          2018,
          2019,
          2020,
          2021,
          2022,
          2023
         ],
         "tickvals": [
          2009,
          2010,
          2011,
          2012,
          2013,
          2014,
          2015,
          2016,
          2017,
          2018,
          2019,
          2020,
          2021,
          2022,
          2023
         ],
         "title": {
          "text": "Year"
         }
        },
        "yaxis": {
         "gridcolor": "lightgray",
         "gridwidth": 1,
         "showgrid": true,
         "title": {
          "text": "Average Rainfall in mm"
         }
        }
       }
      }
     },
     "metadata": {},
     "output_type": "display_data"
    },
    {
     "name": "stdout",
     "output_type": "stream",
     "text": [
      "Chhattisgarh\n",
      "['Balod', 'Baloda Bazar', 'Balrampur', 'Bastar', 'Bemetara', 'Bijapur', 'Bilaspur', 'Dantewada', 'Dhamtari', 'Durg', 'Gariyaband', 'Gaurella Pendra Marwahi', 'Janjgir-Champa', 'Jashpur', 'Kabirdham', 'Kanker', 'Kondagaon', 'Korba', 'Korea', 'Mahasamund', 'Mungeli', 'Narayanpur', 'Raigarh', 'Raipur', 'Rajnandgaon', 'Sukma', 'Surajpur', 'Surguja']\n"
     ]
    },
    {
     "data": {
      "application/vnd.plotly.v1+json": {
       "config": {
        "plotlyServerURL": "https://plot.ly"
       },
       "data": [
        {
         "mode": "lines+markers",
         "name": "Balod",
         "type": "scatter",
         "visible": "legendonly",
         "x": [
          2009,
          2010,
          2011,
          2012,
          2013,
          2014,
          2015,
          2016,
          2017,
          2018,
          2019,
          2020,
          2021,
          2022,
          2023
         ],
         "y": [
          1036.111389165,
          1364.0354888588,
          1175.6587553278,
          1159.6769112242,
          1490.1322270106,
          1301.2952525937,
          969.609199594,
          1444.6454376537,
          1164.244120988,
          1221.373422503,
          1276.059251242,
          1086.731262027,
          1206.075351861,
          1554.8622602154999,
          1094.6821564167
         ]
        },
        {
         "mode": "lines+markers",
         "name": "Baloda Bazar",
         "type": "scatter",
         "visible": "legendonly",
         "x": [
          2009,
          2010,
          2011,
          2012,
          2013,
          2014,
          2015,
          2016,
          2017,
          2018,
          2019,
          2020,
          2021,
          2022,
          2023
         ],
         "y": [
          1059.842026579,
          1049.0450820801,
          989.2912743386,
          1107.1570107723,
          1266.7690841393,
          1386.2152573152,
          1019.1062659515,
          972.7264045263,
          796.8033383655,
          989.738553714,
          1213.770319338,
          1134.677874713,
          1137.359103624,
          1365.779379338,
          1137.5989236701
         ]
        },
        {
         "mode": "lines+markers",
         "name": "Balrampur",
         "type": "scatter",
         "visible": "legendonly",
         "x": [
          2009,
          2010,
          2011,
          2012,
          2013,
          2014,
          2015,
          2016,
          2017,
          2018,
          2019,
          2020,
          2021,
          2022,
          2023
         ],
         "y": [
          1667.604464152,
          1715.7547847196,
          2274.8868725038,
          2297.7235907972,
          2020.7975304292,
          1675.7130680858,
          1676.6611258408,
          2168.6759047334,
          1789.6310207902,
          1724.472645146,
          2344.702055094,
          2533.975680286,
          2628.678012086,
          1801.0308300338,
          1597.282950869
         ]
        },
        {
         "mode": "lines+markers",
         "name": "Bastar",
         "type": "scatter",
         "visible": "legendonly",
         "x": [
          2009,
          2010,
          2011,
          2012,
          2013,
          2014,
          2015,
          2016,
          2017,
          2018,
          2019,
          2020,
          2021,
          2022,
          2023
         ],
         "y": [
          1354.541504621,
          2590.160167208,
          1276.2653202697,
          1742.0698328485,
          1818.0837569533,
          1677.5864886308,
          1564.0559823916,
          1640.6257961095,
          1558.755630276,
          1390.645155992,
          2020.777046543,
          984.370755014,
          1295.103422009,
          1681.24379474,
          1043.149338588
         ]
        },
        {
         "mode": "lines+markers",
         "name": "Bemetara",
         "type": "scatter",
         "visible": "legendonly",
         "x": [
          2009,
          2010,
          2011,
          2012,
          2013,
          2014,
          2015,
          2016,
          2017,
          2018,
          2019,
          2020,
          2021,
          2022,
          2023
         ],
         "y": [
          1002.846822083,
          967.2946740312,
          1280.3678835736,
          1203.2458490585,
          1663.3847003943001,
          1411.8456052012,
          1129.0991168951,
          1076.869627566,
          902.1695342491,
          1292.318369278,
          1353.04717371,
          1342.066623332,
          1351.866921387,
          1120.0547267081,
          1111.3452209315
         ]
        },
        {
         "mode": "lines+markers",
         "name": "Bijapur",
         "type": "scatter",
         "visible": "legendonly",
         "x": [
          2009,
          2010,
          2011,
          2012,
          2013,
          2014,
          2015,
          2016,
          2017,
          2018,
          2019,
          2020,
          2021,
          2022,
          2023
         ],
         "y": [
          826.651414281,
          1821.396266829,
          1170.9148004605,
          1685.3523731287,
          1838.1242203509,
          1231.5986173329,
          1228.328439452,
          1508.5800811497,
          1246.7805241179,
          1566.7968242279999,
          1822.215429525,
          879.270425721,
          1320.341725923,
          1923.3814749987,
          1261.0383871125
         ]
        },
        {
         "mode": "lines+markers",
         "name": "Bilaspur",
         "type": "scatter",
         "visible": "legendonly",
         "x": [
          2009,
          2010,
          2011,
          2012,
          2013,
          2014,
          2015,
          2016,
          2017,
          2018,
          2019,
          2020,
          2021,
          2022,
          2023
         ],
         "y": [
          1967.036881089,
          2804.2997225424,
          2889.7696617871,
          2464.7249362824,
          2564.707682448,
          2652.3849923365,
          2636.1597698443,
          2466.5729244364,
          2470.0817596953,
          2545.967516733,
          2767.248394121,
          1909.895093176,
          2493.651309368,
          1919.5825520672,
          1832.3787814721
         ]
        },
        {
         "mode": "lines+markers",
         "name": "Dantewada",
         "type": "scatter",
         "visible": "legendonly",
         "x": [
          2009,
          2010,
          2011,
          2012,
          2013,
          2014,
          2015,
          2016,
          2017,
          2018,
          2019,
          2020,
          2021,
          2022,
          2023
         ],
         "y": [
          994.699558296,
          1841.5336250827,
          1331.2218545915,
          1762.7318632768,
          1609.8546979389,
          1361.4709049031999,
          1526.061232251,
          1571.8239251783,
          1653.5597139766,
          1534.74261295,
          1721.849112977,
          940.011171091,
          1227.017243361,
          1514.0639227309,
          1125.9486134087
         ]
        },
        {
         "mode": "lines+markers",
         "name": "Dhamtari",
         "type": "scatter",
         "visible": "legendonly",
         "x": [
          2009,
          2010,
          2011,
          2012,
          2013,
          2014,
          2015,
          2016,
          2017,
          2018,
          2019,
          2020,
          2021,
          2022,
          2023
         ],
         "y": [
          1010.619509572,
          1338.7351922158,
          1193.9844518815,
          1134.2696343948,
          1274.264975862,
          1156.1088282221,
          934.5671525244001,
          1118.5023457062,
          923.2780389758,
          1066.979392041,
          1055.506200461,
          927.546582488,
          1213.217453278,
          1386.0341265325999,
          1043.3008238257
         ]
        },
        {
         "mode": "lines+markers",
         "name": "Durg",
         "type": "scatter",
         "visible": "legendonly",
         "x": [
          2009,
          2010,
          2011,
          2012,
          2013,
          2014,
          2015,
          2016,
          2017,
          2018,
          2019,
          2020,
          2021,
          2022,
          2023
         ],
         "y": [
          1092.569649367,
          1224.8894390679,
          1226.4924051225,
          1319.5875754711,
          1595.1251167427,
          1279.1401389709,
          954.7620315835,
          1656.1344217602,
          892.6403176649,
          1222.54177021,
          1310.497118291,
          1207.013143291,
          1319.445428338,
          1241.3998243017,
          1145.7851787747
         ]
        },
        {
         "mode": "lines+markers",
         "name": "Gariyaband",
         "type": "scatter",
         "visible": "legendonly",
         "x": [
          2009,
          2010,
          2011,
          2012,
          2013,
          2014,
          2015,
          2016,
          2017,
          2018,
          2019,
          2020,
          2021,
          2022,
          2023
         ],
         "y": [
          1259.4557577389999,
          1218.2080512315001,
          1006.111092244,
          1100.7290888229,
          1530.7745481628,
          1504.6412688554,
          1181.2503793515,
          1087.9211896457,
          1001.667547576,
          1151.122517634,
          1242.747807588,
          1049.828181688,
          1110.985483571,
          1236.0409317277,
          1047.7889758909
         ]
        },
        {
         "mode": "lines+markers",
         "name": "Gaurella Pendra Marwahi",
         "type": "scatter",
         "visible": "legendonly",
         "x": [
          2009,
          2010,
          2011,
          2012,
          2013,
          2014,
          2015,
          2016,
          2017,
          2018,
          2019,
          2020,
          2021,
          2022,
          2023
         ],
         "y": [
          957.462584397,
          1037.2163110303,
          1595.4802797571,
          1390.714049559,
          1553.4957255592,
          1542.1780068749,
          995.2332868011,
          1218.9767730455,
          1035.6119923134,
          1046.372755868,
          1493.7791845469999,
          1278.994433723,
          1480.224263314,
          1273.672039453,
          1250.1029096598
         ]
        },
        {
         "mode": "lines+markers",
         "name": "Janjgir-Champa",
         "type": "scatter",
         "visible": "legendonly",
         "x": [
          2009,
          2010,
          2011,
          2012,
          2013,
          2014,
          2015,
          2016,
          2017,
          2018,
          2019,
          2020,
          2021,
          2022,
          2023
         ],
         "y": [
          1059.491550503,
          1181.8503009615,
          1180.578225017,
          1215.4167097945,
          1251.2628077511,
          1297.491681104,
          1098.790140545,
          1223.6866813771,
          964.388817507,
          995.06233911,
          1206.989365128,
          1063.112841923,
          1257.520667095,
          1416.1804365617,
          1243.0272880201
         ]
        },
        {
         "mode": "lines+markers",
         "name": "Jashpur",
         "type": "scatter",
         "visible": "legendonly",
         "x": [
          2009,
          2010,
          2011,
          2012,
          2013,
          2014,
          2015,
          2016,
          2017,
          2018,
          2019,
          2020,
          2021,
          2022,
          2023
         ],
         "y": [
          1272.156407948,
          1304.7503394971,
          1652.3354517831,
          1431.5185110338,
          1341.2044748011,
          1124.3663557553,
          1261.5399584658,
          1223.5846063804,
          1230.1797048175,
          1132.866623715,
          1528.522429058,
          1230.891496787,
          1335.380470299,
          1024.6158727441,
          976.7906077167
         ]
        },
        {
         "mode": "lines+markers",
         "name": "Kabirdham",
         "type": "scatter",
         "visible": "legendonly",
         "x": [
          2009,
          2010,
          2011,
          2012,
          2013,
          2014,
          2015,
          2016,
          2017,
          2018,
          2019,
          2020,
          2021,
          2022,
          2023
         ],
         "y": [
          846.506001757,
          1115.192634175,
          1101.0573071952,
          1173.9721203851,
          1348.3997883427,
          1258.2731712932,
          1029.4564211779,
          971.6360768991,
          1094.7047105694,
          978.14708555,
          1226.031691781,
          1265.775473265,
          1448.097719424,
          1259.0156321195,
          997.8721096492
         ]
        },
        {
         "mode": "lines+markers",
         "name": "Kanker",
         "type": "scatter",
         "visible": "legendonly",
         "x": [
          2009,
          2010,
          2011,
          2012,
          2013,
          2014,
          2015,
          2016,
          2017,
          2018,
          2019,
          2020,
          2021,
          2022,
          2023
         ],
         "y": [
          964.4268476330001,
          1638.7524748444,
          1274.7303712285,
          1463.8428820128,
          1489.0347273624,
          1354.8650023706,
          1161.7945999207,
          1688.1266104847,
          1121.8318788404,
          1303.85146255,
          1467.906400735,
          834.033106905,
          1202.828896517,
          1535.9519486020001,
          1140.8326785177999
         ]
        },
        {
         "mode": "lines+markers",
         "name": "Kondagaon",
         "type": "scatter",
         "visible": "legendonly",
         "x": [
          2009,
          2010,
          2011,
          2012,
          2013,
          2014,
          2015,
          2016,
          2017,
          2018,
          2019,
          2020,
          2021,
          2022,
          2023
         ],
         "y": [
          1010.107998537,
          1899.2250570962,
          1259.738871421,
          1491.6987719504,
          1432.7257324784,
          1340.2576335788,
          1233.245929511,
          1483.1815955631,
          1294.2459504013,
          1148.29951461,
          1489.214356292,
          908.0638105740001,
          1271.03508356,
          1386.9540642828001,
          1004.7978684459999
         ]
        },
        {
         "mode": "lines+markers",
         "name": "Korba",
         "type": "scatter",
         "visible": "legendonly",
         "x": [
          2009,
          2010,
          2011,
          2012,
          2013,
          2014,
          2015,
          2016,
          2017,
          2018,
          2019,
          2020,
          2021,
          2022,
          2023
         ],
         "y": [
          989.496215236,
          1217.414168895,
          1524.8346276956,
          1355.0581298099,
          1202.1939890661,
          1237.0269174304,
          1082.6261608541,
          1353.542619781,
          1159.698617819,
          1019.046520833,
          1334.932756222,
          1295.457925399,
          1516.263066894,
          1255.0640236399,
          945.4648149999
         ]
        },
        {
         "mode": "lines+markers",
         "name": "Korea",
         "type": "scatter",
         "visible": "legendonly",
         "x": [
          2009,
          2010,
          2011,
          2012,
          2013,
          2014,
          2015,
          2016,
          2017,
          2018,
          2019,
          2020,
          2021,
          2022,
          2023
         ],
         "y": [
          948.032496498,
          924.9345930986,
          1774.8408656494,
          1610.2592720706,
          1312.9024706029,
          1273.3919922486,
          783.9827147171001,
          1106.8481808143,
          854.8666244195,
          1013.9208259220001,
          1239.375752032,
          1201.813111672,
          1240.243845576,
          959.5908798013,
          798.7710232077
         ]
        },
        {
         "mode": "lines+markers",
         "name": "Mahasamund",
         "type": "scatter",
         "visible": "legendonly",
         "x": [
          2009,
          2010,
          2011,
          2012,
          2013,
          2014,
          2015,
          2016,
          2017,
          2018,
          2019,
          2020,
          2021,
          2022,
          2023
         ],
         "y": [
          1398.57786385,
          1038.0672741472,
          1107.6557809677,
          1290.2847948346,
          1346.0576268269,
          1759.2665427711,
          1070.5687616761,
          981.9796664349,
          909.9812481454,
          1136.631368978,
          1384.708809855,
          1199.715649306,
          1082.020123934,
          1233.5869774975,
          1090.8533638923
         ]
        },
        {
         "mode": "lines+markers",
         "name": "Mungeli",
         "type": "scatter",
         "visible": "legendonly",
         "x": [
          2009,
          2010,
          2011,
          2012,
          2013,
          2014,
          2015,
          2016,
          2017,
          2018,
          2019,
          2020,
          2021,
          2022,
          2023
         ],
         "y": [
          1023.256884969,
          1093.0901601824,
          1276.5326194543,
          1457.4485185071,
          1386.7763427299,
          1370.9046283175,
          1119.573195255,
          1015.8692350581999,
          944.1584032276,
          1014.198419056,
          1376.219479972,
          1283.581889413,
          1450.063762427,
          1299.8149332281,
          1276.059020248
         ]
        },
        {
         "mode": "lines+markers",
         "name": "Narayanpur",
         "type": "scatter",
         "visible": "legendonly",
         "x": [
          2009,
          2010,
          2011,
          2012,
          2013,
          2014,
          2015,
          2016,
          2017,
          2018,
          2019,
          2020,
          2021,
          2022,
          2023
         ],
         "y": [
          946.436832966,
          1592.0555165331,
          1297.9018200777,
          1598.5194904412,
          1489.0566429903,
          1411.0715494123,
          1294.3648804895,
          1723.289903961,
          1161.4709960749,
          1379.198205495,
          1916.744508426,
          941.461862881,
          1402.741937767,
          1544.7253752729,
          1024.2774061709
         ]
        },
        {
         "mode": "lines+markers",
         "name": "Raigarh",
         "type": "scatter",
         "visible": "legendonly",
         "x": [
          2009,
          2010,
          2011,
          2012,
          2013,
          2014,
          2015,
          2016,
          2017,
          2018,
          2019,
          2020,
          2021,
          2022,
          2023
         ],
         "y": [
          1205.772041179,
          1230.0537387301,
          1397.9061559756,
          1448.2091124921,
          1362.8816897372,
          1341.4476504095,
          1391.3880255386,
          1279.1511701369,
          1191.9579183323,
          1083.204500028,
          1499.722479304,
          1207.008002498,
          1190.495086768,
          1214.193229457,
          1133.823225735
         ]
        },
        {
         "mode": "lines+markers",
         "name": "Raipur",
         "type": "scatter",
         "visible": "legendonly",
         "x": [
          2009,
          2010,
          2011,
          2012,
          2013,
          2014,
          2015,
          2016,
          2017,
          2018,
          2019,
          2020,
          2021,
          2022,
          2023
         ],
         "y": [
          1165.5514233032,
          1163.4091928758,
          1160.3633176826,
          1273.5471240237,
          1581.4421171164,
          1243.2573879904,
          903.8018980009,
          1016.2493427918,
          843.3615354103,
          1232.809050302,
          1224.363331259,
          1078.530750061,
          982.490791613,
          1227.1882984824,
          1196.0529883808
         ]
        },
        {
         "mode": "lines+markers",
         "name": "Rajnandgaon",
         "type": "scatter",
         "visible": "legendonly",
         "x": [
          2009,
          2010,
          2011,
          2012,
          2013,
          2014,
          2015,
          2016,
          2017,
          2018,
          2019,
          2020,
          2021,
          2022,
          2023
         ],
         "y": [
          898.769702615,
          1671.8015143953,
          1111.6974605239,
          1189.6731012088,
          1493.6792906441,
          1226.1963279240001,
          930.7241128459,
          1405.4207101361,
          976.6879822059,
          1072.574410395,
          1074.981950982,
          947.388724661,
          1274.391754665,
          1448.6255553941,
          1175.3036478468
         ]
        },
        {
         "mode": "lines+markers",
         "name": "Sukma",
         "type": "scatter",
         "visible": "legendonly",
         "x": [
          2009,
          2010,
          2011,
          2012,
          2013,
          2014,
          2015,
          2016,
          2017,
          2018,
          2019,
          2020,
          2021,
          2022,
          2023
         ],
         "y": [
          1004.699714325,
          1818.0715366581,
          1254.7917294862,
          1959.3452924221,
          1818.2362935549,
          1542.8795026605,
          1807.0937540419,
          1496.1335254045,
          1802.3771536202,
          1798.683831987,
          1729.458799127,
          796.223667634,
          1507.729960382,
          1441.7291071922,
          1267.3194567635
         ]
        },
        {
         "mode": "lines+markers",
         "name": "Surajpur",
         "type": "scatter",
         "visible": "legendonly",
         "x": [
          2009,
          2010,
          2011,
          2012,
          2013,
          2014,
          2015,
          2016,
          2017,
          2018,
          2019,
          2020,
          2021,
          2022,
          2023
         ],
         "y": [
          771.033190556,
          787.0539825449,
          1580.9284991843,
          1383.58090599,
          919.5331639666,
          962.1931384197,
          920.9199671227,
          1164.1082601278,
          1129.6292507866,
          1082.791705763,
          1275.202777026,
          1304.541350556,
          1223.669649768,
          921.9901646603,
          692.8122078149
         ]
        },
        {
         "mode": "lines+markers",
         "name": "Surguja",
         "type": "scatter",
         "visible": "legendonly",
         "x": [
          2009,
          2010,
          2011,
          2012,
          2013,
          2014,
          2015,
          2016,
          2017,
          2018,
          2019,
          2020,
          2021,
          2022,
          2023
         ],
         "y": [
          1032.795218114,
          1072.4707858885,
          1590.0336751753,
          1307.0635262755,
          1085.8558960172,
          1044.8087724918,
          1174.1854714849999,
          1337.9858316307,
          1353.5963389191,
          1087.335561498,
          1333.722362327,
          1311.949007993,
          1243.287977727,
          1060.6898545176,
          702.6187435125
         ]
        }
       ],
       "layout": {
        "legend": {
         "tracegroupgap": 0,
         "traceorder": "normal",
         "x": 1.05,
         "y": 1
        },
        "margin": {
         "b": 0,
         "l": 0,
         "r": 0,
         "t": 50
        },
        "plot_bgcolor": "white",
        "template": {
         "data": {
          "bar": [
           {
            "error_x": {
             "color": "#2a3f5f"
            },
            "error_y": {
             "color": "#2a3f5f"
            },
            "marker": {
             "line": {
              "color": "#E5ECF6",
              "width": 0.5
             },
             "pattern": {
              "fillmode": "overlay",
              "size": 10,
              "solidity": 0.2
             }
            },
            "type": "bar"
           }
          ],
          "barpolar": [
           {
            "marker": {
             "line": {
              "color": "#E5ECF6",
              "width": 0.5
             },
             "pattern": {
              "fillmode": "overlay",
              "size": 10,
              "solidity": 0.2
             }
            },
            "type": "barpolar"
           }
          ],
          "carpet": [
           {
            "aaxis": {
             "endlinecolor": "#2a3f5f",
             "gridcolor": "white",
             "linecolor": "white",
             "minorgridcolor": "white",
             "startlinecolor": "#2a3f5f"
            },
            "baxis": {
             "endlinecolor": "#2a3f5f",
             "gridcolor": "white",
             "linecolor": "white",
             "minorgridcolor": "white",
             "startlinecolor": "#2a3f5f"
            },
            "type": "carpet"
           }
          ],
          "choropleth": [
           {
            "colorbar": {
             "outlinewidth": 0,
             "ticks": ""
            },
            "type": "choropleth"
           }
          ],
          "contour": [
           {
            "colorbar": {
             "outlinewidth": 0,
             "ticks": ""
            },
            "colorscale": [
             [
              0,
              "#0d0887"
             ],
             [
              0.1111111111111111,
              "#46039f"
             ],
             [
              0.2222222222222222,
              "#7201a8"
             ],
             [
              0.3333333333333333,
              "#9c179e"
             ],
             [
              0.4444444444444444,
              "#bd3786"
             ],
             [
              0.5555555555555556,
              "#d8576b"
             ],
             [
              0.6666666666666666,
              "#ed7953"
             ],
             [
              0.7777777777777778,
              "#fb9f3a"
             ],
             [
              0.8888888888888888,
              "#fdca26"
             ],
             [
              1,
              "#f0f921"
             ]
            ],
            "type": "contour"
           }
          ],
          "contourcarpet": [
           {
            "colorbar": {
             "outlinewidth": 0,
             "ticks": ""
            },
            "type": "contourcarpet"
           }
          ],
          "heatmap": [
           {
            "colorbar": {
             "outlinewidth": 0,
             "ticks": ""
            },
            "colorscale": [
             [
              0,
              "#0d0887"
             ],
             [
              0.1111111111111111,
              "#46039f"
             ],
             [
              0.2222222222222222,
              "#7201a8"
             ],
             [
              0.3333333333333333,
              "#9c179e"
             ],
             [
              0.4444444444444444,
              "#bd3786"
             ],
             [
              0.5555555555555556,
              "#d8576b"
             ],
             [
              0.6666666666666666,
              "#ed7953"
             ],
             [
              0.7777777777777778,
              "#fb9f3a"
             ],
             [
              0.8888888888888888,
              "#fdca26"
             ],
             [
              1,
              "#f0f921"
             ]
            ],
            "type": "heatmap"
           }
          ],
          "heatmapgl": [
           {
            "colorbar": {
             "outlinewidth": 0,
             "ticks": ""
            },
            "colorscale": [
             [
              0,
              "#0d0887"
             ],
             [
              0.1111111111111111,
              "#46039f"
             ],
             [
              0.2222222222222222,
              "#7201a8"
             ],
             [
              0.3333333333333333,
              "#9c179e"
             ],
             [
              0.4444444444444444,
              "#bd3786"
             ],
             [
              0.5555555555555556,
              "#d8576b"
             ],
             [
              0.6666666666666666,
              "#ed7953"
             ],
             [
              0.7777777777777778,
              "#fb9f3a"
             ],
             [
              0.8888888888888888,
              "#fdca26"
             ],
             [
              1,
              "#f0f921"
             ]
            ],
            "type": "heatmapgl"
           }
          ],
          "histogram": [
           {
            "marker": {
             "pattern": {
              "fillmode": "overlay",
              "size": 10,
              "solidity": 0.2
             }
            },
            "type": "histogram"
           }
          ],
          "histogram2d": [
           {
            "colorbar": {
             "outlinewidth": 0,
             "ticks": ""
            },
            "colorscale": [
             [
              0,
              "#0d0887"
             ],
             [
              0.1111111111111111,
              "#46039f"
             ],
             [
              0.2222222222222222,
              "#7201a8"
             ],
             [
              0.3333333333333333,
              "#9c179e"
             ],
             [
              0.4444444444444444,
              "#bd3786"
             ],
             [
              0.5555555555555556,
              "#d8576b"
             ],
             [
              0.6666666666666666,
              "#ed7953"
             ],
             [
              0.7777777777777778,
              "#fb9f3a"
             ],
             [
              0.8888888888888888,
              "#fdca26"
             ],
             [
              1,
              "#f0f921"
             ]
            ],
            "type": "histogram2d"
           }
          ],
          "histogram2dcontour": [
           {
            "colorbar": {
             "outlinewidth": 0,
             "ticks": ""
            },
            "colorscale": [
             [
              0,
              "#0d0887"
             ],
             [
              0.1111111111111111,
              "#46039f"
             ],
             [
              0.2222222222222222,
              "#7201a8"
             ],
             [
              0.3333333333333333,
              "#9c179e"
             ],
             [
              0.4444444444444444,
              "#bd3786"
             ],
             [
              0.5555555555555556,
              "#d8576b"
             ],
             [
              0.6666666666666666,
              "#ed7953"
             ],
             [
              0.7777777777777778,
              "#fb9f3a"
             ],
             [
              0.8888888888888888,
              "#fdca26"
             ],
             [
              1,
              "#f0f921"
             ]
            ],
            "type": "histogram2dcontour"
           }
          ],
          "mesh3d": [
           {
            "colorbar": {
             "outlinewidth": 0,
             "ticks": ""
            },
            "type": "mesh3d"
           }
          ],
          "parcoords": [
           {
            "line": {
             "colorbar": {
              "outlinewidth": 0,
              "ticks": ""
             }
            },
            "type": "parcoords"
           }
          ],
          "pie": [
           {
            "automargin": true,
            "type": "pie"
           }
          ],
          "scatter": [
           {
            "fillpattern": {
             "fillmode": "overlay",
             "size": 10,
             "solidity": 0.2
            },
            "type": "scatter"
           }
          ],
          "scatter3d": [
           {
            "line": {
             "colorbar": {
              "outlinewidth": 0,
              "ticks": ""
             }
            },
            "marker": {
             "colorbar": {
              "outlinewidth": 0,
              "ticks": ""
             }
            },
            "type": "scatter3d"
           }
          ],
          "scattercarpet": [
           {
            "marker": {
             "colorbar": {
              "outlinewidth": 0,
              "ticks": ""
             }
            },
            "type": "scattercarpet"
           }
          ],
          "scattergeo": [
           {
            "marker": {
             "colorbar": {
              "outlinewidth": 0,
              "ticks": ""
             }
            },
            "type": "scattergeo"
           }
          ],
          "scattergl": [
           {
            "marker": {
             "colorbar": {
              "outlinewidth": 0,
              "ticks": ""
             }
            },
            "type": "scattergl"
           }
          ],
          "scattermapbox": [
           {
            "marker": {
             "colorbar": {
              "outlinewidth": 0,
              "ticks": ""
             }
            },
            "type": "scattermapbox"
           }
          ],
          "scatterpolar": [
           {
            "marker": {
             "colorbar": {
              "outlinewidth": 0,
              "ticks": ""
             }
            },
            "type": "scatterpolar"
           }
          ],
          "scatterpolargl": [
           {
            "marker": {
             "colorbar": {
              "outlinewidth": 0,
              "ticks": ""
             }
            },
            "type": "scatterpolargl"
           }
          ],
          "scatterternary": [
           {
            "marker": {
             "colorbar": {
              "outlinewidth": 0,
              "ticks": ""
             }
            },
            "type": "scatterternary"
           }
          ],
          "surface": [
           {
            "colorbar": {
             "outlinewidth": 0,
             "ticks": ""
            },
            "colorscale": [
             [
              0,
              "#0d0887"
             ],
             [
              0.1111111111111111,
              "#46039f"
             ],
             [
              0.2222222222222222,
              "#7201a8"
             ],
             [
              0.3333333333333333,
              "#9c179e"
             ],
             [
              0.4444444444444444,
              "#bd3786"
             ],
             [
              0.5555555555555556,
              "#d8576b"
             ],
             [
              0.6666666666666666,
              "#ed7953"
             ],
             [
              0.7777777777777778,
              "#fb9f3a"
             ],
             [
              0.8888888888888888,
              "#fdca26"
             ],
             [
              1,
              "#f0f921"
             ]
            ],
            "type": "surface"
           }
          ],
          "table": [
           {
            "cells": {
             "fill": {
              "color": "#EBF0F8"
             },
             "line": {
              "color": "white"
             }
            },
            "header": {
             "fill": {
              "color": "#C8D4E3"
             },
             "line": {
              "color": "white"
             }
            },
            "type": "table"
           }
          ]
         },
         "layout": {
          "annotationdefaults": {
           "arrowcolor": "#2a3f5f",
           "arrowhead": 0,
           "arrowwidth": 1
          },
          "autotypenumbers": "strict",
          "coloraxis": {
           "colorbar": {
            "outlinewidth": 0,
            "ticks": ""
           }
          },
          "colorscale": {
           "diverging": [
            [
             0,
             "#8e0152"
            ],
            [
             0.1,
             "#c51b7d"
            ],
            [
             0.2,
             "#de77ae"
            ],
            [
             0.3,
             "#f1b6da"
            ],
            [
             0.4,
             "#fde0ef"
            ],
            [
             0.5,
             "#f7f7f7"
            ],
            [
             0.6,
             "#e6f5d0"
            ],
            [
             0.7,
             "#b8e186"
            ],
            [
             0.8,
             "#7fbc41"
            ],
            [
             0.9,
             "#4d9221"
            ],
            [
             1,
             "#276419"
            ]
           ],
           "sequential": [
            [
             0,
             "#0d0887"
            ],
            [
             0.1111111111111111,
             "#46039f"
            ],
            [
             0.2222222222222222,
             "#7201a8"
            ],
            [
             0.3333333333333333,
             "#9c179e"
            ],
            [
             0.4444444444444444,
             "#bd3786"
            ],
            [
             0.5555555555555556,
             "#d8576b"
            ],
            [
             0.6666666666666666,
             "#ed7953"
            ],
            [
             0.7777777777777778,
             "#fb9f3a"
            ],
            [
             0.8888888888888888,
             "#fdca26"
            ],
            [
             1,
             "#f0f921"
            ]
           ],
           "sequentialminus": [
            [
             0,
             "#0d0887"
            ],
            [
             0.1111111111111111,
             "#46039f"
            ],
            [
             0.2222222222222222,
             "#7201a8"
            ],
            [
             0.3333333333333333,
             "#9c179e"
            ],
            [
             0.4444444444444444,
             "#bd3786"
            ],
            [
             0.5555555555555556,
             "#d8576b"
            ],
            [
             0.6666666666666666,
             "#ed7953"
            ],
            [
             0.7777777777777778,
             "#fb9f3a"
            ],
            [
             0.8888888888888888,
             "#fdca26"
            ],
            [
             1,
             "#f0f921"
            ]
           ]
          },
          "colorway": [
           "#636efa",
           "#EF553B",
           "#00cc96",
           "#ab63fa",
           "#FFA15A",
           "#19d3f3",
           "#FF6692",
           "#B6E880",
           "#FF97FF",
           "#FECB52"
          ],
          "font": {
           "color": "#2a3f5f"
          },
          "geo": {
           "bgcolor": "white",
           "lakecolor": "white",
           "landcolor": "#E5ECF6",
           "showlakes": true,
           "showland": true,
           "subunitcolor": "white"
          },
          "hoverlabel": {
           "align": "left"
          },
          "hovermode": "closest",
          "mapbox": {
           "style": "light"
          },
          "paper_bgcolor": "white",
          "plot_bgcolor": "#E5ECF6",
          "polar": {
           "angularaxis": {
            "gridcolor": "white",
            "linecolor": "white",
            "ticks": ""
           },
           "bgcolor": "#E5ECF6",
           "radialaxis": {
            "gridcolor": "white",
            "linecolor": "white",
            "ticks": ""
           }
          },
          "scene": {
           "xaxis": {
            "backgroundcolor": "#E5ECF6",
            "gridcolor": "white",
            "gridwidth": 2,
            "linecolor": "white",
            "showbackground": true,
            "ticks": "",
            "zerolinecolor": "white"
           },
           "yaxis": {
            "backgroundcolor": "#E5ECF6",
            "gridcolor": "white",
            "gridwidth": 2,
            "linecolor": "white",
            "showbackground": true,
            "ticks": "",
            "zerolinecolor": "white"
           },
           "zaxis": {
            "backgroundcolor": "#E5ECF6",
            "gridcolor": "white",
            "gridwidth": 2,
            "linecolor": "white",
            "showbackground": true,
            "ticks": "",
            "zerolinecolor": "white"
           }
          },
          "shapedefaults": {
           "line": {
            "color": "#2a3f5f"
           }
          },
          "ternary": {
           "aaxis": {
            "gridcolor": "white",
            "linecolor": "white",
            "ticks": ""
           },
           "baxis": {
            "gridcolor": "white",
            "linecolor": "white",
            "ticks": ""
           },
           "bgcolor": "#E5ECF6",
           "caxis": {
            "gridcolor": "white",
            "linecolor": "white",
            "ticks": ""
           }
          },
          "title": {
           "x": 0.05
          },
          "xaxis": {
           "automargin": true,
           "gridcolor": "white",
           "linecolor": "white",
           "ticks": "",
           "title": {
            "standoff": 15
           },
           "zerolinecolor": "white",
           "zerolinewidth": 2
          },
          "yaxis": {
           "automargin": true,
           "gridcolor": "white",
           "linecolor": "white",
           "ticks": "",
           "title": {
            "standoff": 15
           },
           "zerolinecolor": "white",
           "zerolinewidth": 2
          }
         }
        },
        "title": {
         "text": "Chhattisgarh"
        },
        "updatemenus": [
         {
          "buttons": [
           {
            "args": [
             {
              "visible": [
               true,
               true,
               true,
               true,
               true,
               true,
               true,
               true,
               true,
               true,
               true,
               true,
               true,
               true,
               true,
               true,
               true,
               true,
               true,
               true,
               true,
               true,
               true,
               true,
               true,
               true,
               true,
               true
              ]
             },
             {
              "title": "All Districts"
             }
            ],
            "label": "All",
            "method": "update"
           },
           {
            "args": [
             {
              "visible": [
               false,
               false,
               false,
               false,
               false,
               false,
               false,
               false,
               false,
               false,
               false,
               false,
               false,
               false,
               false,
               false,
               false,
               false,
               false,
               false,
               false,
               false,
               false,
               false,
               false,
               false,
               false,
               false
              ]
             },
             {
              "title": "No District"
             }
            ],
            "label": "None",
            "method": "update"
           }
          ],
          "direction": "left",
          "pad": {
           "r": 10,
           "t": 10
          },
          "showactive": true,
          "type": "buttons",
          "x": 0.05,
          "xanchor": "left",
          "y": 1.15,
          "yanchor": "top"
         }
        ],
        "xaxis": {
         "gridcolor": "lightgray",
         "gridwidth": 1,
         "showgrid": true,
         "tickmode": "array",
         "ticktext": [
          2009,
          2010,
          2011,
          2012,
          2013,
          2014,
          2015,
          2016,
          2017,
          2018,
          2019,
          2020,
          2021,
          2022,
          2023
         ],
         "tickvals": [
          2009,
          2010,
          2011,
          2012,
          2013,
          2014,
          2015,
          2016,
          2017,
          2018,
          2019,
          2020,
          2021,
          2022,
          2023
         ],
         "title": {
          "text": "Year"
         }
        },
        "yaxis": {
         "gridcolor": "lightgray",
         "gridwidth": 1,
         "showgrid": true,
         "title": {
          "text": "Average Rainfall in mm"
         }
        }
       }
      }
     },
     "metadata": {},
     "output_type": "display_data"
    },
    {
     "name": "stdout",
     "output_type": "stream",
     "text": [
      "Uttar Pradesh\n",
      "['Agra', 'Aligarh', 'Ambedkar Nagar', 'Amethi', 'Amroha', 'Auraiya', 'Ayodhya', 'Azamgarh', 'Baghpat', 'Bahraich', 'Ballia', 'Balrampur', 'Banda', 'Barabanki', 'Bareilly', 'Basti', 'Bhadohi', 'Bijnor', 'Budaun', 'Bulandshahr', 'Chandauli', 'Chitrakoot', 'Deoria', 'Etah', 'Etawah', 'Farrukhabad', 'Fatehpur', 'Firozabad', 'Gautam Buddha Nagar', 'Ghaziabad', 'Ghazipur', 'Gonda', 'Gorakhpur', 'Hamirpur', 'Hapur', 'Hardoi', 'Hathras', 'Jalaun', 'Jaunpur', 'Jhansi', 'Kannauj', 'Kanpur Dehat', 'Kanpur Nagar', 'Kasganj', 'Kaushambi', 'Kheri', 'Kushi Nagar', 'Lalitpur', 'Lucknow', 'Maharajganj', 'Mahoba', 'Mainpuri', 'Mathura', 'Mau', 'Meerut', 'Mirzapur', 'Moradabad', 'Muzaffarnagar', 'Pilibhit', 'Pratapgarh', 'Prayagraj', 'Rae Bareli', 'Rampur', 'Saharanpur', 'Sambhal', 'Sant Kabeer Nagar', 'Shahjahanpur', 'Shamli', 'Shravasti', 'Siddharth Nagar', 'Sitapur', 'Sonbhadra', 'Sultanpur', 'Unnao', 'Varanasi']\n"
     ]
    },
    {
     "data": {
      "application/vnd.plotly.v1+json": {
       "config": {
        "plotlyServerURL": "https://plot.ly"
       },
       "data": [
        {
         "mode": "lines+markers",
         "name": "Agra",
         "type": "scatter",
         "visible": "legendonly",
         "x": [
          2009,
          2010,
          2011,
          2012,
          2013,
          2014,
          2015,
          2016,
          2017,
          2018,
          2019,
          2020,
          2021,
          2022,
          2023
         ],
         "y": [
          331.79775960399996,
          773.879947606,
          704.3706786426,
          675.8436178091999,
          871.1677202712,
          402.115555052,
          516.1641281527,
          672.0523740822,
          430.8246166636,
          855.334783665,
          659.561720539,
          539.348497093,
          644.399906336,
          756.7105457931,
          598.3394397584
         ]
        },
        {
         "mode": "lines+markers",
         "name": "Aligarh",
         "type": "scatter",
         "visible": "legendonly",
         "x": [
          2009,
          2010,
          2011,
          2012,
          2013,
          2014,
          2015,
          2016,
          2017,
          2018,
          2019,
          2020,
          2021,
          2022,
          2023
         ],
         "y": [
          386.256616327,
          1079.1858789277,
          872.7084914274,
          657.8542428748,
          697.4164026333,
          417.8724765781,
          584.676525313,
          705.2489625951999,
          592.4647428811,
          768.429741111,
          508.391427132,
          518.979840288,
          836.165873971,
          820.9610865248,
          659.8977308737
         ]
        },
        {
         "mode": "lines+markers",
         "name": "Ambedkar Nagar",
         "type": "scatter",
         "visible": "legendonly",
         "x": [
          2009,
          2010,
          2011,
          2012,
          2013,
          2014,
          2015,
          2016,
          2017,
          2018,
          2019,
          2020,
          2021,
          2022,
          2023
         ],
         "y": [
          549.038479672,
          995.0141777814,
          1150.2505671915,
          1105.2287423646,
          1269.4477025973,
          724.3799277445,
          535.9808390285,
          877.8329427291,
          785.5302789801,
          639.367379614,
          971.1718434430001,
          1027.8912797790001,
          1110.841738252,
          737.746286005,
          528.263597189
         ]
        },
        {
         "mode": "lines+markers",
         "name": "Amethi",
         "type": "scatter",
         "visible": "legendonly",
         "x": [
          2009,
          2010,
          2011,
          2012,
          2013,
          2014,
          2015,
          2016,
          2017,
          2018,
          2019,
          2020,
          2021,
          2022,
          2023
         ],
         "y": [
          692.291547593,
          979.7763136216,
          1045.6908798175,
          956.3564913466,
          1167.1666144849,
          594.6141856588,
          540.0018440223,
          760.2263062702,
          500.8567502854,
          823.977862149,
          783.888438592,
          860.919259082,
          914.88144802,
          631.6937178962,
          562.3430989889999
         ]
        },
        {
         "mode": "lines+markers",
         "name": "Amroha",
         "type": "scatter",
         "visible": "legendonly",
         "x": [
          2009,
          2010,
          2011,
          2012,
          2013,
          2014,
          2015,
          2016,
          2017,
          2018,
          2019,
          2020,
          2021,
          2022,
          2023
         ],
         "y": [
          659.608919747,
          1838.2822488433,
          1100.7924443662,
          624.3069508267,
          836.9207880708,
          596.2064923589,
          760.619702044,
          844.3841251484,
          776.0965961917,
          863.832292057,
          696.0182919709999,
          635.999727454,
          934.721892917,
          808.8641909462,
          921.0323056039
         ]
        },
        {
         "mode": "lines+markers",
         "name": "Auraiya",
         "type": "scatter",
         "visible": "legendonly",
         "x": [
          2009,
          2010,
          2011,
          2012,
          2013,
          2014,
          2015,
          2016,
          2017,
          2018,
          2019,
          2020,
          2021,
          2022,
          2023
         ],
         "y": [
          442.994136283,
          748.4429918396,
          557.3261249791,
          448.7367340308,
          755.8965318525001,
          317.2531056368,
          369.8759419044,
          317.4246423583,
          288.8550820778,
          604.48323943,
          409.901157133,
          710.915424704,
          418.78819562,
          681.9530345062,
          656.7409256008
         ]
        },
        {
         "mode": "lines+markers",
         "name": "Ayodhya",
         "type": "scatter",
         "visible": "legendonly",
         "x": [
          2009,
          2010,
          2011,
          2012,
          2013,
          2014,
          2015,
          2016,
          2017,
          2018,
          2019,
          2020,
          2021,
          2022,
          2023
         ],
         "y": [
          807.768329121,
          1012.1856789027,
          966.230869625,
          987.8701373586,
          1060.0134035204,
          652.8434215022,
          512.7651770873,
          829.3239116464,
          651.1024678069,
          738.26688596,
          1067.938445325,
          1152.704384867,
          1182.080009941,
          913.1900451070001,
          716.1428781863
         ]
        },
        {
         "mode": "lines+markers",
         "name": "Azamgarh",
         "type": "scatter",
         "visible": "legendonly",
         "x": [
          2009,
          2010,
          2011,
          2012,
          2013,
          2014,
          2015,
          2016,
          2017,
          2018,
          2019,
          2020,
          2021,
          2022,
          2023
         ],
         "y": [
          500.841995079,
          775.7217710519,
          1095.9463241407,
          897.9565275112,
          791.3722282768,
          592.3058939948,
          616.9256807331,
          978.4675740054,
          731.7353500876,
          598.818634252,
          910.945572304,
          787.625818161,
          1137.38754351,
          804.1941738672,
          548.1454180197
         ]
        },
        {
         "mode": "lines+markers",
         "name": "Baghpat",
         "type": "scatter",
         "visible": "legendonly",
         "x": [
          2009,
          2010,
          2011,
          2012,
          2013,
          2014,
          2015,
          2016,
          2017,
          2018,
          2019,
          2020,
          2021,
          2022,
          2023
         ],
         "y": [
          345.507689813,
          904.5659448271,
          677.6151497204,
          536.0563490222,
          816.5029270583,
          417.4697801636,
          614.4249073032,
          498.68349601709997,
          512.2572539371,
          769.4215858169999,
          532.662158135,
          635.982716903,
          936.5916469499999,
          589.5866117433,
          595.6070695203
         ]
        },
        {
         "mode": "lines+markers",
         "name": "Bahraich",
         "type": "scatter",
         "visible": "legendonly",
         "x": [
          2009,
          2010,
          2011,
          2012,
          2013,
          2014,
          2015,
          2016,
          2017,
          2018,
          2019,
          2020,
          2021,
          2022,
          2023
         ],
         "y": [
          1322.319676685,
          1304.5335206652,
          1014.3952610845,
          1013.4258983617,
          1242.508145576,
          1206.8696489146,
          795.9042602644,
          1212.6911107271999,
          984.4829716884,
          1236.671098725,
          1313.071006279,
          1096.367892481,
          1618.894320094,
          1208.0506318361,
          870.5732641618999
         ]
        },
        {
         "mode": "lines+markers",
         "name": "Ballia",
         "type": "scatter",
         "visible": "legendonly",
         "x": [
          2009,
          2010,
          2011,
          2012,
          2013,
          2014,
          2015,
          2016,
          2017,
          2018,
          2019,
          2020,
          2021,
          2022,
          2023
         ],
         "y": [
          546.881963718,
          640.3675100611,
          1056.3555061314,
          751.0401889063,
          801.6931913818,
          712.9545333963,
          573.2850974192,
          881.4142478744,
          717.9931864164,
          572.64628167,
          1207.64004643,
          890.349840093,
          1349.66476334,
          717.8212796486,
          649.6440564943
         ]
        },
        {
         "mode": "lines+markers",
         "name": "Balrampur",
         "type": "scatter",
         "visible": "legendonly",
         "x": [
          2009,
          2010,
          2011,
          2012,
          2013,
          2014,
          2015,
          2016,
          2017,
          2018,
          2019,
          2020,
          2021,
          2022,
          2023
         ],
         "y": [
          1667.604464152,
          1715.7547847196,
          2274.8868725038,
          2297.7235907972,
          2020.7975304292,
          1675.7130680858,
          1676.6611258408,
          2168.6759047334,
          1789.6310207902,
          1724.472645146,
          2344.702055094,
          2533.975680286,
          2628.678012086,
          1801.0308300338,
          1597.282950869
         ]
        },
        {
         "mode": "lines+markers",
         "name": "Banda",
         "type": "scatter",
         "visible": "legendonly",
         "x": [
          2009,
          2010,
          2011,
          2012,
          2013,
          2014,
          2015,
          2016,
          2017,
          2018,
          2019,
          2020,
          2021,
          2022,
          2023
         ],
         "y": [
          649.835863667,
          971.0279587187999,
          971.7510299135,
          874.2682733311,
          1412.9087552402,
          633.6219070557,
          619.4583956803,
          951.8597543813,
          636.2470249039,
          827.8375840369999,
          986.8929350569999,
          988.081748559,
          1116.324515488,
          872.4479638471,
          636.6839735848
         ]
        },
        {
         "mode": "lines+markers",
         "name": "Barabanki",
         "type": "scatter",
         "visible": "legendonly",
         "x": [
          2009,
          2010,
          2011,
          2012,
          2013,
          2014,
          2015,
          2016,
          2017,
          2018,
          2019,
          2020,
          2021,
          2022,
          2023
         ],
         "y": [
          703.174260162,
          1088.9903279336,
          1050.1964006618,
          992.0706761157,
          1072.6153574839,
          875.0498314705,
          622.4228337288,
          936.9682415619,
          724.5922755105,
          1040.2931117609999,
          1303.3763643940001,
          1088.712650752,
          1333.107535641,
          936.8903190688,
          1045.6660400554001
         ]
        },
        {
         "mode": "lines+markers",
         "name": "Bareilly",
         "type": "scatter",
         "visible": "legendonly",
         "x": [
          2009,
          2010,
          2011,
          2012,
          2013,
          2014,
          2015,
          2016,
          2017,
          2018,
          2019,
          2020,
          2021,
          2022,
          2023
         ],
         "y": [
          864.839465433,
          1712.0058104531001,
          1398.5882138585,
          866.0329500001001,
          1075.56763974,
          527.9134481952,
          679.6758231148,
          979.9469395178,
          855.1698315144,
          1132.228077616,
          854.722737903,
          914.006911093,
          1080.387066289,
          881.8211229513,
          1063.6883059819
         ]
        },
        {
         "mode": "lines+markers",
         "name": "Basti",
         "type": "scatter",
         "visible": "legendonly",
         "x": [
          2009,
          2010,
          2011,
          2012,
          2013,
          2014,
          2015,
          2016,
          2017,
          2018,
          2019,
          2020,
          2021,
          2022,
          2023
         ],
         "y": [
          915.318673099,
          1122.1309454224,
          1029.5770865412,
          1148.6947875581,
          1344.1749992515,
          903.2217456591,
          676.7590337839,
          994.2251977031,
          1017.7560556376,
          694.292067792,
          1195.414684094,
          1262.674251934,
          1466.434176575,
          944.5619276117,
          668.6481724556
         ]
        },
        {
         "mode": "lines+markers",
         "name": "Bhadohi",
         "type": "scatter",
         "visible": "legendonly",
         "x": [
          2009,
          2010,
          2011,
          2012,
          2013,
          2014,
          2015,
          2016,
          2017,
          2018,
          2019,
          2020,
          2021,
          2022,
          2023
         ],
         "y": [
          303.653514542,
          873.0399706649999,
          1097.6382850539,
          831.5140792413999,
          959.4888199409,
          787.7706983241,
          752.0184570509,
          1126.888209927,
          616.9516773032,
          992.326461938,
          1308.699861594,
          1226.927065487,
          955.8891436,
          689.4407874067,
          645.313074022
         ]
        },
        {
         "mode": "lines+markers",
         "name": "Bijnor",
         "type": "scatter",
         "visible": "legendonly",
         "x": [
          2009,
          2010,
          2011,
          2012,
          2013,
          2014,
          2015,
          2016,
          2017,
          2018,
          2019,
          2020,
          2021,
          2022,
          2023
         ],
         "y": [
          799.0784170019999,
          2631.3784768464,
          1071.3783156224001,
          527.1624949499,
          1106.750087433,
          913.0905393831,
          913.1092685680001,
          859.6946670619,
          926.2359994657,
          905.885994533,
          938.869716227,
          867.658204812,
          1203.424072718,
          1002.3458824119,
          1326.9397971138
         ]
        },
        {
         "mode": "lines+markers",
         "name": "Budaun",
         "type": "scatter",
         "visible": "legendonly",
         "x": [
          2009,
          2010,
          2011,
          2012,
          2013,
          2014,
          2015,
          2016,
          2017,
          2018,
          2019,
          2020,
          2021,
          2022,
          2023
         ],
         "y": [
          775.030361427,
          1387.0388775518,
          995.968712931,
          763.2923042395,
          773.4084975983,
          412.7250691832,
          604.552068562,
          672.5497707111,
          581.6449191304,
          739.317301441,
          570.231510639,
          640.255320468,
          645.431045156,
          789.8069627326,
          885.7406631494
         ]
        },
        {
         "mode": "lines+markers",
         "name": "Bulandshahr",
         "type": "scatter",
         "visible": "legendonly",
         "x": [
          2009,
          2010,
          2011,
          2012,
          2013,
          2014,
          2015,
          2016,
          2017,
          2018,
          2019,
          2020,
          2021,
          2022,
          2023
         ],
         "y": [
          551.053559612,
          1295.7578097418,
          836.0554314107,
          612.7771934344,
          501.7810528245,
          367.3971829454,
          641.9850454558,
          702.0433308885,
          604.3045505789,
          575.648987461,
          445.13442790199997,
          439.239617545,
          702.32217811,
          668.8094481643,
          652.9575248306
         ]
        },
        {
         "mode": "lines+markers",
         "name": "Chandauli",
         "type": "scatter",
         "visible": "legendonly",
         "x": [
          2009,
          2010,
          2011,
          2012,
          2013,
          2014,
          2015,
          2016,
          2017,
          2018,
          2019,
          2020,
          2021,
          2022,
          2023
         ],
         "y": [
          629.862355951,
          783.0800485624,
          1017.8574414627,
          991.8871556331,
          968.1648598605,
          731.7092352335,
          773.2733311526,
          1104.0638388218,
          737.5457712915,
          826.183891919,
          1097.361250864,
          881.182184627,
          1097.270818309,
          696.5337247722,
          526.1832960805
         ]
        },
        {
         "mode": "lines+markers",
         "name": "Chitrakoot",
         "type": "scatter",
         "visible": "legendonly",
         "x": [
          2009,
          2010,
          2011,
          2012,
          2013,
          2014,
          2015,
          2016,
          2017,
          2018,
          2019,
          2020,
          2021,
          2022,
          2023
         ],
         "y": [
          495.268820412,
          735.1783304664,
          1129.5001939004,
          1173.5555476692,
          1506.5991838435,
          766.4521457175,
          644.3576262726,
          726.409781407,
          759.8472799244,
          693.259764962,
          965.925197323,
          868.531481393,
          1193.510615105,
          1149.5961171389,
          535.8526817337
         ]
        },
        {
         "mode": "lines+markers",
         "name": "Deoria",
         "type": "scatter",
         "visible": "legendonly",
         "x": [
          2009,
          2010,
          2011,
          2012,
          2013,
          2014,
          2015,
          2016,
          2017,
          2018,
          2019,
          2020,
          2021,
          2022,
          2023
         ],
         "y": [
          679.3164292499999,
          992.9918553493,
          1023.6909397298,
          918.1274926487,
          843.3470002087,
          684.8830859493,
          677.7771839027,
          689.5247156083,
          724.6281952611,
          650.530716667,
          1223.879198379,
          1081.983822101,
          1470.84083845,
          1018.2770548715,
          523.0741824250999
         ]
        },
        {
         "mode": "lines+markers",
         "name": "Etah",
         "type": "scatter",
         "visible": "legendonly",
         "x": [
          2009,
          2010,
          2011,
          2012,
          2013,
          2014,
          2015,
          2016,
          2017,
          2018,
          2019,
          2020,
          2021,
          2022,
          2023
         ],
         "y": [
          445.655620887,
          907.2336765542,
          745.0045430018,
          541.9039914138,
          641.341671536,
          335.5649255603,
          393.8093732078,
          511.3882169338,
          548.7766896623,
          887.632494886,
          609.299585604,
          516.877594547,
          741.862691988,
          924.7852315481,
          916.0423552702
         ]
        },
        {
         "mode": "lines+markers",
         "name": "Etawah",
         "type": "scatter",
         "visible": "legendonly",
         "x": [
          2009,
          2010,
          2011,
          2012,
          2013,
          2014,
          2015,
          2016,
          2017,
          2018,
          2019,
          2020,
          2021,
          2022,
          2023
         ],
         "y": [
          339.26590748,
          587.7388519857,
          733.4052893883,
          347.2331329444,
          717.8972071254,
          270.8273439707,
          381.0238253982,
          432.9026646213,
          416.8948364716,
          707.831047143,
          470.739519106,
          695.208767272,
          504.188419682,
          701.1466671146,
          647.5686679449
         ]
        },
        {
         "mode": "lines+markers",
         "name": "Farrukhabad",
         "type": "scatter",
         "visible": "legendonly",
         "x": [
          2009,
          2010,
          2011,
          2012,
          2013,
          2014,
          2015,
          2016,
          2017,
          2018,
          2019,
          2020,
          2021,
          2022,
          2023
         ],
         "y": [
          554.114602001,
          1193.9203228909,
          732.2587357848,
          532.9670164254,
          698.0706569609,
          298.0503842297,
          466.1449466077,
          356.7847534128,
          631.7962765633999,
          709.436958229,
          549.446111011,
          612.428631528,
          520.157949999,
          461.0000546139,
          614.5647865081
         ]
        },
        {
         "mode": "lines+markers",
         "name": "Fatehpur",
         "type": "scatter",
         "visible": "legendonly",
         "x": [
          2009,
          2010,
          2011,
          2012,
          2013,
          2014,
          2015,
          2016,
          2017,
          2018,
          2019,
          2020,
          2021,
          2022,
          2023
         ],
         "y": [
          560.814934311,
          874.8334895840001,
          984.5695309352,
          1054.4961067414,
          911.8108647966001,
          438.1884088522,
          268.8205805526,
          576.0741546071,
          589.7521049447,
          824.808395896,
          885.734330602,
          831.085598969,
          1057.642196061,
          866.1676123149,
          502.6582864952
         ]
        },
        {
         "mode": "lines+markers",
         "name": "Firozabad",
         "type": "scatter",
         "visible": "legendonly",
         "x": [
          2009,
          2010,
          2011,
          2012,
          2013,
          2014,
          2015,
          2016,
          2017,
          2018,
          2019,
          2020,
          2021,
          2022,
          2023
         ],
         "y": [
          402.61628692,
          629.6601004351,
          758.8278117909,
          540.0966810538,
          840.2495996094,
          368.1251459239,
          505.0972633609,
          562.6918301851,
          654.8269819594,
          901.720592618,
          533.39965087,
          575.742594777,
          685.783574898,
          826.757718776,
          870.0106484869
         ]
        },
        {
         "mode": "lines+markers",
         "name": "Gautam Buddha Nagar",
         "type": "scatter",
         "visible": "legendonly",
         "x": [
          2009,
          2010,
          2011,
          2012,
          2013,
          2014,
          2015,
          2016,
          2017,
          2018,
          2019,
          2020,
          2021,
          2022,
          2023
         ],
         "y": [
          315.533533868,
          863.4670297171,
          728.4356879799,
          521.4824794327,
          354.6669898831,
          244.8324207671,
          355.4880828773,
          437.2881998496,
          504.9671324868,
          431.929660593,
          382.87611033,
          422.35976564,
          510.945905243,
          362.5513762176,
          412.0778761232
         ]
        },
        {
         "mode": "lines+markers",
         "name": "Ghaziabad",
         "type": "scatter",
         "visible": "legendonly",
         "x": [
          2009,
          2010,
          2011,
          2012,
          2013,
          2014,
          2015,
          2016,
          2017,
          2018,
          2019,
          2020,
          2021,
          2022,
          2023
         ],
         "y": [
          345.218278128,
          1112.1601767509999,
          694.3265045872,
          538.8482167279,
          675.3155900087,
          357.9250173953,
          596.1411204428,
          422.8465913139,
          538.2839772324,
          586.45588318,
          468.103235356,
          569.159013774,
          735.110739462,
          580.9032354704,
          644.5423436389
         ]
        },
        {
         "mode": "lines+markers",
         "name": "Ghazipur",
         "type": "scatter",
         "visible": "legendonly",
         "x": [
          2009,
          2010,
          2011,
          2012,
          2013,
          2014,
          2015,
          2016,
          2017,
          2018,
          2019,
          2020,
          2021,
          2022,
          2023
         ],
         "y": [
          623.554227086,
          814.8136386868,
          1151.8756129143,
          618.5818436867,
          872.747693899,
          669.9107043689,
          807.2821888799,
          950.4691200247,
          736.9676908322,
          767.264110352,
          1096.583516336,
          786.03336281,
          1111.029277023,
          623.4948623991,
          617.6881317925
         ]
        },
        {
         "mode": "lines+markers",
         "name": "Gonda",
         "type": "scatter",
         "visible": "legendonly",
         "x": [
          2009,
          2010,
          2011,
          2012,
          2013,
          2014,
          2015,
          2016,
          2017,
          2018,
          2019,
          2020,
          2021,
          2022,
          2023
         ],
         "y": [
          939.878082083,
          1280.0538508344,
          849.1143165357,
          1037.7257154174,
          1181.4297602531,
          776.2426455843,
          622.8445404983,
          842.9883873716,
          729.1503736657,
          777.139044523,
          1085.26209533,
          1292.777098581,
          1540.749477027,
          999.6869821758,
          778.2387795927
         ]
        },
        {
         "mode": "lines+markers",
         "name": "Gorakhpur",
         "type": "scatter",
         "visible": "legendonly",
         "x": [
          2009,
          2010,
          2011,
          2012,
          2013,
          2014,
          2015,
          2016,
          2017,
          2018,
          2019,
          2020,
          2021,
          2022,
          2023
         ],
         "y": [
          518.002408628,
          1173.2869736658,
          1172.0881642063,
          1139.1650249579,
          1030.9197184412,
          852.4479989378,
          539.4786310587,
          775.5268104255,
          787.1963409174,
          578.786500541,
          987.793456831,
          1059.533549604,
          1472.214228157,
          1067.6801313865,
          715.3359690843
         ]
        },
        {
         "mode": "lines+markers",
         "name": "Hamirpur",
         "type": "scatter",
         "visible": "legendonly",
         "x": [
          2009,
          2010,
          2011,
          2012,
          2013,
          2014,
          2015,
          2016,
          2017,
          2018,
          2019,
          2020,
          2021,
          2022,
          2023
         ],
         "y": [
          1571.3514033136,
          2370.8855400082,
          1422.1355218574,
          1147.1765889242,
          2421.4247179598,
          1416.2497911532,
          1488.2595775454001,
          1977.2221985046,
          1425.8910972114,
          2066.209057708,
          2230.629647498,
          1619.070188896,
          1888.02729013,
          2137.6810388012,
          2390.6082636289
         ]
        },
        {
         "mode": "lines+markers",
         "name": "Hapur",
         "type": "scatter",
         "visible": "legendonly",
         "x": [
          2009,
          2010,
          2011,
          2012,
          2013,
          2014,
          2015,
          2016,
          2017,
          2018,
          2019,
          2020,
          2021,
          2022,
          2023
         ],
         "y": [
          546.613194306,
          1485.2669356493,
          749.7697880966,
          562.6078251959,
          584.0016016816,
          400.344829297,
          655.7088972118,
          634.4035984314,
          794.3731640096,
          650.082917841,
          556.193477848,
          567.433535833,
          785.939283275,
          706.4873648153,
          695.7776816994
         ]
        },
        {
         "mode": "lines+markers",
         "name": "Hardoi",
         "type": "scatter",
         "visible": "legendonly",
         "x": [
          2009,
          2010,
          2011,
          2012,
          2013,
          2014,
          2015,
          2016,
          2017,
          2018,
          2019,
          2020,
          2021,
          2022,
          2023
         ],
         "y": [
          716.054121949,
          1174.0724980125,
          874.2131058845,
          932.2073110137,
          894.3013109556,
          536.3996476197,
          675.2591137691,
          756.2781703076,
          737.7995741208,
          874.980228821,
          799.93000819,
          786.4821586,
          785.596309712,
          721.8720978272,
          671.9120126518001
         ]
        },
        {
         "mode": "lines+markers",
         "name": "Hathras",
         "type": "scatter",
         "visible": "legendonly",
         "x": [
          2009,
          2010,
          2011,
          2012,
          2013,
          2014,
          2015,
          2016,
          2017,
          2018,
          2019,
          2020,
          2021,
          2022,
          2023
         ],
         "y": [
          261.06845039,
          910.6838267575,
          829.5800180859001,
          677.0238011461,
          840.9418091129,
          445.0973654631,
          522.9609726614,
          956.7376426229,
          520.2248359165,
          1055.8099308,
          645.044303775,
          511.378370645,
          901.144890777,
          925.8431683924,
          778.5646470861
         ]
        },
        {
         "mode": "lines+markers",
         "name": "Jalaun",
         "type": "scatter",
         "visible": "legendonly",
         "x": [
          2009,
          2010,
          2011,
          2012,
          2013,
          2014,
          2015,
          2016,
          2017,
          2018,
          2019,
          2020,
          2021,
          2022,
          2023
         ],
         "y": [
          520.621418073,
          899.8422263826,
          251.6148430033,
          213.8304168169,
          1072.161542955,
          502.1550203957,
          451.0102898193,
          635.4644562434,
          356.550006068,
          663.23348278,
          635.093254131,
          658.8267391310001,
          760.517437226,
          930.8442402425001,
          608.2210870069
         ]
        },
        {
         "mode": "lines+markers",
         "name": "Jaunpur",
         "type": "scatter",
         "visible": "legendonly",
         "x": [
          2009,
          2010,
          2011,
          2012,
          2013,
          2014,
          2015,
          2016,
          2017,
          2018,
          2019,
          2020,
          2021,
          2022,
          2023
         ],
         "y": [
          550.282436833,
          903.1685002646,
          1065.4750990302,
          847.8388356276,
          894.3745481913,
          678.855017555,
          764.7385730393,
          1008.8809224691,
          745.9334077139,
          730.398257555,
          1019.327343863,
          842.3356604210001,
          777.480043175,
          709.4894961067,
          571.6060767566
         ]
        },
        {
         "mode": "lines+markers",
         "name": "Jhansi",
         "type": "scatter",
         "visible": "legendonly",
         "x": [
          2009,
          2010,
          2011,
          2012,
          2013,
          2014,
          2015,
          2016,
          2017,
          2018,
          2019,
          2020,
          2021,
          2022,
          2023
         ],
         "y": [
          713.088111377,
          949.8012302489,
          701.2305001267,
          582.8365346627,
          1293.1986077212,
          579.0624301708,
          568.9304063272,
          648.9564653528,
          438.5530083789,
          789.360499961,
          677.144557706,
          569.025627362,
          721.302255258,
          873.266342644,
          665.3046677475
         ]
        },
        {
         "mode": "lines+markers",
         "name": "Kannauj",
         "type": "scatter",
         "visible": "legendonly",
         "x": [
          2009,
          2010,
          2011,
          2012,
          2013,
          2014,
          2015,
          2016,
          2017,
          2018,
          2019,
          2020,
          2021,
          2022,
          2023
         ],
         "y": [
          576.083013245,
          877.170547088,
          798.8327419234,
          674.2027395778,
          728.2971028324,
          317.8827240689,
          441.584469316,
          382.2006148971,
          562.5912184149,
          1057.776133046,
          744.634488985,
          711.675995525,
          626.88291018,
          580.7944192411001,
          711.7453968155
         ]
        },
        {
         "mode": "lines+markers",
         "name": "Kanpur Dehat",
         "type": "scatter",
         "visible": "legendonly",
         "x": [
          2009,
          2010,
          2011,
          2012,
          2013,
          2014,
          2015,
          2016,
          2017,
          2018,
          2019,
          2020,
          2021,
          2022,
          2023
         ],
         "y": [
          451.7820109,
          876.4573440508,
          477.156970627,
          568.500665044,
          941.1552508322,
          507.8380328364,
          456.5709760112,
          436.6670383423,
          393.1338778797,
          695.946482779,
          539.558046565,
          853.331102643,
          563.001912845,
          555.0725753293,
          551.120255339
         ]
        },
        {
         "mode": "lines+markers",
         "name": "Kanpur Nagar",
         "type": "scatter",
         "visible": "legendonly",
         "x": [
          2009,
          2010,
          2011,
          2012,
          2013,
          2014,
          2015,
          2016,
          2017,
          2018,
          2019,
          2020,
          2021,
          2022,
          2023
         ],
         "y": [
          567.960413431,
          836.5097091667,
          718.7526150819,
          725.7110353508,
          949.1442056082,
          509.4363300385,
          418.1552948872,
          591.6296196189,
          580.1764493185,
          822.040521575,
          796.586506955,
          1003.064529906,
          812.2755048729999,
          512.7550495776,
          546.6891571919
         ]
        },
        {
         "mode": "lines+markers",
         "name": "Kasganj",
         "type": "scatter",
         "visible": "legendonly",
         "x": [
          2009,
          2010,
          2011,
          2012,
          2013,
          2014,
          2015,
          2016,
          2017,
          2018,
          2019,
          2020,
          2021,
          2022,
          2023
         ],
         "y": [
          613.257293844,
          1056.8155932857,
          771.2927135848,
          607.2107716343,
          725.9840261152,
          401.3927092022,
          536.6956992563,
          586.2976838299,
          647.3061209071,
          896.254370493,
          639.824592672,
          526.4403238259999,
          591.995957003,
          808.9823886995,
          887.1682108454
         ]
        },
        {
         "mode": "lines+markers",
         "name": "Kaushambi",
         "type": "scatter",
         "visible": "legendonly",
         "x": [
          2009,
          2010,
          2011,
          2012,
          2013,
          2014,
          2015,
          2016,
          2017,
          2018,
          2019,
          2020,
          2021,
          2022,
          2023
         ],
         "y": [
          466.880271365,
          712.3027204277,
          1188.2185139548,
          1239.8189596087,
          1413.5540509573,
          801.054854576,
          572.248532406,
          844.202151773,
          798.6653609688,
          770.963086177,
          1198.94674865,
          868.974514991,
          1325.249444049,
          774.0402131484,
          501.2608188519
         ]
        },
        {
         "mode": "lines+markers",
         "name": "Kheri",
         "type": "scatter",
         "visible": "legendonly",
         "x": [
          2009,
          2010,
          2011,
          2012,
          2013,
          2014,
          2015,
          2016,
          2017,
          2018,
          2019,
          2020,
          2021,
          2022,
          2023
         ],
         "y": [
          1222.909965303,
          1629.8065262938,
          362.2692426911,
          971.6308857904,
          1269.5378922038,
          1064.8418240179,
          909.0371266884,
          1175.7116477526,
          1008.5728840431,
          1178.993930074,
          816.705291073,
          911.326974412,
          1692.565364169,
          1427.4619560253,
          816.9509057543
         ]
        },
        {
         "mode": "lines+markers",
         "name": "Kushi Nagar",
         "type": "scatter",
         "visible": "legendonly",
         "x": [
          2009,
          2010,
          2011,
          2012,
          2013,
          2014,
          2015,
          2016,
          2017,
          2018,
          2019,
          2020,
          2021,
          2022,
          2023
         ],
         "y": [
          799.809286071,
          912.8496794366,
          1112.186455965,
          1171.9099840407,
          625.4321571316,
          583.317763317,
          510.4185312268,
          636.185566664,
          756.0839683459,
          640.381281822,
          993.652133106,
          1127.163736547,
          1484.612387276,
          712.0671877016,
          478.6354629568
         ]
        },
        {
         "mode": "lines+markers",
         "name": "Lalitpur",
         "type": "scatter",
         "visible": "legendonly",
         "x": [
          2009,
          2010,
          2011,
          2012,
          2013,
          2014,
          2015,
          2016,
          2017,
          2018,
          2019,
          2020,
          2021,
          2022,
          2023
         ],
         "y": [
          771.048787601,
          1150.2033622703,
          1177.7327948021,
          777.0244934224,
          1496.307573433,
          849.9460046606,
          637.5450340928,
          1036.3244555875,
          665.0372250308,
          906.194645775,
          1051.236013419,
          497.6742494,
          848.014554795,
          1069.4886688942,
          764.9006300745
         ]
        },
        {
         "mode": "lines+markers",
         "name": "Lucknow",
         "type": "scatter",
         "visible": "legendonly",
         "x": [
          2009,
          2010,
          2011,
          2012,
          2013,
          2014,
          2015,
          2016,
          2017,
          2018,
          2019,
          2020,
          2021,
          2022,
          2023
         ],
         "y": [
          1043.059567063,
          990.2660550872,
          1068.745791777,
          990.1451311937,
          836.830482945,
          679.5416163861,
          507.4107843987,
          670.1993682297,
          693.4347945352,
          970.699758911,
          1032.64734314,
          975.643726051,
          958.561326853,
          737.1877176622,
          879.2523548017
         ]
        },
        {
         "mode": "lines+markers",
         "name": "Maharajganj",
         "type": "scatter",
         "visible": "legendonly",
         "x": [
          2009,
          2010,
          2011,
          2012,
          2013,
          2014,
          2015,
          2016,
          2017,
          2018,
          2019,
          2020,
          2021,
          2022,
          2023
         ],
         "y": [
          951.100783254,
          947.6954916763,
          1084.596401513,
          1306.7342321352,
          722.7447403601,
          751.7113745648,
          523.3281992812,
          1066.6647814409,
          1310.2583483808,
          1071.444618957,
          1076.551949524,
          1214.905413704,
          1842.23913612,
          1210.3470670945,
          708.5592730919
         ]
        },
        {
         "mode": "lines+markers",
         "name": "Mahoba",
         "type": "scatter",
         "visible": "legendonly",
         "x": [
          2009,
          2010,
          2011,
          2012,
          2013,
          2014,
          2015,
          2016,
          2017,
          2018,
          2019,
          2020,
          2021,
          2022,
          2023
         ],
         "y": [
          827.68346205,
          923.7920619304,
          986.9828716718,
          716.9649477083,
          1147.7146734769,
          516.9713515297,
          527.8662518482,
          1047.9772266106,
          512.1004622491,
          772.630890053,
          854.217099937,
          729.666154232,
          694.928782574,
          860.5606380715,
          766.3933236038
         ]
        },
        {
         "mode": "lines+markers",
         "name": "Mainpuri",
         "type": "scatter",
         "visible": "legendonly",
         "x": [
          2009,
          2010,
          2011,
          2012,
          2013,
          2014,
          2015,
          2016,
          2017,
          2018,
          2019,
          2020,
          2021,
          2022,
          2023
         ],
         "y": [
          449.331945022,
          700.2379143869,
          721.9717335807001,
          440.2595261476,
          636.6203150127,
          259.955511513,
          321.8128388198,
          296.2385999649,
          538.84650593,
          813.897773637,
          459.942345602,
          595.033023158,
          621.48294215,
          655.7618184363,
          852.4030316032
         ]
        },
        {
         "mode": "lines+markers",
         "name": "Mathura",
         "type": "scatter",
         "visible": "legendonly",
         "x": [
          2009,
          2010,
          2011,
          2012,
          2013,
          2014,
          2015,
          2016,
          2017,
          2018,
          2019,
          2020,
          2021,
          2022,
          2023
         ],
         "y": [
          372.549595787,
          863.2322156616,
          806.3950663994,
          689.4726118366,
          605.6949763896,
          348.4686057035,
          417.4243420158,
          580.8803914458,
          349.6517630749,
          744.671405863,
          432.788513358,
          537.164368496,
          667.138031236,
          721.1565877706,
          454.30061361549997
         ]
        },
        {
         "mode": "lines+markers",
         "name": "Mau",
         "type": "scatter",
         "visible": "legendonly",
         "x": [
          2009,
          2010,
          2011,
          2012,
          2013,
          2014,
          2015,
          2016,
          2017,
          2018,
          2019,
          2020,
          2021,
          2022,
          2023
         ],
         "y": [
          313.506162536,
          828.1265808078,
          1010.2852053935,
          762.7529698685,
          838.3683947223,
          821.7113703417,
          705.5744411119,
          839.153247407,
          743.4584853921,
          520.020264474,
          1062.969360674,
          1087.064176059,
          1337.123720126,
          801.6803796945,
          600.7490134274
         ]
        },
        {
         "mode": "lines+markers",
         "name": "Meerut",
         "type": "scatter",
         "visible": "legendonly",
         "x": [
          2009,
          2010,
          2011,
          2012,
          2013,
          2014,
          2015,
          2016,
          2017,
          2018,
          2019,
          2020,
          2021,
          2022,
          2023
         ],
         "y": [
          347.023389275,
          1256.9150754581,
          762.4419491649,
          545.3539405168,
          997.9615838412,
          570.4934986234,
          748.8800882051,
          707.3658456561,
          801.2072232829,
          928.318806214,
          714.046985905,
          689.338582505,
          940.0477315229,
          918.8514702045,
          976.5240495704
         ]
        },
        {
         "mode": "lines+markers",
         "name": "Mirzapur",
         "type": "scatter",
         "visible": "legendonly",
         "x": [
          2009,
          2010,
          2011,
          2012,
          2013,
          2014,
          2015,
          2016,
          2017,
          2018,
          2019,
          2020,
          2021,
          2022,
          2023
         ],
         "y": [
          461.36806523399997,
          915.8982234308,
          1174.6911392453,
          924.962512464,
          886.7931956511,
          711.5735234328,
          691.0295090258,
          1197.2812133889,
          656.091264992,
          996.357420285,
          1263.689677685,
          1037.85354922,
          1116.078828341,
          759.6160826894,
          528.5379668705
         ]
        },
        {
         "mode": "lines+markers",
         "name": "Moradabad",
         "type": "scatter",
         "visible": "legendonly",
         "x": [
          2009,
          2010,
          2011,
          2012,
          2013,
          2014,
          2015,
          2016,
          2017,
          2018,
          2019,
          2020,
          2021,
          2022,
          2023
         ],
         "y": [
          594.217742015,
          1696.9756648044,
          1704.3484600462,
          850.1870208286,
          967.4972634513,
          626.1922279058,
          643.8805571237,
          786.5230809142,
          671.6991336299,
          778.710252265,
          746.635381018,
          692.113883154,
          801.590456629,
          701.8558617399,
          1120.1755296771
         ]
        },
        {
         "mode": "lines+markers",
         "name": "Muzaffarnagar",
         "type": "scatter",
         "visible": "legendonly",
         "x": [
          2009,
          2010,
          2011,
          2012,
          2013,
          2014,
          2015,
          2016,
          2017,
          2018,
          2019,
          2020,
          2021,
          2022,
          2023
         ],
         "y": [
          473.61848588,
          1648.6528813533,
          827.4694192933,
          546.8311378367,
          1137.8789644001,
          673.89694523,
          884.1552314675,
          798.6341559439,
          880.4861939994,
          1101.1002505879999,
          845.037395244,
          939.06899447,
          987.400066964,
          905.4217675343,
          1081.173168072
         ]
        },
        {
         "mode": "lines+markers",
         "name": "Pilibhit",
         "type": "scatter",
         "visible": "legendonly",
         "x": [
          2009,
          2010,
          2011,
          2012,
          2013,
          2014,
          2015,
          2016,
          2017,
          2018,
          2019,
          2020,
          2021,
          2022,
          2023
         ],
         "y": [
          1258.444608114,
          1949.7536058183,
          910.2041338771,
          967.1036451412,
          1267.4804832179,
          795.5878300424,
          969.2574308472,
          1121.995705836,
          1157.7927869909,
          1426.833802741,
          976.415399503,
          1101.237220568,
          1355.227804707,
          873.7196258694,
          921.8526096657
         ]
        },
        {
         "mode": "lines+markers",
         "name": "Pratapgarh",
         "type": "scatter",
         "visible": "legendonly",
         "x": [
          2009,
          2010,
          2011,
          2012,
          2013,
          2014,
          2015,
          2016,
          2017,
          2018,
          2019,
          2020,
          2021,
          2022,
          2023
         ],
         "y": [
          1347.295096238,
          1573.1208483768,
          2191.263433083,
          2161.6356621126,
          2225.6656615088,
          1412.3071606862,
          1404.2228549582,
          2008.4676281702,
          1839.8701515902,
          1978.64007774,
          3149.946841316,
          1158.086696195,
          2539.4857812239998,
          2022.0516120699,
          1426.7907349232
         ]
        },
        {
         "mode": "lines+markers",
         "name": "Prayagraj",
         "type": "scatter",
         "visible": "legendonly",
         "x": [
          2009,
          2010,
          2011,
          2012,
          2013,
          2014,
          2015,
          2016,
          2017,
          2018,
          2019,
          2020,
          2021,
          2022,
          2023
         ],
         "y": [
          516.801082992,
          937.0354156638,
          1256.6142459649,
          1099.719448844,
          1100.9238877582,
          754.91901902,
          655.5940815691,
          934.7876643173,
          614.5961294598,
          824.8067045619999,
          1184.753236095,
          805.113617873,
          1083.194199402,
          605.9837390322,
          509.3223263826
         ]
        },
        {
         "mode": "lines+markers",
         "name": "Rae Bareli",
         "type": "scatter",
         "visible": "legendonly",
         "x": [
          2009,
          2010,
          2011,
          2012,
          2013,
          2014,
          2015,
          2016,
          2017,
          2018,
          2019,
          2020,
          2021,
          2022,
          2023
         ],
         "y": [
          428.910818974,
          777.9173474671001,
          1086.3527631145,
          1035.5023076731,
          773.2966215947,
          382.3407454613,
          202.54438674280001,
          697.7514911498,
          522.8798459363001,
          821.382285435,
          990.9588438320001,
          792.485862858,
          839.326662981,
          554.2806940082,
          666.3066580814
         ]
        },
        {
         "mode": "lines+markers",
         "name": "Rampur",
         "type": "scatter",
         "visible": "legendonly",
         "x": [
          2009,
          2010,
          2011,
          2012,
          2013,
          2014,
          2015,
          2016,
          2017,
          2018,
          2019,
          2020,
          2021,
          2022,
          2023
         ],
         "y": [
          950.3649892992,
          1854.0089431872,
          1807.4260015414,
          909.8773043407,
          1373.3010937848,
          828.7564455609,
          920.4857561619999,
          1135.4150206719,
          1036.913606999,
          1219.589076224,
          1047.33874787,
          976.57727889,
          1149.104763196,
          820.1623914251,
          1050.3820555276
         ]
        },
        {
         "mode": "lines+markers",
         "name": "Saharanpur",
         "type": "scatter",
         "visible": "legendonly",
         "x": [
          2009,
          2010,
          2011,
          2012,
          2013,
          2014,
          2015,
          2016,
          2017,
          2018,
          2019,
          2020,
          2021,
          2022,
          2023
         ],
         "y": [
          1028.5869022377,
          2628.0604702622,
          1332.988723212,
          1148.8424773274,
          1782.2691099216,
          848.172361515,
          939.8323868234,
          894.35390586,
          1063.5204674037,
          1196.154826723,
          851.528635356,
          938.226893409,
          1125.964889026,
          917.9775520039,
          1242.6280753478
         ]
        },
        {
         "mode": "lines+markers",
         "name": "Sambhal",
         "type": "scatter",
         "visible": "legendonly",
         "x": [
          2009,
          2010,
          2011,
          2012,
          2013,
          2014,
          2015,
          2016,
          2017,
          2018,
          2019,
          2020,
          2021,
          2022,
          2023
         ],
         "y": [
          610.142687006,
          1518.6192160799,
          1282.3676499234,
          763.3429723621,
          815.2404006876,
          494.52701825089997,
          730.2121874707,
          752.1833401349,
          616.8574071225,
          768.109211412,
          624.163190303,
          589.300278141,
          792.912172003,
          790.6562506769,
          1024.2043211915
         ]
        },
        {
         "mode": "lines+markers",
         "name": "Sant Kabeer Nagar",
         "type": "scatter",
         "visible": "legendonly",
         "x": [
          2009,
          2010,
          2011,
          2012,
          2013,
          2014,
          2015,
          2016,
          2017,
          2018,
          2019,
          2020,
          2021,
          2022,
          2023
         ],
         "y": [
          819.217515555,
          1118.7822058837,
          1207.685708281,
          1173.3334147307,
          1301.5146431704,
          891.6794134003001,
          631.957318604,
          1053.4377295714,
          889.9544861139,
          735.048243938,
          1054.079226602,
          1265.667226209,
          1513.335398061,
          733.8688866067,
          597.9105132444
         ]
        },
        {
         "mode": "lines+markers",
         "name": "Shahjahanpur",
         "type": "scatter",
         "visible": "legendonly",
         "x": [
          2009,
          2010,
          2011,
          2012,
          2013,
          2014,
          2015,
          2016,
          2017,
          2018,
          2019,
          2020,
          2021,
          2022,
          2023
         ],
         "y": [
          1067.506787404,
          1492.6739615951,
          726.2058079133,
          965.9985652048,
          1119.7032508692,
          573.9054005696,
          683.9844737807999,
          734.028234984,
          644.8482374588,
          911.132161301,
          685.173783125,
          700.437039597,
          878.048723141,
          611.7922421847001,
          640.3538272758
         ]
        },
        {
         "mode": "lines+markers",
         "name": "Shamli",
         "type": "scatter",
         "visible": "legendonly",
         "x": [
          2009,
          2010,
          2011,
          2012,
          2013,
          2014,
          2015,
          2016,
          2017,
          2018,
          2019,
          2020,
          2021,
          2022,
          2023
         ],
         "y": [
          398.347395407,
          1178.2908500876,
          685.5790158073,
          527.4960231009,
          1164.8719521312,
          526.2604376311,
          714.0061236927,
          539.4763759625,
          587.2654762026,
          893.258750219,
          566.041104715,
          695.65589928,
          868.316929318,
          595.3902560422,
          573.9255988392
         ]
        },
        {
         "mode": "lines+markers",
         "name": "Shravasti",
         "type": "scatter",
         "visible": "legendonly",
         "x": [
          2009,
          2010,
          2011,
          2012,
          2013,
          2014,
          2015,
          2016,
          2017,
          2018,
          2019,
          2020,
          2021,
          2022,
          2023
         ],
         "y": [
          1214.35491706,
          1248.7325490569,
          915.0201487966,
          1024.098956738,
          1245.0448015093,
          1176.2855789395,
          733.8288868579,
          1091.3425161625,
          946.0073420091001,
          1128.242487385,
          1449.715332937,
          1229.292340731,
          1757.365345884,
          868.3085337097,
          895.1256233979
         ]
        },
        {
         "mode": "lines+markers",
         "name": "Siddharth Nagar",
         "type": "scatter",
         "visible": "legendonly",
         "x": [
          2009,
          2010,
          2011,
          2012,
          2013,
          2014,
          2015,
          2016,
          2017,
          2018,
          2019,
          2020,
          2021,
          2022,
          2023
         ],
         "y": [
          764.614297818,
          835.4236049948,
          848.4174113631,
          1197.803350443,
          881.9266958674,
          745.4412906136,
          485.2630949593,
          821.659583153,
          930.0627582947001,
          775.109782726,
          924.078642843,
          1361.289876824,
          1509.928346285,
          796.7660622815,
          703.0178312301
         ]
        },
        {
         "mode": "lines+markers",
         "name": "Sitapur",
         "type": "scatter",
         "visible": "legendonly",
         "x": [
          2009,
          2010,
          2011,
          2012,
          2013,
          2014,
          2015,
          2016,
          2017,
          2018,
          2019,
          2020,
          2021,
          2022,
          2023
         ],
         "y": [
          1026.842767051,
          1297.5595210898,
          738.8767111885,
          987.820482631,
          1164.251056616,
          965.1801720093,
          753.5549046913,
          813.9401097124,
          690.5154544192,
          823.577370043,
          720.592503198,
          738.963735629,
          1291.382654586,
          926.0088476253001,
          708.2560132467
         ]
        },
        {
         "mode": "lines+markers",
         "name": "Sonbhadra",
         "type": "scatter",
         "visible": "legendonly",
         "x": [
          2009,
          2010,
          2011,
          2012,
          2013,
          2014,
          2015,
          2016,
          2017,
          2018,
          2019,
          2020,
          2021,
          2022,
          2023
         ],
         "y": [
          577.292305787,
          675.9770177988,
          1233.5335961007,
          1049.8742331661,
          977.7601279215,
          792.3773918996,
          698.9965308787,
          1356.3327574282,
          719.8704342271,
          936.623412367,
          969.731876951,
          1002.346107938,
          1029.659472291,
          673.7623788026,
          594.8616938453
         ]
        },
        {
         "mode": "lines+markers",
         "name": "Sultanpur",
         "type": "scatter",
         "visible": "legendonly",
         "x": [
          2009,
          2010,
          2011,
          2012,
          2013,
          2014,
          2015,
          2016,
          2017,
          2018,
          2019,
          2020,
          2021,
          2022,
          2023
         ],
         "y": [
          484.041363615,
          946.6009870724,
          1043.7357644977,
          973.4586883542,
          1148.7371163158,
          633.8711229098,
          478.8602431322,
          728.1505718342,
          607.7700326238,
          684.04054851,
          847.061370767,
          992.671196333,
          898.209941307,
          719.7111747568,
          550.0649257288
         ]
        },
        {
         "mode": "lines+markers",
         "name": "Unnao",
         "type": "scatter",
         "visible": "legendonly",
         "x": [
          2009,
          2010,
          2011,
          2012,
          2013,
          2014,
          2015,
          2016,
          2017,
          2018,
          2019,
          2020,
          2021,
          2022,
          2023
         ],
         "y": [
          692.553495838,
          1066.6641892842001,
          1034.1434485893,
          928.1800725898,
          719.7589691038,
          446.3249015297,
          417.32432311089997,
          578.739853786,
          476.6230328296,
          731.157399124,
          706.750688711,
          850.790174414,
          708.163615582,
          603.2352982398,
          566.7448892965
         ]
        },
        {
         "mode": "lines+markers",
         "name": "Varanasi",
         "type": "scatter",
         "visible": "legendonly",
         "x": [
          2009,
          2010,
          2011,
          2012,
          2013,
          2014,
          2015,
          2016,
          2017,
          2018,
          2019,
          2020,
          2021,
          2022,
          2023
         ],
         "y": [
          478.703564561,
          727.756371877,
          1094.9920677442,
          829.351180383,
          893.5659553223,
          787.1003377428,
          771.3951086982,
          944.5133453806,
          707.3293391829,
          847.440415665,
          1112.819961899,
          1111.895903289,
          1010.926785396,
          889.719192264,
          625.1363543111
         ]
        }
       ],
       "layout": {
        "legend": {
         "tracegroupgap": 0,
         "traceorder": "normal",
         "x": 1.05,
         "y": 1
        },
        "margin": {
         "b": 0,
         "l": 0,
         "r": 0,
         "t": 50
        },
        "plot_bgcolor": "white",
        "template": {
         "data": {
          "bar": [
           {
            "error_x": {
             "color": "#2a3f5f"
            },
            "error_y": {
             "color": "#2a3f5f"
            },
            "marker": {
             "line": {
              "color": "#E5ECF6",
              "width": 0.5
             },
             "pattern": {
              "fillmode": "overlay",
              "size": 10,
              "solidity": 0.2
             }
            },
            "type": "bar"
           }
          ],
          "barpolar": [
           {
            "marker": {
             "line": {
              "color": "#E5ECF6",
              "width": 0.5
             },
             "pattern": {
              "fillmode": "overlay",
              "size": 10,
              "solidity": 0.2
             }
            },
            "type": "barpolar"
           }
          ],
          "carpet": [
           {
            "aaxis": {
             "endlinecolor": "#2a3f5f",
             "gridcolor": "white",
             "linecolor": "white",
             "minorgridcolor": "white",
             "startlinecolor": "#2a3f5f"
            },
            "baxis": {
             "endlinecolor": "#2a3f5f",
             "gridcolor": "white",
             "linecolor": "white",
             "minorgridcolor": "white",
             "startlinecolor": "#2a3f5f"
            },
            "type": "carpet"
           }
          ],
          "choropleth": [
           {
            "colorbar": {
             "outlinewidth": 0,
             "ticks": ""
            },
            "type": "choropleth"
           }
          ],
          "contour": [
           {
            "colorbar": {
             "outlinewidth": 0,
             "ticks": ""
            },
            "colorscale": [
             [
              0,
              "#0d0887"
             ],
             [
              0.1111111111111111,
              "#46039f"
             ],
             [
              0.2222222222222222,
              "#7201a8"
             ],
             [
              0.3333333333333333,
              "#9c179e"
             ],
             [
              0.4444444444444444,
              "#bd3786"
             ],
             [
              0.5555555555555556,
              "#d8576b"
             ],
             [
              0.6666666666666666,
              "#ed7953"
             ],
             [
              0.7777777777777778,
              "#fb9f3a"
             ],
             [
              0.8888888888888888,
              "#fdca26"
             ],
             [
              1,
              "#f0f921"
             ]
            ],
            "type": "contour"
           }
          ],
          "contourcarpet": [
           {
            "colorbar": {
             "outlinewidth": 0,
             "ticks": ""
            },
            "type": "contourcarpet"
           }
          ],
          "heatmap": [
           {
            "colorbar": {
             "outlinewidth": 0,
             "ticks": ""
            },
            "colorscale": [
             [
              0,
              "#0d0887"
             ],
             [
              0.1111111111111111,
              "#46039f"
             ],
             [
              0.2222222222222222,
              "#7201a8"
             ],
             [
              0.3333333333333333,
              "#9c179e"
             ],
             [
              0.4444444444444444,
              "#bd3786"
             ],
             [
              0.5555555555555556,
              "#d8576b"
             ],
             [
              0.6666666666666666,
              "#ed7953"
             ],
             [
              0.7777777777777778,
              "#fb9f3a"
             ],
             [
              0.8888888888888888,
              "#fdca26"
             ],
             [
              1,
              "#f0f921"
             ]
            ],
            "type": "heatmap"
           }
          ],
          "heatmapgl": [
           {
            "colorbar": {
             "outlinewidth": 0,
             "ticks": ""
            },
            "colorscale": [
             [
              0,
              "#0d0887"
             ],
             [
              0.1111111111111111,
              "#46039f"
             ],
             [
              0.2222222222222222,
              "#7201a8"
             ],
             [
              0.3333333333333333,
              "#9c179e"
             ],
             [
              0.4444444444444444,
              "#bd3786"
             ],
             [
              0.5555555555555556,
              "#d8576b"
             ],
             [
              0.6666666666666666,
              "#ed7953"
             ],
             [
              0.7777777777777778,
              "#fb9f3a"
             ],
             [
              0.8888888888888888,
              "#fdca26"
             ],
             [
              1,
              "#f0f921"
             ]
            ],
            "type": "heatmapgl"
           }
          ],
          "histogram": [
           {
            "marker": {
             "pattern": {
              "fillmode": "overlay",
              "size": 10,
              "solidity": 0.2
             }
            },
            "type": "histogram"
           }
          ],
          "histogram2d": [
           {
            "colorbar": {
             "outlinewidth": 0,
             "ticks": ""
            },
            "colorscale": [
             [
              0,
              "#0d0887"
             ],
             [
              0.1111111111111111,
              "#46039f"
             ],
             [
              0.2222222222222222,
              "#7201a8"
             ],
             [
              0.3333333333333333,
              "#9c179e"
             ],
             [
              0.4444444444444444,
              "#bd3786"
             ],
             [
              0.5555555555555556,
              "#d8576b"
             ],
             [
              0.6666666666666666,
              "#ed7953"
             ],
             [
              0.7777777777777778,
              "#fb9f3a"
             ],
             [
              0.8888888888888888,
              "#fdca26"
             ],
             [
              1,
              "#f0f921"
             ]
            ],
            "type": "histogram2d"
           }
          ],
          "histogram2dcontour": [
           {
            "colorbar": {
             "outlinewidth": 0,
             "ticks": ""
            },
            "colorscale": [
             [
              0,
              "#0d0887"
             ],
             [
              0.1111111111111111,
              "#46039f"
             ],
             [
              0.2222222222222222,
              "#7201a8"
             ],
             [
              0.3333333333333333,
              "#9c179e"
             ],
             [
              0.4444444444444444,
              "#bd3786"
             ],
             [
              0.5555555555555556,
              "#d8576b"
             ],
             [
              0.6666666666666666,
              "#ed7953"
             ],
             [
              0.7777777777777778,
              "#fb9f3a"
             ],
             [
              0.8888888888888888,
              "#fdca26"
             ],
             [
              1,
              "#f0f921"
             ]
            ],
            "type": "histogram2dcontour"
           }
          ],
          "mesh3d": [
           {
            "colorbar": {
             "outlinewidth": 0,
             "ticks": ""
            },
            "type": "mesh3d"
           }
          ],
          "parcoords": [
           {
            "line": {
             "colorbar": {
              "outlinewidth": 0,
              "ticks": ""
             }
            },
            "type": "parcoords"
           }
          ],
          "pie": [
           {
            "automargin": true,
            "type": "pie"
           }
          ],
          "scatter": [
           {
            "fillpattern": {
             "fillmode": "overlay",
             "size": 10,
             "solidity": 0.2
            },
            "type": "scatter"
           }
          ],
          "scatter3d": [
           {
            "line": {
             "colorbar": {
              "outlinewidth": 0,
              "ticks": ""
             }
            },
            "marker": {
             "colorbar": {
              "outlinewidth": 0,
              "ticks": ""
             }
            },
            "type": "scatter3d"
           }
          ],
          "scattercarpet": [
           {
            "marker": {
             "colorbar": {
              "outlinewidth": 0,
              "ticks": ""
             }
            },
            "type": "scattercarpet"
           }
          ],
          "scattergeo": [
           {
            "marker": {
             "colorbar": {
              "outlinewidth": 0,
              "ticks": ""
             }
            },
            "type": "scattergeo"
           }
          ],
          "scattergl": [
           {
            "marker": {
             "colorbar": {
              "outlinewidth": 0,
              "ticks": ""
             }
            },
            "type": "scattergl"
           }
          ],
          "scattermapbox": [
           {
            "marker": {
             "colorbar": {
              "outlinewidth": 0,
              "ticks": ""
             }
            },
            "type": "scattermapbox"
           }
          ],
          "scatterpolar": [
           {
            "marker": {
             "colorbar": {
              "outlinewidth": 0,
              "ticks": ""
             }
            },
            "type": "scatterpolar"
           }
          ],
          "scatterpolargl": [
           {
            "marker": {
             "colorbar": {
              "outlinewidth": 0,
              "ticks": ""
             }
            },
            "type": "scatterpolargl"
           }
          ],
          "scatterternary": [
           {
            "marker": {
             "colorbar": {
              "outlinewidth": 0,
              "ticks": ""
             }
            },
            "type": "scatterternary"
           }
          ],
          "surface": [
           {
            "colorbar": {
             "outlinewidth": 0,
             "ticks": ""
            },
            "colorscale": [
             [
              0,
              "#0d0887"
             ],
             [
              0.1111111111111111,
              "#46039f"
             ],
             [
              0.2222222222222222,
              "#7201a8"
             ],
             [
              0.3333333333333333,
              "#9c179e"
             ],
             [
              0.4444444444444444,
              "#bd3786"
             ],
             [
              0.5555555555555556,
              "#d8576b"
             ],
             [
              0.6666666666666666,
              "#ed7953"
             ],
             [
              0.7777777777777778,
              "#fb9f3a"
             ],
             [
              0.8888888888888888,
              "#fdca26"
             ],
             [
              1,
              "#f0f921"
             ]
            ],
            "type": "surface"
           }
          ],
          "table": [
           {
            "cells": {
             "fill": {
              "color": "#EBF0F8"
             },
             "line": {
              "color": "white"
             }
            },
            "header": {
             "fill": {
              "color": "#C8D4E3"
             },
             "line": {
              "color": "white"
             }
            },
            "type": "table"
           }
          ]
         },
         "layout": {
          "annotationdefaults": {
           "arrowcolor": "#2a3f5f",
           "arrowhead": 0,
           "arrowwidth": 1
          },
          "autotypenumbers": "strict",
          "coloraxis": {
           "colorbar": {
            "outlinewidth": 0,
            "ticks": ""
           }
          },
          "colorscale": {
           "diverging": [
            [
             0,
             "#8e0152"
            ],
            [
             0.1,
             "#c51b7d"
            ],
            [
             0.2,
             "#de77ae"
            ],
            [
             0.3,
             "#f1b6da"
            ],
            [
             0.4,
             "#fde0ef"
            ],
            [
             0.5,
             "#f7f7f7"
            ],
            [
             0.6,
             "#e6f5d0"
            ],
            [
             0.7,
             "#b8e186"
            ],
            [
             0.8,
             "#7fbc41"
            ],
            [
             0.9,
             "#4d9221"
            ],
            [
             1,
             "#276419"
            ]
           ],
           "sequential": [
            [
             0,
             "#0d0887"
            ],
            [
             0.1111111111111111,
             "#46039f"
            ],
            [
             0.2222222222222222,
             "#7201a8"
            ],
            [
             0.3333333333333333,
             "#9c179e"
            ],
            [
             0.4444444444444444,
             "#bd3786"
            ],
            [
             0.5555555555555556,
             "#d8576b"
            ],
            [
             0.6666666666666666,
             "#ed7953"
            ],
            [
             0.7777777777777778,
             "#fb9f3a"
            ],
            [
             0.8888888888888888,
             "#fdca26"
            ],
            [
             1,
             "#f0f921"
            ]
           ],
           "sequentialminus": [
            [
             0,
             "#0d0887"
            ],
            [
             0.1111111111111111,
             "#46039f"
            ],
            [
             0.2222222222222222,
             "#7201a8"
            ],
            [
             0.3333333333333333,
             "#9c179e"
            ],
            [
             0.4444444444444444,
             "#bd3786"
            ],
            [
             0.5555555555555556,
             "#d8576b"
            ],
            [
             0.6666666666666666,
             "#ed7953"
            ],
            [
             0.7777777777777778,
             "#fb9f3a"
            ],
            [
             0.8888888888888888,
             "#fdca26"
            ],
            [
             1,
             "#f0f921"
            ]
           ]
          },
          "colorway": [
           "#636efa",
           "#EF553B",
           "#00cc96",
           "#ab63fa",
           "#FFA15A",
           "#19d3f3",
           "#FF6692",
           "#B6E880",
           "#FF97FF",
           "#FECB52"
          ],
          "font": {
           "color": "#2a3f5f"
          },
          "geo": {
           "bgcolor": "white",
           "lakecolor": "white",
           "landcolor": "#E5ECF6",
           "showlakes": true,
           "showland": true,
           "subunitcolor": "white"
          },
          "hoverlabel": {
           "align": "left"
          },
          "hovermode": "closest",
          "mapbox": {
           "style": "light"
          },
          "paper_bgcolor": "white",
          "plot_bgcolor": "#E5ECF6",
          "polar": {
           "angularaxis": {
            "gridcolor": "white",
            "linecolor": "white",
            "ticks": ""
           },
           "bgcolor": "#E5ECF6",
           "radialaxis": {
            "gridcolor": "white",
            "linecolor": "white",
            "ticks": ""
           }
          },
          "scene": {
           "xaxis": {
            "backgroundcolor": "#E5ECF6",
            "gridcolor": "white",
            "gridwidth": 2,
            "linecolor": "white",
            "showbackground": true,
            "ticks": "",
            "zerolinecolor": "white"
           },
           "yaxis": {
            "backgroundcolor": "#E5ECF6",
            "gridcolor": "white",
            "gridwidth": 2,
            "linecolor": "white",
            "showbackground": true,
            "ticks": "",
            "zerolinecolor": "white"
           },
           "zaxis": {
            "backgroundcolor": "#E5ECF6",
            "gridcolor": "white",
            "gridwidth": 2,
            "linecolor": "white",
            "showbackground": true,
            "ticks": "",
            "zerolinecolor": "white"
           }
          },
          "shapedefaults": {
           "line": {
            "color": "#2a3f5f"
           }
          },
          "ternary": {
           "aaxis": {
            "gridcolor": "white",
            "linecolor": "white",
            "ticks": ""
           },
           "baxis": {
            "gridcolor": "white",
            "linecolor": "white",
            "ticks": ""
           },
           "bgcolor": "#E5ECF6",
           "caxis": {
            "gridcolor": "white",
            "linecolor": "white",
            "ticks": ""
           }
          },
          "title": {
           "x": 0.05
          },
          "xaxis": {
           "automargin": true,
           "gridcolor": "white",
           "linecolor": "white",
           "ticks": "",
           "title": {
            "standoff": 15
           },
           "zerolinecolor": "white",
           "zerolinewidth": 2
          },
          "yaxis": {
           "automargin": true,
           "gridcolor": "white",
           "linecolor": "white",
           "ticks": "",
           "title": {
            "standoff": 15
           },
           "zerolinecolor": "white",
           "zerolinewidth": 2
          }
         }
        },
        "title": {
         "text": "Uttar Pradesh"
        },
        "updatemenus": [
         {
          "buttons": [
           {
            "args": [
             {
              "visible": [
               true,
               true,
               true,
               true,
               true,
               true,
               true,
               true,
               true,
               true,
               true,
               true,
               true,
               true,
               true,
               true,
               true,
               true,
               true,
               true,
               true,
               true,
               true,
               true,
               true,
               true,
               true,
               true,
               true,
               true,
               true,
               true,
               true,
               true,
               true,
               true,
               true,
               true,
               true,
               true,
               true,
               true,
               true,
               true,
               true,
               true,
               true,
               true,
               true,
               true,
               true,
               true,
               true,
               true,
               true,
               true,
               true,
               true,
               true,
               true,
               true,
               true,
               true,
               true,
               true,
               true,
               true,
               true,
               true,
               true,
               true,
               true,
               true,
               true,
               true
              ]
             },
             {
              "title": "All Districts"
             }
            ],
            "label": "All",
            "method": "update"
           },
           {
            "args": [
             {
              "visible": [
               false,
               false,
               false,
               false,
               false,
               false,
               false,
               false,
               false,
               false,
               false,
               false,
               false,
               false,
               false,
               false,
               false,
               false,
               false,
               false,
               false,
               false,
               false,
               false,
               false,
               false,
               false,
               false,
               false,
               false,
               false,
               false,
               false,
               false,
               false,
               false,
               false,
               false,
               false,
               false,
               false,
               false,
               false,
               false,
               false,
               false,
               false,
               false,
               false,
               false,
               false,
               false,
               false,
               false,
               false,
               false,
               false,
               false,
               false,
               false,
               false,
               false,
               false,
               false,
               false,
               false,
               false,
               false,
               false,
               false,
               false,
               false,
               false,
               false,
               false
              ]
             },
             {
              "title": "No District"
             }
            ],
            "label": "None",
            "method": "update"
           }
          ],
          "direction": "left",
          "pad": {
           "r": 10,
           "t": 10
          },
          "showactive": true,
          "type": "buttons",
          "x": 0.05,
          "xanchor": "left",
          "y": 1.15,
          "yanchor": "top"
         }
        ],
        "xaxis": {
         "gridcolor": "lightgray",
         "gridwidth": 1,
         "showgrid": true,
         "tickmode": "array",
         "ticktext": [
          2009,
          2010,
          2011,
          2012,
          2013,
          2014,
          2015,
          2016,
          2017,
          2018,
          2019,
          2020,
          2021,
          2022,
          2023
         ],
         "tickvals": [
          2009,
          2010,
          2011,
          2012,
          2013,
          2014,
          2015,
          2016,
          2017,
          2018,
          2019,
          2020,
          2021,
          2022,
          2023
         ],
         "title": {
          "text": "Year"
         }
        },
        "yaxis": {
         "gridcolor": "lightgray",
         "gridwidth": 1,
         "showgrid": true,
         "title": {
          "text": "Average Rainfall in mm"
         }
        }
       }
      }
     },
     "metadata": {},
     "output_type": "display_data"
    }
   ],
   "source": [
    "import pandas as pd\n",
    "import plotly.graph_objects as go\n",
    "\n",
    "s = ['Jammu & Kashmir', 'Himachal Pradesh', 'Haryana', 'Punjab', 'Jharkhand', 'Rajasthan', 'Uttarakhand', 'Chhattisgarh']\n",
    "\n",
    "for st in s:\n",
    "    df = pd.read_csv('../states/'+ st+'.csv')\n",
    "    districts = sorted(df['District'].unique())\n",
    "    print(st)\n",
    "    print(districts)\n",
    "    fig = go.Figure()\n",
    "\n",
    "    # Read the dataset and add traces\n",
    "    for i in districts:\n",
    "        data = pd.read_csv('../districts/'+i+'.csv',parse_dates= True)\n",
    "        data = data.sort_values(by=\"Date\", ascending=True)\n",
    "        yearly_sum = data.groupby('Year')['Avg_rainfall'].sum()\n",
    "        fig.add_trace(go.Scatter(x=yearly_sum.index, y=yearly_sum.values, mode='lines+markers', name=i, visible='legendonly'))\n",
    "    \n",
    "\n",
    "    years = list(range(int(min(yearly_sum.index)), int(max(yearly_sum.index)) + 1, 1))  # Adjust the range and step as needed1\n",
    "    fig.update_xaxes(tickmode='array', tickvals=years, ticktext=years)\n",
    "\n",
    "    # Update layout\n",
    "    fig.update_layout(\n",
    "        title=st,\n",
    "        xaxis=dict(title='Year', showgrid=True, gridwidth=1, gridcolor='lightgray'),\n",
    "        yaxis=dict(title='Average Rainfall in mm', showgrid=True, gridwidth=1, gridcolor='lightgray'),\n",
    "        legend=dict(x=1.05, y=1, traceorder='normal'),\n",
    "        margin=dict(l=0, r=0, t=50, b=0),\n",
    "        plot_bgcolor='white'\n",
    "    )\n",
    "    fig.update_layout(\n",
    "        legend=dict(\n",
    "            tracegroupgap=0,\n",
    "        ),\n",
    "        updatemenus=[\n",
    "            dict(\n",
    "                type=\"buttons\",\n",
    "                direction=\"left\",\n",
    "                buttons=list([\n",
    "                    dict(label=\"All\",\n",
    "                        method=\"update\",\n",
    "                        args=[{\"visible\": [True] * len(districts)},\n",
    "                            {\"title\": \"All Districts\"}]),\n",
    "                    dict(label=\"None\",\n",
    "                        method=\"update\",\n",
    "                        args=[{\"visible\": [False] * len(districts)},\n",
    "                            {\"title\": \"No District\"}])\n",
    "                ]),\n",
    "                pad={\"r\": 10, \"t\": 10},\n",
    "                showactive=True,\n",
    "                x=0.05,\n",
    "                xanchor=\"left\",\n",
    "                y=1.15,\n",
    "                yanchor=\"top\"\n",
    "            ),\n",
    "        ]\n",
    "    )\n",
    "\n",
    "    def create_legend_callback(index):\n",
    "        def callback(trace, points, selector):\n",
    "            for i in range(len(fig.data)):\n",
    "                if i == index:\n",
    "                    fig.data[i].visible = True\n",
    "                else:\n",
    "                    fig.data[i].visible = False\n",
    "        return callback\n",
    "\n",
    "    for i, _ in enumerate(fig.data):\n",
    "        fig.data[i].on_click(create_legend_callback(i))\n",
    "\n",
    "\n",
    "\n",
    "    fig.show()\n"
   ]
  },
  {
   "cell_type": "markdown",
   "metadata": {},
   "source": [
    "Combined Plot"
   ]
  },
  {
   "cell_type": "code",
   "execution_count": 1,
   "metadata": {},
   "outputs": [
    {
     "data": {
      "text/plain": [
       "<matplotlib.legend.Legend at 0x241d785c920>"
      ]
     },
     "execution_count": 1,
     "metadata": {},
     "output_type": "execute_result"
    },
    {
     "data": {
      "image/png": "[encoded data removed]",
      "text/plain": [
       "<Figure size 1000x600 with 1 Axes>"
      ]
     },
     "metadata": {},
     "output_type": "display_data"
    }
   ],
   "source": [
    "import pandas as pd\n",
    "import matplotlib.pyplot as plt\n",
    "\n",
    "fig = plt.figure(figsize=(10, 6), dpi = 100)\n",
    "ax = fig.add_axes([0,0,1,1])\n",
    "states = ['Jammu & Kashmir', 'Himachal Pradesh', 'Haryana', 'Punjab', 'Jharkhand', 'Rajasthan', 'Uttarakhand', 'Chhattisgarh']\n",
    "\n",
    "fy= []\n",
    "# Read the dataset\n",
    "for i in states:\n",
    "    data = pd.read_csv('../states_cumulative/'+i+'.csv',parse_dates= True)\n",
    "    data = data.sort_values(by=\"Date\", ascending=True)\n",
    "    yearly_sum = data.groupby('Year')['Average'].sum()\n",
    "    plt.plot(yearly_sum.index, yearly_sum.values, marker='o', linestyle='-', label = i)\n",
    "    plt.xticks(yearly_sum.index)\n",
    "    if i == 'Madhya Pradesh':\n",
    "        for year in fy:\n",
    "            if year in yearly_sum.index:\n",
    "                index = yearly_sum.index.get_loc(year)\n",
    "                plt.plot(yearly_sum.index[index], yearly_sum.values[index], marker = 'o', markersize = 10, color = 'red')\n",
    "ax.set_xlabel('Year')\n",
    "ax.set_ylabel('Average Rainfall in mm')\n",
    "ax.grid(True)\n",
    "ax.set_title('Group 3 Combined Plot')\n",
    "ax.legend()\n"
   ]
  }
 ],
 "metadata": {
  "kernelspec": {
   "display_name": "Python 3",
   "language": "python",
   "name": "python3"
  },
  "language_info": {
   "codemirror_mode": {
    "name": "ipython",
    "version": 3
   },
   "file_extension": ".py",
   "mimetype": "text/x-python",
   "name": "python",
   "nbconvert_exporter": "python",
   "pygments_lexer": "ipython3",
   "version": "3.12.1"
  }
 },
 "nbformat": 4,
 "nbformat_minor": 2
}
